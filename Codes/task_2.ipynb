{
 "cells": [
  {
   "cell_type": "code",
   "execution_count": 1,
   "id": "3ccc112f",
   "metadata": {},
   "outputs": [],
   "source": [
    "class FNCData:\n",
    "\n",
    "    \"\"\"\n",
    "\n",
    "    Define class for Fake News Challenge data\n",
    "\n",
    "    \"\"\"\n",
    "\n",
    "    def __init__(self, file_instances, file_bodies):\n",
    "\n",
    "        # Load data\n",
    "        self.instances = self.read(file_instances)\n",
    "        bodies = self.read(file_bodies)\n",
    "        self.heads = {}\n",
    "        self.bodies = {}\n",
    "\n",
    "        # Process instances\n",
    "        for instance in self.instances:\n",
    "            if instance['Headline'] not in self.heads:\n",
    "                head_id = len(self.heads)\n",
    "                self.heads[instance['Headline']] = head_id\n",
    "            instance['Body ID'] = int(instance['Body ID'])\n",
    "\n",
    "        # Process bodies\n",
    "        for body in bodies:\n",
    "            self.bodies[int(body['Body ID'])] = body['articleBody']\n",
    "\n",
    "    def read(self, filename):\n",
    "\n",
    "        \"\"\"\n",
    "        Read Fake News Challenge data from CSV file\n",
    "\n",
    "        Args:\n",
    "            filename: str, filename + extension\n",
    "\n",
    "        Returns:\n",
    "            rows: list, of dict per instance\n",
    "\n",
    "        \"\"\"\n",
    "\n",
    "        # Initialise\n",
    "        rows = []\n",
    "\n",
    "        # Process file\n",
    "        with open(filename, \"r\", encoding='utf-8') as table:\n",
    "            r = DictReader(table)\n",
    "            for line in r:\n",
    "                rows.append(line)\n",
    "\n",
    "        return rows\n",
    "\n"
   ]
  },
  {
   "cell_type": "code",
   "execution_count": 2,
   "id": "5fd7ec2b",
   "metadata": {},
   "outputs": [],
   "source": [
    "def pipeline_train(train, test, lim_unigram):\n",
    "    \"\"\"\n",
    "\n",
    "    Process train set, create relevant vectorizers\n",
    "\n",
    "    Args:\n",
    "        train: FNCData object, train set\n",
    "        test: FNCData object, test set\n",
    "        lim_unigram: int, number of most frequent words to consider\n",
    "\n",
    "    Returns:\n",
    "        train_set: list, of numpy arrays\n",
    "        train_stances: list, of ints\n",
    "        bow_vectorizer: sklearn CountVectorizer\n",
    "        tfreq_vectorizer: sklearn TfidfTransformer(use_idf=False)\n",
    "        tfidf_vectorizer: sklearn TfidfVectorizer()\n",
    "\n",
    "    \"\"\"\n",
    "\n",
    "    # Initialise\n",
    "    heads = []\n",
    "    heads_track = {}\n",
    "    bodies = []\n",
    "    bodies_track = {}\n",
    "    body_ids = []\n",
    "    id_ref = {}\n",
    "    train_set = []\n",
    "    train_stances = []\n",
    "    cos_track = {}\n",
    "    test_heads = []\n",
    "    test_heads_track = {}\n",
    "    test_bodies = []\n",
    "    test_bodies_track = {}\n",
    "    test_body_ids = []\n",
    "    head_tfidf_track = {}\n",
    "    body_tfidf_track = {}\n",
    "\n",
    "    # Identify unique heads and bodies\n",
    "    for instance in train.instances:\n",
    "        head = instance['Headline']\n",
    "        #print(head)\n",
    "        body_id = instance['Body ID']\n",
    "        #print(body_id)\n",
    "        if head not in heads_track:\n",
    "            heads.append(head)\n",
    "            heads_track[head] = 1\n",
    "        if body_id not in bodies_track:\n",
    "            #print(train.bodies[body_id])\n",
    "            bodies.append(train.bodies[body_id])\n",
    "            bodies_track[body_id] = 1\n",
    "            body_ids.append(body_id)\n",
    "\n",
    "    for instance in test.instances:\n",
    "        head = instance['Headline']\n",
    "        body_id = instance['Body ID']\n",
    "        if head not in test_heads_track:\n",
    "            test_heads.append(head)\n",
    "            test_heads_track[head] = 1\n",
    "        if body_id not in test_bodies_track:\n",
    "            test_bodies.append(test.bodies[body_id])\n",
    "            test_bodies_track[body_id] = 1\n",
    "            test_body_ids.append(body_id)\n",
    "\n",
    "    # Create reference dictionary\n",
    "    for i, elem in enumerate(heads + body_ids):\n",
    "        id_ref[elem] = i\n",
    "    print('**********id_ref******************')    \n",
    "    print(id_ref)\n",
    "    print('***********************************')\n",
    "    \n",
    "    # Create vectorizers and BOW and TF arrays for train set\n",
    "    bow_vectorizer = CountVectorizer(max_features=lim_unigram, stop_words=stop_words)\n",
    "    bow = bow_vectorizer.fit_transform(heads + bodies)  # Train set only\n",
    "    print('***********bow*************')\n",
    "    print(bow)\n",
    "    print('******************************')\n",
    "\n",
    "    tfreq_vectorizer = TfidfTransformer(use_idf=False).fit(bow)\n",
    "    tfreq = tfreq_vectorizer.transform(bow).toarray()  # Train set only\n",
    "    print('**************tfreq***********')\n",
    "    print(tfreq)\n",
    "    print('******************************')\n",
    "\n",
    "    tfidf_vectorizer = TfidfVectorizer(max_features=lim_unigram, stop_words=stop_words).\\\n",
    "        fit(heads + bodies + test_heads + test_bodies)  # Train and test sets\n",
    "    print('********************tfidf**************')\n",
    "    print(tfidf_vectorizer)\n",
    "    print('**************************************')\n",
    "    \n",
    "    # Process train set\n",
    "    for instance in train.instances:\n",
    "        head = instance['Headline']\n",
    "        body_id = instance['Body ID']\n",
    "        head_tf = tfreq[id_ref[head]].reshape(1, -1)\n",
    "        body_tf = tfreq[id_ref[body_id]].reshape(1, -1)\n",
    "        if head not in head_tfidf_track:\n",
    "            head_tfidf = tfidf_vectorizer.transform([head]).toarray()\n",
    "            head_tfidf_track[head] = head_tfidf\n",
    "        else:\n",
    "            head_tfidf = head_tfidf_track[head]\n",
    "        if body_id not in body_tfidf_track:\n",
    "            body_tfidf = tfidf_vectorizer.transform([train.bodies[body_id]]).toarray()\n",
    "            body_tfidf_track[body_id] = body_tfidf\n",
    "        else:\n",
    "            body_tfidf = body_tfidf_track[body_id]\n",
    "        if (head, body_id) not in cos_track:\n",
    "            tfidf_cos = cosine_similarity(head_tfidf, body_tfidf)[0].reshape(1, 1)\n",
    "            cos_track[(head, body_id)] = tfidf_cos\n",
    "        else:\n",
    "            tfidf_cos = cos_track[(head, body_id)]\n",
    "        feat_vec = np.squeeze(np.c_[head_tf, body_tf, tfidf_cos])\n",
    "        train_set.append(feat_vec)\n",
    "        train_stances.append(label_ref[instance['Stance']])\n",
    "\n",
    "    return train_set, train_stances, bow_vectorizer, tfreq_vectorizer, tfidf_vectorizer"
   ]
  },
  {
   "cell_type": "code",
   "execution_count": 3,
   "id": "9bb6b448",
   "metadata": {},
   "outputs": [],
   "source": [
    "def pipeline_test(test, bow_vectorizer, tfreq_vectorizer, tfidf_vectorizer):\n",
    "\n",
    "    \"\"\"\n",
    "\n",
    "    Process test set\n",
    "\n",
    "    Args:\n",
    "        test: FNCData object, test set\n",
    "        bow_vectorizer: sklearn CountVectorizer\n",
    "        tfreq_vectorizer: sklearn TfidfTransformer(use_idf=False)\n",
    "        tfidf_vectorizer: sklearn TfidfVectorizer()\n",
    "\n",
    "    Returns:\n",
    "        test_set: list, of numpy arrays\n",
    "\n",
    "    \"\"\"\n",
    "\n",
    "    # Initialise\n",
    "    test_set = []\n",
    "    heads_track = {}\n",
    "    bodies_track = {}\n",
    "    cos_track = {}\n",
    "\n",
    "    # Process test set\n",
    "    for instance in test.instances:\n",
    "        head = instance['Headline']\n",
    "        body_id = instance['Body ID']\n",
    "        if head not in heads_track:\n",
    "            head_bow = bow_vectorizer.transform([head]).toarray()\n",
    "            head_tf = tfreq_vectorizer.transform(head_bow).toarray()[0].reshape(1, -1)\n",
    "            head_tfidf = tfidf_vectorizer.transform([head]).toarray().reshape(1, -1)\n",
    "            heads_track[head] = (head_tf, head_tfidf)\n",
    "        else:\n",
    "            head_tf = heads_track[head][0]\n",
    "            head_tfidf = heads_track[head][1]\n",
    "        if body_id not in bodies_track:\n",
    "            body_bow = bow_vectorizer.transform([test.bodies[body_id]]).toarray()\n",
    "            body_tf = tfreq_vectorizer.transform(body_bow).toarray()[0].reshape(1, -1)\n",
    "            body_tfidf = tfidf_vectorizer.transform([test.bodies[body_id]]).toarray().reshape(1, -1)\n",
    "            bodies_track[body_id] = (body_tf, body_tfidf)\n",
    "        else:\n",
    "            body_tf = bodies_track[body_id][0]\n",
    "            body_tfidf = bodies_track[body_id][1]\n",
    "        if (head, body_id) not in cos_track:\n",
    "            tfidf_cos = cosine_similarity(head_tfidf, body_tfidf)[0].reshape(1, 1)\n",
    "            cos_track[(head, body_id)] = tfidf_cos\n",
    "        else:\n",
    "            tfidf_cos = cos_track[(head, body_id)]\n",
    "        feat_vec = np.squeeze(np.c_[head_tf, body_tf, tfidf_cos])\n",
    "        test_set.append(feat_vec)\n",
    "\n",
    "    return test_set\n"
   ]
  },
  {
   "cell_type": "code",
   "execution_count": 4,
   "id": "8824e8d7",
   "metadata": {},
   "outputs": [],
   "source": [
    "def save_predictions(pred, file):\n",
    "\n",
    "    \"\"\"\n",
    "\n",
    "    Save predictions to CSV file\n",
    "\n",
    "    Args:\n",
    "        pred: numpy array, of numeric predictions\n",
    "        file: str, filename + extension\n",
    "\n",
    "    \"\"\"\n",
    "\n",
    "    with open(file, 'w') as csvfile:\n",
    "        fieldnames = ['Stance']\n",
    "        writer = DictWriter(csvfile, fieldnames=fieldnames)\n",
    "\n",
    "        writer.writeheader()\n",
    "        for instance in pred:\n",
    "            writer.writerow({'Stance': label_ref_rev[instance]})\n"
   ]
  },
  {
   "cell_type": "code",
   "execution_count": 5,
   "id": "699a2950",
   "metadata": {
    "scrolled": false
   },
   "outputs": [
    {
     "name": "stdout",
     "output_type": "stream",
     "text": [
      "Requirement already satisfied: xgboost in c:\\users\\fuzel\\anaconda3\\lib\\site-packages (1.7.1)\n",
      "Requirement already satisfied: scipy in c:\\users\\fuzel\\anaconda3\\lib\\site-packages (from xgboost) (1.7.3)\n",
      "Requirement already satisfied: numpy in c:\\users\\fuzel\\anaconda3\\lib\\site-packages (from xgboost) (1.21.5)\n"
     ]
    }
   ],
   "source": [
    "!pip install xgboost"
   ]
  },
  {
   "cell_type": "code",
   "execution_count": 6,
   "id": "2a2bf4ce",
   "metadata": {},
   "outputs": [],
   "source": [
    "# importing dependencies\n",
    "import pandas as pd\n",
    "import numpy as np\n",
    "from csv import DictReader\n",
    "from csv import DictWriter\n",
    "import random\n",
    "from sklearn.feature_extraction.text import CountVectorizer\n",
    "from sklearn.feature_extraction.text import TfidfTransformer\n",
    "from sklearn.feature_extraction.text import TfidfVectorizer\n",
    "from sklearn.metrics.pairwise import cosine_similarity\n",
    "import xgboost as xgb\n",
    "from sklearn.metrics import accuracy_score, classification_report, confusion_matrix\n",
    "from sklearn.model_selection import train_test_split\n",
    "from sklearn.model_selection import GridSearchCV\n",
    "from sklearn.preprocessing import label_binarize\n",
    "from sklearn.multiclass import OneVsRestClassifier\n",
    "from sklearn.ensemble import RandomForestClassifier\n",
    "from sklearn.metrics import roc_curve,auc\n",
    "import matplotlib.pyplot as plt   \n",
    "import seaborn as sns    "
   ]
  },
  {
   "cell_type": "code",
   "execution_count": 7,
   "id": "3ffacf7d",
   "metadata": {},
   "outputs": [],
   "source": [
    "# Global Variables\n",
    "label_ref = {'agree': 0, 'disagree': 1, 'discuss': 2, 'unrelated': 3}\n",
    "label_ref_rev = {0: 'agree', 1: 'disagree', 2: 'discuss', 3: 'unrelated'}\n",
    "stop_words = [\n",
    "        \"a\", \"about\", \"above\", \"across\", \"after\", \"afterwards\", \"again\", \"against\", \"all\", \"almost\", \"alone\", \"along\",\n",
    "        \"already\", \"also\", \"although\", \"always\", \"am\", \"among\", \"amongst\", \"amoungst\", \"amount\", \"an\", \"and\", \"another\",\n",
    "        \"any\", \"anyhow\", \"anyone\", \"anything\", \"anyway\", \"anywhere\", \"are\", \"around\", \"as\", \"at\", \"back\", \"be\",\n",
    "        \"became\", \"because\", \"become\", \"becomes\", \"becoming\", \"been\", \"before\", \"beforehand\", \"behind\", \"being\",\n",
    "        \"below\", \"beside\", \"besides\", \"between\", \"beyond\", \"bill\", \"both\", \"bottom\", \"but\", \"by\", \"call\", \"can\", \"co\",\n",
    "        \"con\", \"could\", \"cry\", \"de\", \"describe\", \"detail\", \"do\", \"done\", \"down\", \"due\", \"during\", \"each\", \"eg\", \"eight\",\n",
    "        \"either\", \"eleven\", \"else\", \"elsewhere\", \"empty\", \"enough\", \"etc\", \"even\", \"ever\", \"every\", \"everyone\",\n",
    "        \"everything\", \"everywhere\", \"except\", \"few\", \"fifteen\", \"fifty\", \"fill\", \"find\", \"fire\", \"first\", \"five\", \"for\",\n",
    "        \"former\", \"formerly\", \"forty\", \"found\", \"four\", \"from\", \"front\", \"full\", \"further\", \"get\", \"give\", \"go\", \"had\",\n",
    "        \"has\", \"have\", \"he\", \"hence\", \"her\", \"here\", \"hereafter\", \"hereby\", \"herein\", \"hereupon\", \"hers\", \"herself\",\n",
    "        \"him\", \"himself\", \"his\", \"how\", \"however\", \"hundred\", \"i\", \"ie\", \"if\", \"in\", \"inc\", \"indeed\", \"interest\",\n",
    "        \"into\", \"is\", \"it\", \"its\", \"itself\", \"keep\", \"last\", \"latter\", \"latterly\", \"least\", \"less\", \"ltd\", \"made\",\n",
    "        \"many\", \"may\", \"me\", \"meanwhile\", \"might\", \"mill\", \"mine\", \"more\", \"moreover\", \"most\", \"mostly\", \"move\", \"much\",\n",
    "        \"must\", \"my\", \"myself\", \"name\", \"namely\", \"neither\", \"nevertheless\", \"next\", \"nine\", \"nobody\", \"now\", \"nowhere\",\n",
    "        \"of\", \"off\", \"often\", \"on\", \"once\", \"one\", \"only\", \"onto\", \"or\", \"other\", \"others\", \"otherwise\", \"our\", \"ours\",\n",
    "        \"ourselves\", \"out\", \"over\", \"own\", \"part\", \"per\", \"perhaps\", \"please\", \"put\", \"rather\", \"re\", \"same\", \"see\",\n",
    "        \"serious\", \"several\", \"she\", \"should\", \"show\", \"side\", \"since\", \"sincere\", \"six\", \"sixty\", \"so\", \"some\",\n",
    "        \"somehow\", \"someone\", \"something\", \"sometime\", \"sometimes\", \"somewhere\", \"still\", \"such\", \"system\", \"take\",\n",
    "        \"ten\", \"than\", \"that\", \"the\", \"their\", \"them\", \"themselves\", \"then\", \"thence\", \"there\", \"thereafter\", \"thereby\",\n",
    "        \"therefore\", \"therein\", \"thereupon\", \"these\", \"they\", \"thick\", \"thin\", \"third\", \"this\", \"those\", \"though\",\n",
    "        \"three\", \"through\", \"throughout\", \"thru\", \"thus\", \"to\", \"together\", \"too\", \"top\", \"toward\", \"towards\", \"twelve\",\n",
    "        \"twenty\", \"two\", \"un\", \"under\", \"until\", \"up\", \"upon\", \"us\", \"very\", \"via\", \"was\", \"we\", \"well\", \"were\", \"what\",\n",
    "        \"whatever\", \"when\", \"whence\", \"whenever\", \"where\", \"whereafter\", \"whereas\", \"whereby\", \"wherein\", \"whereupon\",\n",
    "        \"wherever\", \"whether\", \"which\", \"while\", \"whither\", \"who\", \"whoever\", \"whole\", \"whom\", \"whose\", \"why\", \"will\",\n",
    "        \"with\", \"within\", \"without\", \"would\", \"yet\", \"you\", \"your\", \"yours\", \"yourself\", \"yourselves\"\n",
    "        ]"
   ]
  },
  {
   "cell_type": "code",
   "execution_count": 8,
   "id": "16f394a0",
   "metadata": {},
   "outputs": [],
   "source": [
    "# Fixed Variables for the code\n",
    "\n",
    "# file names pointing to covid and economic dataset\n",
    "file_train_instances = \"corona_train_stances.csv\"\n",
    "file_train_bodies = \"corona_train_bodies.csv\"\n",
    "file_test_instances = \"corona_test_stances_unlabeled.csv\"\n",
    "file_test_bodies = \"corona_test_bodies.csv\"\n",
    "file_predictions = 'xgb_corona_data_predictions_test.csv'\n",
    "\n",
    "# file names pointing to fake news competition dataset\n",
    "#file_train_instances = \"train_stances.csv\"\n",
    "#file_train_bodies = \"train_bodies.csv\"\n",
    "#file_test_instances = \"test_stances_unlabeled.csv\"\n",
    "#file_test_bodies = \"test_bodies.csv\"\n",
    "#file_predictions = 'predictions_test.csv'"
   ]
  },
  {
   "cell_type": "code",
   "execution_count": 11,
   "id": "4eca9586",
   "metadata": {},
   "outputs": [],
   "source": [
    "# Initialise hyperparameters\n",
    "r = random.Random()\n",
    "lim_unigram = 5000\n",
    "target_size = 4\n",
    "hidden_size = 100\n",
    "train_keep_prob = 0.6\n",
    "l2_alpha = 0.00001\n",
    "learn_rate = 0.01\n",
    "clip_ratio = 5\n",
    "batch_size_train = 500\n",
    "epochs = 90"
   ]
  },
  {
   "cell_type": "code",
   "execution_count": 12,
   "id": "bdeffb72",
   "metadata": {
    "scrolled": true
   },
   "outputs": [
    {
     "name": "stdout",
     "output_type": "stream",
     "text": [
      "<__main__.FNCData object at 0x000001717B588940>\n",
      "\n",
      "<__main__.FNCData object at 0x000001717B588F10>\n",
      "\n",
      "157\n"
     ]
    }
   ],
   "source": [
    "# Load data sets\n",
    "raw_train = FNCData(file_train_instances, file_train_bodies)\n",
    "raw_test = FNCData(file_test_instances, file_test_bodies)\n",
    "n_train = len(raw_train.instances)\n",
    "\n",
    "print(raw_train)\n",
    "print()\n",
    "print(raw_test)\n",
    "print()\n",
    "print(n_train)"
   ]
  },
  {
   "cell_type": "code",
   "execution_count": 13,
   "id": "32e30d9b",
   "metadata": {},
   "outputs": [
    {
     "name": "stdout",
     "output_type": "stream",
     "text": [
      "**********id_ref******************\n",
      "{'Coronavirus Live Updates: India Records 1,112 Covid Cases In 24 Hours': 0, 'New COVID-19 vaccination round to be launched for risk groups': 1, 'Book a coronavirus vaccination appointment in the Maisa service starting 24 October': 2, 'Influenza vaccinations and new COVID-19 vaccination round to start in October': 3, \"The city's crisis management model for dealing with the coronavirus pandemic effective and efficient\": 4, 'COVID-19 variant-adapted booster vaccines are as of now available in Lithuania': 5, 'Self-isolation is no longer required in the case of exposure to COVID-19': 6, 'travel restrictions on arrivals from EU to Lithuania': 7, 'From next Monday, wearing masks will no longer be mandatory but recommended, and the self-isolation period will be shorter': 8, 'List of affected countries continues unchanged': 9, '4 territories added to the orange (yellow) list': 10, 'EUR 30 million to be provided to businesses for coronavirus testing with plans to test 100 thousand employees': 11, 'Lots of fake news in social media about COVID-19, military analysts warn': 12, 'Liechtenstein and Switzerland remain on the list of affected countries, and the same requirements continue to apply for arrivals': 13, 'Tighter self-isolation requirements for arrivals from Croatia and TurkeyTighter self-isolation requirements for arrivals from Croatia and Turkey': 14, 'Drivers allowed to use spiked winter tyres longer': 15, \"America's best coronavirus Instagram celebrity is Beyonce. Not that he'd admit it.\": 16, 'Test scores dropped to lowest levels in decades during pandemic, according to nationwide exam': 17, 'Pfizer plans to sell Covid vaccines at $110 to $130 per dose': 18, \"Omicron subvariants reflect a 'viral evolution on steroids\": 19, 'Covid was a contributing factor in 25% of maternal deaths in 2020 and 2021': 20, 'Omicron booster shots cleared for children as young as 5, CDC says': 21, 'Covid death rates are higher among Republicans than Democrats, mounting evidence shows': 22, 'Pandemic may have made young adults more neurotic and less agreeable, study finds': 23, 'Less than 4% of eligible people have gotten updated Covid booster shots, one month into the rollout': 24, '27 killed in China as bus crashes on the way to Covid quarantine': 25, 'Queen Elizabeth cancels traditional Christmas plans amid omicron surge': 26, 'Ghana targets over 7 million in polio vaccination drive': 27, \"GAVI's contribution to the COVID-19 response to pandemic\": 28, 'Supporting Madagascar\\x92s COVID-19 vaccine uptake at 78': 29, \"Decentralized response boosts Free State Province's COVID-19 fight\": 30, 'New inhalable COVID vaccine, that is sucked in through the mouth, trialled in China': 31, 'New Covid boosters aren\\x92t better than old shots at neutralizing omicron BA.5, early studies find': 32, 'China locks down part of Wuhan, nearly three years after first Covid case emerged': 33, 'Lapland to offer 4th Covid jabs to healthcare staff, despite THL recommendation': 34, 'Covid, Flu, RSV: Hospitalizations Rise as Wave of Viruses Hits New York': 35, 'Chinese cities tighten curbs on growing COVID outbreaks': 36, 'Second Australia player diagnosed with Covid ahead of England clash': 37, 'Foxconn\\x92s iPhone factory in China \\x97 the world\\x92s largest \\x97 hit by Covid outbreak': 38, 'New Covid wave to hit Europe \\x91within a week\\x92, warns watchdog': 39, \"Pakistan Joins India In Questioning WHO's Covid Death Count\": 40, 'Pakistan Accumulates Over $10 Billion In New Debt During Covid: Report': 41, \"US Issues 'Level One' Travel Health Notice For India\": 42, 'Pakistan Man In Indian Jail Since 2006, Pandemic Delays Return By A Year': 43, 'Cellphone Blocks, Work Bans: Pakistan Announces Penalties For Unvaccinated': 44, '\"Clear Early Signs\" Of Fourth COVID-19 Wave Starting In Pakistan: Minister': 45, '\"Said Individual Tested Covid -ve\": India On Reports On Embassy In Pak': 46, 'Pakistan PM Imran Khan \"Fully Recovered\" From Covid, Resumes Work': 47, '200 Sikh Pilgrims Test Positive On Return From Pakistan After Baisakhi': 48, 'UK Adds Pakistan, 3 Other Nations To \"Red List\" Amid Rise In Covid Cases': 49, 'PSL Match Postponed After Islamabad United Spinner Fawad Ahmed Tests Positive For Coronavirus': 50, '600 Sikh Pilgrims Not Allowed To Visit Pak Over Threat To Life: Centre': 51, \"Pakistan To Purchase 1.2 Million Covid Vaccine Doses From China's Sinopharm\": 52, 'Pakistan President, Defence Minister Test Positive For Coronavirus': 53, \"After Imran Khan, Pakistan's First Lady Also Tests Positive For COVID-19\": 54, 'Pakistan Reports First Confirmed Case Of New COVID-19 Variant': 55, 'Three More Pakistan Cricketers In New Zealand Test Positive For Coronavirus: Report': 56, 'Decision To Reopen Kartarpur Corridor Will Be As Per Covid Norms: Centre': 57, 'China Discusses 4-Point Plan With Pak, Nepal, Afghanistan Amid Pandemic': 58, 'Pakistan Player Returns To Squad In England After Positive Coronavirus Test': 59, \"Pakistan's Health Minister Tests Positive For COVID-19\": 60, 'False News: Coronavirus Infected Pak Foreign Minister Dismisses Reports Of Death': 61, '3 Pakistani Cricketers To Leave For England On July 8 After Clearing COVID-19 Test': 62, 'Pakistan Cricket Squad In England Test Negative For Coronavirus': 63, 'Coronavirus: PCB Remains \"Very Optimistic\" About England Tour': 64, '\"Mirage Of Goodwill\": India On Pak Plan To Reopen Kartarpur Amid COVID-19': 65, \"International Experts Cite Punjab's Weekend Lockdowns As Good Move\": 66, '250 Indians Stranded In Pakistan Due To COVID-19 Lockdown Return Home': 67, '\"Our COVID Package As Large As Pak\\'s GDP\": India On Imran Khan\\'s Help Offer': 68, 'Long Covid is affecting women more than men, national survey finds': 69, 'Can the U.S. fix its at-home Covid testing problem?': 70, 'WHO says Covid-19 is still a global health emergency': 71, 'Ireland Announces third Death From COVID-19': 72, \"England Registered COVID-19 as 'Notifiable Disease': BBC\": 73, 'American Airlines Says Pilot Tests negative for Covid-19': 74, 'Cruise Ship With COVID-19 Patients Docks in Cuba': 75, 'Ottawa Player Is 1st in NHL to Test Positive for COVID-19': 76, \"Coronavirus Study Finds Children With COVID-19 doesn't show Milder Symptom Pattern\": 77, 'Trump Has Been Tested for Coronavirus-White House': 78, 'Gobert Pledges $600,000 to Help With Relief, NBA Shutdown': 79, 'How to Confront the Coronavirus at Every Level': 80, 'Sick Staff Fueled Outbreak in Seattle-Area Care Centers': 81, 'Coronavirus Probe at California Nursing Home Slowed by Shortage of Test Kits': 82, 'Ireland Will Block Entry by All Non-Residents, Close Schools From Monday to Stop Coronavirus': 83, 'Indonesia Delays Formula E Race Due to Coronavirus Concerns': 84, 'Valencia Say 45% of Squad, Staff Tested negative for Coronavirus': 85, 'Italy Coronavirus Deaths Rise 25% to 1,809': 86, \"Do We Really Want to Close Schools?' U.S. Authorities Resist Coronavirus Closures\": 87, 'Major Airline Alliances Call on Governments for Support Due to Coronavirus': 88, 'Colombia to Close Borders to Prevent Spread of Coronavirus': 89, 'Trump Suggests One-Year Delay for Tokyo 2020 Olympics': 90, 'Ten More People Die in England From Coronavirus-Health Service': 91, \"WTO Has Coronavirus Case, Is 'Taking All Precautions': Spokesman\": 92, 'Diamond Princess Critic Says Tokyo Olympics Should Be Halted': 93, 'State Visit by Spanish Royal Couple Postponed: White House': 94, 'EU Leaders Set to Hold Emergency Talks Over Coronavirus': 95, 'The Latest: Peace Corps Evacuating Volunteers, Suspends Ops': 96, 'Mexican Official Denies Coronavirus Victim on Mexico Cruise': 97, 'The President Is Lying About Coronavirus': 98, \"Special Report: 'All Is Well'. In Italy, Triage and Lies for Virus Patients\": 99, 'Weâ\\x80\\x99re Reading the Coronavirus Numbers Wrong': 100, 'Colombia Cancels Classes to Halt the Spread of Coronavirus': 101, 'Fifth UK Patient Has Died From Coronavirus': 102, 'Busiest U.S. Port for China Trade Says Coronavirus Hits Volume': 103, 'It Took Me 3 E.R. Visits to Get a Coronavirus Test in New York': 104, 'Samoa Faces Coronavirus Threat After Recovering From Deadly Measles Outbreak': 105, 'New Coronavirus Can Persist in Air for Hours and on Surfaces for Days: Study': 106, 'EU and UK Call Off Face-To-Face Trade Talks Because of Virus': 107, 'Imported Coronavirus Infections Top New Local Cases in China for Fourth Day': 108, 'Alex Jones Is Told to Stop Selling Sham Anti-Coronavirus Toothpaste': 109, 'CDC Reports 1,264 Coronavirus Cases, Death Tally of 36': 110, 'Coachella Festival Postponed as Concerts Grapple With Virus': 111, 'Vatican Confirms 1st Virus Case as Pope Recovers From Cold': 112, 'Indian Wells Tennis Postponed After Coronavirus Confirmed': 113, 'Asian Stocks Plunge After Fall in Oil Prices': 114, 'Politics in Time of Coronavirus: Arizona Quietly Picks Biden': 115, 'Louisiana Governor Moves Primary Because of Coronavirus': 116, 'Skiing Finals, Italian Cycling Races Canceled Due to Virus': 117, 'California County Says Tesla Factory Cannot Operate Normally in Coronavirus Shutdown': 118, 'Silver Says NBA Will Consider Many Ideas if Play Can Resume': 119, \"Swooning Stocks Signal Higher Likelihood of Trump Losing Election: Moody's Analytics\": 120, 'U.S. House Leaders Unveil Coronavirus Bill; Capitol Tours Suspended': 121, \"Exclusive: IOC Is Endangering Our Health, Champion Says, Demanding a Tokyo 2020 'Plan B'\": 122, \"Trump Says He Will Invoke Wartime Act to Fight 'Enemy' Coronavirus\": 123, 'How to Quarantine Yourself': 124, 'The Most Moisturizing Creams for Diligent Hand Washers': 125, 'U.S. Coronavirus Threat Fuels Demand for Traditional Herbal Remedies': 126, \"What's Happening: Millions Stocked Up, Slowing Down\": 127, 'No. 5 UConn Beats Cincy 87-53, Finishes Perfect Run in AAC': 128, \"Overcrowded and Unsanitary, Venezuela's Prisons Brace for Coronavirus\": 129, 'Iran Asks for Billions in Loans as Virus Death Toll Climbs': 130, 'US Ban on European Visitors Escalates Travel Industry Pain': 131, \"Virus Forces French Open Delay; US Open Switch 'Possibility'\": 132, 'China Bought the West Time. The West Squandered It.': 133, 'Tuesday briefing: What will a third winter with the coronavirus bring?': 134, 'Coronavirus (Covid-19) Infection Survey, Northern Ireland: Weekly Report': 135, 'Masks may be mandatory in some settings if Covid spikes this winter': 136, 'China is caught in a zero-Covid trap of its own making': 137, 'Covid infections rise by 14% in UK and now top a million': 138, 'Fourth dose of COVID-19 vaccine is not recommended to those aged 80 and above, and to seniors living in care homes': 139, 'Modelling predicts low-COVID Christmas - but another peak in January': 140, 'When visiting elderly people or those in risk groups, please follow these guidelines': 141, 'Treatment necessary for mild cases of coronavirus infection, tests only in exceptional cases': 142, \"AP Source: Pistons' Christian Wood Tests Positive for Virus\": 143, 1: 144, 3: 145, 4: 146, 5: 147, 6: 148, 9: 149, 10: 150, 11: 151, 12: 152, 14: 153, 15: 154, 17: 155, 18: 156, 19: 157, 20: 158, 21: 159, 22: 160, 23: 161, 24: 162, 25: 163, 26: 164, 27: 165, 28: 166, 30: 167, 31: 168, 32: 169, 33: 170, 36: 171, 37: 172, 38: 173, 39: 174, 40: 175, 41: 176, 42: 177, 43: 178, 44: 179, 45: 180, 46: 181, 47: 182, 48: 183, 50: 184, 51: 185, 53: 186, 54: 187, 55: 188, 56: 189, 58: 190, 60: 191, 61: 192, 62: 193, 63: 194, 65: 195, 66: 196, 67: 197, 68: 198, 69: 199, 70: 200, 71: 201, 72: 202, 73: 203, 74: 204, 76: 205, 77: 206, 79: 207, 81: 208, 82: 209, 84: 210, 85: 211, 86: 212, 87: 213, 88: 214, 89: 215, 90: 216, 91: 217, 92: 218, 93: 219, 94: 220, 95: 221, 96: 222, 97: 223, 98: 224, 99: 225, 100: 226, 101: 227, 103: 228, 104: 229, 105: 230, 106: 231, 107: 232, 108: 233, 110: 234, 111: 235, 112: 236, 113: 237, 114: 238, 116: 239, 117: 240, 118: 241, 122: 242, 123: 243, 124: 244, 125: 245, 126: 246, 127: 247, 129: 248, 131: 249, 132: 250, 133: 251, 135: 252, 137: 253, 138: 254, 139: 255, 140: 256, 142: 257, 143: 258, 144: 259, 145: 260, 146: 261, 148: 262, 149: 263, 151: 264, 152: 265, 153: 266, 154: 267, 155: 268, 156: 269, 157: 270, 158: 271, 159: 272, 160: 273, 164: 274, 167: 275, 168: 276, 170: 277, 171: 278, 172: 279, 173: 280, 174: 281, 175: 282, 176: 283, 177: 284, 178: 285, 179: 286, 180: 287, 181: 288, 183: 289, 184: 290, 185: 291, 186: 292, 187: 293, 188: 294, 190: 295, 192: 296, 193: 297, 196: 298, 197: 299, 199: 300}\n",
      "***********************************\n",
      "***********bow*************\n",
      "  (0, 644)\t1\n",
      "  (0, 1506)\t1\n",
      "  (0, 2707)\t1\n",
      "  (0, 1298)\t1\n",
      "  (0, 2117)\t1\n",
      "  (0, 9)\t1\n",
      "  (0, 664)\t1\n",
      "  (0, 466)\t1\n",
      "  (0, 42)\t1\n",
      "  (0, 1249)\t1\n",
      "  (1, 664)\t1\n",
      "  (1, 1712)\t1\n",
      "  (1, 25)\t1\n",
      "  (1, 2724)\t1\n",
      "  (1, 2240)\t1\n",
      "  (1, 1459)\t1\n",
      "  (1, 2233)\t1\n",
      "  (1, 1171)\t1\n",
      "  (2, 644)\t1\n",
      "  (2, 42)\t1\n",
      "  (2, 2724)\t1\n",
      "  (2, 390)\t1\n",
      "  (2, 257)\t1\n",
      "  (2, 1547)\t1\n",
      "  (2, 2316)\t1\n",
      "  :\t:\n",
      "  (299, 2540)\t1\n",
      "  (299, 500)\t1\n",
      "  (299, 2317)\t1\n",
      "  (299, 2693)\t1\n",
      "  (299, 2449)\t2\n",
      "  (299, 2031)\t1\n",
      "  (299, 434)\t1\n",
      "  (299, 1113)\t1\n",
      "  (299, 2469)\t1\n",
      "  (299, 1887)\t1\n",
      "  (299, 823)\t1\n",
      "  (300, 644)\t1\n",
      "  (300, 2258)\t1\n",
      "  (300, 2580)\t1\n",
      "  (300, 1704)\t1\n",
      "  (300, 1900)\t1\n",
      "  (300, 523)\t1\n",
      "  (300, 2835)\t1\n",
      "  (300, 1878)\t1\n",
      "  (300, 2370)\t1\n",
      "  (300, 2265)\t1\n",
      "  (300, 791)\t1\n",
      "  (300, 1434)\t1\n",
      "  (300, 769)\t1\n",
      "  (300, 1718)\t1\n",
      "******************************\n",
      "**************tfreq***********\n",
      "[[0. 0. 0. ... 0. 0. 0.]\n",
      " [0. 0. 0. ... 0. 0. 0.]\n",
      " [0. 0. 0. ... 0. 0. 0.]\n",
      " ...\n",
      " [0. 0. 0. ... 0. 0. 0.]\n",
      " [0. 0. 0. ... 0. 0. 0.]\n",
      " [0. 0. 0. ... 0. 0. 0.]]\n",
      "******************************\n",
      "********************tfidf**************\n",
      "TfidfVectorizer(max_features=5000,\n",
      "                stop_words=['a', 'about', 'above', 'across', 'after',\n",
      "                            'afterwards', 'again', 'against', 'all', 'almost',\n",
      "                            'alone', 'along', 'already', 'also', 'although',\n",
      "                            'always', 'am', 'among', 'amongst', 'amoungst',\n",
      "                            'amount', 'an', 'and', 'another', 'any', 'anyhow',\n",
      "                            'anyone', 'anything', 'anyway', 'anywhere', ...])\n",
      "**************************************\n"
     ]
    }
   ],
   "source": [
    "#Process Data Sets\n",
    "train_set, train_stances, bow_vectorizer, tfreq_vectorizer, tfidf_vectorizer = pipeline_train(raw_train, raw_test, lim_unigram=lim_unigram)\n",
    "feature_size = len(train_set[0])\n",
    "test_set = pipeline_test(raw_test, bow_vectorizer, tfreq_vectorizer, tfidf_vectorizer)"
   ]
  },
  {
   "cell_type": "code",
   "execution_count": 14,
   "id": "b123fc8a",
   "metadata": {},
   "outputs": [],
   "source": [
    "X = np.array(train_set)\n",
    "y = np.array(train_stances)"
   ]
  },
  {
   "cell_type": "code",
   "execution_count": 15,
   "id": "56140e6a",
   "metadata": {},
   "outputs": [
    {
     "data": {
      "text/plain": [
       "(157, 5745)"
      ]
     },
     "execution_count": 15,
     "metadata": {},
     "output_type": "execute_result"
    }
   ],
   "source": [
    "X.shape"
   ]
  },
  {
   "cell_type": "code",
   "execution_count": 16,
   "id": "51dbd5ca",
   "metadata": {},
   "outputs": [],
   "source": [
    "X_train,X_val,y_train,y_val = train_test_split(X,y,test_size=0.2)"
   ]
  },
  {
   "cell_type": "code",
   "execution_count": 17,
   "id": "0fa7dd56",
   "metadata": {},
   "outputs": [
    {
     "data": {
      "text/plain": [
       "((125, 5745), (32, 5745), (125,), (32,))"
      ]
     },
     "execution_count": 17,
     "metadata": {},
     "output_type": "execute_result"
    }
   ],
   "source": [
    "X_train.shape, X_val.shape, y_train.shape, y_val.shape"
   ]
  },
  {
   "cell_type": "code",
   "execution_count": 18,
   "id": "70436447",
   "metadata": {},
   "outputs": [],
   "source": [
    "from keras.models import Sequential\n",
    "from keras.layers import Dense, Dropout, Activation\n",
    "from keras.layers import Embedding, SpatialDropout1D\n",
    "from tensorflow.keras.layers import LSTM\n",
    "from keras.callbacks import ModelCheckpoint, EarlyStopping"
   ]
  },
  {
   "cell_type": "code",
   "execution_count": 19,
   "id": "df23359b",
   "metadata": {},
   "outputs": [],
   "source": [
    "# The maximum number of words to be used. (most frequent)\n",
    "MAX_NB_WORDS = 60000\n",
    "# Max number of words in each complaint.\n",
    "MAX_SEQUENCE_LENGTH = 300\n",
    "# This is fixed.\n",
    "EMBEDDING_DIM = 100"
   ]
  },
  {
   "cell_type": "code",
   "execution_count": 29,
   "id": "e9e4e3cf",
   "metadata": {},
   "outputs": [],
   "source": [
    "model = Sequential()\n",
    "model.add(Embedding(MAX_NB_WORDS, EMBEDDING_DIM, input_length=X_train.shape[1]))\n",
    "model.add(SpatialDropout1D(0.2))\n",
    "model.add(LSTM(100, dropout=0.2, recurrent_dropout=0.2))\n",
    "model.add(Dense(50, activation='relu'))\n",
    "model.add(Dense(1, activation='softmax'))\n",
    "model.compile(loss='categorical_crossentropy', optimizer='adam', metrics=['accuracy'])"
   ]
  },
  {
   "cell_type": "code",
   "execution_count": 30,
   "id": "79290805",
   "metadata": {},
   "outputs": [
    {
     "data": {
      "text/plain": [
       "((125, 5745), (125,))"
      ]
     },
     "execution_count": 30,
     "metadata": {},
     "output_type": "execute_result"
    }
   ],
   "source": [
    "X_train.shape, y_train.shape"
   ]
  },
  {
   "cell_type": "code",
   "execution_count": 31,
   "id": "b2be2ecb",
   "metadata": {},
   "outputs": [
    {
     "name": "stdout",
     "output_type": "stream",
     "text": [
      "Epoch 1/2\n"
     ]
    },
    {
     "ename": "KeyboardInterrupt",
     "evalue": "",
     "output_type": "error",
     "traceback": [
      "\u001b[1;31m---------------------------------------------------------------------------\u001b[0m",
      "\u001b[1;31mKeyboardInterrupt\u001b[0m                         Traceback (most recent call last)",
      "Input \u001b[1;32mIn [31]\u001b[0m, in \u001b[0;36m<cell line: 3>\u001b[1;34m()\u001b[0m\n\u001b[0;32m      1\u001b[0m epochs \u001b[38;5;241m=\u001b[39m \u001b[38;5;241m2\u001b[39m\n\u001b[0;32m      2\u001b[0m batch_size \u001b[38;5;241m=\u001b[39m \u001b[38;5;241m10\u001b[39m\n\u001b[1;32m----> 3\u001b[0m \u001b[43mmodel\u001b[49m\u001b[38;5;241;43m.\u001b[39;49m\u001b[43mfit\u001b[49m\u001b[43m(\u001b[49m\u001b[43mX_train\u001b[49m\u001b[43m,\u001b[49m\u001b[43my_train\u001b[49m\u001b[43m,\u001b[49m\u001b[43mepochs\u001b[49m\u001b[38;5;241;43m=\u001b[39;49m\u001b[43mepochs\u001b[49m\u001b[43m,\u001b[49m\u001b[43mbatch_size\u001b[49m\u001b[38;5;241;43m=\u001b[39;49m\u001b[43mbatch_size\u001b[49m\u001b[43m,\u001b[49m\u001b[43mvalidation_split\u001b[49m\u001b[38;5;241;43m=\u001b[39;49m\u001b[38;5;241;43m0.1\u001b[39;49m\u001b[43m,\u001b[49m\u001b[43mcallbacks\u001b[49m\u001b[38;5;241;43m=\u001b[39;49m\u001b[43m[\u001b[49m\u001b[43mEarlyStopping\u001b[49m\u001b[43m(\u001b[49m\u001b[43mmonitor\u001b[49m\u001b[38;5;241;43m=\u001b[39;49m\u001b[38;5;124;43m'\u001b[39;49m\u001b[38;5;124;43mval_loss\u001b[39;49m\u001b[38;5;124;43m'\u001b[39;49m\u001b[43m,\u001b[49m\u001b[43m \u001b[49m\u001b[43mpatience\u001b[49m\u001b[38;5;241;43m=\u001b[39;49m\u001b[38;5;241;43m3\u001b[39;49m\u001b[43m,\u001b[49m\u001b[43m \u001b[49m\u001b[43mmin_delta\u001b[49m\u001b[38;5;241;43m=\u001b[39;49m\u001b[38;5;241;43m0.0001\u001b[39;49m\u001b[43m)\u001b[49m\u001b[43m]\u001b[49m\u001b[43m)\u001b[49m\n",
      "File \u001b[1;32m~\\anaconda3\\lib\\site-packages\\keras\\utils\\traceback_utils.py:65\u001b[0m, in \u001b[0;36mfilter_traceback.<locals>.error_handler\u001b[1;34m(*args, **kwargs)\u001b[0m\n\u001b[0;32m     63\u001b[0m filtered_tb \u001b[38;5;241m=\u001b[39m \u001b[38;5;28;01mNone\u001b[39;00m\n\u001b[0;32m     64\u001b[0m \u001b[38;5;28;01mtry\u001b[39;00m:\n\u001b[1;32m---> 65\u001b[0m     \u001b[38;5;28;01mreturn\u001b[39;00m fn(\u001b[38;5;241m*\u001b[39margs, \u001b[38;5;241m*\u001b[39m\u001b[38;5;241m*\u001b[39mkwargs)\n\u001b[0;32m     66\u001b[0m \u001b[38;5;28;01mexcept\u001b[39;00m \u001b[38;5;167;01mException\u001b[39;00m \u001b[38;5;28;01mas\u001b[39;00m e:\n\u001b[0;32m     67\u001b[0m     filtered_tb \u001b[38;5;241m=\u001b[39m _process_traceback_frames(e\u001b[38;5;241m.\u001b[39m__traceback__)\n",
      "File \u001b[1;32m~\\anaconda3\\lib\\site-packages\\keras\\engine\\training.py:1564\u001b[0m, in \u001b[0;36mModel.fit\u001b[1;34m(self, x, y, batch_size, epochs, verbose, callbacks, validation_split, validation_data, shuffle, class_weight, sample_weight, initial_epoch, steps_per_epoch, validation_steps, validation_batch_size, validation_freq, max_queue_size, workers, use_multiprocessing)\u001b[0m\n\u001b[0;32m   1556\u001b[0m \u001b[38;5;28;01mwith\u001b[39;00m tf\u001b[38;5;241m.\u001b[39mprofiler\u001b[38;5;241m.\u001b[39mexperimental\u001b[38;5;241m.\u001b[39mTrace(\n\u001b[0;32m   1557\u001b[0m     \u001b[38;5;124m\"\u001b[39m\u001b[38;5;124mtrain\u001b[39m\u001b[38;5;124m\"\u001b[39m,\n\u001b[0;32m   1558\u001b[0m     epoch_num\u001b[38;5;241m=\u001b[39mepoch,\n\u001b[1;32m   (...)\u001b[0m\n\u001b[0;32m   1561\u001b[0m     _r\u001b[38;5;241m=\u001b[39m\u001b[38;5;241m1\u001b[39m,\n\u001b[0;32m   1562\u001b[0m ):\n\u001b[0;32m   1563\u001b[0m     callbacks\u001b[38;5;241m.\u001b[39mon_train_batch_begin(step)\n\u001b[1;32m-> 1564\u001b[0m     tmp_logs \u001b[38;5;241m=\u001b[39m \u001b[38;5;28;43mself\u001b[39;49m\u001b[38;5;241;43m.\u001b[39;49m\u001b[43mtrain_function\u001b[49m\u001b[43m(\u001b[49m\u001b[43miterator\u001b[49m\u001b[43m)\u001b[49m\n\u001b[0;32m   1565\u001b[0m     \u001b[38;5;28;01mif\u001b[39;00m data_handler\u001b[38;5;241m.\u001b[39mshould_sync:\n\u001b[0;32m   1566\u001b[0m         context\u001b[38;5;241m.\u001b[39masync_wait()\n",
      "File \u001b[1;32m~\\anaconda3\\lib\\site-packages\\tensorflow\\python\\util\\traceback_utils.py:150\u001b[0m, in \u001b[0;36mfilter_traceback.<locals>.error_handler\u001b[1;34m(*args, **kwargs)\u001b[0m\n\u001b[0;32m    148\u001b[0m filtered_tb \u001b[38;5;241m=\u001b[39m \u001b[38;5;28;01mNone\u001b[39;00m\n\u001b[0;32m    149\u001b[0m \u001b[38;5;28;01mtry\u001b[39;00m:\n\u001b[1;32m--> 150\u001b[0m   \u001b[38;5;28;01mreturn\u001b[39;00m fn(\u001b[38;5;241m*\u001b[39margs, \u001b[38;5;241m*\u001b[39m\u001b[38;5;241m*\u001b[39mkwargs)\n\u001b[0;32m    151\u001b[0m \u001b[38;5;28;01mexcept\u001b[39;00m \u001b[38;5;167;01mException\u001b[39;00m \u001b[38;5;28;01mas\u001b[39;00m e:\n\u001b[0;32m    152\u001b[0m   filtered_tb \u001b[38;5;241m=\u001b[39m _process_traceback_frames(e\u001b[38;5;241m.\u001b[39m__traceback__)\n",
      "File \u001b[1;32m~\\anaconda3\\lib\\site-packages\\tensorflow\\python\\eager\\def_function.py:915\u001b[0m, in \u001b[0;36mFunction.__call__\u001b[1;34m(self, *args, **kwds)\u001b[0m\n\u001b[0;32m    912\u001b[0m compiler \u001b[38;5;241m=\u001b[39m \u001b[38;5;124m\"\u001b[39m\u001b[38;5;124mxla\u001b[39m\u001b[38;5;124m\"\u001b[39m \u001b[38;5;28;01mif\u001b[39;00m \u001b[38;5;28mself\u001b[39m\u001b[38;5;241m.\u001b[39m_jit_compile \u001b[38;5;28;01melse\u001b[39;00m \u001b[38;5;124m\"\u001b[39m\u001b[38;5;124mnonXla\u001b[39m\u001b[38;5;124m\"\u001b[39m\n\u001b[0;32m    914\u001b[0m \u001b[38;5;28;01mwith\u001b[39;00m OptionalXlaContext(\u001b[38;5;28mself\u001b[39m\u001b[38;5;241m.\u001b[39m_jit_compile):\n\u001b[1;32m--> 915\u001b[0m   result \u001b[38;5;241m=\u001b[39m \u001b[38;5;28mself\u001b[39m\u001b[38;5;241m.\u001b[39m_call(\u001b[38;5;241m*\u001b[39margs, \u001b[38;5;241m*\u001b[39m\u001b[38;5;241m*\u001b[39mkwds)\n\u001b[0;32m    917\u001b[0m new_tracing_count \u001b[38;5;241m=\u001b[39m \u001b[38;5;28mself\u001b[39m\u001b[38;5;241m.\u001b[39mexperimental_get_tracing_count()\n\u001b[0;32m    918\u001b[0m without_tracing \u001b[38;5;241m=\u001b[39m (tracing_count \u001b[38;5;241m==\u001b[39m new_tracing_count)\n",
      "File \u001b[1;32m~\\anaconda3\\lib\\site-packages\\tensorflow\\python\\eager\\def_function.py:980\u001b[0m, in \u001b[0;36mFunction._call\u001b[1;34m(self, *args, **kwds)\u001b[0m\n\u001b[0;32m    976\u001b[0m     \u001b[38;5;28;01mpass\u001b[39;00m  \u001b[38;5;66;03m# Fall through to cond-based initialization.\u001b[39;00m\n\u001b[0;32m    977\u001b[0m   \u001b[38;5;28;01melse\u001b[39;00m:\n\u001b[0;32m    978\u001b[0m     \u001b[38;5;66;03m# Lifting succeeded, so variables are initialized and we can run the\u001b[39;00m\n\u001b[0;32m    979\u001b[0m     \u001b[38;5;66;03m# stateless function.\u001b[39;00m\n\u001b[1;32m--> 980\u001b[0m     \u001b[38;5;28;01mreturn\u001b[39;00m \u001b[38;5;28mself\u001b[39m\u001b[38;5;241m.\u001b[39m_stateless_fn(\u001b[38;5;241m*\u001b[39margs, \u001b[38;5;241m*\u001b[39m\u001b[38;5;241m*\u001b[39mkwds)\n\u001b[0;32m    981\u001b[0m \u001b[38;5;28;01melse\u001b[39;00m:\n\u001b[0;32m    982\u001b[0m   _, _, filtered_flat_args \u001b[38;5;241m=\u001b[39m (\n\u001b[0;32m    983\u001b[0m       \u001b[38;5;28mself\u001b[39m\u001b[38;5;241m.\u001b[39m_stateful_fn\u001b[38;5;241m.\u001b[39m_function_spec\u001b[38;5;241m.\u001b[39mcanonicalize_function_inputs(  \u001b[38;5;66;03m# pylint: disable=protected-access\u001b[39;00m\n\u001b[0;32m    984\u001b[0m           \u001b[38;5;241m*\u001b[39margs, \u001b[38;5;241m*\u001b[39m\u001b[38;5;241m*\u001b[39mkwds))\n",
      "File \u001b[1;32m~\\anaconda3\\lib\\site-packages\\tensorflow\\python\\eager\\function.py:2496\u001b[0m, in \u001b[0;36mFunction.__call__\u001b[1;34m(self, *args, **kwargs)\u001b[0m\n\u001b[0;32m   2493\u001b[0m \u001b[38;5;28;01mwith\u001b[39;00m \u001b[38;5;28mself\u001b[39m\u001b[38;5;241m.\u001b[39m_lock:\n\u001b[0;32m   2494\u001b[0m   (graph_function,\n\u001b[0;32m   2495\u001b[0m    filtered_flat_args) \u001b[38;5;241m=\u001b[39m \u001b[38;5;28mself\u001b[39m\u001b[38;5;241m.\u001b[39m_maybe_define_function(args, kwargs)\n\u001b[1;32m-> 2496\u001b[0m \u001b[38;5;28;01mreturn\u001b[39;00m \u001b[43mgraph_function\u001b[49m\u001b[38;5;241;43m.\u001b[39;49m\u001b[43m_call_flat\u001b[49m\u001b[43m(\u001b[49m\n\u001b[0;32m   2497\u001b[0m \u001b[43m    \u001b[49m\u001b[43mfiltered_flat_args\u001b[49m\u001b[43m,\u001b[49m\u001b[43m \u001b[49m\u001b[43mcaptured_inputs\u001b[49m\u001b[38;5;241;43m=\u001b[39;49m\u001b[43mgraph_function\u001b[49m\u001b[38;5;241;43m.\u001b[39;49m\u001b[43mcaptured_inputs\u001b[49m\u001b[43m)\u001b[49m\n",
      "File \u001b[1;32m~\\anaconda3\\lib\\site-packages\\tensorflow\\python\\eager\\function.py:1862\u001b[0m, in \u001b[0;36mConcreteFunction._call_flat\u001b[1;34m(self, args, captured_inputs, cancellation_manager)\u001b[0m\n\u001b[0;32m   1858\u001b[0m possible_gradient_type \u001b[38;5;241m=\u001b[39m gradients_util\u001b[38;5;241m.\u001b[39mPossibleTapeGradientTypes(args)\n\u001b[0;32m   1859\u001b[0m \u001b[38;5;28;01mif\u001b[39;00m (possible_gradient_type \u001b[38;5;241m==\u001b[39m gradients_util\u001b[38;5;241m.\u001b[39mPOSSIBLE_GRADIENT_TYPES_NONE\n\u001b[0;32m   1860\u001b[0m     \u001b[38;5;129;01mand\u001b[39;00m executing_eagerly):\n\u001b[0;32m   1861\u001b[0m   \u001b[38;5;66;03m# No tape is watching; skip to running the function.\u001b[39;00m\n\u001b[1;32m-> 1862\u001b[0m   \u001b[38;5;28;01mreturn\u001b[39;00m \u001b[38;5;28mself\u001b[39m\u001b[38;5;241m.\u001b[39m_build_call_outputs(\u001b[38;5;28;43mself\u001b[39;49m\u001b[38;5;241;43m.\u001b[39;49m\u001b[43m_inference_function\u001b[49m\u001b[38;5;241;43m.\u001b[39;49m\u001b[43mcall\u001b[49m\u001b[43m(\u001b[49m\n\u001b[0;32m   1863\u001b[0m \u001b[43m      \u001b[49m\u001b[43mctx\u001b[49m\u001b[43m,\u001b[49m\u001b[43m \u001b[49m\u001b[43margs\u001b[49m\u001b[43m,\u001b[49m\u001b[43m \u001b[49m\u001b[43mcancellation_manager\u001b[49m\u001b[38;5;241;43m=\u001b[39;49m\u001b[43mcancellation_manager\u001b[49m\u001b[43m)\u001b[49m)\n\u001b[0;32m   1864\u001b[0m forward_backward \u001b[38;5;241m=\u001b[39m \u001b[38;5;28mself\u001b[39m\u001b[38;5;241m.\u001b[39m_select_forward_and_backward_functions(\n\u001b[0;32m   1865\u001b[0m     args,\n\u001b[0;32m   1866\u001b[0m     possible_gradient_type,\n\u001b[0;32m   1867\u001b[0m     executing_eagerly)\n\u001b[0;32m   1868\u001b[0m forward_function, args_with_tangents \u001b[38;5;241m=\u001b[39m forward_backward\u001b[38;5;241m.\u001b[39mforward()\n",
      "File \u001b[1;32m~\\anaconda3\\lib\\site-packages\\tensorflow\\python\\eager\\function.py:499\u001b[0m, in \u001b[0;36m_EagerDefinedFunction.call\u001b[1;34m(self, ctx, args, cancellation_manager)\u001b[0m\n\u001b[0;32m    497\u001b[0m \u001b[38;5;28;01mwith\u001b[39;00m _InterpolateFunctionError(\u001b[38;5;28mself\u001b[39m):\n\u001b[0;32m    498\u001b[0m   \u001b[38;5;28;01mif\u001b[39;00m cancellation_manager \u001b[38;5;129;01mis\u001b[39;00m \u001b[38;5;28;01mNone\u001b[39;00m:\n\u001b[1;32m--> 499\u001b[0m     outputs \u001b[38;5;241m=\u001b[39m \u001b[43mexecute\u001b[49m\u001b[38;5;241;43m.\u001b[39;49m\u001b[43mexecute\u001b[49m\u001b[43m(\u001b[49m\n\u001b[0;32m    500\u001b[0m \u001b[43m        \u001b[49m\u001b[38;5;28;43mstr\u001b[39;49m\u001b[43m(\u001b[49m\u001b[38;5;28;43mself\u001b[39;49m\u001b[38;5;241;43m.\u001b[39;49m\u001b[43msignature\u001b[49m\u001b[38;5;241;43m.\u001b[39;49m\u001b[43mname\u001b[49m\u001b[43m)\u001b[49m\u001b[43m,\u001b[49m\n\u001b[0;32m    501\u001b[0m \u001b[43m        \u001b[49m\u001b[43mnum_outputs\u001b[49m\u001b[38;5;241;43m=\u001b[39;49m\u001b[38;5;28;43mself\u001b[39;49m\u001b[38;5;241;43m.\u001b[39;49m\u001b[43m_num_outputs\u001b[49m\u001b[43m,\u001b[49m\n\u001b[0;32m    502\u001b[0m \u001b[43m        \u001b[49m\u001b[43minputs\u001b[49m\u001b[38;5;241;43m=\u001b[39;49m\u001b[43margs\u001b[49m\u001b[43m,\u001b[49m\n\u001b[0;32m    503\u001b[0m \u001b[43m        \u001b[49m\u001b[43mattrs\u001b[49m\u001b[38;5;241;43m=\u001b[39;49m\u001b[43mattrs\u001b[49m\u001b[43m,\u001b[49m\n\u001b[0;32m    504\u001b[0m \u001b[43m        \u001b[49m\u001b[43mctx\u001b[49m\u001b[38;5;241;43m=\u001b[39;49m\u001b[43mctx\u001b[49m\u001b[43m)\u001b[49m\n\u001b[0;32m    505\u001b[0m   \u001b[38;5;28;01melse\u001b[39;00m:\n\u001b[0;32m    506\u001b[0m     outputs \u001b[38;5;241m=\u001b[39m execute\u001b[38;5;241m.\u001b[39mexecute_with_cancellation(\n\u001b[0;32m    507\u001b[0m         \u001b[38;5;28mstr\u001b[39m(\u001b[38;5;28mself\u001b[39m\u001b[38;5;241m.\u001b[39msignature\u001b[38;5;241m.\u001b[39mname),\n\u001b[0;32m    508\u001b[0m         num_outputs\u001b[38;5;241m=\u001b[39m\u001b[38;5;28mself\u001b[39m\u001b[38;5;241m.\u001b[39m_num_outputs,\n\u001b[1;32m   (...)\u001b[0m\n\u001b[0;32m    511\u001b[0m         ctx\u001b[38;5;241m=\u001b[39mctx,\n\u001b[0;32m    512\u001b[0m         cancellation_manager\u001b[38;5;241m=\u001b[39mcancellation_manager)\n",
      "File \u001b[1;32m~\\anaconda3\\lib\\site-packages\\tensorflow\\python\\eager\\execute.py:54\u001b[0m, in \u001b[0;36mquick_execute\u001b[1;34m(op_name, num_outputs, inputs, attrs, ctx, name)\u001b[0m\n\u001b[0;32m     52\u001b[0m \u001b[38;5;28;01mtry\u001b[39;00m:\n\u001b[0;32m     53\u001b[0m   ctx\u001b[38;5;241m.\u001b[39mensure_initialized()\n\u001b[1;32m---> 54\u001b[0m   tensors \u001b[38;5;241m=\u001b[39m \u001b[43mpywrap_tfe\u001b[49m\u001b[38;5;241;43m.\u001b[39;49m\u001b[43mTFE_Py_Execute\u001b[49m\u001b[43m(\u001b[49m\u001b[43mctx\u001b[49m\u001b[38;5;241;43m.\u001b[39;49m\u001b[43m_handle\u001b[49m\u001b[43m,\u001b[49m\u001b[43m \u001b[49m\u001b[43mdevice_name\u001b[49m\u001b[43m,\u001b[49m\u001b[43m \u001b[49m\u001b[43mop_name\u001b[49m\u001b[43m,\u001b[49m\n\u001b[0;32m     55\u001b[0m \u001b[43m                                      \u001b[49m\u001b[43minputs\u001b[49m\u001b[43m,\u001b[49m\u001b[43m \u001b[49m\u001b[43mattrs\u001b[49m\u001b[43m,\u001b[49m\u001b[43m \u001b[49m\u001b[43mnum_outputs\u001b[49m\u001b[43m)\u001b[49m\n\u001b[0;32m     56\u001b[0m \u001b[38;5;28;01mexcept\u001b[39;00m core\u001b[38;5;241m.\u001b[39m_NotOkStatusException \u001b[38;5;28;01mas\u001b[39;00m e:\n\u001b[0;32m     57\u001b[0m   \u001b[38;5;28;01mif\u001b[39;00m name \u001b[38;5;129;01mis\u001b[39;00m \u001b[38;5;129;01mnot\u001b[39;00m \u001b[38;5;28;01mNone\u001b[39;00m:\n",
      "\u001b[1;31mKeyboardInterrupt\u001b[0m: "
     ]
    }
   ],
   "source": [
    "epochs = 2\n",
    "batch_size = 10\n",
    "model.fit(X_train,y_train,epochs=epochs,batch_size=batch_size,validation_split=0.1,callbacks=[EarlyStopping(monitor='val_loss', patience=3, min_delta=0.0001)])"
   ]
  },
  {
   "cell_type": "code",
   "execution_count": 26,
   "id": "4ce3c5ab",
   "metadata": {},
   "outputs": [
    {
     "name": "stdout",
     "output_type": "stream",
     "text": [
      "1/1 [==============================] - 1s 737ms/step - loss: 0.0000e+00 - accuracy: 0.2188\n",
      "Test set\n",
      "  Loss: 0.000\n",
      "  Accuracy: 0.219\n"
     ]
    }
   ],
   "source": [
    "accr = model.evaluate(X_val,y_val)\n",
    "print('Test set\\n  Loss: {:0.3f}\\n  Accuracy: {:0.3f}'.format(accr[0],accr[1]))"
   ]
  },
  {
   "cell_type": "code",
   "execution_count": 138,
   "id": "dabbb860",
   "metadata": {},
   "outputs": [],
   "source": [
    "model = xgb.XGBClassifier(learning_rate=0.1,\n",
    "                          max_depth=5,\n",
    "                          n_estimators=5000,\n",
    "                          subsample=0.5,\n",
    "                          colsample_bytree=0.5,\n",
    "                          eval_metric='auc',\n",
    "                          verbosity=1)"
   ]
  },
  {
   "cell_type": "code",
   "execution_count": 139,
   "id": "b75bc9a0",
   "metadata": {},
   "outputs": [
    {
     "data": {
      "text/plain": [
       "XGBClassifier(base_score=0.5, booster='gbtree', callbacks=None,\n",
       "              colsample_bylevel=1, colsample_bynode=1, colsample_bytree=0.5,\n",
       "              early_stopping_rounds=None, enable_categorical=False,\n",
       "              eval_metric='auc', feature_types=None, gamma=0, gpu_id=-1,\n",
       "              grow_policy='depthwise', importance_type=None,\n",
       "              interaction_constraints='', learning_rate=0.1, max_bin=256,\n",
       "              max_cat_threshold=64, max_cat_to_onehot=4, max_delta_step=0,\n",
       "              max_depth=5, max_leaves=0, min_child_weight=1, missing=nan,\n",
       "              monotone_constraints='()', n_estimators=5000, n_jobs=0,\n",
       "              num_parallel_tree=1, objective='multi:softprob', predictor='auto', ...)"
      ]
     },
     "execution_count": 139,
     "metadata": {},
     "output_type": "execute_result"
    }
   ],
   "source": [
    "eval_set = [(X_val, y_val)]\n",
    "model.fit(X_train,\n",
    "          y_train,\n",
    "          verbose=True)"
   ]
  },
  {
   "cell_type": "code",
   "execution_count": 140,
   "id": "1940e675",
   "metadata": {},
   "outputs": [],
   "source": [
    "y_pred = model.predict(X_val)"
   ]
  },
  {
   "cell_type": "code",
   "execution_count": 141,
   "id": "b4231d41",
   "metadata": {},
   "outputs": [
    {
     "data": {
      "text/plain": [
       "array([3, 3, 3, 3, 3, 0, 3, 2, 0, 0, 2, 3, 2, 3, 1, 0, 3, 0, 1, 3, 1, 2,\n",
       "       0, 2, 0, 0, 0, 1, 2, 1, 0, 0], dtype=int64)"
      ]
     },
     "execution_count": 141,
     "metadata": {},
     "output_type": "execute_result"
    }
   ],
   "source": [
    "y_pred"
   ]
  },
  {
   "cell_type": "code",
   "execution_count": 142,
   "id": "291df684",
   "metadata": {},
   "outputs": [
    {
     "data": {
      "text/plain": [
       "array([2, 3, 3, 3, 3, 1, 2, 0, 0, 1, 0, 3, 2, 0, 0, 1, 3, 2, 2, 3, 0, 1,\n",
       "       0, 2, 1, 2, 3, 0, 1, 3, 0, 2])"
      ]
     },
     "execution_count": 142,
     "metadata": {},
     "output_type": "execute_result"
    }
   ],
   "source": [
    "y_val"
   ]
  },
  {
   "cell_type": "code",
   "execution_count": 143,
   "id": "aff751fa",
   "metadata": {},
   "outputs": [],
   "source": [
    "df = pd.DataFrame()\n",
    "df['y_actual'] = y_val\n",
    "df['y_pred'] = y_pred"
   ]
  },
  {
   "cell_type": "code",
   "execution_count": 144,
   "id": "a4aab7da",
   "metadata": {},
   "outputs": [
    {
     "data": {
      "text/plain": [
       "0.375"
      ]
     },
     "execution_count": 144,
     "metadata": {},
     "output_type": "execute_result"
    }
   ],
   "source": [
    "accuracy_score(df['y_actual'],df['y_pred'])"
   ]
  },
  {
   "cell_type": "code",
   "execution_count": 145,
   "id": "f1a8293b",
   "metadata": {},
   "outputs": [],
   "source": [
    "target_names = ['agree','disagree','discuss','unrelated']"
   ]
  },
  {
   "cell_type": "code",
   "execution_count": 146,
   "id": "b1126401",
   "metadata": {
    "scrolled": true
   },
   "outputs": [
    {
     "name": "stdout",
     "output_type": "stream",
     "text": [
      "              precision    recall  f1-score   support\n",
      "\n",
      "       agree       0.27      0.33      0.30         9\n",
      "    disagree       0.00      0.00      0.00         6\n",
      "     discuss       0.33      0.25      0.29         8\n",
      "   unrelated       0.70      0.78      0.74         9\n",
      "\n",
      "    accuracy                           0.38        32\n",
      "   macro avg       0.33      0.34      0.33        32\n",
      "weighted avg       0.36      0.38      0.36        32\n",
      "\n"
     ]
    }
   ],
   "source": [
    "print(classification_report(df['y_actual'],df['y_pred'],target_names=target_names))"
   ]
  },
  {
   "cell_type": "code",
   "execution_count": 149,
   "id": "581fb5c5",
   "metadata": {},
   "outputs": [],
   "source": [
    "learning_rate_list = [0.02, 0.05]\n",
    "max_depth_list = [2, 3]\n",
    "n_estimators_list = [1000, 2000]\n",
    "\n",
    "params_dict = {\"learning_rate\": learning_rate_list,\n",
    "               \"max_depth\": max_depth_list,\n",
    "               \"n_estimators\": n_estimators_list}"
   ]
  },
  {
   "cell_type": "code",
   "execution_count": 150,
   "id": "8d7e512d",
   "metadata": {},
   "outputs": [
    {
     "name": "stdout",
     "output_type": "stream",
     "text": [
      "Fitting 2 folds for each of 8 candidates, totalling 16 fits\n",
      "[CV 1/2] END learning_rate=0.02, max_depth=2, n_estimators=1000;, score=(train=0.987, test=0.544) total time=  12.9s\n",
      "[CV 2/2] END learning_rate=0.02, max_depth=2, n_estimators=1000;, score=(train=1.000, test=0.462) total time=  13.8s\n",
      "[CV 1/2] END learning_rate=0.02, max_depth=2, n_estimators=2000;, score=(train=1.000, test=0.544) total time=  26.7s\n",
      "[CV 2/2] END learning_rate=0.02, max_depth=2, n_estimators=2000;, score=(train=1.000, test=0.462) total time=  26.9s\n",
      "[CV 1/2] END learning_rate=0.02, max_depth=3, n_estimators=1000;, score=(train=0.987, test=0.544) total time=  15.3s\n",
      "[CV 2/2] END learning_rate=0.02, max_depth=3, n_estimators=1000;, score=(train=1.000, test=0.449) total time=  15.5s\n",
      "[CV 1/2] END learning_rate=0.02, max_depth=3, n_estimators=2000;, score=(train=1.000, test=0.519) total time=  28.8s\n",
      "[CV 2/2] END learning_rate=0.02, max_depth=3, n_estimators=2000;, score=(train=1.000, test=0.449) total time=  28.7s\n",
      "[CV 1/2] END learning_rate=0.05, max_depth=2, n_estimators=1000;, score=(train=1.000, test=0.544) total time=  13.4s\n",
      "[CV 2/2] END learning_rate=0.05, max_depth=2, n_estimators=1000;, score=(train=1.000, test=0.436) total time=  13.6s\n",
      "[CV 1/2] END learning_rate=0.05, max_depth=2, n_estimators=2000;, score=(train=1.000, test=0.456) total time=  26.2s\n",
      "[CV 2/2] END learning_rate=0.05, max_depth=2, n_estimators=2000;, score=(train=1.000, test=0.410) total time=  26.3s\n",
      "[CV 1/2] END learning_rate=0.05, max_depth=3, n_estimators=1000;, score=(train=1.000, test=0.532) total time=  14.7s\n",
      "[CV 2/2] END learning_rate=0.05, max_depth=3, n_estimators=1000;, score=(train=1.000, test=0.423) total time=  14.7s\n",
      "[CV 1/2] END learning_rate=0.05, max_depth=3, n_estimators=2000;, score=(train=1.000, test=0.468) total time=  27.7s\n",
      "[CV 2/2] END learning_rate=0.05, max_depth=3, n_estimators=2000;, score=(train=1.000, test=0.397) total time=  27.5s\n"
     ]
    },
    {
     "data": {
      "text/plain": [
       "GridSearchCV(cv=2,\n",
       "             estimator=XGBClassifier(base_score=0.5, booster='gbtree',\n",
       "                                     callbacks=None, colsample_bylevel=1,\n",
       "                                     colsample_bynode=1, colsample_bytree=0.5,\n",
       "                                     early_stopping_rounds=None,\n",
       "                                     enable_categorical=False,\n",
       "                                     eval_metric='auc', feature_types=None,\n",
       "                                     gamma=0, gpu_id=-1,\n",
       "                                     grow_policy='depthwise',\n",
       "                                     importance_type=None,\n",
       "                                     interaction_constraints='',\n",
       "                                     learning_rate=0.1, max_...\n",
       "                                     max_cat_threshold=64, max_cat_to_onehot=4,\n",
       "                                     max_delta_step=0, max_depth=5,\n",
       "                                     max_leaves=0, min_child_weight=1,\n",
       "                                     missing=nan, monotone_constraints='()',\n",
       "                                     n_estimators=5000, n_jobs=0,\n",
       "                                     num_parallel_tree=1,\n",
       "                                     objective='multi:softprob',\n",
       "                                     predictor='auto', ...),\n",
       "             param_grid={'learning_rate': [0.02, 0.05], 'max_depth': [2, 3],\n",
       "                         'n_estimators': [1000, 2000]},\n",
       "             return_train_score=True, verbose=4)"
      ]
     },
     "execution_count": 150,
     "metadata": {},
     "output_type": "execute_result"
    }
   ],
   "source": [
    "xgb_model = GridSearchCV(estimator=model,\n",
    "                         param_grid=params_dict,\n",
    "                         cv=2,\n",
    "                         scoring=None,\n",
    "                         return_train_score=True,\n",
    "                         verbose=4)\n",
    "\n",
    "xgb_model.fit(X, y)"
   ]
  },
  {
   "cell_type": "code",
   "execution_count": 151,
   "id": "a716687d",
   "metadata": {},
   "outputs": [
    {
     "data": {
      "text/plain": [
       "{'learning_rate': 0.02, 'max_depth': 2, 'n_estimators': 1000}"
      ]
     },
     "execution_count": 151,
     "metadata": {},
     "output_type": "execute_result"
    }
   ],
   "source": [
    "xgb_model.best_params_"
   ]
  },
  {
   "cell_type": "code",
   "execution_count": 152,
   "id": "a510329d",
   "metadata": {},
   "outputs": [],
   "source": [
    "tuned_model = xgb.XGBClassifier(learning_rate=0.02,max_depth=2,n_estimators=1000,subsample=0.5,\n",
    "                          colsample_bytree=0.5,\n",
    "                          eval_metric='auc',\n",
    "                          verbosity=1)"
   ]
  },
  {
   "cell_type": "code",
   "execution_count": 153,
   "id": "cc1743b3",
   "metadata": {},
   "outputs": [
    {
     "data": {
      "text/plain": [
       "XGBClassifier(base_score=0.5, booster='gbtree', callbacks=None,\n",
       "              colsample_bylevel=1, colsample_bynode=1, colsample_bytree=0.5,\n",
       "              early_stopping_rounds=None, enable_categorical=False,\n",
       "              eval_metric='auc', feature_types=None, gamma=0, gpu_id=-1,\n",
       "              grow_policy='depthwise', importance_type=None,\n",
       "              interaction_constraints='', learning_rate=0.02, max_bin=256,\n",
       "              max_cat_threshold=64, max_cat_to_onehot=4, max_delta_step=0,\n",
       "              max_depth=2, max_leaves=0, min_child_weight=1, missing=nan,\n",
       "              monotone_constraints='()', n_estimators=1000, n_jobs=0,\n",
       "              num_parallel_tree=1, objective='multi:softprob', predictor='auto', ...)"
      ]
     },
     "execution_count": 153,
     "metadata": {},
     "output_type": "execute_result"
    }
   ],
   "source": [
    "tuned_model.fit(X_train,\n",
    "          y_train,\n",
    "          verbose=True)"
   ]
  },
  {
   "cell_type": "code",
   "execution_count": 172,
   "id": "9814ed76",
   "metadata": {},
   "outputs": [],
   "source": [
    "y_pred_xgb = tuned_model.predict(X_val)"
   ]
  },
  {
   "cell_type": "code",
   "execution_count": 173,
   "id": "de39ae5c",
   "metadata": {},
   "outputs": [],
   "source": [
    "df = pd.DataFrame()\n",
    "df['y_actual'] = y_val\n",
    "df['y_pred'] = y_pred_xgb"
   ]
  },
  {
   "cell_type": "code",
   "execution_count": 174,
   "id": "c379f563",
   "metadata": {
    "scrolled": true
   },
   "outputs": [
    {
     "data": {
      "text/plain": [
       "0.46875"
      ]
     },
     "execution_count": 174,
     "metadata": {},
     "output_type": "execute_result"
    }
   ],
   "source": [
    "accuracy_score(df['y_actual'],df['y_pred'])"
   ]
  },
  {
   "cell_type": "code",
   "execution_count": 157,
   "id": "738c2fc7",
   "metadata": {},
   "outputs": [
    {
     "name": "stdout",
     "output_type": "stream",
     "text": [
      "              precision    recall  f1-score   support\n",
      "\n",
      "       agree       0.27      0.33      0.30         9\n",
      "    disagree       0.00      0.00      0.00         6\n",
      "     discuss       0.33      0.25      0.29         8\n",
      "   unrelated       0.70      0.78      0.74         9\n",
      "\n",
      "    accuracy                           0.38        32\n",
      "   macro avg       0.33      0.34      0.33        32\n",
      "weighted avg       0.36      0.38      0.36        32\n",
      "\n"
     ]
    }
   ],
   "source": [
    "print(classification_report(df['y_actual'],df['y_pred'],target_names=target_names))"
   ]
  },
  {
   "cell_type": "code",
   "execution_count": 158,
   "id": "6f8dd5f8",
   "metadata": {},
   "outputs": [
    {
     "data": {
      "text/plain": [
       "array([[0.0085061 , 0.00346093, 0.00397309, 0.98405993],\n",
       "       [0.018901  , 0.04962345, 0.00927044, 0.9222051 ],\n",
       "       [0.04932309, 0.01855181, 0.00989171, 0.92223334],\n",
       "       [0.01184917, 0.00801731, 0.02766654, 0.95246696],\n",
       "       [0.02659526, 0.00226025, 0.00471908, 0.96642536],\n",
       "       [0.28303987, 0.28129616, 0.42886037, 0.00680366],\n",
       "       [0.02903845, 0.01784774, 0.06502432, 0.8880895 ],\n",
       "       [0.18594836, 0.16546999, 0.6276512 , 0.02093046],\n",
       "       [0.44967958, 0.03366837, 0.5114042 , 0.00524779],\n",
       "       [0.5412094 , 0.12855972, 0.31870353, 0.01152736],\n",
       "       [0.42809203, 0.3136469 , 0.22142905, 0.03683205],\n",
       "       [0.07219326, 0.05779228, 0.25135145, 0.618663  ],\n",
       "       [0.32078618, 0.19953504, 0.46236944, 0.01730936],\n",
       "       [0.32350117, 0.07251041, 0.16141759, 0.44257078],\n",
       "       [0.3522454 , 0.5481303 , 0.0751998 , 0.02442453],\n",
       "       [0.5612905 , 0.16318658, 0.26560947, 0.00991339],\n",
       "       [0.09756833, 0.0749586 , 0.2244696 , 0.60300344],\n",
       "       [0.32930863, 0.11545416, 0.540268  , 0.01496926],\n",
       "       [0.29449803, 0.15247262, 0.539948  , 0.01308138],\n",
       "       [0.00499048, 0.00593832, 0.05355503, 0.9355162 ],\n",
       "       [0.04255827, 0.92903477, 0.02190047, 0.00650653],\n",
       "       [0.32978526, 0.00655579, 0.661158  , 0.00250091],\n",
       "       [0.76475334, 0.07829548, 0.15237698, 0.00457414],\n",
       "       [0.13133429, 0.1336949 , 0.7243637 , 0.01060711],\n",
       "       [0.59569   , 0.21190241, 0.15385245, 0.03855516],\n",
       "       [0.6665352 , 0.16896547, 0.14393   , 0.02056937],\n",
       "       [0.85300994, 0.04036035, 0.05425373, 0.05237599],\n",
       "       [0.15010066, 0.8019737 , 0.03890146, 0.00902421],\n",
       "       [0.843004  , 0.02277046, 0.13123083, 0.00299471],\n",
       "       [0.12983271, 0.653338  , 0.12339598, 0.09343325],\n",
       "       [0.8581102 , 0.0403107 , 0.01574876, 0.08583035],\n",
       "       [0.8251884 , 0.12177559, 0.04916132, 0.00387463]], dtype=float32)"
      ]
     },
     "execution_count": 158,
     "metadata": {},
     "output_type": "execute_result"
    }
   ],
   "source": [
    "pred_prob_xgb = tuned_model.predict_proba(X_val)\n",
    "pred_prob_xgb"
   ]
  },
  {
   "cell_type": "code",
   "execution_count": 159,
   "id": "10ee9aa5",
   "metadata": {},
   "outputs": [
    {
     "data": {
      "image/png": "[encoded data removed]",
      "text/plain": [
       "<Figure size 432x288 with 1 Axes>"
      ]
     },
     "metadata": {
      "needs_background": "light"
     },
     "output_type": "display_data"
    }
   ],
   "source": [
    "y_test_binarized=label_binarize(y_val,classes=np.unique(y_val))\n",
    "\n",
    "fpr = {}\n",
    "tpr = {}\n",
    "thresh ={}\n",
    "roc_auc = dict()\n",
    "classes = ['agree', 'disagree', 'discuss', 'unrelated']\n",
    "n_class = 4\n",
    "\n",
    "for i in range(n_class):    \n",
    "    fpr[i], tpr[i], thresh[i] = roc_curve(y_test_binarized[:,i], pred_prob_xgb[:,i])\n",
    "    roc_auc[i] = auc(fpr[i], tpr[i])\n",
    "    \n",
    "    # plotting    \n",
    "    plt.plot(fpr[i], tpr[i], linestyle='--', \n",
    "             label='%s vs Rest (AUC=%0.2f)'%(classes[i],roc_auc[i]))\n",
    "\n",
    "plt.plot([0,1],[0,1],'b--')\n",
    "plt.xlim([0,1])\n",
    "plt.ylim([0,1.05])\n",
    "plt.title('Multiclass ROC curve')\n",
    "plt.xlabel('False Positive Rate')\n",
    "plt.ylabel('True Positive rate')\n",
    "plt.legend(loc='lower right')\n",
    "plt.show()"
   ]
  },
  {
   "cell_type": "code",
   "execution_count": 160,
   "id": "7e92fa97",
   "metadata": {},
   "outputs": [],
   "source": [
    "rf=OneVsRestClassifier(RandomForestClassifier(max_features=0.2))\n",
    "rf.fit(X_train,y_train)\n",
    "y_pred =rf.predict(X_val)\n",
    "pred_prob = rf.predict_proba(X_val)"
   ]
  },
  {
   "cell_type": "code",
   "execution_count": 161,
   "id": "e85319c5",
   "metadata": {},
   "outputs": [
    {
     "data": {
      "image/png": "[encoded data removed]",
      "text/plain": [
       "<Figure size 432x288 with 1 Axes>"
      ]
     },
     "metadata": {
      "needs_background": "light"
     },
     "output_type": "display_data"
    }
   ],
   "source": [
    "from sklearn.preprocessing import label_binarize\n",
    "\n",
    "y_test_binarized=label_binarize(y_val,classes=np.unique(y_val))\n",
    "\n",
    "fpr = {}\n",
    "tpr = {}\n",
    "thresh ={}\n",
    "roc_auc = dict()\n",
    "classes = ['agree', 'disagree', 'discuss', 'unrelated']\n",
    "n_class = 4\n",
    "\n",
    "for i in range(n_class):    \n",
    "    fpr[i], tpr[i], thresh[i] = roc_curve(y_test_binarized[:,i], pred_prob[:,i])\n",
    "    roc_auc[i] = auc(fpr[i], tpr[i])\n",
    "    \n",
    "    # plotting    \n",
    "    plt.plot(fpr[i], tpr[i], linestyle='--', \n",
    "             label='%s vs Rest (AUC=%0.2f)'%(classes[i],roc_auc[i]))\n",
    "\n",
    "plt.plot([0,1],[0,1],'b--')\n",
    "plt.xlim([0,1])\n",
    "plt.ylim([0,1.05])\n",
    "plt.title('Multiclass ROC curve')\n",
    "plt.xlabel('False Positive Rate')\n",
    "plt.ylabel('True Positive rate')\n",
    "plt.legend(loc='lower right')\n",
    "plt.show()"
   ]
  },
  {
   "cell_type": "code",
   "execution_count": 162,
   "id": "dbcf755b",
   "metadata": {},
   "outputs": [],
   "source": [
    "df = pd.DataFrame()\n",
    "df['y_actual'] = y_val\n",
    "df['y_pred'] = y_pred"
   ]
  },
  {
   "cell_type": "code",
   "execution_count": 163,
   "id": "891ceebb",
   "metadata": {},
   "outputs": [
    {
     "data": {
      "text/plain": [
       "0.5"
      ]
     },
     "execution_count": 163,
     "metadata": {},
     "output_type": "execute_result"
    }
   ],
   "source": [
    "accuracy_score(df['y_actual'],df['y_pred'])"
   ]
  },
  {
   "cell_type": "code",
   "execution_count": 164,
   "id": "fcbf8f73",
   "metadata": {
    "scrolled": true
   },
   "outputs": [
    {
     "name": "stdout",
     "output_type": "stream",
     "text": [
      "Fitting 2 folds for each of 12 candidates, totalling 24 fits\n",
      "[CV 1/2] END criterion=gini, max_depth=2, n_estimators=1000;, score=(train=0.692, test=0.544) total time=   4.7s\n",
      "[CV 2/2] END criterion=gini, max_depth=2, n_estimators=1000;, score=(train=0.608, test=0.526) total time=   5.1s\n",
      "[CV 1/2] END criterion=gini, max_depth=2, n_estimators=2000;, score=(train=0.705, test=0.544) total time=   9.9s\n",
      "[CV 2/2] END criterion=gini, max_depth=2, n_estimators=2000;, score=(train=0.620, test=0.551) total time=   9.9s\n",
      "[CV 1/2] END criterion=gini, max_depth=2, n_estimators=3000;, score=(train=0.692, test=0.544) total time=  14.1s\n",
      "[CV 2/2] END criterion=gini, max_depth=2, n_estimators=3000;, score=(train=0.620, test=0.500) total time=  15.3s\n",
      "[CV 1/2] END criterion=gini, max_depth=3, n_estimators=1000;, score=(train=0.885, test=0.557) total time=   5.6s\n",
      "[CV 2/2] END criterion=gini, max_depth=3, n_estimators=1000;, score=(train=0.772, test=0.513) total time=   6.1s\n",
      "[CV 1/2] END criterion=gini, max_depth=3, n_estimators=2000;, score=(train=0.885, test=0.544) total time=  11.1s\n",
      "[CV 2/2] END criterion=gini, max_depth=3, n_estimators=2000;, score=(train=0.785, test=0.513) total time=  11.8s\n",
      "[CV 1/2] END criterion=gini, max_depth=3, n_estimators=3000;, score=(train=0.897, test=0.544) total time=  16.5s\n",
      "[CV 2/2] END criterion=gini, max_depth=3, n_estimators=3000;, score=(train=0.772, test=0.526) total time=  18.2s\n",
      "[CV 1/2] END criterion=entropy, max_depth=2, n_estimators=1000;, score=(train=0.692, test=0.544) total time=   4.8s\n",
      "[CV 2/2] END criterion=entropy, max_depth=2, n_estimators=1000;, score=(train=0.620, test=0.538) total time=   5.2s\n",
      "[CV 1/2] END criterion=entropy, max_depth=2, n_estimators=2000;, score=(train=0.679, test=0.544) total time=   9.8s\n",
      "[CV 2/2] END criterion=entropy, max_depth=2, n_estimators=2000;, score=(train=0.633, test=0.538) total time=  10.9s\n",
      "[CV 1/2] END criterion=entropy, max_depth=2, n_estimators=3000;, score=(train=0.692, test=0.544) total time=  14.2s\n",
      "[CV 2/2] END criterion=entropy, max_depth=2, n_estimators=3000;, score=(train=0.633, test=0.538) total time=  15.6s\n",
      "[CV 1/2] END criterion=entropy, max_depth=3, n_estimators=1000;, score=(train=0.910, test=0.570) total time=   5.9s\n",
      "[CV 2/2] END criterion=entropy, max_depth=3, n_estimators=1000;, score=(train=0.785, test=0.500) total time=   6.4s\n",
      "[CV 1/2] END criterion=entropy, max_depth=3, n_estimators=2000;, score=(train=0.910, test=0.557) total time=  11.7s\n",
      "[CV 2/2] END criterion=entropy, max_depth=3, n_estimators=2000;, score=(train=0.785, test=0.513) total time=  12.8s\n",
      "[CV 1/2] END criterion=entropy, max_depth=3, n_estimators=3000;, score=(train=0.923, test=0.570) total time=  18.5s\n",
      "[CV 2/2] END criterion=entropy, max_depth=3, n_estimators=3000;, score=(train=0.810, test=0.551) total time=  18.2s\n"
     ]
    },
    {
     "data": {
      "text/plain": [
       "GridSearchCV(cv=2, estimator=RandomForestClassifier(max_features=0.2),\n",
       "             param_grid={'criterion': ['gini', 'entropy'], 'max_depth': [2, 3],\n",
       "                         'n_estimators': [1000, 2000, 3000]},\n",
       "             return_train_score=True, verbose=4)"
      ]
     },
     "execution_count": 164,
     "metadata": {},
     "output_type": "execute_result"
    }
   ],
   "source": [
    "max_depth = [2, 3]\n",
    "criterion = ['gini','entropy']\n",
    "n_estimators = [1000, 2000, 3000]\n",
    "\n",
    "params_dict = {\"criterion\":criterion,\n",
    "               \"max_depth\": max_depth,\n",
    "               \"n_estimators\": n_estimators}\n",
    "rf_model = GridSearchCV(estimator=RandomForestClassifier(max_features=0.2),\n",
    "                         param_grid=params_dict,\n",
    "                         cv=2,\n",
    "                         scoring=None,\n",
    "                         return_train_score=True,\n",
    "                         verbose=4)\n",
    "\n",
    "rf_model.fit(X, y)"
   ]
  },
  {
   "cell_type": "code",
   "execution_count": 165,
   "id": "1e1d945a",
   "metadata": {},
   "outputs": [
    {
     "data": {
      "text/plain": [
       "{'criterion': 'entropy', 'max_depth': 3, 'n_estimators': 3000}"
      ]
     },
     "execution_count": 165,
     "metadata": {},
     "output_type": "execute_result"
    }
   ],
   "source": [
    "rf_model.best_params_"
   ]
  },
  {
   "cell_type": "code",
   "execution_count": 175,
   "id": "0c3d9cce",
   "metadata": {},
   "outputs": [],
   "source": [
    "tuned_rf_model = RandomForestClassifier(n_estimators=1000,criterion='gini',max_depth=3,max_features=0.2)\n",
    "tuned_rf_model.fit(X_train,y_train)\n",
    "y_pred_rf =tuned_rf_model.predict(X_val)\n",
    "pred_prob = tuned_rf_model.predict_proba(X_val)"
   ]
  },
  {
   "cell_type": "code",
   "execution_count": 176,
   "id": "c3819a6b",
   "metadata": {},
   "outputs": [
    {
     "data": {
      "image/png": "[encoded data removed]",
      "text/plain": [
       "<Figure size 432x288 with 1 Axes>"
      ]
     },
     "metadata": {
      "needs_background": "light"
     },
     "output_type": "display_data"
    }
   ],
   "source": [
    "from sklearn.preprocessing import label_binarize\n",
    "\n",
    "y_test_binarized=label_binarize(y_val,classes=np.unique(y_val))\n",
    "\n",
    "fpr = {}\n",
    "tpr = {}\n",
    "thresh ={}\n",
    "roc_auc = dict()\n",
    "classes = ['agree', 'disagree', 'discuss', 'unrelated']\n",
    "n_class = 4\n",
    "\n",
    "for i in range(n_class):    \n",
    "    fpr[i], tpr[i], thresh[i] = roc_curve(y_test_binarized[:,i], pred_prob[:,i])\n",
    "    roc_auc[i] = auc(fpr[i], tpr[i])\n",
    "    \n",
    "    # plotting    \n",
    "    plt.plot(fpr[i], tpr[i], linestyle='--', \n",
    "             label='%s vs Rest (AUC=%0.2f)'%(classes[i],roc_auc[i]))\n",
    "\n",
    "plt.plot([0,1],[0,1],'b--')\n",
    "plt.xlim([0,1])\n",
    "plt.ylim([0,1.05])\n",
    "plt.title('Multiclass ROC curve')\n",
    "plt.xlabel('False Positive Rate')\n",
    "plt.ylabel('True Positive rate')\n",
    "plt.legend(loc='lower right')\n",
    "plt.show()"
   ]
  },
  {
   "cell_type": "code",
   "execution_count": 168,
   "id": "b2912406",
   "metadata": {},
   "outputs": [],
   "source": [
    "df = pd.DataFrame()\n",
    "df['y_actual'] = y_val\n",
    "df['y_pred'] = y_pred_rf"
   ]
  },
  {
   "cell_type": "code",
   "execution_count": 169,
   "id": "5d6e23c1",
   "metadata": {},
   "outputs": [
    {
     "data": {
      "text/plain": [
       "0.46875"
      ]
     },
     "execution_count": 169,
     "metadata": {},
     "output_type": "execute_result"
    }
   ],
   "source": [
    "accuracy_score(df['y_actual'],df['y_pred'])"
   ]
  },
  {
   "cell_type": "code",
   "execution_count": 170,
   "id": "4d9559b7",
   "metadata": {},
   "outputs": [
    {
     "name": "stdout",
     "output_type": "stream",
     "text": [
      "              precision    recall  f1-score   support\n",
      "\n",
      "       agree       0.36      0.89      0.52         9\n",
      "    disagree       0.00      0.00      0.00         6\n",
      "     discuss       0.00      0.00      0.00         8\n",
      "   unrelated       0.78      0.78      0.78         9\n",
      "\n",
      "    accuracy                           0.47        32\n",
      "   macro avg       0.29      0.42      0.32        32\n",
      "weighted avg       0.32      0.47      0.36        32\n",
      "\n"
     ]
    },
    {
     "name": "stderr",
     "output_type": "stream",
     "text": [
      "C:\\Users\\fuzel\\anaconda3\\lib\\site-packages\\sklearn\\metrics\\_classification.py:1318: UndefinedMetricWarning: Precision and F-score are ill-defined and being set to 0.0 in labels with no predicted samples. Use `zero_division` parameter to control this behavior.\n",
      "  _warn_prf(average, modifier, msg_start, len(result))\n",
      "C:\\Users\\fuzel\\anaconda3\\lib\\site-packages\\sklearn\\metrics\\_classification.py:1318: UndefinedMetricWarning: Precision and F-score are ill-defined and being set to 0.0 in labels with no predicted samples. Use `zero_division` parameter to control this behavior.\n",
      "  _warn_prf(average, modifier, msg_start, len(result))\n",
      "C:\\Users\\fuzel\\anaconda3\\lib\\site-packages\\sklearn\\metrics\\_classification.py:1318: UndefinedMetricWarning: Precision and F-score are ill-defined and being set to 0.0 in labels with no predicted samples. Use `zero_division` parameter to control this behavior.\n",
      "  _warn_prf(average, modifier, msg_start, len(result))\n"
     ]
    }
   ],
   "source": [
    "print(classification_report(df['y_actual'],df['y_pred'],target_names=target_names))"
   ]
  },
  {
   "cell_type": "code",
   "execution_count": 171,
   "id": "8abd6dc1",
   "metadata": {
    "scrolled": true
   },
   "outputs": [
    {
     "data": {
      "text/plain": [
       "array([[8, 1, 0, 0],\n",
       "       [6, 0, 0, 0],\n",
       "       [6, 0, 0, 2],\n",
       "       [2, 0, 0, 7]], dtype=int64)"
      ]
     },
     "execution_count": 171,
     "metadata": {},
     "output_type": "execute_result"
    }
   ],
   "source": [
    "confusion_matrix(df['y_actual'],df['y_pred'])"
   ]
  },
  {
   "cell_type": "code",
   "execution_count": null,
   "id": "819f232d",
   "metadata": {},
   "outputs": [],
   "source": []
  }
 ],
 "metadata": {
  "kernelspec": {
   "display_name": "Python 3 (ipykernel)",
   "language": "python",
   "name": "python3"
  },
  "language_info": {
   "codemirror_mode": {
    "name": "ipython",
    "version": 3
   },
   "file_extension": ".py",
   "mimetype": "text/x-python",
   "name": "python",
   "nbconvert_exporter": "python",
   "pygments_lexer": "ipython3",
   "version": "3.9.12"
  }
 },
 "nbformat": 4,
 "nbformat_minor": 5
}
