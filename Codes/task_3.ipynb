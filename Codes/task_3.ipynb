{
 "cells": [
  {
   "cell_type": "code",
   "execution_count": 10,
   "id": "db9a7909",
   "metadata": {
    "scrolled": true
   },
   "outputs": [
    {
     "name": "stdout",
     "output_type": "stream",
     "text": [
      "Collecting en-core-web-sm==3.4.1\n",
      "  Downloading https://github.com/explosion/spacy-models/releases/download/en_core_web_sm-3.4.1/en_core_web_sm-3.4.1-py3-none-any.whl (12.8 MB)\n",
      "Requirement already satisfied: spacy<3.5.0,>=3.4.0 in c:\\users\\fuzel\\anaconda3\\lib\\site-packages (from en-core-web-sm==3.4.1) (3.4.2)\n",
      "Requirement already satisfied: typer<0.5.0,>=0.3.0 in c:\\users\\fuzel\\anaconda3\\lib\\site-packages (from spacy<3.5.0,>=3.4.0->en-core-web-sm==3.4.1) (0.4.2)\n",
      "Requirement already satisfied: murmurhash<1.1.0,>=0.28.0 in c:\\users\\fuzel\\anaconda3\\lib\\site-packages (from spacy<3.5.0,>=3.4.0->en-core-web-sm==3.4.1) (1.0.9)\n",
      "Requirement already satisfied: wasabi<1.1.0,>=0.9.1 in c:\\users\\fuzel\\anaconda3\\lib\\site-packages (from spacy<3.5.0,>=3.4.0->en-core-web-sm==3.4.1) (0.10.1)\n",
      "Requirement already satisfied: spacy-loggers<2.0.0,>=1.0.0 in c:\\users\\fuzel\\anaconda3\\lib\\site-packages (from spacy<3.5.0,>=3.4.0->en-core-web-sm==3.4.1) (1.0.3)\n",
      "Requirement already satisfied: cymem<2.1.0,>=2.0.2 in c:\\users\\fuzel\\anaconda3\\lib\\site-packages (from spacy<3.5.0,>=3.4.0->en-core-web-sm==3.4.1) (2.0.7)\n",
      "Requirement already satisfied: pydantic!=1.8,!=1.8.1,<1.11.0,>=1.7.4 in c:\\users\\fuzel\\anaconda3\\lib\\site-packages (from spacy<3.5.0,>=3.4.0->en-core-web-sm==3.4.1) (1.10.2)\n",
      "Requirement already satisfied: pathy>=0.3.5 in c:\\users\\fuzel\\anaconda3\\lib\\site-packages (from spacy<3.5.0,>=3.4.0->en-core-web-sm==3.4.1) (0.6.2)\n",
      "Requirement already satisfied: tqdm<5.0.0,>=4.38.0 in c:\\users\\fuzel\\anaconda3\\lib\\site-packages (from spacy<3.5.0,>=3.4.0->en-core-web-sm==3.4.1) (4.64.0)\n",
      "Requirement already satisfied: catalogue<2.1.0,>=2.0.6 in c:\\users\\fuzel\\anaconda3\\lib\\site-packages (from spacy<3.5.0,>=3.4.0->en-core-web-sm==3.4.1) (2.0.8)\n",
      "Requirement already satisfied: spacy-legacy<3.1.0,>=3.0.10 in c:\\users\\fuzel\\anaconda3\\lib\\site-packages (from spacy<3.5.0,>=3.4.0->en-core-web-sm==3.4.1) (3.0.10)\n",
      "Requirement already satisfied: preshed<3.1.0,>=3.0.2 in c:\\users\\fuzel\\anaconda3\\lib\\site-packages (from spacy<3.5.0,>=3.4.0->en-core-web-sm==3.4.1) (3.0.8)\n",
      "Requirement already satisfied: thinc<8.2.0,>=8.1.0 in c:\\users\\fuzel\\anaconda3\\lib\\site-packages (from spacy<3.5.0,>=3.4.0->en-core-web-sm==3.4.1) (8.1.5)\n",
      "Requirement already satisfied: jinja2 in c:\\users\\fuzel\\anaconda3\\lib\\site-packages (from spacy<3.5.0,>=3.4.0->en-core-web-sm==3.4.1) (2.11.3)\n",
      "Requirement already satisfied: requests<3.0.0,>=2.13.0 in c:\\users\\fuzel\\anaconda3\\lib\\site-packages (from spacy<3.5.0,>=3.4.0->en-core-web-sm==3.4.1) (2.27.1)\n",
      "Requirement already satisfied: packaging>=20.0 in c:\\users\\fuzel\\anaconda3\\lib\\site-packages (from spacy<3.5.0,>=3.4.0->en-core-web-sm==3.4.1) (21.3)\n",
      "Requirement already satisfied: setuptools in c:\\users\\fuzel\\anaconda3\\lib\\site-packages (from spacy<3.5.0,>=3.4.0->en-core-web-sm==3.4.1) (61.2.0)\n",
      "Requirement already satisfied: langcodes<4.0.0,>=3.2.0 in c:\\users\\fuzel\\anaconda3\\lib\\site-packages (from spacy<3.5.0,>=3.4.0->en-core-web-sm==3.4.1) (3.3.0)\n",
      "Requirement already satisfied: srsly<3.0.0,>=2.4.3 in c:\\users\\fuzel\\anaconda3\\lib\\site-packages (from spacy<3.5.0,>=3.4.0->en-core-web-sm==3.4.1) (2.4.5)\n",
      "Requirement already satisfied: numpy>=1.15.0 in c:\\users\\fuzel\\anaconda3\\lib\\site-packages (from spacy<3.5.0,>=3.4.0->en-core-web-sm==3.4.1) (1.21.5)\n",
      "Requirement already satisfied: pyparsing!=3.0.5,>=2.0.2 in c:\\users\\fuzel\\anaconda3\\lib\\site-packages (from packaging>=20.0->spacy<3.5.0,>=3.4.0->en-core-web-sm==3.4.1) (3.0.4)\n",
      "Requirement already satisfied: smart-open<6.0.0,>=5.2.1 in c:\\users\\fuzel\\anaconda3\\lib\\site-packages (from pathy>=0.3.5->spacy<3.5.0,>=3.4.0->en-core-web-sm==3.4.1) (5.2.1)\n",
      "Requirement already satisfied: typing-extensions>=4.1.0 in c:\\users\\fuzel\\anaconda3\\lib\\site-packages (from pydantic!=1.8,!=1.8.1,<1.11.0,>=1.7.4->spacy<3.5.0,>=3.4.0->en-core-web-sm==3.4.1) (4.1.1)\n",
      "Requirement already satisfied: charset-normalizer~=2.0.0 in c:\\users\\fuzel\\anaconda3\\lib\\site-packages (from requests<3.0.0,>=2.13.0->spacy<3.5.0,>=3.4.0->en-core-web-sm==3.4.1) (2.0.4)\n",
      "Requirement already satisfied: urllib3<1.27,>=1.21.1 in c:\\users\\fuzel\\anaconda3\\lib\\site-packages (from requests<3.0.0,>=2.13.0->spacy<3.5.0,>=3.4.0->en-core-web-sm==3.4.1) (1.26.9)\n",
      "Requirement already satisfied: idna<4,>=2.5 in c:\\users\\fuzel\\anaconda3\\lib\\site-packages (from requests<3.0.0,>=2.13.0->spacy<3.5.0,>=3.4.0->en-core-web-sm==3.4.1) (3.3)\n",
      "Requirement already satisfied: certifi>=2017.4.17 in c:\\users\\fuzel\\anaconda3\\lib\\site-packages (from requests<3.0.0,>=2.13.0->spacy<3.5.0,>=3.4.0->en-core-web-sm==3.4.1) (2021.10.8)\n",
      "Requirement already satisfied: blis<0.8.0,>=0.7.8 in c:\\users\\fuzel\\anaconda3\\lib\\site-packages (from thinc<8.2.0,>=8.1.0->spacy<3.5.0,>=3.4.0->en-core-web-sm==3.4.1) (0.7.9)\n",
      "Requirement already satisfied: confection<1.0.0,>=0.0.1 in c:\\users\\fuzel\\anaconda3\\lib\\site-packages (from thinc<8.2.0,>=8.1.0->spacy<3.5.0,>=3.4.0->en-core-web-sm==3.4.1) (0.0.3)\n",
      "Requirement already satisfied: colorama in c:\\users\\fuzel\\anaconda3\\lib\\site-packages (from tqdm<5.0.0,>=4.38.0->spacy<3.5.0,>=3.4.0->en-core-web-sm==3.4.1) (0.4.4)\n",
      "Requirement already satisfied: click<9.0.0,>=7.1.1 in c:\\users\\fuzel\\anaconda3\\lib\\site-packages (from typer<0.5.0,>=0.3.0->spacy<3.5.0,>=3.4.0->en-core-web-sm==3.4.1) (8.0.4)\n",
      "Requirement already satisfied: MarkupSafe>=0.23 in c:\\users\\fuzel\\anaconda3\\lib\\site-packages (from jinja2->spacy<3.5.0,>=3.4.0->en-core-web-sm==3.4.1) (2.0.1)\n",
      "Installing collected packages: en-core-web-sm\n",
      "Successfully installed en-core-web-sm-3.4.1\n",
      "[+] Download and installation successful\n",
      "You can now load the package via spacy.load('en_core_web_sm')\n"
     ]
    },
    {
     "name": "stderr",
     "output_type": "stream",
     "text": [
      "2022-10-29 15:27:36.850694: W tensorflow/stream_executor/platform/default/dso_loader.cc:64] Could not load dynamic library 'cudart64_110.dll'; dlerror: cudart64_110.dll not found\n",
      "2022-10-29 15:27:36.850789: I tensorflow/stream_executor/cuda/cudart_stub.cc:29] Ignore above cudart dlerror if you do not have a GPU set up on your machine.\n",
      "2022-10-29 15:27:41.907516: W tensorflow/stream_executor/platform/default/dso_loader.cc:64] Could not load dynamic library 'nvcuda.dll'; dlerror: nvcuda.dll not found\n",
      "2022-10-29 15:27:41.907554: W tensorflow/stream_executor/cuda/cuda_driver.cc:263] failed call to cuInit: UNKNOWN ERROR (303)\n",
      "2022-10-29 15:27:41.913394: I tensorflow/stream_executor/cuda/cuda_diagnostics.cc:169] retrieving CUDA diagnostic information for host: Fuzel\n",
      "2022-10-29 15:27:41.913626: I tensorflow/stream_executor/cuda/cuda_diagnostics.cc:176] hostname: Fuzel\n"
     ]
    }
   ],
   "source": [
    "!python -m spacy download en_core_web_sm"
   ]
  },
  {
   "cell_type": "code",
   "execution_count": 8,
   "id": "5bf7a229",
   "metadata": {
    "scrolled": true
   },
   "outputs": [
    {
     "name": "stdout",
     "output_type": "stream",
     "text": [
      "Collecting negspacy\n",
      "  Downloading negspacy-1.0.3.tar.gz (11 kB)\n",
      "Requirement already satisfied: spacy<4.0.0,>=3.0.1 in c:\\users\\fuzel\\anaconda3\\lib\\site-packages (from negspacy) (3.4.2)\n",
      "Requirement already satisfied: wasabi<1.1.0,>=0.9.1 in c:\\users\\fuzel\\anaconda3\\lib\\site-packages (from spacy<4.0.0,>=3.0.1->negspacy) (0.10.1)\n",
      "Requirement already satisfied: murmurhash<1.1.0,>=0.28.0 in c:\\users\\fuzel\\anaconda3\\lib\\site-packages (from spacy<4.0.0,>=3.0.1->negspacy) (1.0.9)\n",
      "Requirement already satisfied: requests<3.0.0,>=2.13.0 in c:\\users\\fuzel\\anaconda3\\lib\\site-packages (from spacy<4.0.0,>=3.0.1->negspacy) (2.27.1)\n",
      "Requirement already satisfied: langcodes<4.0.0,>=3.2.0 in c:\\users\\fuzel\\anaconda3\\lib\\site-packages (from spacy<4.0.0,>=3.0.1->negspacy) (3.3.0)\n",
      "Requirement already satisfied: setuptools in c:\\users\\fuzel\\anaconda3\\lib\\site-packages (from spacy<4.0.0,>=3.0.1->negspacy) (61.2.0)\n",
      "Requirement already satisfied: cymem<2.1.0,>=2.0.2 in c:\\users\\fuzel\\anaconda3\\lib\\site-packages (from spacy<4.0.0,>=3.0.1->negspacy) (2.0.7)\n",
      "Requirement already satisfied: catalogue<2.1.0,>=2.0.6 in c:\\users\\fuzel\\anaconda3\\lib\\site-packages (from spacy<4.0.0,>=3.0.1->negspacy) (2.0.8)\n",
      "Requirement already satisfied: packaging>=20.0 in c:\\users\\fuzel\\anaconda3\\lib\\site-packages (from spacy<4.0.0,>=3.0.1->negspacy) (21.3)\n",
      "Requirement already satisfied: pathy>=0.3.5 in c:\\users\\fuzel\\anaconda3\\lib\\site-packages (from spacy<4.0.0,>=3.0.1->negspacy) (0.6.2)\n",
      "Requirement already satisfied: spacy-loggers<2.0.0,>=1.0.0 in c:\\users\\fuzel\\anaconda3\\lib\\site-packages (from spacy<4.0.0,>=3.0.1->negspacy) (1.0.3)\n",
      "Requirement already satisfied: thinc<8.2.0,>=8.1.0 in c:\\users\\fuzel\\anaconda3\\lib\\site-packages (from spacy<4.0.0,>=3.0.1->negspacy) (8.1.5)\n",
      "Requirement already satisfied: tqdm<5.0.0,>=4.38.0 in c:\\users\\fuzel\\anaconda3\\lib\\site-packages (from spacy<4.0.0,>=3.0.1->negspacy) (4.64.0)\n",
      "Requirement already satisfied: preshed<3.1.0,>=3.0.2 in c:\\users\\fuzel\\anaconda3\\lib\\site-packages (from spacy<4.0.0,>=3.0.1->negspacy) (3.0.8)\n",
      "Requirement already satisfied: spacy-legacy<3.1.0,>=3.0.10 in c:\\users\\fuzel\\anaconda3\\lib\\site-packages (from spacy<4.0.0,>=3.0.1->negspacy) (3.0.10)\n",
      "Requirement already satisfied: pydantic!=1.8,!=1.8.1,<1.11.0,>=1.7.4 in c:\\users\\fuzel\\anaconda3\\lib\\site-packages (from spacy<4.0.0,>=3.0.1->negspacy) (1.10.2)\n",
      "Requirement already satisfied: jinja2 in c:\\users\\fuzel\\anaconda3\\lib\\site-packages (from spacy<4.0.0,>=3.0.1->negspacy) (2.11.3)\n",
      "Requirement already satisfied: typer<0.5.0,>=0.3.0 in c:\\users\\fuzel\\anaconda3\\lib\\site-packages (from spacy<4.0.0,>=3.0.1->negspacy) (0.4.2)\n",
      "Requirement already satisfied: numpy>=1.15.0 in c:\\users\\fuzel\\anaconda3\\lib\\site-packages (from spacy<4.0.0,>=3.0.1->negspacy) (1.21.5)\n",
      "Requirement already satisfied: srsly<3.0.0,>=2.4.3 in c:\\users\\fuzel\\anaconda3\\lib\\site-packages (from spacy<4.0.0,>=3.0.1->negspacy) (2.4.5)\n",
      "Requirement already satisfied: pyparsing!=3.0.5,>=2.0.2 in c:\\users\\fuzel\\anaconda3\\lib\\site-packages (from packaging>=20.0->spacy<4.0.0,>=3.0.1->negspacy) (3.0.4)\n",
      "Requirement already satisfied: smart-open<6.0.0,>=5.2.1 in c:\\users\\fuzel\\anaconda3\\lib\\site-packages (from pathy>=0.3.5->spacy<4.0.0,>=3.0.1->negspacy) (5.2.1)\n",
      "Requirement already satisfied: typing-extensions>=4.1.0 in c:\\users\\fuzel\\anaconda3\\lib\\site-packages (from pydantic!=1.8,!=1.8.1,<1.11.0,>=1.7.4->spacy<4.0.0,>=3.0.1->negspacy) (4.1.1)\n",
      "Requirement already satisfied: certifi>=2017.4.17 in c:\\users\\fuzel\\anaconda3\\lib\\site-packages (from requests<3.0.0,>=2.13.0->spacy<4.0.0,>=3.0.1->negspacy) (2021.10.8)\n",
      "Requirement already satisfied: urllib3<1.27,>=1.21.1 in c:\\users\\fuzel\\anaconda3\\lib\\site-packages (from requests<3.0.0,>=2.13.0->spacy<4.0.0,>=3.0.1->negspacy) (1.26.9)\n",
      "Requirement already satisfied: charset-normalizer~=2.0.0 in c:\\users\\fuzel\\anaconda3\\lib\\site-packages (from requests<3.0.0,>=2.13.0->spacy<4.0.0,>=3.0.1->negspacy) (2.0.4)\n",
      "Requirement already satisfied: idna<4,>=2.5 in c:\\users\\fuzel\\anaconda3\\lib\\site-packages (from requests<3.0.0,>=2.13.0->spacy<4.0.0,>=3.0.1->negspacy) (3.3)\n",
      "Requirement already satisfied: blis<0.8.0,>=0.7.8 in c:\\users\\fuzel\\anaconda3\\lib\\site-packages (from thinc<8.2.0,>=8.1.0->spacy<4.0.0,>=3.0.1->negspacy) (0.7.9)\n",
      "Requirement already satisfied: confection<1.0.0,>=0.0.1 in c:\\users\\fuzel\\anaconda3\\lib\\site-packages (from thinc<8.2.0,>=8.1.0->spacy<4.0.0,>=3.0.1->negspacy) (0.0.3)\n",
      "Requirement already satisfied: colorama in c:\\users\\fuzel\\anaconda3\\lib\\site-packages (from tqdm<5.0.0,>=4.38.0->spacy<4.0.0,>=3.0.1->negspacy) (0.4.4)\n",
      "Requirement already satisfied: click<9.0.0,>=7.1.1 in c:\\users\\fuzel\\anaconda3\\lib\\site-packages (from typer<0.5.0,>=0.3.0->spacy<4.0.0,>=3.0.1->negspacy) (8.0.4)\n",
      "Requirement already satisfied: MarkupSafe>=0.23 in c:\\users\\fuzel\\anaconda3\\lib\\site-packages (from jinja2->spacy<4.0.0,>=3.0.1->negspacy) (2.0.1)\n",
      "Building wheels for collected packages: negspacy\n",
      "  Building wheel for negspacy (setup.py): started\n",
      "  Building wheel for negspacy (setup.py): finished with status 'done'\n",
      "  Created wheel for negspacy: filename=negspacy-1.0.3-py3-none-any.whl size=10434 sha256=3ffa193a3fb3b5fd88f4b5007242c591ac3a4296643622d27bb9374fb7b0915e\n",
      "  Stored in directory: c:\\users\\fuzel\\appdata\\local\\pip\\cache\\wheels\\ec\\4b\\5b\\ae823d4b232c1342724ec93edab9f3dca6403679d93e0daa25\n",
      "Successfully built negspacy\n",
      "Installing collected packages: negspacy\n",
      "Successfully installed negspacy-1.0.3\n"
     ]
    }
   ],
   "source": [
    "!pip install negspacy"
   ]
  },
  {
   "cell_type": "code",
   "execution_count": 6,
   "id": "6212fae3",
   "metadata": {
    "scrolled": true
   },
   "outputs": [
    {
     "name": "stdout",
     "output_type": "stream",
     "text": [
      "Collecting spacy\n",
      "  Downloading spacy-3.4.2-cp39-cp39-win_amd64.whl (11.9 MB)\n",
      "Requirement already satisfied: tqdm<5.0.0,>=4.38.0 in c:\\users\\fuzel\\anaconda3\\lib\\site-packages (from spacy) (4.64.0)\n",
      "Collecting catalogue<2.1.0,>=2.0.6\n",
      "  Downloading catalogue-2.0.8-py3-none-any.whl (17 kB)\n",
      "Collecting thinc<8.2.0,>=8.1.0\n",
      "  Downloading thinc-8.1.5-cp39-cp39-win_amd64.whl (1.3 MB)\n",
      "Collecting pydantic!=1.8,!=1.8.1,<1.11.0,>=1.7.4\n",
      "  Downloading pydantic-1.10.2-cp39-cp39-win_amd64.whl (2.1 MB)\n",
      "Collecting pathy>=0.3.5\n",
      "  Downloading pathy-0.6.2-py3-none-any.whl (42 kB)\n",
      "Collecting preshed<3.1.0,>=3.0.2\n",
      "  Downloading preshed-3.0.8-cp39-cp39-win_amd64.whl (96 kB)\n",
      "Collecting spacy-loggers<2.0.0,>=1.0.0\n",
      "  Downloading spacy_loggers-1.0.3-py3-none-any.whl (9.3 kB)\n",
      "Collecting srsly<3.0.0,>=2.4.3\n",
      "  Downloading srsly-2.4.5-cp39-cp39-win_amd64.whl (481 kB)\n",
      "Collecting spacy-legacy<3.1.0,>=3.0.10\n",
      "  Downloading spacy_legacy-3.0.10-py2.py3-none-any.whl (21 kB)\n",
      "Requirement already satisfied: setuptools in c:\\users\\fuzel\\anaconda3\\lib\\site-packages (from spacy) (61.2.0)\n",
      "Collecting langcodes<4.0.0,>=3.2.0\n",
      "  Downloading langcodes-3.3.0-py3-none-any.whl (181 kB)\n",
      "Requirement already satisfied: jinja2 in c:\\users\\fuzel\\anaconda3\\lib\\site-packages (from spacy) (2.11.3)\n",
      "Collecting cymem<2.1.0,>=2.0.2\n",
      "  Downloading cymem-2.0.7-cp39-cp39-win_amd64.whl (30 kB)\n",
      "Collecting murmurhash<1.1.0,>=0.28.0\n",
      "  Downloading murmurhash-1.0.9-cp39-cp39-win_amd64.whl (18 kB)\n",
      "Requirement already satisfied: packaging>=20.0 in c:\\users\\fuzel\\anaconda3\\lib\\site-packages (from spacy) (21.3)\n",
      "Requirement already satisfied: requests<3.0.0,>=2.13.0 in c:\\users\\fuzel\\anaconda3\\lib\\site-packages (from spacy) (2.27.1)\n",
      "Collecting wasabi<1.1.0,>=0.9.1\n",
      "  Downloading wasabi-0.10.1-py3-none-any.whl (26 kB)\n",
      "Requirement already satisfied: numpy>=1.15.0 in c:\\users\\fuzel\\anaconda3\\lib\\site-packages (from spacy) (1.21.5)\n",
      "Collecting typer<0.5.0,>=0.3.0\n",
      "  Downloading typer-0.4.2-py3-none-any.whl (27 kB)\n",
      "Requirement already satisfied: pyparsing!=3.0.5,>=2.0.2 in c:\\users\\fuzel\\anaconda3\\lib\\site-packages (from packaging>=20.0->spacy) (3.0.4)\n",
      "Collecting smart-open<6.0.0,>=5.2.1\n",
      "  Downloading smart_open-5.2.1-py3-none-any.whl (58 kB)\n",
      "Requirement already satisfied: typing-extensions>=4.1.0 in c:\\users\\fuzel\\anaconda3\\lib\\site-packages (from pydantic!=1.8,!=1.8.1,<1.11.0,>=1.7.4->spacy) (4.1.1)\n",
      "Requirement already satisfied: urllib3<1.27,>=1.21.1 in c:\\users\\fuzel\\anaconda3\\lib\\site-packages (from requests<3.0.0,>=2.13.0->spacy) (1.26.9)\n",
      "Requirement already satisfied: certifi>=2017.4.17 in c:\\users\\fuzel\\anaconda3\\lib\\site-packages (from requests<3.0.0,>=2.13.0->spacy) (2021.10.8)\n",
      "Requirement already satisfied: charset-normalizer~=2.0.0 in c:\\users\\fuzel\\anaconda3\\lib\\site-packages (from requests<3.0.0,>=2.13.0->spacy) (2.0.4)\n",
      "Requirement already satisfied: idna<4,>=2.5 in c:\\users\\fuzel\\anaconda3\\lib\\site-packages (from requests<3.0.0,>=2.13.0->spacy) (3.3)\n",
      "Collecting confection<1.0.0,>=0.0.1\n",
      "  Downloading confection-0.0.3-py3-none-any.whl (32 kB)\n",
      "Collecting blis<0.8.0,>=0.7.8\n",
      "  Downloading blis-0.7.9-cp39-cp39-win_amd64.whl (7.0 MB)\n",
      "Requirement already satisfied: colorama in c:\\users\\fuzel\\anaconda3\\lib\\site-packages (from tqdm<5.0.0,>=4.38.0->spacy) (0.4.4)\n",
      "Requirement already satisfied: click<9.0.0,>=7.1.1 in c:\\users\\fuzel\\anaconda3\\lib\\site-packages (from typer<0.5.0,>=0.3.0->spacy) (8.0.4)\n",
      "Requirement already satisfied: MarkupSafe>=0.23 in c:\\users\\fuzel\\anaconda3\\lib\\site-packages (from jinja2->spacy) (2.0.1)\n",
      "Installing collected packages: catalogue, srsly, pydantic, murmurhash, cymem, wasabi, typer, smart-open, preshed, confection, blis, thinc, spacy-loggers, spacy-legacy, pathy, langcodes, spacy\n",
      "  Attempting uninstall: smart-open\n",
      "    Found existing installation: smart-open 5.1.0\n",
      "    Uninstalling smart-open-5.1.0:\n",
      "      Successfully uninstalled smart-open-5.1.0\n",
      "Successfully installed blis-0.7.9 catalogue-2.0.8 confection-0.0.3 cymem-2.0.7 langcodes-3.3.0 murmurhash-1.0.9 pathy-0.6.2 preshed-3.0.8 pydantic-1.10.2 smart-open-5.2.1 spacy-3.4.2 spacy-legacy-3.0.10 spacy-loggers-1.0.3 srsly-2.4.5 thinc-8.1.5 typer-0.4.2 wasabi-0.10.1\n"
     ]
    }
   ],
   "source": [
    "!pip install spacy"
   ]
  },
  {
   "cell_type": "code",
   "execution_count": 60,
   "id": "c1e7cfde",
   "metadata": {},
   "outputs": [],
   "source": [
    "import pandas as pd\n",
    "import nltk\n",
    "from nltk.corpus import stopwords\n",
    "from nltk.tokenize import word_tokenize\n",
    "import collections\n",
    "import re\n",
    "from nltk.stem.porter import PorterStemmer\n",
    "from sklearn.metrics import accuracy_score, classification_report\n",
    "import spacy\n",
    "from negspacy.negation import Negex"
   ]
  },
  {
   "cell_type": "code",
   "execution_count": 3,
   "id": "c5a56083",
   "metadata": {
    "scrolled": true
   },
   "outputs": [],
   "source": [
    "stop_words = set(stopwords.words('english'))"
   ]
  },
  {
   "cell_type": "code",
   "execution_count": 26,
   "id": "4cbaf8ba",
   "metadata": {},
   "outputs": [],
   "source": [
    "l = [\"haven't\",\"hadn't\",\"not\",\"don't\",\"aren't\",\"less\",\"none\",\"couldn't\",\"doesn't\",\"hasn't\",\"isn't\",\"mightn't\",\"mustn't\",\"needn't\",\"shan't\",\"shouldn't\",\"wasn't\",\"weren't\",\"won't\",\"wouldn't\",\"\"]\n",
    "for w in l:\n",
    "    try:\n",
    "        stop_words.remove(w)\n",
    "    except:\n",
    "        pass"
   ]
  },
  {
   "cell_type": "code",
   "execution_count": 13,
   "id": "607cfda8",
   "metadata": {},
   "outputs": [
    {
     "data": {
      "text/plain": [
       "<negspacy.negation.Negex at 0x1e6f8667610>"
      ]
     },
     "execution_count": 13,
     "metadata": {},
     "output_type": "execute_result"
    }
   ],
   "source": [
    "nlp = spacy.load(\"en_core_web_sm\")\n",
    "nlp.add_pipe(\"negex\", config={\"ent_types\":[\"PERSON\",\"ORG\"]})"
   ]
  },
  {
   "cell_type": "code",
   "execution_count": 54,
   "id": "509fe0dc",
   "metadata": {
    "scrolled": true
   },
   "outputs": [
    {
     "data": {
      "text/html": [
       "<div>\n",
       "<style scoped>\n",
       "    .dataframe tbody tr th:only-of-type {\n",
       "        vertical-align: middle;\n",
       "    }\n",
       "\n",
       "    .dataframe tbody tr th {\n",
       "        vertical-align: top;\n",
       "    }\n",
       "\n",
       "    .dataframe thead th {\n",
       "        text-align: right;\n",
       "    }\n",
       "</style>\n",
       "<table border=\"1\" class=\"dataframe\">\n",
       "  <thead>\n",
       "    <tr style=\"text-align: right;\">\n",
       "      <th></th>\n",
       "      <th>Headline</th>\n",
       "      <th>Stance</th>\n",
       "      <th>Body ID</th>\n",
       "      <th>articleBody</th>\n",
       "    </tr>\n",
       "  </thead>\n",
       "  <tbody>\n",
       "    <tr>\n",
       "      <th>0</th>\n",
       "      <td>Elon Musk says a global recession could last u...</td>\n",
       "      <td>agree</td>\n",
       "      <td>1</td>\n",
       "      <td>Tesla founder and CEO Elon Musk thinks the glo...</td>\n",
       "    </tr>\n",
       "    <tr>\n",
       "      <th>1</th>\n",
       "      <td>Heres how venture capital is helping to lift ...</td>\n",
       "      <td>discuss</td>\n",
       "      <td>2</td>\n",
       "      <td>Even though Latinos are the second-largest eth...</td>\n",
       "    </tr>\n",
       "    <tr>\n",
       "      <th>2</th>\n",
       "      <td>U.S. GDP accelerated at 2.6% pace in Q3, bette...</td>\n",
       "      <td>agree</td>\n",
       "      <td>3</td>\n",
       "      <td>The U.S. economy posted its first period of po...</td>\n",
       "    </tr>\n",
       "    <tr>\n",
       "      <th>3</th>\n",
       "      <td>Tatas, Lockheed Martin in talks to make Sikors...</td>\n",
       "      <td>discuss</td>\n",
       "      <td>4</td>\n",
       "      <td>The Tatas are in talks with Lockheed Martin fo...</td>\n",
       "    </tr>\n",
       "    <tr>\n",
       "      <th>4</th>\n",
       "      <td>U.S. GDP bounces back but economic outlook rem...</td>\n",
       "      <td>agree</td>\n",
       "      <td>5</td>\n",
       "      <td>The Commerce Department analysis found U.S. gr...</td>\n",
       "    </tr>\n",
       "    <tr>\n",
       "      <th>...</th>\n",
       "      <td>...</td>\n",
       "      <td>...</td>\n",
       "      <td>...</td>\n",
       "      <td>...</td>\n",
       "    </tr>\n",
       "    <tr>\n",
       "      <th>195</th>\n",
       "      <td>Britains Broken Capitalism Model and the Poli...</td>\n",
       "      <td>discuss</td>\n",
       "      <td>196</td>\n",
       "      <td>New Prime Minister Liz Truss has dominated hea...</td>\n",
       "    </tr>\n",
       "    <tr>\n",
       "      <th>196</th>\n",
       "      <td>How Private Investors Mortgaged UKs Utilities...</td>\n",
       "      <td>discuss</td>\n",
       "      <td>197</td>\n",
       "      <td>Theres no Magic Money Tree, Theresa May famou...</td>\n",
       "    </tr>\n",
       "    <tr>\n",
       "      <th>197</th>\n",
       "      <td>Economic Sobering Predictions</td>\n",
       "      <td>discuss</td>\n",
       "      <td>198</td>\n",
       "      <td>This article was written by the Economic Times...</td>\n",
       "    </tr>\n",
       "    <tr>\n",
       "      <th>198</th>\n",
       "      <td>Survey: Half Of Social Workers Thinking Of Qui...</td>\n",
       "      <td>discuss</td>\n",
       "      <td>199</td>\n",
       "      <td>Nearly half (49 per cent) of social workers sa...</td>\n",
       "    </tr>\n",
       "    <tr>\n",
       "      <th>199</th>\n",
       "      <td>Study: School absence now persistently one in ...</td>\n",
       "      <td>discuss</td>\n",
       "      <td>200</td>\n",
       "      <td>A new report on school absence by Englands Ch...</td>\n",
       "    </tr>\n",
       "  </tbody>\n",
       "</table>\n",
       "<p>200 rows × 4 columns</p>\n",
       "</div>"
      ],
      "text/plain": [
       "                                              Headline   Stance  Body ID  \\\n",
       "0    Elon Musk says a global recession could last u...    agree        1   \n",
       "1    Heres how venture capital is helping to lift ...  discuss        2   \n",
       "2    U.S. GDP accelerated at 2.6% pace in Q3, bette...    agree        3   \n",
       "3    Tatas, Lockheed Martin in talks to make Sikors...  discuss        4   \n",
       "4    U.S. GDP bounces back but economic outlook rem...    agree        5   \n",
       "..                                                 ...      ...      ...   \n",
       "195  Britains Broken Capitalism Model and the Poli...  discuss      196   \n",
       "196  How Private Investors Mortgaged UKs Utilities...  discuss      197   \n",
       "197                      Economic Sobering Predictions  discuss      198   \n",
       "198  Survey: Half Of Social Workers Thinking Of Qui...  discuss      199   \n",
       "199  Study: School absence now persistently one in ...  discuss      200   \n",
       "\n",
       "                                           articleBody  \n",
       "0    Tesla founder and CEO Elon Musk thinks the glo...  \n",
       "1    Even though Latinos are the second-largest eth...  \n",
       "2    The U.S. economy posted its first period of po...  \n",
       "3    The Tatas are in talks with Lockheed Martin fo...  \n",
       "4    The Commerce Department analysis found U.S. gr...  \n",
       "..                                                 ...  \n",
       "195  New Prime Minister Liz Truss has dominated hea...  \n",
       "196  Theres no Magic Money Tree, Theresa May famou...  \n",
       "197  This article was written by the Economic Times...  \n",
       "198  Nearly half (49 per cent) of social workers sa...  \n",
       "199  A new report on school absence by Englands Ch...  \n",
       "\n",
       "[200 rows x 4 columns]"
      ]
     },
     "execution_count": 54,
     "metadata": {},
     "output_type": "execute_result"
    }
   ],
   "source": [
    "#df1 = pd.read_csv('Corona_Bodies.csv',encoding='latin-1')\n",
    "#df2 = pd.read_csv('Corona_stance.csv',encoding='latin-1')\n",
    "#combined_df = df2\n",
    "#combined_df['articleBody'] = df1['articleBody']\n",
    "#combined_df\n",
    "\n",
    "df1 = pd.read_csv('Economic_Bodies.csv',encoding='latin-1')\n",
    "df2 = pd.read_csv('Economic_Stance.csv',encoding='latin-1')\n",
    "combined_df = df2\n",
    "combined_df['articleBody'] = df1['articleBody']\n",
    "combined_df"
   ]
  },
  {
   "cell_type": "code",
   "execution_count": 55,
   "id": "88f03628",
   "metadata": {},
   "outputs": [],
   "source": [
    "a = []\n",
    "b = []\n",
    "c = []\n",
    "count = 0\n",
    "ps = PorterStemmer()\n",
    "for _id in range(0,combined_df.shape[0]):\n",
    "    head_line = combined_df.iloc[_id]['Headline']\n",
    "    art_body = combined_df.iloc[_id]['articleBody']\n",
    "    head_line = re.sub(r\"\\n|\\'|-|,|\\)|\\(|\\:|\\?|@|‘|’|\\*|\\\"|\\$\",'',head_line)\n",
    "    head_line = ' '.join([i for i in head_line.split(' ') if i not in stop_words])\n",
    "    head_line = ' '.join([ps.stem(i) for i in head_line.split(' ')])\n",
    "    art_body = re.sub(r\"\\n|\\'|-|,|\\)|\\(|\\:|\\?|@|‘|’|\\*|\\\"|\\$\",'',art_body)\n",
    "    art_body = ' '.join([i.lower() for i in art_body.split(' ') if i not in stop_words])\n",
    "    art_body = ' '.join([ps.stem(i) for i in art_body.split(' ')])\n",
    "    article_counter = collections.Counter(art_body)\n",
    "    neg_body = []\n",
    "    doc1 = nlp(art_body)\n",
    "    for e in doc1.ents:\n",
    "        neg_body.append(tuple([e.text,str(e._.negex)]))\n",
    "    neg_head_line = []\n",
    "    doc = nlp(head_line)\n",
    "    for e in doc.ents:\n",
    "        neg_head_line.append(tuple([e.text,str(e._.negex)]))\n",
    "    count = 0\n",
    "    head_line_counter = collections.Counter(head_line)\n",
    "    try:\n",
    "        for k in head_line_counter.keys():\n",
    "            count = count+article_counter[k]\n",
    "    except:\n",
    "        count = count + 0\n",
    "    if count<=1:\n",
    "        a.append(head_line)\n",
    "        b.append(art_body)\n",
    "        c.append('unrelated')\n",
    "    else:\n",
    "        if count>=len(head_line) and count>=5:\n",
    "            a.append(head_line)\n",
    "            b.append(art_body)\n",
    "            c.append('agree')\n",
    "        elif count<len(head_line) and count >= 2:\n",
    "            a.append(head_line)\n",
    "            b.append(art_body)\n",
    "            c.append('discuss')\n",
    "        else:\n",
    "            for index, tup in enumerate(neg_head_line):\n",
    "                for i,j in enumerate(neg_body):\n",
    "                    if index == i:\n",
    "                        if tup != j:\n",
    "                            a.append(head_line)\n",
    "                            b.append(art_body)\n",
    "                            c.append('disagree')"
   ]
  },
  {
   "cell_type": "code",
   "execution_count": 56,
   "id": "f31ba5d1",
   "metadata": {},
   "outputs": [],
   "source": [
    "df = pd.DataFrame()\n",
    "df['Headline'] = a\n",
    "df['articleBody'] = b\n",
    "df['Stance'] = c"
   ]
  },
  {
   "cell_type": "code",
   "execution_count": 57,
   "id": "f207d291",
   "metadata": {},
   "outputs": [
    {
     "data": {
      "text/plain": [
       "array(['agree', 'discuss'], dtype=object)"
      ]
     },
     "execution_count": 57,
     "metadata": {},
     "output_type": "execute_result"
    }
   ],
   "source": [
    "df['Stance'].unique()"
   ]
  },
  {
   "cell_type": "code",
   "execution_count": 58,
   "id": "da689705",
   "metadata": {
    "scrolled": true
   },
   "outputs": [
    {
     "data": {
      "text/plain": [
       "0.25"
      ]
     },
     "execution_count": 58,
     "metadata": {},
     "output_type": "execute_result"
    }
   ],
   "source": [
    "accuracy_score(combined_df['Stance'],df['Stance'])"
   ]
  },
  {
   "cell_type": "code",
   "execution_count": 61,
   "id": "c53d319b",
   "metadata": {},
   "outputs": [
    {
     "name": "stdout",
     "output_type": "stream",
     "text": [
      "              precision    recall  f1-score   support\n",
      "\n",
      "       agree       0.25      1.00      0.40        50\n",
      "    disagree       0.00      0.00      0.00        50\n",
      "     discuss       0.00      0.00      0.00        50\n",
      "   unrelated       0.00      0.00      0.00        50\n",
      "\n",
      "    accuracy                           0.25       200\n",
      "   macro avg       0.06      0.25      0.10       200\n",
      "weighted avg       0.06      0.25      0.10       200\n",
      "\n"
     ]
    },
    {
     "name": "stderr",
     "output_type": "stream",
     "text": [
      "C:\\Users\\fuzel\\anaconda3\\lib\\site-packages\\sklearn\\metrics\\_classification.py:1318: UndefinedMetricWarning: Precision and F-score are ill-defined and being set to 0.0 in labels with no predicted samples. Use `zero_division` parameter to control this behavior.\n",
      "  _warn_prf(average, modifier, msg_start, len(result))\n",
      "C:\\Users\\fuzel\\anaconda3\\lib\\site-packages\\sklearn\\metrics\\_classification.py:1318: UndefinedMetricWarning: Precision and F-score are ill-defined and being set to 0.0 in labels with no predicted samples. Use `zero_division` parameter to control this behavior.\n",
      "  _warn_prf(average, modifier, msg_start, len(result))\n",
      "C:\\Users\\fuzel\\anaconda3\\lib\\site-packages\\sklearn\\metrics\\_classification.py:1318: UndefinedMetricWarning: Precision and F-score are ill-defined and being set to 0.0 in labels with no predicted samples. Use `zero_division` parameter to control this behavior.\n",
      "  _warn_prf(average, modifier, msg_start, len(result))\n"
     ]
    }
   ],
   "source": [
    "print(classification_report(combined_df['Stance'],df['Stance']))"
   ]
  },
  {
   "cell_type": "markdown",
   "id": "cef18be0",
   "metadata": {},
   "source": [
    "End of the code"
   ]
  }
 ],
 "metadata": {
  "kernelspec": {
   "display_name": "Python 3 (ipykernel)",
   "language": "python",
   "name": "python3"
  },
  "language_info": {
   "codemirror_mode": {
    "name": "ipython",
    "version": 3
   },
   "file_extension": ".py",
   "mimetype": "text/x-python",
   "name": "python",
   "nbconvert_exporter": "python",
   "pygments_lexer": "ipython3",
   "version": "3.9.12"
  }
 },
 "nbformat": 4,
 "nbformat_minor": 5
}
