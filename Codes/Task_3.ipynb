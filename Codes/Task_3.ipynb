{
 "cells": [
  {
   "cell_type": "code",
   "execution_count": 9,
   "id": "c1e7cfde",
   "metadata": {},
   "outputs": [],
   "source": [
    "import pandas as pd"
   ]
  },
  {
   "cell_type": "code",
   "execution_count": 28,
   "id": "8e0baf26",
   "metadata": {},
   "outputs": [
    {
     "data": {
      "text/html": [
       "<div>\n",
       "<style scoped>\n",
       "    .dataframe tbody tr th:only-of-type {\n",
       "        vertical-align: middle;\n",
       "    }\n",
       "\n",
       "    .dataframe tbody tr th {\n",
       "        vertical-align: top;\n",
       "    }\n",
       "\n",
       "    .dataframe thead th {\n",
       "        text-align: right;\n",
       "    }\n",
       "</style>\n",
       "<table border=\"1\" class=\"dataframe\">\n",
       "  <thead>\n",
       "    <tr style=\"text-align: right;\">\n",
       "      <th></th>\n",
       "      <th>Body ID</th>\n",
       "      <th>articleBody</th>\n",
       "    </tr>\n",
       "  </thead>\n",
       "  <tbody>\n",
       "    <tr>\n",
       "      <th>0</th>\n",
       "      <td>0</td>\n",
       "      <td>A small meteorite crashed into a wooded area i...</td>\n",
       "    </tr>\n",
       "    <tr>\n",
       "      <th>1</th>\n",
       "      <td>4</td>\n",
       "      <td>Last week we hinted at what was to come as Ebo...</td>\n",
       "    </tr>\n",
       "    <tr>\n",
       "      <th>2</th>\n",
       "      <td>5</td>\n",
       "      <td>(NEWSER) – Wonder how long a Quarter Pounder w...</td>\n",
       "    </tr>\n",
       "    <tr>\n",
       "      <th>3</th>\n",
       "      <td>6</td>\n",
       "      <td>Posting photos of a gun-toting child online, I...</td>\n",
       "    </tr>\n",
       "    <tr>\n",
       "      <th>4</th>\n",
       "      <td>7</td>\n",
       "      <td>At least 25 suspected Boko Haram insurgents we...</td>\n",
       "    </tr>\n",
       "  </tbody>\n",
       "</table>\n",
       "</div>"
      ],
      "text/plain": [
       "   Body ID                                        articleBody\n",
       "0        0  A small meteorite crashed into a wooded area i...\n",
       "1        4  Last week we hinted at what was to come as Ebo...\n",
       "2        5  (NEWSER) – Wonder how long a Quarter Pounder w...\n",
       "3        6  Posting photos of a gun-toting child online, I...\n",
       "4        7  At least 25 suspected Boko Haram insurgents we..."
      ]
     },
     "execution_count": 28,
     "metadata": {},
     "output_type": "execute_result"
    }
   ],
   "source": [
    "df = pd.read_csv('train_bodies.csv')\n",
    "df.head()"
   ]
  },
  {
   "cell_type": "code",
   "execution_count": 3,
   "id": "b556a62e",
   "metadata": {},
   "outputs": [],
   "source": [
    "import nltk\n",
    "from nltk.corpus import stopwords\n",
    "from nltk.tokenize import word_tokenize"
   ]
  },
  {
   "cell_type": "code",
   "execution_count": 24,
   "id": "c5a56083",
   "metadata": {
    "scrolled": true
   },
   "outputs": [],
   "source": [
    "stop_words = set(stopwords.words('english'))"
   ]
  },
  {
   "cell_type": "code",
   "execution_count": 6,
   "id": "6cc49d08",
   "metadata": {},
   "outputs": [],
   "source": [
    "import collections\n",
    "#a = collections.Counter(filtered_sent)"
   ]
  },
  {
   "cell_type": "code",
   "execution_count": 7,
   "id": "5b162c7e",
   "metadata": {},
   "outputs": [],
   "source": [
    "complete_df = df.merge(df_head,on='Body ID')"
   ]
  },
  {
   "cell_type": "code",
   "execution_count": 7,
   "id": "f2377ca7",
   "metadata": {},
   "outputs": [],
   "source": [
    "import re"
   ]
  },
  {
   "cell_type": "code",
   "execution_count": 11,
   "id": "f30fc627",
   "metadata": {},
   "outputs": [],
   "source": [
    "from nltk.stem.porter import PorterStemmer"
   ]
  },
  {
   "cell_type": "code",
   "execution_count": 141,
   "id": "760e32cb",
   "metadata": {},
   "outputs": [],
   "source": [
    "def text_processing(text):\n",
    "    ps = PorterStemmer()\n",
    "    head_list = []\n",
    "    for h in text:\n",
    "        h = re.sub(r\"\\n|\\'|-|,|\\)|\\(|\\:|\\?|@|‘|’|\\*|\\\"|\\$\",'',h)\n",
    "        h = ' '.join([ps.stem(i) for i in h.split(' ')])\n",
    "        head_list.append(h.lower())\n",
    "    head_list = [h.split(' ') for h in head_list]\n",
    "    return head_list"
   ]
  },
  {
   "cell_type": "code",
   "execution_count": 129,
   "id": "b831c635",
   "metadata": {},
   "outputs": [
    {
     "name": "stdout",
     "output_type": "stream",
     "text": [
      "(CNN) -- A meteorite: crashed down in? Managua, Nicaragua,@ late\" Saturday’ night, cau$sing a loud explosion and leaving a crater 39 feet (12 meters) across, government officials said, according to The Associated Press.\n",
      "[['cnn', '', 'a', 'meteorit', 'crash', 'down', 'in', 'managua', 'nicaragua', 'late', 'saturday', 'night', 'caus', 'a', 'loud', 'explos', 'and', 'leav', 'a', 'crater', '39', 'feet', '12', 'meter', 'across', 'govern', 'offici', 'said', 'accord', 'to', 'the', 'associ', 'press.']]\n"
     ]
    }
   ],
   "source": [
    "text = ['(CNN) -- A meteorite: crashed down in? Managua, Nicaragua,@ late\" Saturday’ night, cau$sing a loud explosion and leaving a crater 39 feet (12 meters) across, government officials said, according to The Associated Press.']\n",
    "res = text_processing(text=text)\n",
    "print(res)"
   ]
  },
  {
   "cell_type": "code",
   "execution_count": 26,
   "id": "4cbaf8ba",
   "metadata": {},
   "outputs": [],
   "source": [
    "l = [\"haven't\",\"hadn't\",\"not\",\"don't\",\"aren't\",\"less\",\"none\",\"couldn't\",\"doesn't\",\"hasn't\",\"isn't\",\"mightn't\",\"mustn't\",\"needn't\",\"shan't\",\"shouldn't\",\"wasn't\",\"weren't\",\"won't\",\"wouldn't\",\"\"]\n",
    "for w in l:\n",
    "    try:\n",
    "        stop_words.remove(w)\n",
    "    except:\n",
    "        pass"
   ]
  },
  {
   "cell_type": "code",
   "execution_count": 20,
   "id": "04a8edb2",
   "metadata": {},
   "outputs": [],
   "source": [
    "def stopword_removal(ls):\n",
    "    filtered_list = []\n",
    "    for hl in ls:\n",
    "        temp = []\n",
    "        for w in hl:\n",
    "            if w not in stop_words:\n",
    "                temp.append(w)\n",
    "        filtered_list.append(temp)\n",
    "    return filtered_list"
   ]
  },
  {
   "cell_type": "code",
   "execution_count": 178,
   "id": "509fe0dc",
   "metadata": {},
   "outputs": [
    {
     "data": {
      "text/html": [
       "<div>\n",
       "<style scoped>\n",
       "    .dataframe tbody tr th:only-of-type {\n",
       "        vertical-align: middle;\n",
       "    }\n",
       "\n",
       "    .dataframe tbody tr th {\n",
       "        vertical-align: top;\n",
       "    }\n",
       "\n",
       "    .dataframe thead th {\n",
       "        text-align: right;\n",
       "    }\n",
       "</style>\n",
       "<table border=\"1\" class=\"dataframe\">\n",
       "  <thead>\n",
       "    <tr style=\"text-align: right;\">\n",
       "      <th></th>\n",
       "      <th>Headline</th>\n",
       "      <th>articleBody</th>\n",
       "      <th>Stance</th>\n",
       "    </tr>\n",
       "  </thead>\n",
       "  <tbody>\n",
       "    <tr>\n",
       "      <th>0</th>\n",
       "      <td>Coronavirus Live Updates: India Records 1,112 ...</td>\n",
       "      <td>India's COVID-19 caseload climbed to 4,46,46,8...</td>\n",
       "      <td>agree</td>\n",
       "    </tr>\n",
       "    <tr>\n",
       "      <th>1</th>\n",
       "      <td>India vaccine maker destroys 100 million doses...</td>\n",
       "      <td>Indian vaccine maker Serum Institute of India ...</td>\n",
       "      <td>agree</td>\n",
       "    </tr>\n",
       "    <tr>\n",
       "      <th>2</th>\n",
       "      <td>New COVID-19 vaccination round to be launched ...</td>\n",
       "      <td>A new round of COVID-19 vaccinations for peopl...</td>\n",
       "      <td>agree</td>\n",
       "    </tr>\n",
       "    <tr>\n",
       "      <th>3</th>\n",
       "      <td>Book a coronavirus vaccination appointment in ...</td>\n",
       "      <td>Starting on 24 October 2022, a vaccination app...</td>\n",
       "      <td>agree</td>\n",
       "    </tr>\n",
       "    <tr>\n",
       "      <th>4</th>\n",
       "      <td>Influenza vaccinations and new COVID-19 vaccin...</td>\n",
       "      <td>Influenza vaccinations and a new round of COVI...</td>\n",
       "      <td>agree</td>\n",
       "    </tr>\n",
       "    <tr>\n",
       "      <th>...</th>\n",
       "      <td>...</td>\n",
       "      <td>...</td>\n",
       "      <td>...</td>\n",
       "    </tr>\n",
       "    <tr>\n",
       "      <th>65</th>\n",
       "      <td>600 Sikh Pilgrims Not Allowed To Visit Pak Ove...</td>\n",
       "      <td>Washington: The top US health body has issued ...</td>\n",
       "      <td>unrelated</td>\n",
       "    </tr>\n",
       "    <tr>\n",
       "      <th>66</th>\n",
       "      <td>PSL Match Postponed After Islamabad United Spi...</td>\n",
       "      <td>Washington: The top US health body has issued ...</td>\n",
       "      <td>unrelated</td>\n",
       "    </tr>\n",
       "    <tr>\n",
       "      <th>67</th>\n",
       "      <td>Pakistan To Purchase 1.2 Million Covid Vaccine...</td>\n",
       "      <td>New Delhi: The Union Home Ministry Thursday de...</td>\n",
       "      <td>agree</td>\n",
       "    </tr>\n",
       "    <tr>\n",
       "      <th>68</th>\n",
       "      <td>Pakistan To Purchase 1.2 Million Covid Vaccine...</td>\n",
       "      <td>Two Hundred Sikh pilgrims from among 800 who w...</td>\n",
       "      <td>unrelated</td>\n",
       "    </tr>\n",
       "    <tr>\n",
       "      <th>69</th>\n",
       "      <td>Less than 4% of eligible people have gotten up...</td>\n",
       "      <td>If you have been in contact with a person who ...</td>\n",
       "      <td>unrelated</td>\n",
       "    </tr>\n",
       "  </tbody>\n",
       "</table>\n",
       "<p>70 rows × 3 columns</p>\n",
       "</div>"
      ],
      "text/plain": [
       "                                             Headline  \\\n",
       "0   Coronavirus Live Updates: India Records 1,112 ...   \n",
       "1   India vaccine maker destroys 100 million doses...   \n",
       "2   New COVID-19 vaccination round to be launched ...   \n",
       "3   Book a coronavirus vaccination appointment in ...   \n",
       "4   Influenza vaccinations and new COVID-19 vaccin...   \n",
       "..                                                ...   \n",
       "65  600 Sikh Pilgrims Not Allowed To Visit Pak Ove...   \n",
       "66  PSL Match Postponed After Islamabad United Spi...   \n",
       "67  Pakistan To Purchase 1.2 Million Covid Vaccine...   \n",
       "68  Pakistan To Purchase 1.2 Million Covid Vaccine...   \n",
       "69  Less than 4% of eligible people have gotten up...   \n",
       "\n",
       "                                          articleBody     Stance  \n",
       "0   India's COVID-19 caseload climbed to 4,46,46,8...      agree  \n",
       "1   Indian vaccine maker Serum Institute of India ...      agree  \n",
       "2   A new round of COVID-19 vaccinations for peopl...      agree  \n",
       "3   Starting on 24 October 2022, a vaccination app...      agree  \n",
       "4   Influenza vaccinations and a new round of COVI...      agree  \n",
       "..                                                ...        ...  \n",
       "65  Washington: The top US health body has issued ...  unrelated  \n",
       "66  Washington: The top US health body has issued ...  unrelated  \n",
       "67  New Delhi: The Union Home Ministry Thursday de...      agree  \n",
       "68  Two Hundred Sikh pilgrims from among 800 who w...  unrelated  \n",
       "69  If you have been in contact with a person who ...  unrelated  \n",
       "\n",
       "[70 rows x 3 columns]"
      ]
     },
     "execution_count": 178,
     "metadata": {},
     "output_type": "execute_result"
    }
   ],
   "source": [
    "covid_df = pd.read_csv('NLP_dataset_COVID_Economic_Corona.csv',encoding='latin-1')\n",
    "covid_df"
   ]
  },
  {
   "cell_type": "code",
   "execution_count": 187,
   "id": "88f03628",
   "metadata": {},
   "outputs": [],
   "source": [
    "a = []\n",
    "b = []\n",
    "c = []\n",
    "count = 0\n",
    "ps = PorterStemmer()\n",
    "for _id in range(0,covid_df.shape[0]):\n",
    "    #b_id = df_test_headline.iloc[_id]['Body ID']\n",
    "    head_line = covid_df.iloc[_id]['Headline']\n",
    "    #print(head_line)\n",
    "    art_body = covid_df.iloc[_id]['articleBody']\n",
    "    #head_line = list(df_test_headline[df_test_headline['Body ID']==_id]['Headline'])\n",
    "    head_line = re.sub(r\"\\n|\\'|-|,|\\)|\\(|\\:|\\?|@|‘|’|\\*|\\\"|\\$\",'',head_line)\n",
    "    head_line = ' '.join([ps.stem(i) for i in head_line.split(' ')])\n",
    "    art_body = re.sub(r\"\\n|\\'|-|,|\\)|\\(|\\:|\\?|@|‘|’|\\*|\\\"|\\$\",'',art_body)\n",
    "    art_body = ' '.join([ps.stem(i) for i in art_body.split(' ')])\n",
    "    #preprossed_art_body = stopword_removal(ls=text_processing(art_body))\n",
    "    #print(preprossed_art_body)\n",
    "    #preprossed_head_line = stopword_removal(ls=text_processing(head_line))\n",
    "    #print(preprossed_head_line)\n",
    "    article_counter = collections.Counter(art_body)\n",
    "    neg_body = []\n",
    "    doc1 = nlp(art_body)\n",
    "    for e in doc1.ents:\n",
    "        neg_body.append(tuple([e.text,str(e._.negex)]))\n",
    "    #for phl in preprossed_head_line:\n",
    "    #h = ' '.join(phl)\n",
    "    neg_head_line = []\n",
    "    doc = nlp(head_line)\n",
    "    for e in doc.ents:\n",
    "        neg_head_line.append(tuple([e.text,str(e._.negex)]))\n",
    "    count = 0\n",
    "    head_line_counter = collections.Counter(head_line)\n",
    "    try:\n",
    "        for k in head_line_counter.keys():\n",
    "            count = count+article_counter[k]\n",
    "    except:\n",
    "        count = count + 0\n",
    "    if count==0:\n",
    "        a.append(head_line)\n",
    "        b.append(art_body)\n",
    "        c.append('unrelated')\n",
    "    else:\n",
    "        if count>=len(head_line) and count>=5:\n",
    "            a.append(head_line)\n",
    "            b.append(art_body)\n",
    "            c.append('agree')\n",
    "        elif count<len(head_line) and count >= 1 and count < 5:\n",
    "            a.append(head_line)\n",
    "            b.append(art_body)\n",
    "            c.append('discuss')\n",
    "        else:\n",
    "            for index, tup in enumerate(neg_headline_list):\n",
    "                for i,j in enumerate(neg_body_list):\n",
    "                    if index == i:\n",
    "                        if tup != j:\n",
    "                            a.append(head_line)\n",
    "                            b.append(art_body)\n",
    "                            c.append('disagree')"
   ]
  },
  {
   "cell_type": "code",
   "execution_count": 188,
   "id": "f31ba5d1",
   "metadata": {},
   "outputs": [
    {
     "data": {
      "text/html": [
       "<div>\n",
       "<style scoped>\n",
       "    .dataframe tbody tr th:only-of-type {\n",
       "        vertical-align: middle;\n",
       "    }\n",
       "\n",
       "    .dataframe tbody tr th {\n",
       "        vertical-align: top;\n",
       "    }\n",
       "\n",
       "    .dataframe thead th {\n",
       "        text-align: right;\n",
       "    }\n",
       "</style>\n",
       "<table border=\"1\" class=\"dataframe\">\n",
       "  <thead>\n",
       "    <tr style=\"text-align: right;\">\n",
       "      <th></th>\n",
       "      <th>Headline</th>\n",
       "      <th>articleBody</th>\n",
       "      <th>Stance</th>\n",
       "    </tr>\n",
       "  </thead>\n",
       "  <tbody>\n",
       "    <tr>\n",
       "      <th>0</th>\n",
       "      <td>coronaviru live updat india record 1112 covid ...</td>\n",
       "      <td>india covid19 caseload climb to 44646880 with ...</td>\n",
       "      <td>agree</td>\n",
       "    </tr>\n",
       "    <tr>\n",
       "      <th>1</th>\n",
       "      <td>india vaccin maker destroy 100 million dose of...</td>\n",
       "      <td>indian vaccin maker serum institut of india si...</td>\n",
       "      <td>agree</td>\n",
       "    </tr>\n",
       "    <tr>\n",
       "      <th>2</th>\n",
       "      <td>new covid19 vaccin round to be launch for risk...</td>\n",
       "      <td>a new round of covid19 vaccin for peopl belong...</td>\n",
       "      <td>agree</td>\n",
       "    </tr>\n",
       "    <tr>\n",
       "      <th>3</th>\n",
       "      <td>book a coronaviru vaccin appoint in the maisa ...</td>\n",
       "      <td>start on 24 octob 2022 a vaccin appoint for al...</td>\n",
       "      <td>agree</td>\n",
       "    </tr>\n",
       "    <tr>\n",
       "      <th>4</th>\n",
       "      <td>influenza vaccin and new covid19 vaccin round ...</td>\n",
       "      <td>influenza vaccin and a new round of covid19 va...</td>\n",
       "      <td>agree</td>\n",
       "    </tr>\n",
       "  </tbody>\n",
       "</table>\n",
       "</div>"
      ],
      "text/plain": [
       "                                            Headline  \\\n",
       "0  coronaviru live updat india record 1112 covid ...   \n",
       "1  india vaccin maker destroy 100 million dose of...   \n",
       "2  new covid19 vaccin round to be launch for risk...   \n",
       "3  book a coronaviru vaccin appoint in the maisa ...   \n",
       "4  influenza vaccin and new covid19 vaccin round ...   \n",
       "\n",
       "                                         articleBody Stance  \n",
       "0  india covid19 caseload climb to 44646880 with ...  agree  \n",
       "1  indian vaccin maker serum institut of india si...  agree  \n",
       "2  a new round of covid19 vaccin for peopl belong...  agree  \n",
       "3  start on 24 octob 2022 a vaccin appoint for al...  agree  \n",
       "4  influenza vaccin and a new round of covid19 va...  agree  "
      ]
     },
     "execution_count": 188,
     "metadata": {},
     "output_type": "execute_result"
    }
   ],
   "source": [
    "df = pd.DataFrame()\n",
    "df['Headline'] = a\n",
    "df['articleBody'] = b\n",
    "df['Stance'] = c\n",
    "df.head()"
   ]
  },
  {
   "cell_type": "code",
   "execution_count": 190,
   "id": "da689705",
   "metadata": {},
   "outputs": [
    {
     "data": {
      "text/plain": [
       "0.6"
      ]
     },
     "execution_count": 190,
     "metadata": {},
     "output_type": "execute_result"
    }
   ],
   "source": [
    "from sklearn.metrics import accuracy_score\n",
    "accuracy_score(covid_df['Stance'],df['Stance'])"
   ]
  },
  {
   "cell_type": "code",
   "execution_count": 199,
   "id": "dd848269",
   "metadata": {},
   "outputs": [
    {
     "data": {
      "text/html": [
       "<div>\n",
       "<style scoped>\n",
       "    .dataframe tbody tr th:only-of-type {\n",
       "        vertical-align: middle;\n",
       "    }\n",
       "\n",
       "    .dataframe tbody tr th {\n",
       "        vertical-align: top;\n",
       "    }\n",
       "\n",
       "    .dataframe thead th {\n",
       "        text-align: right;\n",
       "    }\n",
       "</style>\n",
       "<table border=\"1\" class=\"dataframe\">\n",
       "  <thead>\n",
       "    <tr style=\"text-align: right;\">\n",
       "      <th></th>\n",
       "      <th>Headline</th>\n",
       "      <th>articleBody</th>\n",
       "      <th>Stance</th>\n",
       "    </tr>\n",
       "  </thead>\n",
       "  <tbody>\n",
       "    <tr>\n",
       "      <th>0</th>\n",
       "      <td>Elon Musk says a global recession could last u...</td>\n",
       "      <td>Tesla founder and CEO Elon Musk thinks the glo...</td>\n",
       "      <td>agree</td>\n",
       "    </tr>\n",
       "    <tr>\n",
       "      <th>1</th>\n",
       "      <td>Hereâs how venture capital is helping to lif...</td>\n",
       "      <td>Even though Latinos are the second-largest eth...</td>\n",
       "      <td>discuss</td>\n",
       "    </tr>\n",
       "    <tr>\n",
       "      <th>2</th>\n",
       "      <td>U.S. GDP accelerated at 2.6% pace in Q3, bette...</td>\n",
       "      <td>The U.S. economy posted its first period of po...</td>\n",
       "      <td>agree</td>\n",
       "    </tr>\n",
       "    <tr>\n",
       "      <th>3</th>\n",
       "      <td>Tatas, Lockheed Martin in talks to make Sikors...</td>\n",
       "      <td>The Tatas are in talks with Lockheed Martin fo...</td>\n",
       "      <td>discuss</td>\n",
       "    </tr>\n",
       "    <tr>\n",
       "      <th>4</th>\n",
       "      <td>U.S. GDP bounces back but economic outlook rem...</td>\n",
       "      <td>The Commerce Department analysis found U.S. gr...</td>\n",
       "      <td>agree</td>\n",
       "    </tr>\n",
       "    <tr>\n",
       "      <th>...</th>\n",
       "      <td>...</td>\n",
       "      <td>...</td>\n",
       "      <td>...</td>\n",
       "    </tr>\n",
       "    <tr>\n",
       "      <th>91</th>\n",
       "      <td>Why didnât government apply for Debt Service...</td>\n",
       "      <td>We may never get official reasons for the Akuf...</td>\n",
       "      <td>discussion</td>\n",
       "    </tr>\n",
       "    <tr>\n",
       "      <th>92</th>\n",
       "      <td>Unite for Universal Hand Hygiene: A policy and...</td>\n",
       "      <td>Hand washing is the single most effective way ...</td>\n",
       "      <td>discussion</td>\n",
       "    </tr>\n",
       "    <tr>\n",
       "      <th>93</th>\n",
       "      <td>Winifred hMensa: The pure water price increase...</td>\n",
       "      <td>Let me preface this piece by saying that I am ...</td>\n",
       "      <td>discussion</td>\n",
       "    </tr>\n",
       "    <tr>\n",
       "      <th>94</th>\n",
       "      <td>Samsonâs Take: No empty slogans on Sunday, M...</td>\n",
       "      <td>In the news, former NPP MP and anticorruption ...</td>\n",
       "      <td>discussion</td>\n",
       "    </tr>\n",
       "    <tr>\n",
       "      <th>95</th>\n",
       "      <td>Reality zone with Vicky Wireko: Price hikes; a...</td>\n",
       "      <td>Why do we do this to ourselves sometimes? Taki...</td>\n",
       "      <td>discussion</td>\n",
       "    </tr>\n",
       "  </tbody>\n",
       "</table>\n",
       "<p>96 rows × 3 columns</p>\n",
       "</div>"
      ],
      "text/plain": [
       "                                             Headline  \\\n",
       "0   Elon Musk says a global recession could last u...   \n",
       "1   Hereâs how venture capital is helping to lif...   \n",
       "2   U.S. GDP accelerated at 2.6% pace in Q3, bette...   \n",
       "3   Tatas, Lockheed Martin in talks to make Sikors...   \n",
       "4   U.S. GDP bounces back but economic outlook rem...   \n",
       "..                                                ...   \n",
       "91  Why didnât government apply for Debt Service...   \n",
       "92  Unite for Universal Hand Hygiene: A policy and...   \n",
       "93  Winifred hMensa: The pure water price increase...   \n",
       "94  Samsonâs Take: No empty slogans on Sunday, M...   \n",
       "95  Reality zone with Vicky Wireko: Price hikes; a...   \n",
       "\n",
       "                                          articleBody      Stance  \n",
       "0   Tesla founder and CEO Elon Musk thinks the glo...       agree  \n",
       "1   Even though Latinos are the second-largest eth...     discuss  \n",
       "2   The U.S. economy posted its first period of po...       agree  \n",
       "3   The Tatas are in talks with Lockheed Martin fo...     discuss  \n",
       "4   The Commerce Department analysis found U.S. gr...       agree  \n",
       "..                                                ...         ...  \n",
       "91  We may never get official reasons for the Akuf...  discussion  \n",
       "92  Hand washing is the single most effective way ...  discussion  \n",
       "93  Let me preface this piece by saying that I am ...  discussion  \n",
       "94  In the news, former NPP MP and anticorruption ...  discussion  \n",
       "95  Why do we do this to ourselves sometimes? Taki...  discussion  \n",
       "\n",
       "[96 rows x 3 columns]"
      ]
     },
     "execution_count": 199,
     "metadata": {},
     "output_type": "execute_result"
    }
   ],
   "source": [
    "economy_df = pd.read_csv('NLP_dataset_COVID_Economic_Economic.csv',encoding='latin-1')\n",
    "economy_df"
   ]
  },
  {
   "cell_type": "code",
   "execution_count": 201,
   "id": "38b85d31",
   "metadata": {},
   "outputs": [],
   "source": [
    "a = []\n",
    "b = []\n",
    "c = []\n",
    "count = 0\n",
    "ps = PorterStemmer()\n",
    "for _id in range(0,economy_df.shape[0]):\n",
    "    #b_id = df_test_headline.iloc[_id]['Body ID']\n",
    "    head_line = economy_df.iloc[_id]['Headline']\n",
    "    #print(head_line)\n",
    "    art_body = economy_df.iloc[_id]['articleBody']\n",
    "    #head_line = list(df_test_headline[df_test_headline['Body ID']==_id]['Headline'])\n",
    "    head_line = re.sub(r\"\\n|\\'|-|,|\\)|\\(|\\:|\\?|@|‘|’|\\*|\\\"|\\$\",'',head_line)\n",
    "    head_line = ' '.join([ps.stem(i) for i in head_line.split(' ')])\n",
    "    art_body = re.sub(r\"\\n|\\'|-|,|\\)|\\(|\\:|\\?|@|‘|’|\\*|\\\"|\\$\",'',art_body)\n",
    "    art_body = ' '.join([ps.stem(i) for i in art_body.split(' ')])\n",
    "    #preprossed_art_body = stopword_removal(ls=text_processing(art_body))\n",
    "    #print(preprossed_art_body)\n",
    "    #preprossed_head_line = stopword_removal(ls=text_processing(head_line))\n",
    "    #print(preprossed_head_line)\n",
    "    article_counter = collections.Counter(art_body)\n",
    "    neg_body = []\n",
    "    doc1 = nlp(art_body)\n",
    "    for e in doc1.ents:\n",
    "        neg_body.append(tuple([e.text,str(e._.negex)]))\n",
    "    #for phl in preprossed_head_line:\n",
    "    #h = ' '.join(phl)\n",
    "    neg_head_line = []\n",
    "    doc = nlp(head_line)\n",
    "    for e in doc.ents:\n",
    "        neg_head_line.append(tuple([e.text,str(e._.negex)]))\n",
    "    count = 0\n",
    "    head_line_counter = collections.Counter(head_line)\n",
    "    try:\n",
    "        for k in head_line_counter.keys():\n",
    "            count = count+article_counter[k]\n",
    "    except:\n",
    "        count = count + 0\n",
    "    if count==0:\n",
    "        a.append(head_line)\n",
    "        b.append(art_body)\n",
    "        c.append('unrelated')\n",
    "    else:\n",
    "        if count>=len(head_line) or count>=5:\n",
    "            a.append(head_line)\n",
    "            b.append(art_body)\n",
    "            c.append('agree')\n",
    "        elif count<len(head_line) or count >= 1 and count < 5:\n",
    "            a.append(head_line)\n",
    "            b.append(art_body)\n",
    "            c.append('discuss')\n",
    "        else:\n",
    "            for index, tup in enumerate(neg_headline_list):\n",
    "                for i,j in enumerate(neg_body_list):\n",
    "                    if index == i:\n",
    "                        if tup != j:\n",
    "                            a.append(head_line)\n",
    "                            b.append(art_body)\n",
    "                            c.append('disagree')"
   ]
  },
  {
   "cell_type": "code",
   "execution_count": 195,
   "id": "1b4b12bf",
   "metadata": {
    "scrolled": true
   },
   "outputs": [
    {
     "data": {
      "text/html": [
       "<div>\n",
       "<style scoped>\n",
       "    .dataframe tbody tr th:only-of-type {\n",
       "        vertical-align: middle;\n",
       "    }\n",
       "\n",
       "    .dataframe tbody tr th {\n",
       "        vertical-align: top;\n",
       "    }\n",
       "\n",
       "    .dataframe thead th {\n",
       "        text-align: right;\n",
       "    }\n",
       "</style>\n",
       "<table border=\"1\" class=\"dataframe\">\n",
       "  <thead>\n",
       "    <tr style=\"text-align: right;\">\n",
       "      <th></th>\n",
       "      <th>Headline</th>\n",
       "      <th>articleBody</th>\n",
       "      <th>Stance</th>\n",
       "    </tr>\n",
       "  </thead>\n",
       "  <tbody>\n",
       "    <tr>\n",
       "      <th>0</th>\n",
       "      <td>elon musk say a global recess could last until...</td>\n",
       "      <td>tesla founder and ceo elon musk think the glob...</td>\n",
       "      <td>agree</td>\n",
       "    </tr>\n",
       "    <tr>\n",
       "      <th>1</th>\n",
       "      <td>hereâ how ventur capit is help to lift the n...</td>\n",
       "      <td>even though latino are the secondlargest ethni...</td>\n",
       "      <td>agree</td>\n",
       "    </tr>\n",
       "    <tr>\n",
       "      <th>2</th>\n",
       "      <td>u.s. gdp acceler at 2.6% pace in q3 better tha...</td>\n",
       "      <td>the u.s. economi post it first period of posit...</td>\n",
       "      <td>agree</td>\n",
       "    </tr>\n",
       "    <tr>\n",
       "      <th>3</th>\n",
       "      <td>tata lockhe martin in talk to make sikorski s7...</td>\n",
       "      <td>the tata are in talk with lockhe martin for ma...</td>\n",
       "      <td>agree</td>\n",
       "    </tr>\n",
       "    <tr>\n",
       "      <th>4</th>\n",
       "      <td>u.s. gdp bounc back but econom outlook remain ...</td>\n",
       "      <td>the commerc depart analysi found u.s. gross do...</td>\n",
       "      <td>agree</td>\n",
       "    </tr>\n",
       "  </tbody>\n",
       "</table>\n",
       "</div>"
      ],
      "text/plain": [
       "                                            Headline  \\\n",
       "0  elon musk say a global recess could last until...   \n",
       "1  hereâ how ventur capit is help to lift the n...   \n",
       "2  u.s. gdp acceler at 2.6% pace in q3 better tha...   \n",
       "3  tata lockhe martin in talk to make sikorski s7...   \n",
       "4  u.s. gdp bounc back but econom outlook remain ...   \n",
       "\n",
       "                                         articleBody Stance  \n",
       "0  tesla founder and ceo elon musk think the glob...  agree  \n",
       "1  even though latino are the secondlargest ethni...  agree  \n",
       "2  the u.s. economi post it first period of posit...  agree  \n",
       "3  the tata are in talk with lockhe martin for ma...  agree  \n",
       "4  the commerc depart analysi found u.s. gross do...  agree  "
      ]
     },
     "execution_count": 195,
     "metadata": {},
     "output_type": "execute_result"
    }
   ],
   "source": [
    "df = pd.DataFrame()\n",
    "df['Headline'] = a\n",
    "df['articleBody'] = b\n",
    "df['Stance'] = c\n",
    "df.head()"
   ]
  },
  {
   "cell_type": "code",
   "execution_count": 200,
   "id": "adaa0b6a",
   "metadata": {},
   "outputs": [
    {
     "data": {
      "text/plain": [
       "array(['agree'], dtype=object)"
      ]
     },
     "execution_count": 200,
     "metadata": {},
     "output_type": "execute_result"
    }
   ],
   "source": [
    "df['Stance'].unique()"
   ]
  },
  {
   "cell_type": "code",
   "execution_count": 210,
   "id": "5f1e4287",
   "metadata": {},
   "outputs": [],
   "source": [
    "y_actual = economy_df.iloc[0:92,:]['Stance']"
   ]
  },
  {
   "cell_type": "code",
   "execution_count": 211,
   "id": "d45b78b4",
   "metadata": {},
   "outputs": [
    {
     "data": {
      "text/plain": [
       "0.31521739130434784"
      ]
     },
     "execution_count": 211,
     "metadata": {},
     "output_type": "execute_result"
    }
   ],
   "source": [
    "from sklearn.metrics import accuracy_score\n",
    "accuracy_score(y_actual,df['Stance'])"
   ]
  },
  {
   "cell_type": "code",
   "execution_count": 212,
   "id": "fd557187",
   "metadata": {},
   "outputs": [],
   "source": [
    "df_test_body = pd.read_csv('test_bodies.csv')\n",
    "df_test_headline = pd.read_csv('test_stances_unlabeled.csv')\n",
    "data = df_test_body.merge(df_test_headline,on='Body ID')"
   ]
  },
  {
   "cell_type": "code",
   "execution_count": 159,
   "id": "8214e225",
   "metadata": {
    "scrolled": true
   },
   "outputs": [
    {
     "data": {
      "text/html": [
       "<div>\n",
       "<style scoped>\n",
       "    .dataframe tbody tr th:only-of-type {\n",
       "        vertical-align: middle;\n",
       "    }\n",
       "\n",
       "    .dataframe tbody tr th {\n",
       "        vertical-align: top;\n",
       "    }\n",
       "\n",
       "    .dataframe thead th {\n",
       "        text-align: right;\n",
       "    }\n",
       "</style>\n",
       "<table border=\"1\" class=\"dataframe\">\n",
       "  <thead>\n",
       "    <tr style=\"text-align: right;\">\n",
       "      <th></th>\n",
       "      <th>Body ID</th>\n",
       "      <th>articleBody</th>\n",
       "      <th>Headline</th>\n",
       "      <th>Stance</th>\n",
       "    </tr>\n",
       "  </thead>\n",
       "  <tbody>\n",
       "    <tr>\n",
       "      <th>0</th>\n",
       "      <td>1</td>\n",
       "      <td>India's COVID-19 caseload climbed to 4,46,46,8...</td>\n",
       "      <td>Coronavirus Live Updates: India Records 1,112 ...</td>\n",
       "      <td>agree</td>\n",
       "    </tr>\n",
       "    <tr>\n",
       "      <th>1</th>\n",
       "      <td>2</td>\n",
       "      <td>Indian vaccine maker Serum Institute of India ...</td>\n",
       "      <td>India vaccine maker destroys 100 million doses...</td>\n",
       "      <td>agree</td>\n",
       "    </tr>\n",
       "    <tr>\n",
       "      <th>2</th>\n",
       "      <td>3</td>\n",
       "      <td>A new round of COVID-19 vaccinations for peopl...</td>\n",
       "      <td>New COVID-19 vaccination round to be launched ...</td>\n",
       "      <td>agree</td>\n",
       "    </tr>\n",
       "    <tr>\n",
       "      <th>3</th>\n",
       "      <td>5</td>\n",
       "      <td>Influenza vaccinations and a new round of COVI...</td>\n",
       "      <td>Influenza vaccinations and new COVID-19 vaccin...</td>\n",
       "      <td>agree</td>\n",
       "    </tr>\n",
       "    <tr>\n",
       "      <th>4</th>\n",
       "      <td>6</td>\n",
       "      <td>The results of the third external study on the...</td>\n",
       "      <td>The city's crisis management model for dealing...</td>\n",
       "      <td>agree</td>\n",
       "    </tr>\n",
       "    <tr>\n",
       "      <th>...</th>\n",
       "      <td>...</td>\n",
       "      <td>...</td>\n",
       "      <td>...</td>\n",
       "      <td>...</td>\n",
       "    </tr>\n",
       "    <tr>\n",
       "      <th>83</th>\n",
       "      <td>93</td>\n",
       "      <td>The Story India has a relatively open economy....</td>\n",
       "      <td>CCI fines Google ?2,274 crores in a week</td>\n",
       "      <td>agree</td>\n",
       "    </tr>\n",
       "    <tr>\n",
       "      <th>84</th>\n",
       "      <td>94</td>\n",
       "      <td>The Story India has a relatively open economy....</td>\n",
       "      <td>CCI gives Google ?2,274 crores in a week</td>\n",
       "      <td>disagree</td>\n",
       "    </tr>\n",
       "    <tr>\n",
       "      <th>85</th>\n",
       "      <td>95</td>\n",
       "      <td>The Story There are about 20 quadrillion ants ...</td>\n",
       "      <td>The Extraordinary Lives of Ants</td>\n",
       "      <td>discuss</td>\n",
       "    </tr>\n",
       "    <tr>\n",
       "      <th>86</th>\n",
       "      <td>96</td>\n",
       "      <td>Key Highlights of the Economic Survey 2018-19 ...</td>\n",
       "      <td>Economic Survey 2019 Analysis: 7% GDP growth, ...</td>\n",
       "      <td>agree</td>\n",
       "    </tr>\n",
       "    <tr>\n",
       "      <th>87</th>\n",
       "      <td>97</td>\n",
       "      <td>Key Highlights of the Economic Survey 2018-19 ...</td>\n",
       "      <td>Economic Survey 2019 Analysis: 7% GDP decline,...</td>\n",
       "      <td>disagree</td>\n",
       "    </tr>\n",
       "  </tbody>\n",
       "</table>\n",
       "<p>88 rows × 4 columns</p>\n",
       "</div>"
      ],
      "text/plain": [
       "    Body ID                                        articleBody  \\\n",
       "0         1  India's COVID-19 caseload climbed to 4,46,46,8...   \n",
       "1         2  Indian vaccine maker Serum Institute of India ...   \n",
       "2         3  A new round of COVID-19 vaccinations for peopl...   \n",
       "3         5  Influenza vaccinations and a new round of COVI...   \n",
       "4         6  The results of the third external study on the...   \n",
       "..      ...                                                ...   \n",
       "83       93  The Story India has a relatively open economy....   \n",
       "84       94  The Story India has a relatively open economy....   \n",
       "85       95  The Story There are about 20 quadrillion ants ...   \n",
       "86       96  Key Highlights of the Economic Survey 2018-19 ...   \n",
       "87       97  Key Highlights of the Economic Survey 2018-19 ...   \n",
       "\n",
       "                                             Headline    Stance  \n",
       "0   Coronavirus Live Updates: India Records 1,112 ...     agree  \n",
       "1   India vaccine maker destroys 100 million doses...     agree  \n",
       "2   New COVID-19 vaccination round to be launched ...     agree  \n",
       "3   Influenza vaccinations and new COVID-19 vaccin...     agree  \n",
       "4   The city's crisis management model for dealing...     agree  \n",
       "..                                                ...       ...  \n",
       "83           CCI fines Google ?2,274 crores in a week     agree  \n",
       "84           CCI gives Google ?2,274 crores in a week  disagree  \n",
       "85                    The Extraordinary Lives of Ants   discuss  \n",
       "86  Economic Survey 2019 Analysis: 7% GDP growth, ...     agree  \n",
       "87  Economic Survey 2019 Analysis: 7% GDP decline,...  disagree  \n",
       "\n",
       "[88 rows x 4 columns]"
      ]
     },
     "execution_count": 159,
     "metadata": {},
     "output_type": "execute_result"
    }
   ],
   "source": [
    "data"
   ]
  },
  {
   "cell_type": "code",
   "execution_count": 213,
   "id": "c54b234c",
   "metadata": {},
   "outputs": [
    {
     "name": "stdout",
     "output_type": "stream",
     "text": [
      "[['appl', 'instal', 'safe', 'instor', 'protect', 'gold', 'watch', 'edit'], ['elsisi', 'deni', 'claim', 'hell', 'give', 'sinai', 'land', 'palestinian'], ['appl', 'keep', 'gold', 'watch', 'edit', 'special', 'instor', 'safe'], ['appl', 'store', 'keep', 'gold', '“edition”', 'appl', 'watch', 'custom', 'safe'], ['south', 'korean', 'woman', 'hair', 'eaten', 'robot', 'vacuum', 'cleaner', 'slept'], ['18karat', 'gold', 'appl', 'watch', 'edit', 'lock', 'safe', 'appl', 'store'], ['appl', 'watch', 'price', 'releas', 'date', 'new', 'special', 'safe', 'appl', 'store', 'gold', 'model', 'april', 'launch', 'confirm'], ['appl', 'plan', 'phase', 'beat', 'music', 'brand', 'report', 'say'], ['appl', 'store', 'customdesign', 'safe', 'store', 'gold', 'appl', 'watch'], ['polish', 'teenag', 'wake', 'dure', 'brain', 'surgeri', 'talk', 'doctor'], ['cnn', 'doctor', 'took', 'midsurgeri', 'selfi', 'unconsci', 'joan', 'river'], ['gold', 'appl', 'watch', 'store', 'special', 'safe', 'appl', 'store'], ['teen', 'wake', 'dure', 'brain', 'surgeri', 'ask', 'go'], ['appl', 'store', 'instal', 'safe', 'secur', 'gold', 'appl', 'watch'], ['appl', 'watch', 'edit', 'special', 'safe', 'instal', 'appl', 'store', 'hous', 'luxuri', 'smart', 'watch'], ['appl', 'watch', 'kept', 'safe'], ['appl', 'store', 'reportedli', 'instal', 'custom', 'safe', 'hous', 'appl', 'watch'], ['gold', 'appl', 'watch', 'store', 'safe', 'appl', 'store'], ['nhl', 'expans', 'includ', 'toronto', 'quebec', 'citi', 'seattl', 'la', 'vega', 'report']]\n",
      "[['russian', 'guy', 'say', 'hi', 'justin', 'bieber', 'rington', 'save', 'bear', 'attack'], ['meet', '3boob', 'woman'], ['jasmin', 'tridevil', 'woman', 'three', 'breast'], ['threebreast', 'florida', 'woman', 'jasmin', 'tridevil', 'insist', 'third', 'boob', 'real', 'polic', 'report', 'show', 'onc', 'lost', 'prosthesi'], ['woman', 'ha', 'third', 'breast', 'implant'], ['florida', 'woman', 'get', 'third', 'breast', 'becom', 'unattract', '32'], ['fake', 'freak', 'woman', '21', 'claim', 'paid', '20000', 'surgic', 'add', 'third', 'breast', 'desper', 'bid', 'becom', 'realiti', 'tv', 'star'], ['flight', 'delay', 'due', 'rampag', 'scorpion'], ['dear', 'sandwich', 'thief', 'man', 'hilari', 'respons', 'passiveaggress', 'sign', 'post', 'hi', 'offic', 'fridg', 'door', 'spark', 'incred', 'kitchen', 'note', 'war'], ['woman', 'three', 'breast', 'reportedli', 'fake', 'jasmin', 'tridevil', 'real', 'ident', 'reveal'], ['hewlettpackard', 'split', 'two', 'compani'], ['jasmin', 'tridevil', 'ha', 'surgeri', 'add', 'third', 'breast', 'total', 'recal', 'style'], ['jasmin', 'tridevil', 'woman', 'three', 'breast', 'deni', 'surgeri', 'hoax', 'claim'], ['woman', 'three', 'breast', 'real', 'hoax'], ['woman', 'get', 'third', 'boob', 'appear', 'unattract', 'men'], ['afghan', 'mother', 'kill', '25', 'taliban', 'fighter', 'sevenhour', 'gunbattl', 'watch', 'son', 'slain', 'ambush'], ['woman', 'pay', '20000', 'third', 'breast', 'make', 'less', 'attract', 'men'], ['isra', 'politician', 'prais', 'sisi', 'plan', 'give', 'palestinian', 'land', 'state', 'sinai'], ['report', 'jihadi', 'john', 'behead', 'jame', 'foley', 'wound', 'us', 'airstrik'], ['stori', '3boob', 'ladi', 'fake', 'third', 'boob'], ['scorpion', 'sting', 'flier', 'alaska', 'airlin', 'flight', 'l.a.'], ['four', 'reason', 'not', 'give', 'hope', 'appl', 'buy', 'path'], ['isi', 'releas', 'video', 'allegedli', 'show', 'behead', 'u.s.', 'journalist', 'steven', 'sotloff'], ['report', 'woman', 'claim', 'third', 'breast', 'ad', 'fake'], ['breast', 'chancer'], ['isi', 'leader', 'injur', 'air', 'strike', 'iraqi', 'offici', 'say'], ['blood', 'money', 'isi', 'sell', 'human', 'organ', 'harvest', 'live', 'hostag', 'dead', 'soldier', 'fund', 'terror', 'across', 'middl', 'east'], ['islam', 'state', 'tri', 'sell', 'decapit', 'bodi', 'us', 'hostag', 'jame', 'foley', '1', 'million'], ['isi', 'one', 'mile', 'baghdad'], ['woman', 'add', 'third', 'breast', 'undergo', 'surgeri', 'particip', 'realiti', 'show'], ['woman', 'ha', 'surgeri', 'get', 'third', 'breast', 'three', 'statist', 'unlik', 'pair', 'boob'], ['triplebreast', 'woman', 'pictur', 'befor', 'oper', 'vow', 'surgeri', 'footag', 'prove', 'third', 'boob', 'hoax'], ['lenovo', 'look', 'buy', 'blackberri', 'ltd', '[report]'], ['miracl', 'cat', 'claw', 'way', 'grave', 'five', 'day', 'buri'], ['florida', 'woman', 'ha', 'surgeri', 'add', 'third', 'breast', 'make', 'unatttract', 'men'], ['jasmin', 'tridevil', 'third', 'boob', 'real', 'alisha', 'hessler', 'hoax', 'rumor', 'swirl'], ['thi', 'third', 'boob', 'probabl', 'onli', 'real', 'heart'], ['florida', 'woman', 'get', 'third', 'breast', 'surgic', 'implant'], ['three', 'boob', 'like', 'two', 'boob', 'lie'], ['jasmin', 'tridevil', 'tripl', 'breast', 'tale', 'internet', 'hoax'], ['report', 'woman', 'claim', 'third', 'breast', 'ad', 'hope', 'becom', 'tv', 'star'], ['soni', 'hacker', 'email', 'thank', 'run', 'scare', 'well', 'stop'], ['man', 'save', 'bear', 'attack', 'hi', 'justin', 'bieber', 'rington', 'goe', 'send', 'bear', 'flee'], ['tampa', 'woman', 'claim', 'add', '3rd', 'breast'], ['florida', 'woman', 'ha', 'surgeri', 'add', 'third', 'breast', 'chest'], ['florida', 'woman', 'get', 'plastic', 'surgeri', 'add', 'third', 'breast'], ['know', 'isiss', 'alleg', 'organ', 'harvest', 'oper'], ['woman', 'three', 'breast', 'wa', 'fake', 'ha', 'trick', 'peopl', 'onlin', 'befor'], ['third', 'boob', 'like', 'hoax'], ['3boob', 'woman', 'fake'], ['report', 'toronto', 'seattl', 'quebec', 'citi', 'join', 'vega', '2017', 'nhl', 'expans'], ['appl', 'wa', 'forc', 'nix', 'key', 'health', 'featur', 'smartwatch', '', 'report'], ['woman', 'get', 'third', 'boob', 'implant', 'want', 'unattract', 'men'], ['adopt', 'potenti', 'werewolv', 'routin', 'busi', 'argentin', 'presid'], ['third', 'breast', 'implant', 'turn', 'men'], ['dumb', 'racist', 'photoshop', 'ferguson', 'protest', 'aw', 'viral', 'meme'], ['theyr', 'fake!', 'woman', 'claim', 'surgic', 'implant', 'third', 'breast', 'selfproclaim', 'hoaxer', 'onc', 'report', '3', 'breast', 'prosthesi', 'stolen', 'luggag'], ['threeboob', 'girl', 'probabl', 'hoax', 'becaus', 'obvious'], ['ghost', 'ship'], ['threebreast', 'woman', 'fake', 'tampa', 'polic'], ['samsung', 'rumour', 'suppli', 'screen', 'appl', 'watch...', 'mk', 'ii'], ['florida', 'woman', 'claim', 'surgic', 'ad', 'third', 'breast'], ['justin', 'bieber', 'rington', 'save', 'russian', 'fisherman', 'dure', 'bear', 'attack'], ['woman', 'claim', 'surgeri', 'add', 'third', 'breast', 'expos', 'hoaxer'], ['threeboob', 'woman', 'theyr', 'not', 'fake'], ['kid', 'suspend', 'allegedli', 'threaten', 'classmat', 'hobbit', 'magic'], ['thi', 'woman', 'claim', 'plastic', 'surgeri', 'third', 'breast'], ['sketchi', 'rumor', 'claim', 'appl', 'plan', 'new', '4inch', 'iphon', '2015']]\n",
      "[['presid', 'sisi', 'gift'], ['florida', 'woman', 'ha', 'surgeri', 'add', 'third', 'breast', 'chest'], ['argentina', 'presid', 'adopt', 'godson', 'prevent', 'becom', 'werewolf'], ['jasmin', 'tridevil', 'ha', 'surgeri', 'add', 'third', 'breast', 'total', 'recal', 'style'], ['hermaphrodit', 'cat', 'name', 'mitten', 'get', 'gender', 'reassign'], ['kid', 'suspend', 'allegedli', 'threaten', 'classmat', 'hobbit', 'magic'], ['samsung', 'rumour', 'suppli', 'screen', 'appl', 'watch...', 'mk', 'ii'], ['know', 'isiss', 'alleg', 'organ', 'harvest', 'oper'], ['ghost', 'ship'], ['isi', 'releas', 'video', 'allegedli', 'show', 'behead', 'u.s.', 'journalist', 'steven', 'sotloff'], ['soni', 'hacker', 'email', 'thank', 'run', 'scare', 'well', 'stop'], ['woman', 'pay', '20000', 'third', 'breast', 'make', 'less', 'attract', 'men'], ['isra', 'report', 'sisi', 'offer', 'abba', 'palestinian', 'state', 'sinai'], ['lg', 'display', 'samsung', 'unit', 'suppli', 'appl', 'watch', 'screen', 'report'], ['offic', 'sandwich', 'thief', 'caught', 'hilari', 'note', 'war', 'reach', 'fantast', 'final'], ['threeboob', 'woman', 'theyr', 'not', 'fake'], ['isra', 'politician', 'prais', 'sisi', 'plan', 'give', 'palestinian', 'land', 'state', 'sinai'], ['hewlettpackard', 'split', 'two', 'compani'], ['greater', 'gaza', 'plan', 'israel', 'tri', 'forc', 'palestinian', 'sinai'], ['three', 'boob', 'like', 'two', 'boob', 'lie'], ['report', 'tesla', 'choos', 'nevada', 'site', 'massiv', 'batteri', 'factori'], ['third', 'breast', 'implant', 'turn', 'men'], ['afghan', 'mother', 'kill', '25', 'taliban', 'fighter', 'sevenhour', 'gunbattl', 'watch', 'son', 'slain', 'ambush'], ['jasmin', 'tridevil', 'woman', 'three', 'breast'], ['threebreast', 'woman', 'fake', 'tampa', 'polic'], ['mitten', 'intersex', 'cat', 'get', 'gender', 'assign'], ['florida', 'woman', 'claim', 'surgic', 'ad', 'third', 'breast'], ['jasmin', 'tridevil', 'third', 'boob', 'real', 'alisha', 'hessler', 'hoax', 'rumor', 'swirl'], ['woman', 'three', 'breast', 'reportedli', 'fake', 'jasmin', 'tridevil', 'real', 'ident', 'reveal'], ['rumor', 'swirl', 'israel', 'shock', 'sinai', 'endgam', 'plan', 'palestinian', 'gaza'], ['islam', 'state', 'tri', 'sell', 'decapit', 'bodi', 'us', 'hostag', 'jame', 'foley', '1', 'million'], ['justin', 'bieber', 'rington', 'save', 'russian', 'fisherman', 'dure', 'bear', 'attack'], ['woman', 'get', 'third', 'boob', 'implant', 'want', 'unattract', 'men'], ['report', 'egyptian', 'presid', 'make', 'surpris', 'suggest', 'move', 'locat', 'futur', 'palestinian', 'state'], ['saudi', 'nation', 'airlin', 'may', 'introduc', 'gender', 'segreg', 'flight'], ['scorpion', 'sting', 'flier', 'alaska', 'airlin', 'flight', 'l.a.'], ['isra', 'right', 'welcom', 'sisi', 'offer', 'palestinian', 'state', 'sinai'], ['triplebreast', 'woman', 'pictur', 'befor', 'oper', 'vow', 'surgeri', 'footag', 'prove', 'third', 'boob', 'hoax'], ['report', 'woman', 'claim', 'third', 'breast', 'ad', 'hope', 'becom', 'tv', 'star'], ['threeboob', 'girl', 'probabl', 'hoax', 'becaus', 'obvious'], ['school', 'children', 'johannesburg', 'imit', 'dog', 'fight', 'dure', 'recess'], ['elsisi', 'deni', 'claim', 'hell', 'give', 'sinai', 'land', 'palestinian'], ['sketchi', 'rumor', 'claim', 'appl', 'plan', 'new', '4inch', 'iphon', '2015'], ['polic', 'offic', 'charli', 'hebdo', 'investig', 'shot', 'dead', 'hour', 'attack'], ['hermaphrodit', 'cat', 'undergo', 'gender', 'reassign', 'surgeri'], ['hermaphrodit', 'cat', 'get', 'gender', 'assign', 'surgeri'], ['sandwich', 'thief', 'get', 'comeupp', 'thi', 'awesom', 'offic', 'note', 'saga'], ['theyr', 'fake!', 'woman', 'claim', 'surgic', 'implant', 'third', 'breast', 'selfproclaim', 'hoaxer', 'onc', 'report', '3', 'breast', 'prosthesi', 'stolen', 'luggag'], ['russian', 'guy', 'say', 'hi', 'justin', 'bieber', 'rington', 'save', 'bear', 'attack'], ['alsisi', 'propos', 'extend', 'gaza', 'strip', 'sinai', 'establish', 'palestinian', 'state'], ['third', 'boob', 'like', 'hoax'], ['thi', 'third', 'boob', 'probabl', 'onli', 'real', 'heart'], ['isi', 'leader', 'injur', 'air', 'strike', 'iraqi', 'offici', 'say'], ['blood', 'money', 'isi', 'sell', 'human', 'organ', 'harvest', 'live', 'hostag', 'dead', 'soldier', 'fund', 'terror', 'across', 'middl', 'east'], ['lunch', 'theft', 'prompt', 'ransom', 'note', 'sandwich', 'thief'], ['jasmin', 'tridevil', 'tripl', 'breast', 'tale', 'internet', 'hoax'], ['egypt', 'sisi', 'offer', 'abba', 'creation', 'palestinian', 'state', 'sinai', 'peninsula'], ['thi', 'passiveaggress', 'offic', 'battl', 'weve', 'ever', 'seen'], ['threebreast', 'florida', 'woman', 'jasmin', 'tridevil', 'insist', 'third', 'boob', 'real', 'polic', 'report', 'show', 'onc', 'lost', 'prosthesi'], ['florida', 'woman', 'get', 'third', 'breast', 'becom', 'unattract', '32'], ['woman', 'three', 'breast', 'wa', 'fake', 'ha', 'trick', 'peopl', 'onlin', 'befor'], ['florida', 'woman', 'ha', 'surgeri', 'add', 'third', 'breast', 'make', 'unatttract', 'men'], ['four', 'reason', 'not', 'give', 'hope', 'appl', 'buy', 'path'], ['dear', 'sandwich', 'thief', 'man', 'hilari', 'respons', 'passiveaggress', 'sign', 'post', 'hi', 'offic', 'fridg', 'door', 'spark', 'incred', 'kitchen', 'note', 'war'], ['egypt', 'offer', 'abba', 'land', 'sinai', 'futur', 'palestinian', 'state', 'read'], ['gender', 'assign', 'surgeri', 'given', 'hermaphrodit', 'cat'], ['appl', 'wa', 'forc', 'nix', 'key', 'health', 'featur', 'smartwatch', '', 'report'], ['tampa', 'woman', 'claim', 'add', '3rd', 'breast'], ['lenovo', 'look', 'buy', 'blackberri', 'ltd', '[report]'], ['report', 'woman', 'claim', 'third', 'breast', 'ad', 'fake'], ['meet', '3boob', 'woman'], ['woman', 'ha', 'surgeri', 'get', 'third', 'breast', 'three', 'statist', 'unlik', 'pair', 'boob'], ['report', 'jihadi', 'john', 'behead', 'jame', 'foley', 'wound', 'us', 'airstrik'], ['adopt', 'potenti', 'werewolv', 'routin', 'busi', 'argentin', 'presid'], ['fake', 'freak', 'woman', '21', 'claim', 'paid', '20000', 'surgic', 'add', 'third', 'breast', 'desper', 'bid', 'becom', 'realiti', 'tv', 'star'], ['egypt', 'presid', 'deni', 'offer', 'land', 'palestinian'], ['wa', 'charl', 'manson', 'fiancé', 'play', 'get', 'custodi', 'hi', 'corps'], ['fox', 'affili', 'fall', 'colleg', 'humor', 'offic', 'note', 'war', 'prank'], ['thi', 'woman', 'claim', 'plastic', 'surgeri', 'third', 'breast'], ['man', 'save', 'bear', 'attack', 'hi', 'justin', 'bieber', 'rington', 'goe', 'send', 'bear', 'flee'], ['florida', 'woman', 'get', 'third', 'breast', 'surgic', 'implant'], ['breast', 'chancer'], ['argentina', 'presid', 'adopt', 'jewish', 'godson', 'first', 'time', 'countri', 'histori'], ['stori', '3boob', 'ladi', 'fake', 'third', 'boob'], ['woman', 'add', 'third', 'breast', 'undergo', 'surgeri', 'particip', 'realiti', 'show'], ['dumb', 'racist', 'photoshop', 'ferguson', 'protest', 'aw', 'viral', 'meme'], ['hermaphrodit', 'cat', 'await', 'gender', 'reassign', 'surgeri', 'becom', 'boy'], ['jasmin', 'tridevil', 'woman', 'three', 'breast', 'deni', 'surgeri', 'hoax', 'claim'], ['canadian', 'cat', 'mitten', 'undergo', 'gender', 'reassign', 'surgeri', 'reveal', 'hermaphrodit'], ['3boob', 'woman', 'fake'], ['flight', 'delay', 'due', 'rampag', 'scorpion'], ['woman', 'claim', 'surgeri', 'add', 'third', 'breast', 'expos', 'hoaxer'], ['hermaphrodit', 'cat', 'get', 'gender', 'assign', 'surgeri'], ['fiveyearold', 'boy', 'get', 'bill', 'miss', 'school', 'friend', 'birthday', 'parti'], ['report', 'toronto', 'seattl', 'quebec', 'citi', 'join', 'vega', '2017', 'nhl', 'expans'], ['3', 'afghan', 'soldier', 'miss', 'u.s.', 'base', 'apprehend', 'canadian', 'border', 'report', 'say'], ['miracl', 'cat', 'claw', 'way', 'grave', 'five', 'day', 'buri'], ['florida', 'woman', 'get', 'plastic', 'surgeri', 'add', 'third', 'breast'], ['woman', 'three', 'breast', 'real', 'hoax'], ['sisi', 'deni', 'claim', 'provid', 'palestinian', 'sinai', 'land'], ['woman', 'get', 'third', 'boob', 'appear', 'unattract', 'men'], ['woman', 'ha', 'third', 'breast', 'implant'], ['isi', 'one', 'mile', 'baghdad']]\n"
     ]
    },
    {
     "name": "stdout",
     "output_type": "stream",
     "text": [
      "[['islam', 'state', 'leader', 'abu', 'bakr', 'albaghdadi', 'wound', 'airstrik', 'claim'], ['charl', 'manson', 'fiance', 'allegedli', 'want', 'marri', 'hi', 'corps'], ['tran', 'teen', 'die', 'suicid', 'leav', 'tumblr', 'note', 'way'], ['lisa', 'bonet', 'not', 'send', '“cryptic', 'tweet”', 'bill', 'cosbi', '—', 'twitter', 'account', 'fake!'], ['transgend', 'teen', 'struck', 'kill', 'ohio', 'interst', 'appar', 'suicid'], ['transgend', 'teen', 'commit', 'suicid', 'left', 'heartbreak', 'note', 'say', 'would', 'never', 'happi'], ['ohio', 'tran', 'teen', 'commit', 'suicid', 'leav', 'heartbreak', 'note', 'declar', '“there', 'way', 'out”'], ['charl', 'manson', 'fiance', 'use', 'hi', '...', 'corps'], ['found!', 'miss', 'afghan', 'soldier', 'spot', 'tri', 'enter', 'canada'], ['fox', 'affili', 'fall', 'colleg', 'humor', 'offic', 'note', 'war', 'prank'], ['report', 'nhl', 'expans', 'la', 'vega', 'done', 'deal'], ['4inch', 'iphon', '6', 'report', 'develop'], ['transgend', 'teen', 'leelah', 'alcorn', 'commit', 'suicid', 'walk', 'front', 'semi', 'truck', 'blame', 'christian', 'parent', 'viral', 'suicid', 'note'], ['saudi', 'arabian', 'airlin', 'rep', 'deni', 'plan', 'separ', 'men', 'women', 'flight'], ['transgend', 'teenag', '17', 'leav', 'heartbreak', 'suicid', 'note', 'blame', 'christian', 'parent', 'befor', 'walk', 'front', 'tractor', 'trailer', 'highway'], ['transgend', 'teen', 'leelah', 'alcorn', 'blame', 'christian', 'parent', 'tumblr', 'suicid', 'note'], ['transgend', 'teen', 'leav', 'note', 'tumblr', 'blame', 'christian', 'parent', 'suicid'], ['transgend', 'teen', 'commit', 'suicid', '&', 'pen', 'heartbreak', 'note', 'urg', 'world', 'chang']]\n",
      "[['iraqi', 'armi', 'two', 'british', 'plane', 'carri', 'weapon', 'isil', 'terrorist']]\n",
      "[['report', 'woman', 'claim', 'third', 'breast', 'ad', 'hope', 'becom', 'tv', 'star'], ['miss', 'afghan', 'soldier', 'taken', 'custodi', 'canadian', 'border'], ['sourc', 'joan', 'river', 'doc', 'biopsi', 'selfi'], ['rumor', 'swirl', 'israel', 'shock', 'sinai', 'endgam', 'plan', 'palestinian', 'gaza'], ['isi', 'leader', 'injur', 'air', 'strike', 'iraqi', 'offici', 'say'], ['report', 'three', 'miss', 'afghan', 'soldier', 'caught', 'canadian', 'border'], ['team', '5', 'sourc', 'miss', 'afghan', 'soldier', 'found', 'canadian', 'border'], ['isi', 'terror', 'chief', 'believ', 'dead', 'iraqi', 'militari', 'confirm', 'warlord', 'wa', 'injur', 'usl', 'airstrik', 'specul', 'grow', 'fear', 'jihadist', 'perish', 'attack'], ['abu', 'bakr', 'albaghdadi', 'fate', 'still', 'unknown', 'us', 'air', 'strike', 'isi', 'iraqi', 'forc', 'enter', 'baiji'], ['3', 'afghan', 'soldier', 'miss', 'u.s.', 'base', 'apprehend', 'canadian', 'border', 'report', 'say'], ['condit', 'abu', 'bakr', 'albaghdadi', 'islam', 'state', 'leader', 'doubt', 'airstrik'], ['isi', 'leader', 'injur', 'airstrik', 'dure', 'meet', 'iraq'], ['canadian', 'cat', 'mitten', 'undergo', 'gender', 'reassign', 'surgeri', 'reveal', 'hermaphrodit'], ['ibm', 'corp', 'expect', 'cut', '110000', 'job', 'massiv', 'overhaul', 'report', 'say'], ['iraqi', 'armi', '2', 'uk', 'plane', 'carri', 'weapon', 'isil'], ['isi', 'leader', 'abu', 'bakr', 'albaghdadi', 'wound', 'airstrik', 'iraq', 'offici', 'say'], ['saudi', 'airlin', 'sexist', 'airlin', 'intend', 'enforc', 'rule', 'separ', 'male', 'femal', 'passeng'], ['miss', 'afghan', 'soldier', 'found', 'us', 'canada', 'border'], ['isi', 'air', 'strike', 'abu', 'bakr', 'albaghdadi', 'critic', 'wound', 'air', 'strike', 'near', 'mosul'], ['sourc', 'three', 'afghan', 'soldier', 'locat', 'canadian', 'border'], ['miss', 'afghan', 'soldier', 'apprehend', 'tri', 'cross', 'border', 'canada'], ['hugh', 'hefner', 'dead', 'rumor', 'not', 'true'], ['polic', 'chief', 'charg', 'pari', 'attack', 'commit', 'suicid'], ['isi', 'admit', 'leader', 'abu', 'bakr', 'albaghdadi', 'injur', 'us', 'air', 'strike'], ['miss', 'afghan', 'soldier', 'reportedli', 'found', 'near', 'canadian', 'border'], ['syria', 'teenag', 'british', 'jihadi', 'brighton', 'kill', 'us', 'airstrik'], ['argentina', 'presid', 'adopt', 'godson', 'prevent', 'becom', 'werewolf'], ['hp', 'better', 'not', 'togeth', '—', 'compani', 'split', 'enterpris', 'pc/printer', 'busi'], ['afghan', 'soldier', 'found', 'canadian', 'border'], ['aunt', 'cut', '3yearold', 'peni', 'becaus', 'walk', 'wa', 'toilet'], ['report', '3', 'miss', 'afghan', 'detain', 'canadian', 'border'], ['sketchi', 'rumor', 'claim', 'appl', 'plan', 'new', '4inch', 'iphon', '2015'], ['isi', 'leader', 'abu', 'bakr', 'albaghdadi', 'injur', 'u.s.', 'air', 'strike', 'iraqi', 'offici', 'claim'], ['afghan', 'mother', 'reza', 'gul', 'take', 'slain', 'son', 'gun', 'kill', 'taliban', 'attack'], ['three', 'afghan', 'soldier', 'found', 'canada', 'border', 'leav', 'cape', 'cod', 'base'], ['found', 'canadian', 'border', '3', 'afghan', 'soldier', 'miss', 'cape', 'cod'], ['appl', 'watch', 'go', 'sale', 'march', 'claim', 'analyst'], ['three', 'afghan', 'soldier', 'vanish', 'massachusett', 'militari', 'base', 'found', 'tri', 'cross', 'canada'], ['report', 'miss', 'afghan', 'soldier', 'found', 'canadian', 'border'], ['u.s.', 'airstrik', 'hit', 'isi', 'leader', 'terror', 'group', 'chief', 'critic', 'wound', 'iraq', 'coalit', 'forc', 'bomb', 'jihadi', 'leader'], ['sourc', 'miss', 'afghan', 'soldier', 'canadian', 'border'], ['street', 'harass', 'realiz', 'women', 'theyr', 'catcal', 'mom', 'disguis'], ['steven', 'sotloff', 'behead', 'islam', 'state'], ['miss', 'afghani', 'soldier', 'found', 'tri', 'cross', 'us', 'border', 'canada'], ['sourc', 'miss', 'afghan', 'soldier', 'may', 'found', 'near', 'canadian', 'border'], ['fate', 'isi', 'leader', 'remain', 'unclear', 'us', 'airstrik', 'iraq'], ['fate', 'leader', 'abu', 'bakr', 'albaghdadi', 'unknown', 'airstrik', 'target'], ['isi', 'execution', 'jihadi', 'john', 'report', 'wound', 'air', 'strike;', 'uk', 'investig'], ['woman', 'ha', 'third', 'breast', 'implant'], ['isi', 'leader', 'abu', 'bakr', 'albaghdadi', 'wound', 'airstrikes;', 'hi', 'aid', 'kill'], ['justin', 'bieber', 'babi', 'save', 'man', 'violent', 'bear', 'attack'], ['islam', 'state', 'leader', 'abu', 'bakr', 'albaghdadi', 'wound', 'airstrik', 'claim'], ['reddit', 'user', 'convinc', 'tim', 'cook', 'chang', 'appl', 'onhold', 'music'], ['isi', 'allegedli', 'behead', 'second', 'captiv', 'american', 'journalist'], ['islam', 'state', 'leader', 'abu', 'bakr', 'albaghdadi', 'wound', 'dead', 'miss', 'entir', 'u.s.', 'airstrik'], ['found!', 'miss', 'afghan', 'soldier', 'spot', 'tri', 'enter', 'canada'], ['tesla', 'choos', 'nevada', 'batteri', 'factori', 'sourc'], ['lg', 'display', 'samsung', 'unit', 'suppli', 'appl', 'watch', 'screen', 'report']]\n",
      "[['transgend', 'teen', 'leelah', 'alcorn', 'blame', 'christian', 'parent', 'tumblr', 'suicid', 'note'], ['transgend', 'teen', 'commit', 'suicid', 'left', 'heartbreak', 'note', 'say', 'would', 'never', 'happi'], ['charl', 'manson', 'fiance', 'use', 'hi', '...', 'corps'], ['tran', 'teen', 'die', 'suicid', 'leav', 'tumblr', 'note', 'way'], ['saudi', 'arabian', 'airlin', 'rep', 'deni', 'plan', 'separ', 'men', 'women', 'flight'], ['transgend', 'teen', 'struck', 'kill', 'ohio', 'interst', 'appar', 'suicid'], ['lisa', 'bonet', 'not', 'send', '“cryptic', 'tweet”', 'bill', 'cosbi', '—', 'twitter', 'account', 'fake!'], ['transgend', 'teen', 'leav', 'note', 'tumblr', 'blame', 'christian', 'parent', 'suicid'], ['report', 'nhl', 'expans', 'la', 'vega', 'done', 'deal'], ['fox', 'affili', 'fall', 'colleg', 'humor', 'offic', 'note', 'war', 'prank'], ['transgend', 'teenag', '17', 'leav', 'heartbreak', 'suicid', 'note', 'blame', 'christian', 'parent', 'befor', 'walk', 'front', 'tractor', 'trailer', 'highway'], ['charl', 'manson', 'fiance', 'allegedli', 'want', 'marri', 'hi', 'corps'], ['transgend', 'teen', 'leelah', 'alcorn', 'commit', 'suicid', 'walk', 'front', 'semi', 'truck', 'blame', 'christian', 'parent', 'viral', 'suicid', 'note'], ['transgend', 'teen', 'commit', 'suicid', '&', 'pen', 'heartbreak', 'note', 'urg', 'world', 'chang'], ['found!', 'miss', 'afghan', 'soldier', 'spot', 'tri', 'enter', 'canada'], ['islam', 'state', 'leader', 'abu', 'bakr', 'albaghdadi', 'wound', 'airstrik', 'claim'], ['ohio', 'tran', 'teen', 'commit', 'suicid', 'leav', 'heartbreak', 'note', 'declar', '“there', 'way', 'out”']]\n"
     ]
    },
    {
     "name": "stdout",
     "output_type": "stream",
     "text": [
      "[['microsoft', 'near', 'deal', 'buy', 'minecraft', 'maker', 'mojang', '', 'wsj'], ['minecraft', 'expect', 'acquir', 'microsoft'], ['appl', 'scrap', 'advanc', 'appl', 'watch', 'health', 'monitor', 'featur', 'due', 'reliabl', 'issu'], ['microsoft', 'reportedli', 'buy', 'minecraft', 'develop', 'mojang', '2', 'billion'], ['argentina', 'presid', 'adopt', 'jewish', 'boy', 'save', 'life', 'werewolf'], ['ye', 'bought', 'microsoft'], ['microsoft', 'buy', 'minecraft', 'creator', 'mojang', '2.5b'], ['report', 'microsoft', 'tri', 'buy', 'mojang', 'creator', 'minecraft'], ['microsoft', 'near', 'deal', 'buy', 'minecraft', 'maker', 'mojang'], ['report', 'microsoft', 'may', 'buy', 'minecraft', 'studio', 'mojang'], ['microsoft', 'seriou', 'discuss', 'purchas', 'minecraft', 'dev', 'mojang'], ['microsoft', 'said', 'buy', 'maker', 'minecraft', '2', 'billion'], ['[googl', 'translate]', 'site', 'famili', 'flyer', 'maryam', 'mansouri', 'emphas', 'fabric', 'statement', 'repudi']]\n",
      "[['thi', 'crabzilla', 'spot', 'uk', 'monster', 'crab', 'measur', '50', 'feet']]\n",
      "[['tesla', 'motor', 'set', 'choos', 'nevada', 'gigafactori'], ['parent', 'fourthgrad', 'suspend', 'use', 'magic', 'hobbit'], ['tesla', 'said', 'select', 'nevada', 'first', 'batteri', 'site'], ['desper', 'bride', 'marri', 'wed', 'guest', 'instead', 'groom'], ['tesla', 'choos', 'nevada', 'batteri', 'factori'], ['cosbi', 'show', 'star', 'raven', 'symon', 'join', 'long', 'list', 'women', 'accus', 'bill', 'cosbi', 'rape'], ['gigafactori', 'locat', 'tesla', 'motor', 'confirm', 'nevada', 'announc', 'thursday'], ['tesla', 'choos', 'nevada', 'batteri', 'factori', 'sourc'], ['pregnant', 'woman', 'ha', 'lost', 'eye', 'shot', 'w/', 'bean', 'bag', 'ferguson'], ['report', 'tesla', 'choos', 'nevada', 'site', 'massiv', 'batteri', 'factori'], ['girl', 'pour', 'acid', 'boyfriend', 'peni', 'releas', 'sex', 'tape'], ['tesla', 'build', 'batteri', 'gigafactori', 'nevada'], ['three', 'boob', 'like', 'two', 'boob', 'lie'], ['hand', 'hong', 'kong', 'realli', 'ferguson'], ['cnbc', 'tesla', 'choos', 'nevada', 'new', 'batteri', 'factori', 'plant'], ['report', 'tesla', 'build', 'gigafactori', 'nevada', 'not', 'texa'], ['tesla', 'choos', 'nevada', 'batteri', 'factori'], ['tesla', 'settl', 'nevada', 'gigafactori', 'site', 'cnbc']]\n",
      "[['argentina', 'presid', 'adopt', 'boy', 'end', 'werewolf', 'curs'], ['peruvian', 'tv', 'show', 'trick', 'men', 'catcal', 'mother', 'femin'], ['sorri', 'argentina', 'presid', 'didnt', 'actual', 'adopt', 'jewish', 'werewolf'], ['fisherman', 'save', 'deadli', 'bear', 'attack', 'hi', 'justin', 'bieber', 'rington'], ['argentina', 'presid', 'adopt', 'young', 'boy', 'wont', 'turn', 'werewolf'], ['saudi', 'arabia', 'airlin', 'segreg', 'saudi', 'airlin', 'assign', 'seat', 'base', 'gender'], ['argentina', 'ha', 'superstit', 'seventh', 'son', 'turn', 'werewolv'], ['russian', 'guy', 'say', 'hi', 'justin', 'bieber', 'rington', 'save', 'bear', 'attack'], ['argentina', 'presid', 'adopt', 'jewish', 'godson', 'counteract', 'werewolf', 'legend'], ['justin', 'bieber', 'basic', 'save', 'russian', 'man', 'bear'], ['presid', 'argentina', 'adopt', 'boy', 'stop', 'becom', 'werewolf'], ['justin', 'bieber', 'rington', 'startl', 'bear'], ['man', 'maul', 'bear', 'say', 'onli', 'aliv', 'thank', 'justin', 'bieber'], ['presid', 'argentina', 'adopt', 'jewish', 'boy', 'stop', 'turn', 'werewolf'], ['justin', 'bieber', 'save', 'thi', 'guy', 'bear', 'attack'], ['justin', 'bieber', 'rington', 'save', 'russian', 'man', 'bear', 'attack'], ['jame', 'foley', 'famili', 'claim', 'govern', 'threaten', 'ransom', 'payment'], ['justin', 'bieber', 'rington', 'scare', 'bear', 'save', 'russian', 'fisherman'], ['justin', 'bieber', 'scare', 'grizzli', 'bear', 'save', 'fisherman', 'maul'], ['china', 'peni', 'amput', 'cruel', 'aunt', 'vicious', 'mutil', 'toddler', 'genit', 'punish'], ['beasteat', 'frighten', 'phone', 'signal', 'threw', 'victim', 'rend', 'taiga'], ['justin', 'bieber', 'rington', 'save', 'man', 'maul', 'bear'], ['foley', 'famili', 'say', 'wa', 'threaten', 'u.s.', 'offici', 'ransom', 'abc'], ['justin', 'bieber', 'save', 'man', 'bear', 'attack'], ['isi', 'execution', 'jihadi', 'john', 'allegedli', 'wound', 'u.s.l', 'air', 'strike', 'report'], ['werewolf', 'legend', 'lead', 'argentin', 'presid', 'adopt'], ['unbear', 'man', 'fend', 'bear', 'attack', 'play', 'justin', 'bieber', 'song'], ['lenovo', 'might', 'eye', 'blackberry...'], ['satir', 'websit', 'fool', 'espn', 'kei', 'nishikori', 'isnt', 'highest', 'paid', 'tenni', 'star'], ['passeng', 'head', 'dalla', 'rage', 'merri', 'christma', 'remov', 'plane'], ['argentina', 'presid', 'adopt', 'jewish', 'babi', 'stop', 'becom', 'werewolf'], ['argentin', 'presid', 'take', 'godson', '—', 'not', 'keep', 'werewolf', 'bay'], ['argentinian', 'presid', 'cristina', 'kirchner', 'adopt', 'jewish', 'boy', 'protect', 'werewolf', 'stigma'], ['weird', 'stori', 'go', 'around', 'argentina', 'presid', 'save', 'jewish', 'man', 'becom', 'werewolf'], ['sourc', 'joan', 'river', 'doc', 'biopsi', 'selfi'], ['rumor', 'appl', 'latestag', 'talk', 'buy', 'path', 'social', 'platform'], ['argentina', 'presid', 'adopt', 'jewish', 'godson', 'stop', 'turn', 'werewolf'], ['argentina', 'presid', 'adopt', 'godson', 'prevent', 'becom', 'werewolf'], ['argentina', 'presid', 'not', 'adopt', 'jewish', 'child', 'stop', 'turn', 'werewolf'], ['jealou', 'wife', 'chop', 'husband', 'peni', 'cheat', 'chop', 'second', 'time'], ['argentina', 'presid', 'adopt', 'jewish', 'godson', 'first', 'time', 'countri', 'histori'], ['peopl', 'actual', 'believ', 'argentina', 'presid', 'adopt', 'jewish', 'boy', 'stop', 'hi', 'chang', 'werewolf'], ['presid', 'argentina', 'adopt', 'godson', 'stop', 'turn', 'werewolf'], ['argentina', 'presid', 'adopt', 'jewish', 'boy', 'save', 'life', 'werewolf'], ['justin', 'bieber', 'babi', 'save', 'man', 'violent', 'bear', 'attack'], ['werewolf', 'legend', 'lead', 'jewish', 'godson', 'adopt', 'argentina', 'presid'], ['argentina', 'presid', 'adopt', 'young', 'jewish', 'boy', 'godson', 'prevent', 'turn', 'werewolf'], ['presid', 'argentina', 'adopt', 'jewish', 'godson', 'stop', 'turn', 'werewolf'], ['bieber', 'rington', 'scare', 'bear', 'save', 'man', 'life'], ['justin', 'bieber', 'save', 'guy', 'get', 'maul', 'bear'], ['justin', 'bieber', 'rington', 'save', 'man', 'life', 'wa', 'attack', 'bear'], ['justin', 'bieber', 'rington', 'save', 'russian', 'fisherman', 'bear', 'attack'], ['justin', 'bieber', 'help', 'defend', 'russian', 'fisherman', 'bear'], ['justin', 'bieber', 'rington', 'save', 'russian', 'fisherman', 'dure', 'bear', 'attack'], ['bear', 'attack', 'foil', 'justin', 'bieber', 'music', 'stori', 'good', 'check'], ['man', 'save', 'bear', 'attack', 'hi', 'justin', 'bieber', 'rington', 'goe', 'send', 'bear', 'flee'], ['enrag', 'spous', 'chop', 'unfaith', 'husband', 'manhood', '–', 'twice'], ['argentina', 'presid', 'didnt', 'adopt', 'jewish', 'child', 'avoid', 'becom', 'werewolf;'], ['man', 'save', 'bear', 'attack', '', 'thank', 'hi', 'justin', 'bieber', 'rington'], ['argentina', 'presid', 'adopt', 'jewish', 'boy', 'keep', 'turn', 'werewolf'], ['final', 'proof', 'justin', 'bieber', 'unbear', 'russian', 'fisherman', 'save', 'bear', 'attack', 'rington', 'featur', 'one', 'pop', 'brat', 'song', 'scare', 'away'], ['adopt', 'potenti', 'werewolv', 'routin', 'busi', 'argentin', 'presid'], ['stori', 'argentinean', 'presid', 'werewolv', 'seventh', 'son'], ['jilt', 'wife', 'chop', 'husband', 'peni', 'twice', 'scissor', 'catch', 'cheat'], ['argentina', 'presid', 'adopt', 'son', 'wont', 'turn', 'werewolf'], ['argentina', 'presid', 'cristina', 'kirchner', 'adopt', 'jewish', 'godson', 'prevent', 'turn', 'werewolf'], ['argentina', 'presid', 'christina', 'kirchner', 'ha', 'bizarr', 'werewolf', 'mishap']]\n",
      "[['appl', 'may', 'buy', 'path', 'social', 'app', 'dont', 'use'], ['egypt', 'sisi', 'offer', 'abba', 'creation', 'palestinian', 'state', 'sinai', 'peninsula'], ['report', 'appl', 'acquir', 'path', 'struggl', 'social', 'network'], ['hewlettpackard', 'break', '2', 'compani'], ['hermaphrodit', 'cat', 'get', 'gender', 'assign', 'surgeri'], ['hewlett', 'packard', 'plan', 'split', 'two'], ['hermaphrodit', 'cat', 'undergo', 'gender', 'reassign', 'surgeri'], ['sourc', 'appl', 'set', 'acquir', 'path', 'attempt', 'bolster', 'io', 'social', 'cred'], ['hermaphrodit', 'cat', 'name', 'mitten', 'get', 'gender', 'reassign'], ['hewlettpackard', 'split', '2', 'compani'], ['hp', 'confirm', 'plan', 'split', 'compani'], ['islam', 'state', 'releas', 'video', 'show', 'behead', 'us', 'hostag', 'steven', 'sotloff'], ['hp', 'reportedli', 'plan', 'split', 'pc', 'printer', 'busi', 'enterpris', 'unit'], ['hewlettpackard', 'announc', 'plan', 'break', 'compani'], ['nhl', 'expans', 'includ', 'toronto', 'quebec', 'citi', 'seattl', 'la', 'vega', 'report'], ['hermaphrodit', 'cat', 'await', 'gender', 'reassign', 'surgeri', 'becom', 'boy'], ['hp', 'split', 'two', 'busi', '', 'report'], ['report', 'hp', 'split', 'two', 'compani', 'one', 'focus', 'pcs/printer', 'one', 'enterpris', 'comput'], ['hewlettpackard', 'reportedli', 'split', 'two', 'compani'], ['hewlettpackard', 'plan', 'break', 'two'], ['hewlettpackard', 'split', 'two', 'public', 'compani'], ['gender', 'segreg', 'saudia'], ['steven', 'sotloff', 'islam', 'state', 'kill', 'us', 'hostag'], ['gender', 'assign', 'surgeri', 'given', 'hermaphrodit', 'cat'], ['hp', 'reportedli', 'split', 'two', 'compani'], ['hewlettpackard', 'plan', 'split', 'two', 'compani', 'report'], ['report', 'hewlettpackard', 'plan', 'break', '2', 'compani'], ['wednesday', 'appl', 'rumor', 'appl', 'may', 'readi', 'buy', 'path'], ['four', 'reason', 'not', 'give', 'hope', 'appl', 'buy', 'path'], ['hp', 'announc', 'plan', 'split', 'two'], ['hermaphrodit', 'cat', 'get', 'gender', 'assign', 'surgeri'], ['hewlettpackard', 'plan', 'split', 'two', 'compani', 'wsj', 'report'], ['canadian', 'cat', 'mitten', 'undergo', 'gender', 'reassign', 'surgeri', 'reveal', 'hermaphrodit'], ['exclus', 'lenovo', 'could', 'make', 'offer', 'blackberri', 'earli', 'thi', 'week'], ['hewlettpackard', 'split', 'two', 'compani'], ['hewlettpackard', 'split', 'pc', 'printer', 'busi'], ['hp', 'better', 'not', 'togeth', '—', 'compani', 'split', 'enterpris', 'pc/printer', 'busi'], ['hp', 'plan', 'split', 'two', 'separ', 'busi'], ['appl', 'could', 'eye', 'purchas', 'social', 'network', 'app', 'path'], ['report', 'appl', 'may', 'buy', 'social', 'network', 'path'], ['appl', 'late', 'stage', 'acquir', 'path', 'report', 'say'], ['appl', 'report', 'near', 'buy', 'path', 'social', 'network'], ['hewlettpackard', 'plan', 'break', 'two', 'compani', 'report'], ['report', 'tesla', 'choos', 'nevada', 'site', 'massiv', 'batteri', 'factori'], ['everyth', 'need', 'know', 'path', 'struggl', 'social', 'network', 'appl', 'sight'], ['rumor', 'appl', 'latestag', 'talk', 'buy', 'path', 'social', 'platform'], ['zombi', 'cat', 'buri', 'cat', 'claw', 'way', 'grave', 'left', 'dead'], ['morin', 'goe', 'back', 'transpar', 'pledg', 'refus', 'confirm', 'deni', 'report', 'appl', 'buy', 'path'], ['appl', 'reportedli', 'close', 'acquir', 'path', 'look', 'integr', 'servic', 'messag'], ['mitten', 'intersex', 'cat', 'get', 'gender', 'assign'], ['path', 'social', 'network', 'appl', 'may', 'acquir']]\n"
     ]
    },
    {
     "name": "stdout",
     "output_type": "stream",
     "text": [
      "[['white', 'hous', 'chief', 'staff', 'deni', 'mcdonough', 'threat', 'made', 'foley', 'sotloff', 'famili', 'possibl', 'ransom'], ['wh', 'didnt', 'threaten', 'foley', 'sotloff', 'famili'], ['isi', 'reportedli', 'behead', 'poster', 'child', 'kurdish', 'femal', 'fighter'], ['white', 'hous', 'threaten', 'jame', 'foley', 'famili', 'prosecut'], ['jame', 'foley', 'famili', 'obama', 'offici', 'vow', 'crimin', 'charg', 'paid', 'son', 'ransom'], ['isi', 'advanc', 'within', '10', 'mile', 'baghdad'], ['appl', 'reportedli', 'plan', 'shut', 'beat', 'music', 'subscript', 'stream', 'servic', '[u]'], ['jame', 'foley', 'famili', 'claim', 'govern', 'threaten', 'ransom', 'payment'], ['report', 'woman', 'claim', 'third', 'breast', 'ad', 'hope', 'becom', 'tv', 'star'], ['thi', 'man', 'kept', 'harass', 'women', 'streets.', 'one', 'day…', 'mom!'], ['us', 'threaten', 'prosecut', 'famili', '2', 'murder', 'american', 'paid', 'ransom', 'isi'], ['girl', 'destroy', 'boyfriend', 'peni', 'acid', 'attack', 'video', 'sex', 'goe', 'viral'], ['lenovo', 'resum', 'effort', 'acquir', 'struggl', 'phone', 'maker', 'blackberri'], ['jame', 'foley', 'mother', 'appal', 'u.s.', 'govern', 'handl', 'case'], ['foley', 'famili', 'say', 'wa', 'threaten', 'u.s.', 'offici', 'ransom', 'abc'], ['joan', 'river', 'doctor', 'snap', 'selfi', 'dure', 'throat', 'procedur', 'report'], ['50ft', 'crustacean', 'dub', 'crabzilla', 'photograph', 'lurk', 'beneath', 'water', 'whitstabl'], ['brighton', 'jihadi', 'among', 'five', 'kill', 'syria', 'drone', 'strike'], ['u.s.', 'airstrik', 'hit', 'isi', 'leader', 'terror', 'group', 'chief', 'critic', 'wound', 'iraq', 'coalit', 'forc', 'bomb', 'jihadi', 'leader'], ['us', 'deni', 'threaten', 'foley', 'famili'], ['wh', 'wont', 'say', 'foley', 'famili', 'wa', 'threaten', 'not', 'pay', 'ransom'], ['parent', 'say', 'kept', 'dark', 'attempt', 'save', 'jame', 'foley'], ['got', 'way', 'jame', 'foley', 'brother', 'back', 'mother', 'attack', 'obama', 'administr', 'failur', 'save', 'photojournalist', 'befor', 'wa', 'behead', 'isi'], ['govern', 'threaten', 'foley', 'crimin', 'charg', 'ransom'], ['crabzilla'], ['white', 'hous', 'deni', 'threaten', 'famili', 'slain', 'american', 'journalist'], ['u.s.', 'offici', 'threaten', 'jame', 'foley', 'parent', 'prosecut', 'ransom'], ['would', 'us', 'sue', 'parent', 'jame', 'foley', 'whi', 'white', 'hous', 'defend'], ['white', 'hous', 'deni', 'threaten', 'famili', 'jame', 'foley', 'steven', 'sotloff', 'isi', 'ransom', 'add', 'made', 'law', 'clear']]\n",
      "[['joan', 'river', 'doctor', 'took', 'selfi', 'wa', 'anesthesia', 'report'], ['jealou', 'wife', 'chop', 'husband', 'peni', 'cheat', 'chop', 'second', 'time'], ['china', 'wife', 'chop', 'cheat', 'husband', 'peni', 'twice', 'scissor', 'throw', 'window'], ['saudi', 'arabia', 'nation', 'airlin', 'introduc', 'gender', 'segreg', 'string', 'complaint', 'male', 'passeng'], ['men', 'werent', 'realli', 'trick', 'sexual', 'harass', 'mom'], ['saudi', 'women', 'may', 'cover', 'sexi', 'eye'], ['fake', 'new', 'report', 'claim', 'logger', 'cut', 'world', 'oldest', 'tree'], ['wife', 'chop', 'cheat', 'husband', 'peni', 'twice', '–', 'stray', 'anim', 'steal'], ['appl', 'shut', 'beat', 'music', 'not', 'appl', 'say'], ['jilt', 'wife', 'chop', 'husband', 'peni', 'twice', 'scissor', 'catch', 'cheat'], ['jame', 'foley', 'famili', 'obama', 'offici', 'vow', 'crimin', 'charg', 'paid', 'son', 'ransom'], ['woman', 'cut', 'husband', 'peni', 'twice', 'catch', 'cheat'], ['man', 'china', 'recov', 'hospit', 'wife', 'chop', 'hi', 'peni'], ['jilt', 'wife', 'chop', 'twotim', 'hubbi', 'manhood', '—', 'twice'], ['yemen', 'houthi', 'rebel', 'seiz', 'u.s.', 'marin', 'weapon', 'airport'], ['woman', 'cut', 'husband', 'peni', 'twice', 'throw', 'window'], ['wife', 'chop', 'cheat', 'husband', 'peni', 'twice'], ['enrag', 'spous', 'chop', 'unfaith', 'husband', 'manhood', '–', 'twice'], ['fowler', 'fall', 'fake', 'websit', 'make', 'crazi', 'claim', 'tenni', 'star'], ['woman', 'reportedli', 'cut', 'husband', 'peni', 'twice', 'one', 'night'], ['wife', 'chop', 'cheat', 'husband', 'peni', 'twice'], ['wife', 'chop', 'husband', 'peni', 'discov', 'cheat', 'her…', 'cut', 'surgeon', 'manag', 'reattach', 'china'], ['hear', 'unconfirm', 'report', 'saudi', 'pipelin', 'explos'], ['wife', 'cut', 'husband', 'peni', 'twice', 'catch', 'cheat']]\n",
      "[['islam', 'state', 'reap', 'profit', 'organ', 'traffick'], ['iraqi', 'offici', 'accus', 'isi', 'harvest', 'organ', 'financ', 'oper'], ['lg', 'make', 'million', 'flexibl', 'plastic', 'ole', 'display', 'appl', 'watch'], ['isi', 'organ', 'harvest', 'must', 'probe', 'secur', 'council', '–', 'iraqi', 'envoy'], ['\\u200bisi', 'might', 'harvest', 'organ', 'iraqi', 'diplomat', 'say'], ['iraq', 'ambassador', 'urg', 'un', 'investig', 'claim', 'isi', 'harvest', 'organ', 'bodi', '', 'clear', 'miss', 'certain', 'part'], ['isi', 'might', 'harvest', 'organ', 'financ', 'oper', 'iraqi', 'envoy', 'tell', 'un'], ['islam', 'state', 'fund', 'terror', 'oper', 'brutal', 'harvest', 'organ', 'un', 'warn'], ['blood', 'money', 'isi', 'sell', 'human', 'organ', 'harvest', 'live', 'hostag', 'dead', 'soldier', 'fund', 'terror', 'across', 'middl', 'east'], ['lg', 'sole', 'supplier', 'appl', 'watch', 'display'], ['know', 'isiss', 'alleg', 'organ', 'harvest', 'oper'], ['un', 'urg', 'investig', 'isiss', 'bloodi', 'trade', 'human', 'organ', 'iraqi', 'ambassador', 'reveal', 'doctor', 'execut', 'not', 'harvest', 'bodi', 'part'], ['ohio', 'tran', 'teen', 'commit', 'suicid', 'leav', 'heartbreak', 'note', 'declar', '“there', 'way', 'out”'], ['isi', 'suspect', 'sell', 'human', 'organ', 'money', 'iraq'], ['tail', 'surviv', 'buri', 'cat', 'believ', 'dead', 'claw', 'back', 'life'], ['stephen', 'sotloff', 'behead', 'shown', 'video', 'isi', 'claim'], ['joan', 'river', 'doctor', 'snap', 'selfi', 'befor', 'biopsi', 'surgeri'], ['isi', 'harvest', 'victim', 'organ', 'financ', 'terror'], ['isi', 'might', 'harvest', 'organ', 'iraq', 'tell', 'un'], ['unit', 'nation', 'ask', 'investig', 'claim', 'organ', 'harvest', 'isi'], ['isi', 'might', 'harvest', 'organ', 'iraqi', 'ambassador', 'tell', 'un', 'amid', 'report', 'hostag', 'burn', 'aliv']]\n",
      "[['hacker', 'tell', 'soni', 'wise', 'cancel', 'film', 'dont', 'make', 'troubl', 'cnn']]\n",
      "[['charli', 'hebdo', 'investig', 'took', 'life', 'hour', 'attack', 'report'], ['arab', 'woman', 'pilot', 'poster', 'girl', 'gulf', 'state', 'blitz', 'isi', 'disown', 'famili', 'bomb', 'sunni', 'hero', 'iraq', 'levant'], ['transgend', 'teen', 'leelah', 'alcorn', 'commit', 'suicid', 'walk', 'front', 'semi', 'truck', 'blame', 'christian', 'parent', 'viral', 'suicid', 'note'], ['appl', 'reportedli', 'close', 'acquir', 'path', 'look', 'integr', 'servic', 'messag'], ['rumor', 'appl', 'latestag', 'talk', 'buy', 'path', 'social', 'platform'], ['appl', 'may', 'buy', 'path', 'social', 'app', 'dont', 'use'], ['appl', 'late', 'stage', 'acquir', 'path', 'report', 'say'], ['nhl', 'expans', 'includ', 'toronto', 'quebec', 'citi', 'seattl', 'la', 'vega', 'report'], ['everyth', 'need', 'know', 'path', 'struggl', 'social', 'network', 'appl', 'sight'], ['morin', 'goe', 'back', 'transpar', 'pledg', 'refus', 'confirm', 'deni', 'report', 'appl', 'buy', 'path'], ['report', 'appl', 'may', 'buy', 'social', 'network', 'path'], ['appl', 'could', 'eye', 'purchas', 'social', 'network', 'app', 'path'], ['top', 'cop', 'investig', 'charli', 'hebdo', 'attack', 'kill', 'hour', 'french', 'massacr'], ['polic', 'chief', 'charg', 'pari', 'attack', 'commit', 'suicid'], ['joan', 'river', 'doctor', 'took', 'selfi', 'wa', 'cold', 'befor', 'unauthoris', 'biopsi'], ['steven', 'sotloff', 'islam', 'state', 'kill', 'us', 'hostag'], ['hong', 'kong', 'riot', 'cop', 'forc', 'withdraw', 'democraci', 'protest', 'copi', 'dont', 'shoot', 'gestur', 'use', 'us', 'demonstr', 'polic', 'offic', 'shot', 'unarm', 'black', 'teenag'], ['new', 'twist', 'charli', 'hebdo', 'polic', 'investig', 'turn', 'dead', 'suicid'], ['polish', 'teenag', 'wake', 'dure', 'brain', 'surgeri', 'talk', 'doctor'], ['raven', 'symon', 'file', 'molest', 'charg', 'bill', 'cosbi'], ['appl', 'report', 'near', 'buy', 'path', 'social', 'network'], ['four', 'reason', 'not', 'give', 'hope', 'appl', 'buy', 'path'], ['gender', 'segreg', 'saudia'], ['polic', 'offic', 'charli', 'hebdo', 'investig', 'shot', 'dead', 'hour', 'attack'], ['torpoint', 'fiveyearold', 'bill', 'miss', 'friend', 'birthday', 'parti', 'england'], ['jihadist', 'brit', 'teen', 'kill', 'us', 'air', 'strike'], ['wednesday', 'appl', 'rumor', 'appl', 'may', 'readi', 'buy', 'path'], ['path', 'social', 'network', 'appl', 'may', 'acquir'], ['report', 'appl', 'acquir', 'path', 'struggl', 'social', 'network'], ['charli', 'hebdo', 'top', 'cop', 'helric', 'fredou', 'kill', 'hour', 'magazin', 'massacr'], ['sourc', 'appl', 'set', 'acquir', 'path', 'attempt', 'bolster', 'io', 'social', 'cred']]\n"
     ]
    },
    {
     "name": "stdout",
     "output_type": "stream",
     "text": [
      "[['hewlettpackard', 'break', '2', 'compani'], ['report', 'marin', 'order', 'state', 'dept', 'surrend', 'weapon', 'us', 'embassi', 'evac', 'yemen'], ['yemen', 'houthi', 'rebel', 'seiz', 'u.s.', 'marin', 'weapon', 'airport'], ['miss', 'afghan', 'soldier', 'taken', 'custodi', 'canadian', 'border'], ['hewlettpackard', 'split', 'pc', 'printer', 'busi'], ['hewlettpackard', 'plan', 'split', 'two', 'compani', 'report'], ['hewlett', 'packard', 'plan', 'split', 'two'], ['u.s.', 'offici', 'threaten', 'jame', 'foley', 'parent', 'prosecut', 'ransom'], ['pete', 'hegseth', 'marin', 'exit', 'yemen', 'forc', 'surrend', 'digniti', 'weapon'], ['hp', 'split', 'two', 'busi', '', 'report'], ['hp', 'better', 'not', 'togeth', '—', 'compani', 'split', 'enterpris', 'pc/printer', 'busi'], ['hewlettpackard', 'reportedli', 'split', 'two', 'compani'], ['scorpion', 'sting', 'woman', 'osu', 'plane'], ['hp', 'reportedli', 'plan', 'split', 'pc', 'printer', 'busi', 'enterpris', 'unit'], ['fox', 'new', 'float', 'bs', 'stori', 'flee', 'marin', 'give', 'rebel', 'gun'], ['gender', 'segreg', 'saudia'], ['report', 'hp', 'split', 'two', 'compani', 'one', 'focus', 'pcs/printer', 'one', 'enterpris', 'comput'], ['hewlettpackard', 'plan', 'break', 'two'], ['hp', 'plan', 'split', 'two', 'separ', 'busi'], ['charl', 'manson', 'wed', 'bride', 'want', 'display', 'hi', 'dead', 'bodi', 'glass', 'coffin'], ['report', 'hewlettpackard', 'plan', 'break', '2', 'compani'], ['govern', 'threaten', 'foley', 'crimin', 'charg', 'ransom'], ['hewlettpackard', 'plan', 'split', 'two', 'compani', 'wsj', 'report'], ['hewlettpackard', 'plan', 'break', 'two', 'compani', 'report'], ['hp', 'confirm', 'plan', 'split', 'compani'], ['explos', 'new', 'detail', 'joan', 'river', 'medic', 'crisi', 'doctor', 'snap', 'selfi', 'legendari', 'comic', '&', 'perform', 'unauthor', 'biopsi', 'wa', 'anesthesia!'], ['oil', 'spike', 'u.s.', 'inventori', 'data', 'saudi', 'explos', 'rumor'], ['hewlettpackard', 'announc', 'plan', 'break', 'compani'], ['hp', 'announc', 'plan', 'split', 'two'], ['origin', 'appl', 'watch', 'health', 'featur', 'drop', 'due', 'consist', 'issu'], ['third', 'boob', 'like', 'hoax'], ['hp', 'reportedli', 'split', 'two', 'compani'], ['miss', 'fort', 'carson', 'item', 'not', 'nuclear', 'weapon', '', 'despit', 'internet', 'rumor'], ['charl', 'manson', 'wed', 'fiance', 'morbid', 'plan', 'exploit', 'hi', 'corps', 'emerg'], ['hewlettpackard', 'split', 'two', 'public', 'compani'], ['offici', 'houthi', 'take', 'u.s.', 'vehicl', 'weapon', 'yemen'], ['hewlettpackard', 'split', '2', 'compani'], ['threeboob', 'woman', 'theyr', 'not', 'fake'], ['hewlettpackard', 'split', 'two', 'compani']]\n",
      "[['3', 'reason', 'kim', 'jongun', 'could', 'miss', 'includ', 'socal', 'downfal', 'chees'], ['kim', 'jongun', 'discomfort', 'chees', 'addict'], ['kim', 'jong', 'ill', 'north', 'korean', 'dictat', 'poor', 'health', 'hi', 'weight', 'ha', 'balloon', 'thank', 'obsess', 'chees'], ['miss', 'kim', 'jongun', 'suffer', 'condit', 'chees', 'bing'], ['switzerland', 'assassin', 'kim', 'jong', 'un', 'might', 'die', 'chees', 'overdos'], ['fat', 'dictat', 'kim', 'jongun', 'die', 'chees', 'addict'], ['north', 'korean', 'dictat', 'kim', 'jongun', 'may', 'serious', 'ill', 'eat', 'much', 'emment', 'chees', 'report'], ['kim', 'jongun', 'may', 'die', 'becaus', 'addict', 'swiss', 'chees'], ['kim', 'jong', 'unwel', '–', 'could', 'gout!', 'north', 'korea', 'confirm', 'young', 'dictat', 'suffer', 'discomfort', 'addict', 'swiss', 'chees', 'reveal'], ['chees', 'addict', 'break', 'kim', 'jongun', 'ankl'], ['purport', 'lisa', 'bonet', 'twitter', 'account', 'suspend', 'cryptic', 'cosbi', 'tweet'], ['kim', 'jongun', 'love', 'chees', 'much', 'balloon', 'size', 'walk', 'limp'], ['chees', 'blame', 'north', 'korean', 'leader', 'kim', 'jongun', 'broken', 'ankl']]\n",
      "[['report', 'appl', 'watch', 'avail', 'outsid', 'us', 'launch', 'next', 'month'], ['fowler', 'fall', 'fake', 'websit', 'make', 'crazi', 'claim', 'tenni', 'star'], ['thi', 'crabzilla', 'spot', 'uk', 'monster', 'crab', 'measur', '50', 'feet'], ['crabzilla', 'real', 'not', 'lead', 'marin', 'biologist', 'rule', 'pictur', 'giant', 'crab', 'lurk', 'shallow', 'water', 'must', 'hoax'], ['crabzilla', 'photo', 'appear', 'show', 'giant', '50foot', 'crab', 'lurk', 'british', 'water'], ['50', 'foot', 'crab', '', 'thi', 'crabzilla', 'spot', 'uk'], ['thi', 'crabzilla', 'giant', 'monster', 'crab', 'caught', 'camera'], ['crabzilla'], ['50ft', 'crustacean', 'dub', 'crabzilla', 'photograph', 'lurk', 'beneath', 'water', 'whitstabl'], ['argentina', 'presid', 'didnt', 'adopt', 'jewish', 'child', 'avoid', 'becom', 'werewolf;'], ['korean', 'housewif', 'hair', 'suck', 'robot', 'vacuum'], ['report', 'doctor', 'took', 'selfi', 'joan', 'river', 'wa', 'anesthesia'], ['thi', 'crabzilla', 'giant', 'crab', 'measur', '50ft', 'spot', 'british', 'coast'], ['soni', 'hacker', 'email', 'thank', 'run', 'scare', 'well', 'stop'], ['crabzilla', 'spot', 'coast', 'britain'], ['could', 'crabzilla', '50footlong', 'crab', 'real'], ['bunch', 'cool', 'health', 'featur', 'cut', 'appl', 'watch', 'last', 'minut'], ['appl', 'watch', 'edit', 'contain', 'new', '“appl', 'gold”'], ['crabzilla!', 'satellit', 'pictur', 'reveal', 'giant', 'crustacean', 'lurk', 'coast', 'whitstabl'], ['five', 'reason', 'crabzilla', 'definit', 'not', 'real'], ['crabzilla', '50foot', 'coloss', 'conundrum'], ['stolen', 'member'], ['crabzilla', 'crapzilla', '', 'decid'], ['report', 'doctor', 'snap', 'selfi', 'joan', 'river', 'wa', 'anesthesia'], ['appl', 'watch', 'edit', 'save', 'gold', 'patent', 'alloy', 'could', 'start', '2999'], ['giant', 'crab'], ['mysteri', '50ft', 'giant', 'crab', 'caught', 'camera', 'yard', 'british', 'harbour'], ['isi', 'organ', 'harvest', 'must', 'probe', 'secur', 'council', '–', 'iraqi', 'envoy'], ['crabzilla!', 'photo', 'appear', 'show', 'giant', 'crab', 'measur', 'least', '50ft', 'across', 'lurk', 'water', 'whitstabl'], ['lenovo', 'tip', 'make', 'bid', 'blackberri', 'thi', 'week'], ['whole', 'internet', 'wait', 'thi', 'pic', 'monster', '50foot', 'crab', 'declar', 'hoax'], ['crabzilla', 'artist', 'quinton', 'winter', 'reveal', 'imag', 'crab', 'whitstabl', 'appear', 'horsebridg', 'centr'], ['mysteri', '50ft', 'giant', 'crab', 'caught', 'camera', 'kent', 'harbour']]\n",
      "[['woman', 'pay', '20000', 'third', 'breast', 'make', 'less', 'attract', 'men']]\n",
      "[['unit', 'nation', 'ask', 'investig', 'claim', 'organ', 'harvest', 'isi']]\n",
      "[['morin', 'goe', 'back', 'transpar', 'pledg', 'refus', 'confirm', 'deni', 'report', 'appl', 'buy', 'path'], ['report', 'appl', 'may', 'buy', 'social', 'network', 'path'], ['appl', 'could', 'eye', 'purchas', 'social', 'network', 'app', 'path'], ['report', 'appl', 'acquir', 'path', 'struggl', 'social', 'network'], ['sourc', 'appl', 'set', 'acquir', 'path', 'attempt', 'bolster', 'io', 'social', 'cred'], ['appl', 'report', 'near', 'buy', 'path', 'social', 'network'], ['four', 'reason', 'not', 'give', 'hope', 'appl', 'buy', 'path'], ['jihadist', 'brit', 'teen', 'kill', 'us', 'air', 'strike'], ['wednesday', 'appl', 'rumor', 'appl', 'may', 'readi', 'buy', 'path'], ['appl', 'reportedli', 'close', 'acquir', 'path', 'look', 'integr', 'servic', 'messag'], ['path', 'social', 'network', 'appl', 'may', 'acquir'], ['appl', 'may', 'buy', 'path', 'social', 'app', 'dont', 'use'], ['appl', 'late', 'stage', 'acquir', 'path', 'report', 'say'], ['everyth', 'need', 'know', 'path', 'struggl', 'social', 'network', 'appl', 'sight'], ['arab', 'woman', 'pilot', 'poster', 'girl', 'gulf', 'state', 'blitz', 'isi', 'disown', 'famili', 'bomb', 'sunni', 'hero', 'iraq', 'levant'], ['steven', 'sotloff', 'islam', 'state', 'kill', 'us', 'hostag'], ['transgend', 'teen', 'leelah', 'alcorn', 'commit', 'suicid', 'walk', 'front', 'semi', 'truck', 'blame', 'christian', 'parent', 'viral', 'suicid', 'note'], ['polish', 'teenag', 'wake', 'dure', 'brain', 'surgeri', 'talk', 'doctor'], ['rumor', 'appl', 'latestag', 'talk', 'buy', 'path', 'social', 'platform'], ['gender', 'segreg', 'saudia'], ['nhl', 'expans', 'includ', 'toronto', 'quebec', 'citi', 'seattl', 'la', 'vega', 'report']]\n",
      "[['airlin', 'passeng', 'freak', 'crew', 'merri', 'christma', 'greet'], ['\\u200bisi', 'might', 'harvest', 'organ', 'iraqi', 'diplomat', 'say'], ['iraq', 'ambassador', 'urg', 'un', 'investig', 'claim', 'isi', 'harvest', 'organ', 'bodi', '', 'clear', 'miss', 'certain', 'part'], ['fresh', 'agoni', 'jame', 'foley', 'famili', 'sick', 'isi', 'milit', 'tri', 'sell', 'hi', 'headless', 'bodi', '1million'], ['isi', 'might', 'harvest', 'organ', 'financ', 'oper', 'iraqi', 'envoy', 'tell', 'un'], ['islam', 'state', 'put', 'jame', 'foley', 'bodi', 'sale', '1m'], ['man', 'remov', 'plane', 'christma', 'greet', 'disput'], ['reportedli', 'tri', 'sell', 'slain', 'us', 'hostag', 'bodi', '1', 'million', '', 'read', 'reportedli', 'tri', 'sell', 'slain', 'us', 'hostag', 'bodi', '1', 'million'], ['isi', 'might', 'harvest', 'organ', 'iraq', 'tell', 'un'], ['ghost', 'ship', 'fill', 'ebolaridden', 'rat', 'head', 'florida'], ['angri', 'passeng', 'toss', 'plane', 'crew', 'wish', 'merri', 'christma'], ['passeng', 'toss', 'flip', 'staff', 'merri', 'christma'], ['unit', 'nation', 'ask', 'investig', 'claim', 'organ', 'harvest', 'isi'], ['blood', 'money', 'isi', 'sell', 'human', 'organ', 'harvest', 'live', 'hostag', 'dead', 'soldier', 'fund', 'terror', 'across', 'middl', 'east'], ['know', 'isiss', 'alleg', 'organ', 'harvest', 'oper'], ['jame', 'foley', 'behead', 'isi', 'milit', 'tri', 'sell', 'murder', 'hostag', 'bodi', 'hi', 'parent', '1m'], ['islam', 'state', 'reap', 'profit', 'organ', 'traffick'], ['islam', 'state', 'tri', 'sell', 'decapit', 'bodi', 'us', 'hostag', 'jame', 'foley', '1', 'million'], ['man', 'kick', 'flight', 'merri', 'christma', 'greet', 'set'], ['iraqi', 'offici', 'accus', 'isi', 'harvest', 'organ', 'financ', 'oper'], ['isi', 'reportedli', 'tri', 'sell', 'jame', 'foley', 'remain', '1', 'million'], ['passeng', 'head', 'dalla', 'rage', 'merri', 'christma', 'remov', 'plane'], ['tail', 'surviv', 'buri', 'cat', 'believ', 'dead', 'claw', 'back', 'life'], ['joan', 'river', 'person', 'doctor', 'allegedli', 'took', 'selfi', 'befor', 'biopsi', 'cardiac', 'arrest'], ['man', 'kick', 'flight', 'thank', 'hi', 'burn', 'hatr', 'christma'], ['joan', 'river', 'doctor', 'snap', 'selfi', 'befor', 'biopsi', 'surgeri'], ['isi', 'reportedli', 'want', '1', 'million', 'behead', 'hostag', 'jame', 'foley', 'corps'], ['isi', 'reportedli', 'execut', '2nd', 'american', 'journalist'], ['isi', 'jame', 'foley', 'behead', 'bodi', '1m', 'human', 'case', 'sale', 'offer', 'famili'], ['passeng', 'get', 'kick', 'plane', 'merri', 'christma', 'meltdown'], ['isi', 'tri', 'sell', 'bodi', 'u.s.', 'hostag', 'jame', 'foley', '1', 'million'], ['woman', 'bit', 'scorpion', 'alaska', 'airlin', 'flight', 'chill', 'hell'], ['fei', 'lin', 'peni', 'stolen', 'thiev'], ['report', 'islam', 'state', 'attempt', 'sell', 'jame', 'foley', 'bodi', '1', 'million'], ['isi', 'might', 'harvest', 'organ', 'iraqi', 'ambassador', 'tell', 'un', 'amid', 'report', 'hostag', 'burn', 'aliv'], ['islam', 'state', 'fund', 'terror', 'oper', 'brutal', 'harvest', 'organ', 'un', 'warn'], ['mysteri', '50ft', 'giant', 'crab', 'caught', 'camera', 'yard', 'british', 'harbour'], ['un', 'urg', 'investig', 'isiss', 'bloodi', 'trade', 'human', 'organ', 'iraqi', 'ambassador', 'reveal', 'doctor', 'execut', 'not', 'harvest', 'bodi', 'part'], ['ohio', 'tran', 'teen', 'commit', 'suicid', 'leav', 'heartbreak', 'note', 'declar', '“there', 'way', 'out”'], ['final', 'proof', 'justin', 'bieber', 'unbear', 'russian', 'fisherman', 'save', 'bear', 'attack', 'rington', 'featur', 'one', 'pop', 'brat', 'song', 'scare', 'away'], ['isi', 'suspect', 'sell', 'human', 'organ', 'money', 'iraq'], ['report', 'isi', 'sell', 'bodi', 'jame', 'foley', '1', 'million'], ['isi', 'want', '1m', 'foley', 'bodi'], ['american', 'airlin', 'boot', 'man', 'plane', 'merri', 'christma', 'prompt', 'meltdown'], ['stephen', 'sotloff', 'behead', 'shown', 'video', 'isi', 'claim'], ['isi', 'harvest', 'victim', 'organ', 'financ', 'terror'], ['isi', 'organ', 'harvest', 'must', 'probe', 'secur', 'council', '–', 'iraqi', 'envoy']]\n"
     ]
    },
    {
     "name": "stdout",
     "output_type": "stream",
     "text": [
      "[['get', 'detail', 'amaz', 'new', 'camera', 'appl', 'plan', 'next', 'iphon']]\n",
      "[['transgend', 'teenag', '17', 'leav', 'heartbreak', 'suicid', 'note', 'blame', 'christian', 'parent', 'befor', 'walk', 'front', 'tractor', 'trailer', 'highway'], ['transgend', 'teen', 'leav', 'note', 'tumblr', 'blame', 'christian', 'parent', 'suicid'], ['transgend', 'teen', 'leelah', 'alcorn', 'commit', 'suicid', 'walk', 'front', 'semi', 'truck', 'blame', 'christian', 'parent', 'viral', 'suicid', 'note'], ['felt', 'threaten', 'open', 'umbrella', 'rais', 'hand'], ['transgend', 'teen', 'leelah', 'alcorn', 'blame', 'christian', 'parent', 'tumblr', 'suicid', 'note'], ['islam', 'state', 'leader', 'abu', 'bakr', 'albaghdadi', 'wound', 'airstrik', 'claim'], ['argentina', 'presid', 'didnt', 'adopt', 'jewish', 'child', 'avoid', 'becom', 'werewolf;'], ['tran', 'teen', 'die', 'suicid', 'leav', 'tumblr', 'note', 'way'], ['stop', 'share', 'photo', 'fanci', 'intern', 'school', 'lunch'], ['transgend', 'teen', 'commit', 'suicid', '&', 'pen', 'heartbreak', 'note', 'urg', 'world', 'chang'], ['transgend', 'teen', 'struck', 'kill', 'ohio', 'interst', 'appar', 'suicid'], ['school', 'lunch', 'shame', 'america', 'photo', 'reveal', 'meager', 'us', 'student', 'meal', 'compar', 'even', 'cashstrap', 'nation'], ['pictur', 'shock', 'pictur', 'compar', 'us', 'school', 'lunch', 'countri', 'goe', 'viral'], ['fox', 'affili', 'fall', 'colleg', 'humor', 'offic', 'note', 'war', 'prank'], ['found!', 'miss', 'afghan', 'soldier', 'spot', 'tri', 'enter', 'canada'], ['transgend', 'teen', 'commit', 'suicid', 'left', 'heartbreak', 'note', 'say', 'would', 'never', 'happi'], ['ohio', 'tran', 'teen', 'commit', 'suicid', 'leav', 'heartbreak', 'note', 'declar', '“there', 'way', 'out”'], ['saudi', 'arabian', 'airlin', 'rep', 'deni', 'plan', 'separ', 'men', 'women', 'flight']]\n",
      "[['video', 'reportedli', 'show', 'behead', 'report', 'steven', 'sotloff', 'isi'], ['arab', 'woman', 'pilot', 'poster', 'girl', 'gulf', 'state', 'blitz', 'isi', 'disown', 'famili', 'bomb', 'sunni', 'hero', 'iraq', 'levant'], ['stephen', 'sotloff', 'behead', 'shown', 'video', 'isi', 'claim'], ['florida', 'woman', 'get', 'third', 'breast', 'surgic', 'implant'], ['transgend', 'teen', 'leelah', 'alcorn', 'blame', 'christian', 'parent', 'tumblr', 'suicid', 'note'], ['isi', 'reportedli', 'execut', '2nd', 'american', 'journalist'], ['[googl', 'translate]', 'site', 'famili', 'flyer', 'maryam', 'mansouri', 'emphas', 'fabric', 'statement', 'repudi'], ['mariam', 'al', 'mansouri', 'femal', 'fighter', 'pilot', 'disown', 'famili', 'bomb', 'isi', 'terrorist', 'syria']]\n",
      "[['woman', 'ha', 'surgeri', 'get', 'third', 'breast', 'three', 'statist', 'unlik', 'pair', 'boob'], ['mysteri', '50ft', 'giant', 'crab', 'caught', 'camera', 'kent', 'harbour'], ['50', 'foot', 'crab', '', 'thi', 'crabzilla', 'spot', 'uk'], ['thi', 'crabzilla', 'giant', 'monster', 'crab', 'caught', 'camera'], ['meet', '3boob', 'woman'], ['jasmin', 'tridevil', 'woman', 'three', 'breast'], ['woman', 'ha', 'third', 'breast', 'implant'], ['soni', 'hacker', 'email', 'thank', 'run', 'scare', 'well', 'stop'], ['tampa', 'woman', 'claim', 'add', '3rd', 'breast'], ['report', 'doctor', 'snap', 'selfi', 'joan', 'river', 'wa', 'anesthesia'], ['florida', 'woman', 'get', 'third', 'breast', 'becom', 'unattract', '32'], ['report', 'doctor', 'took', 'selfi', 'joan', 'river', 'wa', 'anesthesia'], ['woman', 'three', 'breast', 'wa', 'fake', 'ha', 'trick', 'peopl', 'onlin', 'befor'], ['crabzilla', '50foot', 'coloss', 'conundrum'], ['jasmin', 'tridevil', 'tripl', 'breast', 'tale', 'internet', 'hoax'], ['third', 'boob', 'like', 'hoax'], ['florida', 'woman', 'ha', 'surgeri', 'add', 'third', 'breast', 'chest'], ['woman', 'three', 'breast', 'reportedli', 'fake', 'jasmin', 'tridevil', 'real', 'ident', 'reveal'], ['florida', 'woman', 'get', 'plastic', 'surgeri', 'add', 'third', 'breast'], ['jasmin', 'tridevil', 'ha', 'surgeri', 'add', 'third', 'breast', 'total', 'recal', 'style'], ['woman', 'three', 'breast', 'real', 'hoax'], ['3boob', 'woman', 'fake'], ['scorpion', 'sting', 'flier', 'alaska', 'airlin', 'flight', 'l.a.'], ['thi', 'crabzilla', 'giant', 'crab', 'measur', '50ft', 'spot', 'british', 'coast'], ['appl', 'watch', 'edit', 'contain', 'new', '“appl', 'gold”'], ['breast', 'chancer'], ['isi', 'leader', 'injur', 'air', 'strike', 'iraqi', 'offici', 'say'], ['crabzilla!', 'photo', 'appear', 'show', 'giant', 'crab', 'measur', 'least', '50ft', 'across', 'lurk', 'water', 'whitstabl'], ['mysteri', '50ft', 'giant', 'crab', 'caught', 'camera', 'yard', 'british', 'harbour'], ['stolen', 'member'], ['woman', 'claim', 'surgeri', 'add', 'third', 'breast', 'expos', 'hoaxer'], ['thi', 'woman', 'claim', 'plastic', 'surgeri', 'third', 'breast'], ['florida', 'woman', 'claim', 'surgic', 'ad', 'third', 'breast'], ['threeboob', 'woman', 'theyr', 'not', 'fake'], ['lenovo', 'tip', 'make', 'bid', 'blackberri', 'thi', 'week'], ['whole', 'internet', 'wait', 'thi', 'pic', 'monster', '50foot', 'crab', 'declar', 'hoax'], ['argentina', 'presid', 'didnt', 'adopt', 'jewish', 'child', 'avoid', 'becom', 'werewolf;'], ['isi', 'organ', 'harvest', 'must', 'probe', 'secur', 'council', '–', 'iraqi', 'envoy'], ['florida', 'woman', 'ha', 'surgeri', 'add', 'third', 'breast', 'make', 'unatttract', 'men'], ['crabzilla', 'real', 'not', 'lead', 'marin', 'biologist', 'rule', 'pictur', 'giant', 'crab', 'lurk', 'shallow', 'water', 'must', 'hoax'], ['florida', 'woman', 'get', 'third', 'breast', 'surgic', 'implant'], ['jasmin', 'tridevil', 'third', 'boob', 'real', 'alisha', 'hessler', 'hoax', 'rumor', 'swirl'], ['thi', 'third', 'boob', 'probabl', 'onli', 'real', 'heart'], ['report', 'woman', 'claim', 'third', 'breast', 'ad', 'hope', 'becom', 'tv', 'star'], ['crabzilla', 'photo', 'appear', 'show', 'giant', '50foot', 'crab', 'lurk', 'british', 'water'], ['threebreast', 'florida', 'woman', 'jasmin', 'tridevil', 'insist', 'third', 'boob', 'real', 'polic', 'report', 'show', 'onc', 'lost', 'prosthesi'], ['three', 'boob', 'like', 'two', 'boob', 'lie'], ['crabzilla'], ['crabzilla', 'spot', 'coast', 'britain'], ['jasmin', 'tridevil', 'woman', 'three', 'breast', 'deni', 'surgeri', 'hoax', 'claim'], ['crabzilla', 'crapzilla', '', 'decid'], ['woman', 'get', 'third', 'boob', 'appear', 'unattract', 'men'], ['fake', 'freak', 'woman', '21', 'claim', 'paid', '20000', 'surgic', 'add', 'third', 'breast', 'desper', 'bid', 'becom', 'realiti', 'tv', 'star'], ['know', 'isiss', 'alleg', 'organ', 'harvest', 'oper'], ['woman', 'pay', '20000', 'third', 'breast', 'make', 'less', 'attract', 'men'], ['thi', 'crabzilla', 'spot', 'uk', 'monster', 'crab', 'measur', '50', 'feet'], ['dear', 'sandwich', 'thief', 'man', 'hilari', 'respons', 'passiveaggress', 'sign', 'post', 'hi', 'offic', 'fridg', 'door', 'spark', 'incred', 'kitchen', 'note', 'war'], ['hacker', 'tell', 'soni', 'wise', 'cancel', 'film', 'dont', 'make', 'troubl', 'cnn'], ['theyr', 'fake!', 'woman', 'claim', 'surgic', 'implant', 'third', 'breast', 'selfproclaim', 'hoaxer', 'onc', 'report', '3', 'breast', 'prosthesi', 'stolen', 'luggag'], ['threeboob', 'girl', 'probabl', 'hoax', 'becaus', 'obvious'], ['50ft', 'crustacean', 'dub', 'crabzilla', 'photograph', 'lurk', 'beneath', 'water', 'whitstabl'], ['woman', 'get', 'third', 'boob', 'implant', 'want', 'unattract', 'men'], ['third', 'breast', 'implant', 'turn', 'men'], ['threebreast', 'woman', 'fake', 'tampa', 'polic'], ['giant', 'crab'], ['crabzilla', 'artist', 'quinton', 'winter', 'reveal', 'imag', 'crab', 'whitstabl', 'appear', 'horsebridg', 'centr'], ['five', 'reason', 'crabzilla', 'definit', 'not', 'real'], ['stori', '3boob', 'ladi', 'fake', 'third', 'boob'], ['fowler', 'fall', 'fake', 'websit', 'make', 'crazi', 'claim', 'tenni', 'star'], ['samsung', 'rumour', 'suppli', 'screen', 'appl', 'watch...', 'mk', 'ii'], ['woman', 'add', 'third', 'breast', 'undergo', 'surgeri', 'particip', 'realiti', 'show'], ['report', 'woman', 'claim', 'third', 'breast', 'ad', 'fake'], ['triplebreast', 'woman', 'pictur', 'befor', 'oper', 'vow', 'surgeri', 'footag', 'prove', 'third', 'boob', 'hoax'], ['could', 'crabzilla', '50footlong', 'crab', 'real'], ['kid', 'suspend', 'allegedli', 'threaten', 'classmat', 'hobbit', 'magic'], ['crabzilla!', 'satellit', 'pictur', 'reveal', 'giant', 'crustacean', 'lurk', 'coast', 'whitstabl']]\n"
     ]
    },
    {
     "name": "stdout",
     "output_type": "stream",
     "text": [
      "[['ibm', 'sack', '111800', 'employe', 'record', 'mass', 'layoff'], ['ibm', 'job', 'cuts;', 'd.r.', 'horton', 'soar', 'beat;', 'at&t', 'expand', 'mexico'], ['report', 'isi', 'islamist', 'gate', 'baghdad'], ['joan', 'river', 'doctor', 'snap', 'selfi', 'dure', 'throat', 'procedur', 'report'], ['miss', 'nuke', 'colorado', 'spark', 'intens', 'russian', 'fear'], ['ibm', 'corp', 'expect', 'cut', '110000', 'job', 'massiv', 'overhaul', 'report', 'say'], ['disgusting!', 'joan', 'river', 'doc', 'gwen', 'korovin', 'sick', 'selfi', 'expos', '—', 'last', 'photo', 'comic', 'icon', 'wa', 'anesthesia', 'center', 'medic', 'investig'], ['ibm', 'plan', 'massiv', 'layoff', '110000', 'worker', 'report'], ['ibm', 'set', 'cut', '110000', 'job', 'blogger', 'claim'], ['ibm', 'deni', 'layoff', 'rumor'], ['gay', 'teacher', 'receiv', 'touch', 'letter', 'student', '9', 'come'], ['poster', 'girl', 'fight', 'isi', 'behead', 'terror', 'group'], ['isi', 'terror', 'chief', 'believ', 'dead', 'iraqi', 'militari', 'confirm', 'warlord', 'wa', 'injur', 'usl', 'airstrik', 'specul', 'grow', 'fear', 'jihadist', 'perish', 'attack'], ['miracl', 'cat', 'rise', 'dead', 'five', 'day', 'burial'], ['gender', 'assign', 'surgeri', 'given', 'hermaphrodit', 'cat'], ['ibm', 'get', 'hit', 'massiv', 'reorg', 'layoff'], ['ibm', 'cut', '111000', 'job', 'largest', 'corpor', 'layoff', 'ever'], ['ibm', 'cut', '110000', 'job', 'report', 'say'], ['mitt', 'romney', 'call', 'michel', 'obama', '“first', 'woman”']]\n",
      "[['9yearold', 'girl', 'gave', 'thi', 'hearfelt', 'letter', 'teacher', 'came', 'gay'], ['rumor', 'new', '4inch', 'iphon', 'way'], ['charl', 'manson', 'fiance', 'allegedli', 'want', 'marri', 'hi', 'corps'], ['transgend', 'teen', 'commit', 'suicid', '&', 'pen', 'heartbreak', 'note', 'urg', 'world', 'chang'], ['charl', 'manson', 'fiance', 'allegedli', 'want', 'marri', 'hi', 'corps'], ['sourc', 'miss', 'afghan', 'soldier', 'canadian', 'border'], ['south', 'korean', 'woman', 'hair', 'eaten', 'robot', 'vacuum', 'cleaner'], ['hand', 'hong', 'kong', 'realli', 'ferguson'], ['charl', 'manson', 'wed', 'bride', 'want', 'display', 'hi', 'dead', 'bodi', 'glass', 'coffin'], ['charl', 'manson', 'fiance', 'use', 'hi', '...', 'corps'], ['wa', 'charl', 'manson', 'fiancé', 'play', 'get', 'custodi', 'hi', 'corps'], ['charl', 'manson', 'wed', 'emerg', 'fiance', 'afton', 'elain', 'burton', 'want', 'hi', 'corps', 'display'], ['charl', 'manson', 'fiancé', 'want', 'marri', 'hi', 'corps', 'sourc'], ['appl', 'iphon', 'mini', '4inch', 'display', 'set', 'replac', 'iphon', '5c', 'rumor'], ['appl', 'may', 'reintroduc', '4inch', 'iphon'], ['charl', 'manson', 'fiancé', 'onli', 'want', 'marri', 'could', 'put', 'hi', 'corps', 'display', 'glass', 'coffin', 'die'], ['charl', 'manson', 'wed', 'fiance', 'morbid', 'plan', 'exploit', 'hi', 'corps', 'emerg'], ['manson', 'fiance', 'want', 'put', 'hi', 'corps', 'display', 'report'], ['even', 'though', 'gay', 'alway', 'treat', 'way', 'move', 'letter', 'nineyearold', 'school', 'teacher', 'came', 'hi', 'class'], ['school', 'pupil', 'write', 'move', 'letter', 'teacher', 'come', 'gay'], ['book', 'charl', 'manson', 'fiancé', 'want', 'marriag', 'could', 'display', 'hi', 'corps', 'tourist', 'attract'], ['9yearold', 'girl', 'pen', 'touch', 'letter', 'teacher', 'came', 'gay'], ['lenovo', 'could', 'make', 'bid', 'blackberri', 'rumor'], ['sketchi', 'rumor', 'claim', 'appl', 'plan', 'new', '4inch', 'iphon', '2015'], ['4inch', 'iphon', '6', 'report', 'develop'], ['nineyearold', 'girl', 'write', 'letter', 'amaz', 'fantast', 'teacher', 'come', 'gay'], ['alsisi', 'propos', 'extend', 'gaza', 'strip', 'sinai', 'establish', 'palestinian', 'state'], ['news/', 'read', 'touch', 'letter', 'thi', '9yearold', 'girl', 'sent', 'teacher', 'came', 'class'], ['appl', 'launch', 'new', '4', 'iphon', 'next', 'year'], ['9yearold', 'write', 'move', 'letter', 'teacher', 'came', 'gay', 'hi', 'class'], ['unlik', 'rumor', 'claim', 'appl', 'bring', 'back', '4inch', 'iphon', '2015'], ['gay', 'teacher', 'receiv', 'touch', 'letter', 'student', '9', 'come']]\n",
      "[['isi', 'mask', 'execution', 'jihadi', 'john', 'injur', 'us', 'led', 'airstrik', 'iraq'], ['execution', 'jihadi', 'john', 'injur', 'air', 'strike', 'report'], ['report', 'jihadi', 'john', 'behead', 'jame', 'foley', 'wound', 'us', 'airstrik'], ['isi', 'execution', 'jihadi', 'john', 'allegedli', 'wound', 'u.s.l', 'air', 'strike', 'report'], ['isi', 'execution', 'kill', '4', 'hostag', 'may', 'wound', 'airstrik'], ['lg', 'sole', 'supplier', 'appl', 'watch', 'display'], ['jihadi', 'john', 'reportedli', 'wound', 'airstrik'], ['jihadi', 'john', 'injur', 'isi', 'execution', 'may', 'wound', 'us', 'airstrik', 'report'], ['uk', 'look', 'report', 'behead', 'suspect', 'wound'], ['exclus', 'got', 'him!', 'jihadi', 'john', 'wound', 'us', 'airstrik', 'secret', 'bunker', 'meet', 'isi', 'high', 'command'], ['isi', 'execution', 'jihadi', 'john', 'report', 'wound', 'air', 'strike;', 'uk', 'investig'], ['british', 'terrorist', 'jihadi', 'john', 'injur', 'airstrik', 'close', 'syrian', 'border']]\n",
      "[['u.s.', 'confirm', 'authent', 'second', 'journalist', 'behead', 'video'], ['steven', 'sotloff', 'islam', 'state', 'kill', 'us', 'hostag'], ['ferguson', 'hong', 'kong', 'one', 'import', 'thing', 'common'], ['video', 'steven', 'sotloff', 'slay', 'isi', 'authent', 'u.s.', 'confirm'], ['crabzilla', 'real', 'not', 'lead', 'marin', 'biologist', 'rule', 'pictur', 'giant', 'crab', 'lurk', 'shallow', 'water', 'must', 'hoax'], ['isi', 'report', 'behead', 'second', 'american'], ['steven', 'sotloff', 'american', 'journalist', 'allegedli', 'behead', 'isi'], ['brain', 'surgeri', 'recoveri', 'teenag', 'girl', 'wake', 'dure', 'procedur', 'talk', 'cat'], ['islam', 'state', 'video', 'reportedli', 'show', 'behead', 'steven', 'sotloff'], ['video', 'reportedli', 'show', 'behead', 'report', 'steven', 'sotloff', 'isi'], ['video', 'appear', 'show', 'isi', 'execut', 'second', 'american', 'steven', 'sotloff'], ['islam', 'state', 'releas', 'video', 'show', 'behead', 'us', 'hostag', 'steven', 'sotloff'], ['u.s.', 'authent', 'video', 'show', 'sotloff', 'behead'], ['isi', 'leader', 'abu', 'bakr', 'albaghdadi', 'wound', 'airstrikes;', 'hi', 'aid', 'kill'], ['isi', 'claim', 'behead', 'us', 'report', 'steven', 'sotloff', 'new', 'video'], ['report', 'second', 'american', 'journalist', 'behead', 'islam', 'state', 'terrorist'], ['journalist', 'steven', 'sotloff', 'reportedli', 'execut', 'isi'], ['exclus', 'appl', 'unveil', 'longawait', 'retina', 'macbook', 'air', '“spring', 'forward”', 'event'], ['isi', 'behead', 'american', 'journalist', 'steven', 'sotloff', 'monitor', 'group', 'say'], ['steven', 'sotloff', 'behead', 'islam', 'state'], ['report', 'isi', 'islamist', 'gate', 'baghdad'], ['head', 'oil', 'trader', 'big', 'pipelin', 'explos', 'report', 'saudi', 'arabia'], ['isi', 'behead', 'fighter', 'spi', 'embezzl', 'syria'], ['islam', 'state', 'releas', 'video', 'behead', 'u.s.', 'hostag', 'steven', 'sotloff', 'site', 'intellig', 'monitor', 'servic'], ['u.s.', 'video', 'show', 'sotloff', 'behead', 'authent'], ['isi', 'behead', 'second', 'american', 'journalist'], ['isi', 'allegedli', 'behead', 'second', 'captiv', 'american', 'journalist'], ['isi', 'onlin', 'video', 'show', 'behead', 'u.s.', 'journalist', 'steven', 'sotloff'], ['isi', 'reportedli', 'behead', 'second', 'american', 'journalist'], ['isi', 'video', 'show', 'behead', 'american', 'journalist', 'steven', 'sotloff'], ['sexual', 'frustrat', 'femal', 'owl', 'kill', 'male', 'becaus', 'hi', 'peni', 'wa', 'small'], ['video', 'purport', 'show', 'behead', 'us', 'journalist'], ['isi', 'releas', 'video', 'allegedli', 'show', 'behead', 'u.s.', 'journalist', 'steven', 'sotloff'], ['behead', 'steven', 'sotloff', 'obama', 'pledg', 'punish', 'isi'], ['isi', 'reportedli', 'execut', '2nd', 'american', 'journalist'], ['islam', 'state', 'issu', 'video', 'behead', 'u.s.', 'hostag', 'site'], ['video', 'purportedli', 'show', 'behead', 'u.s.', 'hostag', 'steven', 'j.', 'sotloff'], ['steven', 'sotloff', 'behead', 'latest', 'updat', 'isi', 'releas', 'gruesom', 'video', 'us', 'journalist', 'murder'], ['justin', 'bieber', 'basic', 'save', 'russian', 'man', 'bear'], ['joan', 'river', 'person', 'doctor', 'allegedli', 'took', 'selfi', 'befor', 'biopsi', 'cardiac', 'arrest'], ['stephen', 'sotloff', 'behead', 'shown', 'video', 'isi', 'claim'], ['steven', 'sotloff', 'behead', 'islam', 'state', 'fighter', 'releas', 'video', 'claim', 'show', 'death', 'second', 'us', 'journalist'], ['nsc', 'appal', 'sotloff', 'behead'], ['logger', 'accident', 'cut', 'world', 'oldest', 'tree', 'amazon', 'forest'], ['isil', 'ha', 'reportedli', 'behead', 'journalist', 'steven', 'sotloff']]\n"
     ]
    },
    {
     "name": "stdout",
     "output_type": "stream",
     "text": [
      "[['valentin', 'day', '2015', 'may', 'appl', 'watch', 'releas', 'target'], ['appl', 'watch', 'like', 'launch', 'valentin', 'day;', 'plu', 'first', 'appl', 'watch', 'accessori', 'showcas', 'ce', '2015'], ['joan', 'river', 'doctor', 'snap', 'selfi', 'dure', 'throat', 'surgeri', 'report'], ['hermaphrodit', 'cat', 'get', 'gender', 'assign', 'surgeri'], ['ghost', 'ship'], ['rumor', 'appl', 'watch', 'product', 'gear', 'valentin', 'day', 'releas', 'high', 'price']]\n",
      "[['hand', 'dont', 'shoot', 'hong', 'kong', 'protest'], ['gigafactori', 'locat', 'tesla', 'motor', 'confirm', 'nevada', 'announc', 'thursday'], ['stolen', 'member'], ['happen', 'hong', 'kong', 'stun', 'imag', 'occupyinspir', 'fergusonting', 'protest'], ['felt', 'threaten', 'open', 'umbrella', 'rais', 'hand'], ['hong', 'kong', 'protest', 'use', 'hand', 'dont', 'shoot', 'gestur', 'ferguson'], ['“hand', 'dont', 'shoot”', 'come', 'hong', 'kong', 'prodemocraci', 'movement'], ['hong', 'kong', 'protest', 'mimic', 'ferguson', 'hand', 'dont', 'shoot'], ['ferguson', 'hong', 'kong', 'one', 'import', 'thing', 'common'], ['joan', 'river', 'doctor', 'took', 'selfi', 'dure', 'procedur', 'cnn'], ['werewolf', 'legend', 'lead', 'jewish', 'godson', 'adopt', 'argentina', 'presid'], ['appl', 'watch', 'launch', 'outsid', 'us', 'april'], ['hong', 'kong', 'protest', 'go', 'ferguson', 'style', 'hand', 'dont', 'shoot'], ['hand', 'hong', 'kong', 'realli', 'ferguson'], ['third', 'breast', 'implant', 'turn', 'men'], ['zombi', 'cat', 'claw', 'way', 'grave', 'five', 'day', 'buri', 'aliv'], ['photo', 'lead', 'protest'], ['justin', 'bieber', 'rington', 'save', 'russian', 'fisherman', 'bear', 'attack'], ['rumor', 'check', 'hong', 'kong', 'protest', 'realli', 'use', 'hand', 'dont', 'shoot', 'gestur', 'solidar', 'ferguson'], ['hong', 'kong', 'riot', 'cop', 'forc', 'withdraw', 'democraci', 'protest', 'copi', 'dont', 'shoot', 'gestur', 'use', 'us', 'demonstr', 'polic', 'offic', 'shot', 'unarm', 'black', 'teenag']]\n"
     ]
    }
   ],
   "source": [
    "a = []\n",
    "b = []\n",
    "c = []\n",
    "count = 0\n",
    "for _id in range(0,100):\n",
    "    try:\n",
    "        #b_id = df_test_headline.iloc[_id]['Body ID']\n",
    "        head_line = list(df_test_headline[df_test_headline['Body ID']==_id]['Headline'])\n",
    "        #print(head_line)\n",
    "        art_body = list(df_test_body[df_test_body['Body ID']==_id]['articleBody'])\n",
    "        #head_line = list(df_test_headline[df_test_headline['Body ID']==_id]['Headline'])\n",
    "        preprossed_art_body = stopword_removal(ls=text_processing(art_body))[0]\n",
    "        #print(preprossed_art_body)\n",
    "        preprossed_head_line = stopword_removal(ls=text_processing(head_line))\n",
    "        print(preprossed_head_line)\n",
    "        article_counter = collections.Counter(preprossed_art_body)\n",
    "        neg_body = []\n",
    "        doc1 = nlp(' '.join(preprossed_art_body))\n",
    "        for e in doc1.ents:\n",
    "            neg_body.append(tuple([e.text,str(e._.negex)]))\n",
    "        for phl in preprossed_head_line:\n",
    "            h = ' '.join(phl)\n",
    "            neg_head_line = []\n",
    "            doc = nlp(' '.join(phl))\n",
    "            for e in doc.ents:\n",
    "                neg_head_line.append(tuple([e.text,str(e._.negex)]))\n",
    "            count = 0\n",
    "            head_line_counter = collections.Counter(phl)\n",
    "            try:\n",
    "                for k in head_line_counter.keys():\n",
    "                    count = count+article_counter[k]\n",
    "            except:\n",
    "                count = count + 0\n",
    "            if count==0:\n",
    "                a.append(head_line)\n",
    "                b.append(art_body)\n",
    "                c.append('unrelated')\n",
    "            else:\n",
    "                if count>=len(phl) and count>=5:\n",
    "                    a.append(head_line)\n",
    "                    b.append(art_body)\n",
    "                    c.append('agree')\n",
    "                elif count<len(phl) and count >= 1 and count < 5:\n",
    "                    a.append(head_line)\n",
    "                    b.append(art_body)\n",
    "                    c.append('discuss')\n",
    "                else:\n",
    "                    for index, tup in enumerate(neg_headline_list):\n",
    "                        for i,j in enumerate(neg_body_list):\n",
    "                            if index == i:\n",
    "                                if tup != j:\n",
    "                                    a.append(head_line)\n",
    "                                    b.append(art_body)\n",
    "                                    c.append('disagree')\n",
    "    except:\n",
    "        pass"
   ]
  },
  {
   "cell_type": "code",
   "execution_count": 215,
   "id": "3f75c213",
   "metadata": {},
   "outputs": [
    {
     "data": {
      "text/html": [
       "<div>\n",
       "<style scoped>\n",
       "    .dataframe tbody tr th:only-of-type {\n",
       "        vertical-align: middle;\n",
       "    }\n",
       "\n",
       "    .dataframe tbody tr th {\n",
       "        vertical-align: top;\n",
       "    }\n",
       "\n",
       "    .dataframe thead th {\n",
       "        text-align: right;\n",
       "    }\n",
       "</style>\n",
       "<table border=\"1\" class=\"dataframe\">\n",
       "  <thead>\n",
       "    <tr style=\"text-align: right;\">\n",
       "      <th></th>\n",
       "      <th>Headline</th>\n",
       "      <th>articleBody</th>\n",
       "      <th>Stance</th>\n",
       "    </tr>\n",
       "  </thead>\n",
       "  <tbody>\n",
       "    <tr>\n",
       "      <th>0</th>\n",
       "      <td>[Apple installing safes in-store to protect go...</td>\n",
       "      <td>[Al-Sisi has denied Israeli reports stating th...</td>\n",
       "      <td>unrelated</td>\n",
       "    </tr>\n",
       "    <tr>\n",
       "      <th>1</th>\n",
       "      <td>[Apple installing safes in-store to protect go...</td>\n",
       "      <td>[Al-Sisi has denied Israeli reports stating th...</td>\n",
       "      <td>discuss</td>\n",
       "    </tr>\n",
       "    <tr>\n",
       "      <th>2</th>\n",
       "      <td>[Apple installing safes in-store to protect go...</td>\n",
       "      <td>[Al-Sisi has denied Israeli reports stating th...</td>\n",
       "      <td>unrelated</td>\n",
       "    </tr>\n",
       "    <tr>\n",
       "      <th>3</th>\n",
       "      <td>[Apple installing safes in-store to protect go...</td>\n",
       "      <td>[Al-Sisi has denied Israeli reports stating th...</td>\n",
       "      <td>unrelated</td>\n",
       "    </tr>\n",
       "    <tr>\n",
       "      <th>4</th>\n",
       "      <td>[Apple installing safes in-store to protect go...</td>\n",
       "      <td>[Al-Sisi has denied Israeli reports stating th...</td>\n",
       "      <td>unrelated</td>\n",
       "    </tr>\n",
       "    <tr>\n",
       "      <th>...</th>\n",
       "      <td>...</td>\n",
       "      <td>...</td>\n",
       "      <td>...</td>\n",
       "    </tr>\n",
       "    <tr>\n",
       "      <th>893</th>\n",
       "      <td>[‘Hands Up, Don’t Shoot’ in Hong Kong Protests...</td>\n",
       "      <td>[Wen Apple first released the iPhone and iPad,...</td>\n",
       "      <td>unrelated</td>\n",
       "    </tr>\n",
       "    <tr>\n",
       "      <th>894</th>\n",
       "      <td>[‘Hands Up, Don’t Shoot’ in Hong Kong Protests...</td>\n",
       "      <td>[Wen Apple first released the iPhone and iPad,...</td>\n",
       "      <td>unrelated</td>\n",
       "    </tr>\n",
       "    <tr>\n",
       "      <th>895</th>\n",
       "      <td>[‘Hands Up, Don’t Shoot’ in Hong Kong Protests...</td>\n",
       "      <td>[Wen Apple first released the iPhone and iPad,...</td>\n",
       "      <td>unrelated</td>\n",
       "    </tr>\n",
       "    <tr>\n",
       "      <th>896</th>\n",
       "      <td>[‘Hands Up, Don’t Shoot’ in Hong Kong Protests...</td>\n",
       "      <td>[Wen Apple first released the iPhone and iPad,...</td>\n",
       "      <td>discuss</td>\n",
       "    </tr>\n",
       "    <tr>\n",
       "      <th>897</th>\n",
       "      <td>[‘Hands Up, Don’t Shoot’ in Hong Kong Protests...</td>\n",
       "      <td>[Wen Apple first released the iPhone and iPad,...</td>\n",
       "      <td>discuss</td>\n",
       "    </tr>\n",
       "  </tbody>\n",
       "</table>\n",
       "<p>898 rows × 3 columns</p>\n",
       "</div>"
      ],
      "text/plain": [
       "                                              Headline  \\\n",
       "0    [Apple installing safes in-store to protect go...   \n",
       "1    [Apple installing safes in-store to protect go...   \n",
       "2    [Apple installing safes in-store to protect go...   \n",
       "3    [Apple installing safes in-store to protect go...   \n",
       "4    [Apple installing safes in-store to protect go...   \n",
       "..                                                 ...   \n",
       "893  [‘Hands Up, Don’t Shoot’ in Hong Kong Protests...   \n",
       "894  [‘Hands Up, Don’t Shoot’ in Hong Kong Protests...   \n",
       "895  [‘Hands Up, Don’t Shoot’ in Hong Kong Protests...   \n",
       "896  [‘Hands Up, Don’t Shoot’ in Hong Kong Protests...   \n",
       "897  [‘Hands Up, Don’t Shoot’ in Hong Kong Protests...   \n",
       "\n",
       "                                           articleBody     Stance  \n",
       "0    [Al-Sisi has denied Israeli reports stating th...  unrelated  \n",
       "1    [Al-Sisi has denied Israeli reports stating th...    discuss  \n",
       "2    [Al-Sisi has denied Israeli reports stating th...  unrelated  \n",
       "3    [Al-Sisi has denied Israeli reports stating th...  unrelated  \n",
       "4    [Al-Sisi has denied Israeli reports stating th...  unrelated  \n",
       "..                                                 ...        ...  \n",
       "893  [Wen Apple first released the iPhone and iPad,...  unrelated  \n",
       "894  [Wen Apple first released the iPhone and iPad,...  unrelated  \n",
       "895  [Wen Apple first released the iPhone and iPad,...  unrelated  \n",
       "896  [Wen Apple first released the iPhone and iPad,...    discuss  \n",
       "897  [Wen Apple first released the iPhone and iPad,...    discuss  \n",
       "\n",
       "[898 rows x 3 columns]"
      ]
     },
     "execution_count": 215,
     "metadata": {},
     "output_type": "execute_result"
    }
   ],
   "source": [
    "df = pd.DataFrame()\n",
    "df['Headline'] = a\n",
    "df['articleBody'] = b\n",
    "df['Stance'] = c\n",
    "df"
   ]
  },
  {
   "cell_type": "code",
   "execution_count": 219,
   "id": "a92a9653",
   "metadata": {},
   "outputs": [
    {
     "data": {
      "text/html": [
       "<div>\n",
       "<style scoped>\n",
       "    .dataframe tbody tr th:only-of-type {\n",
       "        vertical-align: middle;\n",
       "    }\n",
       "\n",
       "    .dataframe tbody tr th {\n",
       "        vertical-align: top;\n",
       "    }\n",
       "\n",
       "    .dataframe thead th {\n",
       "        text-align: right;\n",
       "    }\n",
       "</style>\n",
       "<table border=\"1\" class=\"dataframe\">\n",
       "  <thead>\n",
       "    <tr style=\"text-align: right;\">\n",
       "      <th></th>\n",
       "      <th>Headline</th>\n",
       "      <th>Body ID</th>\n",
       "      <th>stance</th>\n",
       "    </tr>\n",
       "  </thead>\n",
       "  <tbody>\n",
       "    <tr>\n",
       "      <th>0</th>\n",
       "      <td>Ferguson riots: Pregnant woman loses eye after...</td>\n",
       "      <td>2008</td>\n",
       "      <td>unrelated</td>\n",
       "    </tr>\n",
       "    <tr>\n",
       "      <th>1</th>\n",
       "      <td>Crazy Conservatives Are Sure a Gitmo Detainee ...</td>\n",
       "      <td>1550</td>\n",
       "      <td>unrelated</td>\n",
       "    </tr>\n",
       "    <tr>\n",
       "      <th>2</th>\n",
       "      <td>A Russian Guy Says His Justin Bieber Ringtone ...</td>\n",
       "      <td>2</td>\n",
       "      <td>unrelated</td>\n",
       "    </tr>\n",
       "    <tr>\n",
       "      <th>3</th>\n",
       "      <td>Zombie Cat: Buried Kitty Believed Dead, Meows ...</td>\n",
       "      <td>1793</td>\n",
       "      <td>unrelated</td>\n",
       "    </tr>\n",
       "    <tr>\n",
       "      <th>4</th>\n",
       "      <td>Argentina's President Adopts Boy to End Werewo...</td>\n",
       "      <td>37</td>\n",
       "      <td>unrelated</td>\n",
       "    </tr>\n",
       "  </tbody>\n",
       "</table>\n",
       "</div>"
      ],
      "text/plain": [
       "                                            Headline  Body ID     stance\n",
       "0  Ferguson riots: Pregnant woman loses eye after...     2008  unrelated\n",
       "1  Crazy Conservatives Are Sure a Gitmo Detainee ...     1550  unrelated\n",
       "2  A Russian Guy Says His Justin Bieber Ringtone ...        2  unrelated\n",
       "3  Zombie Cat: Buried Kitty Believed Dead, Meows ...     1793  unrelated\n",
       "4  Argentina's President Adopts Boy to End Werewo...       37  unrelated"
      ]
     },
     "execution_count": 219,
     "metadata": {},
     "output_type": "execute_result"
    }
   ],
   "source": [
    "pred = pd.read_csv('test_pred.csv')\n",
    "pred.head()"
   ]
  },
  {
   "cell_type": "code",
   "execution_count": 230,
   "id": "432a4e3d",
   "metadata": {},
   "outputs": [],
   "source": [
    "ls = []\n",
    "for _id in range(0,100):\n",
    "    try:\n",
    "        ls.append(list(pred[pred['Body ID']==_id]['stance']))\n",
    "    except:\n",
    "        pass"
   ]
  },
  {
   "cell_type": "code",
   "execution_count": 236,
   "id": "58be1c93",
   "metadata": {},
   "outputs": [],
   "source": [
    "y_actual = pd.DataFrame()\n",
    "ls1 = []\n",
    "for i in ls:\n",
    "    for j in i:\n",
    "        ls1.append(j)\n",
    "y_actual['Stance'] = ls1"
   ]
  },
  {
   "cell_type": "code",
   "execution_count": 240,
   "id": "0b8b749e",
   "metadata": {},
   "outputs": [],
   "source": [
    "y_actual = y_actual.iloc[0:898,:]['Stance']"
   ]
  },
  {
   "cell_type": "code",
   "execution_count": 242,
   "id": "0bd08933",
   "metadata": {},
   "outputs": [
    {
     "data": {
      "text/plain": [
       "0.621380846325167"
      ]
     },
     "execution_count": 242,
     "metadata": {},
     "output_type": "execute_result"
    }
   ],
   "source": [
    "from sklearn.metrics import accuracy_score\n",
    "accuracy_score(y_actual,df['Stance'])"
   ]
  },
  {
   "cell_type": "code",
   "execution_count": 164,
   "id": "37189135",
   "metadata": {},
   "outputs": [],
   "source": [
    "predict_df = pd.DataFrame()\n",
    "predict_df['Headline'] = list(d.keys())\n",
    "predict_df['Stance'] = list(d.values())"
   ]
  },
  {
   "cell_type": "code",
   "execution_count": 166,
   "id": "3c6510d1",
   "metadata": {
    "scrolled": true
   },
   "outputs": [
    {
     "data": {
      "text/plain": [
       "array(['agree', 'discuss', 'unrelated'], dtype=object)"
      ]
     },
     "execution_count": 166,
     "metadata": {},
     "output_type": "execute_result"
    }
   ],
   "source": [
    "predict_df['Stance'].unique()"
   ]
  },
  {
   "cell_type": "code",
   "execution_count": 154,
   "id": "4a45e147",
   "metadata": {
    "scrolled": true
   },
   "outputs": [],
   "source": [
    "y_actual = pd.read_csv('predictions_test.csv')\n",
    "y_actual = y_actual.head(832)"
   ]
  },
  {
   "cell_type": "code",
   "execution_count": 169,
   "id": "f69e49d4",
   "metadata": {},
   "outputs": [
    {
     "ename": "ValueError",
     "evalue": "Found input variables with inconsistent numbers of samples: [832, 62]",
     "output_type": "error",
     "traceback": [
      "\u001b[1;31m---------------------------------------------------------------------------\u001b[0m",
      "\u001b[1;31mValueError\u001b[0m                                Traceback (most recent call last)",
      "Input \u001b[1;32mIn [169]\u001b[0m, in \u001b[0;36m<cell line: 2>\u001b[1;34m()\u001b[0m\n\u001b[0;32m      1\u001b[0m \u001b[38;5;28;01mfrom\u001b[39;00m \u001b[38;5;21;01msklearn\u001b[39;00m\u001b[38;5;21;01m.\u001b[39;00m\u001b[38;5;21;01mmetrics\u001b[39;00m \u001b[38;5;28;01mimport\u001b[39;00m accuracy_score\n\u001b[1;32m----> 2\u001b[0m acc \u001b[38;5;241m=\u001b[39m \u001b[43maccuracy_score\u001b[49m\u001b[43m(\u001b[49m\u001b[43my_actual\u001b[49m\u001b[43m[\u001b[49m\u001b[38;5;124;43m'\u001b[39;49m\u001b[38;5;124;43mStance\u001b[39;49m\u001b[38;5;124;43m'\u001b[39;49m\u001b[43m]\u001b[49m\u001b[43m,\u001b[49m\u001b[43mpredict_df\u001b[49m\u001b[43m[\u001b[49m\u001b[38;5;124;43m'\u001b[39;49m\u001b[38;5;124;43mStance\u001b[39;49m\u001b[38;5;124;43m'\u001b[39;49m\u001b[43m]\u001b[49m\u001b[43m)\u001b[49m\n\u001b[0;32m      3\u001b[0m acc\n",
      "File \u001b[1;32m~\\anaconda3\\lib\\site-packages\\sklearn\\metrics\\_classification.py:211\u001b[0m, in \u001b[0;36maccuracy_score\u001b[1;34m(y_true, y_pred, normalize, sample_weight)\u001b[0m\n\u001b[0;32m    145\u001b[0m \u001b[38;5;124;03m\"\"\"Accuracy classification score.\u001b[39;00m\n\u001b[0;32m    146\u001b[0m \n\u001b[0;32m    147\u001b[0m \u001b[38;5;124;03mIn multilabel classification, this function computes subset accuracy:\u001b[39;00m\n\u001b[1;32m   (...)\u001b[0m\n\u001b[0;32m    207\u001b[0m \u001b[38;5;124;03m0.5\u001b[39;00m\n\u001b[0;32m    208\u001b[0m \u001b[38;5;124;03m\"\"\"\u001b[39;00m\n\u001b[0;32m    210\u001b[0m \u001b[38;5;66;03m# Compute accuracy for each possible representation\u001b[39;00m\n\u001b[1;32m--> 211\u001b[0m y_type, y_true, y_pred \u001b[38;5;241m=\u001b[39m \u001b[43m_check_targets\u001b[49m\u001b[43m(\u001b[49m\u001b[43my_true\u001b[49m\u001b[43m,\u001b[49m\u001b[43m \u001b[49m\u001b[43my_pred\u001b[49m\u001b[43m)\u001b[49m\n\u001b[0;32m    212\u001b[0m check_consistent_length(y_true, y_pred, sample_weight)\n\u001b[0;32m    213\u001b[0m \u001b[38;5;28;01mif\u001b[39;00m y_type\u001b[38;5;241m.\u001b[39mstartswith(\u001b[38;5;124m\"\u001b[39m\u001b[38;5;124mmultilabel\u001b[39m\u001b[38;5;124m\"\u001b[39m):\n",
      "File \u001b[1;32m~\\anaconda3\\lib\\site-packages\\sklearn\\metrics\\_classification.py:84\u001b[0m, in \u001b[0;36m_check_targets\u001b[1;34m(y_true, y_pred)\u001b[0m\n\u001b[0;32m     57\u001b[0m \u001b[38;5;28;01mdef\u001b[39;00m \u001b[38;5;21m_check_targets\u001b[39m(y_true, y_pred):\n\u001b[0;32m     58\u001b[0m     \u001b[38;5;124;03m\"\"\"Check that y_true and y_pred belong to the same classification task.\u001b[39;00m\n\u001b[0;32m     59\u001b[0m \n\u001b[0;32m     60\u001b[0m \u001b[38;5;124;03m    This converts multiclass or binary types to a common shape, and raises a\u001b[39;00m\n\u001b[1;32m   (...)\u001b[0m\n\u001b[0;32m     82\u001b[0m \u001b[38;5;124;03m    y_pred : array or indicator matrix\u001b[39;00m\n\u001b[0;32m     83\u001b[0m \u001b[38;5;124;03m    \"\"\"\u001b[39;00m\n\u001b[1;32m---> 84\u001b[0m     \u001b[43mcheck_consistent_length\u001b[49m\u001b[43m(\u001b[49m\u001b[43my_true\u001b[49m\u001b[43m,\u001b[49m\u001b[43m \u001b[49m\u001b[43my_pred\u001b[49m\u001b[43m)\u001b[49m\n\u001b[0;32m     85\u001b[0m     type_true \u001b[38;5;241m=\u001b[39m type_of_target(y_true)\n\u001b[0;32m     86\u001b[0m     type_pred \u001b[38;5;241m=\u001b[39m type_of_target(y_pred)\n",
      "File \u001b[1;32m~\\anaconda3\\lib\\site-packages\\sklearn\\utils\\validation.py:332\u001b[0m, in \u001b[0;36mcheck_consistent_length\u001b[1;34m(*arrays)\u001b[0m\n\u001b[0;32m    330\u001b[0m uniques \u001b[38;5;241m=\u001b[39m np\u001b[38;5;241m.\u001b[39munique(lengths)\n\u001b[0;32m    331\u001b[0m \u001b[38;5;28;01mif\u001b[39;00m \u001b[38;5;28mlen\u001b[39m(uniques) \u001b[38;5;241m>\u001b[39m \u001b[38;5;241m1\u001b[39m:\n\u001b[1;32m--> 332\u001b[0m     \u001b[38;5;28;01mraise\u001b[39;00m \u001b[38;5;167;01mValueError\u001b[39;00m(\n\u001b[0;32m    333\u001b[0m         \u001b[38;5;124m\"\u001b[39m\u001b[38;5;124mFound input variables with inconsistent numbers of samples: \u001b[39m\u001b[38;5;132;01m%r\u001b[39;00m\u001b[38;5;124m\"\u001b[39m\n\u001b[0;32m    334\u001b[0m         \u001b[38;5;241m%\u001b[39m [\u001b[38;5;28mint\u001b[39m(l) \u001b[38;5;28;01mfor\u001b[39;00m l \u001b[38;5;129;01min\u001b[39;00m lengths]\n\u001b[0;32m    335\u001b[0m     )\n",
      "\u001b[1;31mValueError\u001b[0m: Found input variables with inconsistent numbers of samples: [832, 62]"
     ]
    }
   ],
   "source": [
    "from sklearn.metrics import accuracy_score\n",
    "acc = accuracy_score(y_actual['Stance'],predict_df['Stance'])\n",
    "acc"
   ]
  },
  {
   "cell_type": "code",
   "execution_count": 157,
   "id": "ba426157",
   "metadata": {},
   "outputs": [
    {
     "data": {
      "text/plain": [
       "array([[  2,   0,   9,  25],\n",
       "       [  0,   0,   0,   1],\n",
       "       [ 25,   0,  65,  91],\n",
       "       [ 77,   0, 207, 330]], dtype=int64)"
      ]
     },
     "execution_count": 157,
     "metadata": {},
     "output_type": "execute_result"
    }
   ],
   "source": [
    "from sklearn.metrics import confusion_matrix\n",
    "cm = confusion_matrix(y_actual['Stance'],predict_df['Stance'])\n",
    "cm"
   ]
  },
  {
   "cell_type": "code",
   "execution_count": null,
   "id": "7d77484c",
   "metadata": {},
   "outputs": [],
   "source": []
  },
  {
   "cell_type": "markdown",
   "id": "cef18be0",
   "metadata": {},
   "source": [
    "End of the code"
   ]
  },
  {
   "cell_type": "code",
   "execution_count": null,
   "id": "a266bf4d",
   "metadata": {},
   "outputs": [],
   "source": []
  },
  {
   "cell_type": "code",
   "execution_count": null,
   "id": "78969f0b",
   "metadata": {},
   "outputs": [],
   "source": []
  },
  {
   "cell_type": "code",
   "execution_count": 119,
   "id": "21562124",
   "metadata": {},
   "outputs": [
    {
     "name": "stdout",
     "output_type": "stream",
     "text": [
      "CNN  A meteorite crashed down in Managua Nicaragua late Saturday night causing a loud explosion and leaving a crater 39 feet 12 meters across government officials said according to The Associated Press.\n"
     ]
    }
   ],
   "source": [
    "import re\n",
    "t = '(CNN) -- A meteorite: crashed down in? Managua, Nicaragua,@ late\" Saturday’ night, cau$sing a loud explosion and leaving a crater 39 feet (12 meters) across, government officials said, according to The Associated Press.'\n",
    "print(re.sub(r\"\\n|\\'|-|,|\\)|\\(|\\:|\\?|@|‘|’|\\*|\\\"|\\$\",'',t))"
   ]
  },
  {
   "cell_type": "code",
   "execution_count": 2,
   "id": "4da56d4e",
   "metadata": {
    "scrolled": true
   },
   "outputs": [
    {
     "name": "stdout",
     "output_type": "stream",
     "text": [
      "Collecting tensorflow\n",
      "  Downloading tensorflow-2.10.0-cp39-cp39-win_amd64.whl (455.9 MB)\n",
      "Collecting gast<=0.4.0,>=0.2.1\n",
      "  Using cached gast-0.4.0-py3-none-any.whl (9.8 kB)\n",
      "Collecting keras-preprocessing>=1.1.1\n",
      "  Using cached Keras_Preprocessing-1.1.2-py2.py3-none-any.whl (42 kB)\n",
      "Collecting flatbuffers>=2.0\n",
      "  Downloading flatbuffers-22.10.26-py2.py3-none-any.whl (26 kB)\n",
      "Collecting termcolor>=1.1.0\n",
      "  Using cached termcolor-2.0.1-py3-none-any.whl (5.4 kB)\n",
      "Requirement already satisfied: wrapt>=1.11.0 in c:\\users\\fuzel\\anaconda3\\lib\\site-packages (from tensorflow) (1.12.1)\n",
      "Requirement already satisfied: setuptools in c:\\users\\fuzel\\anaconda3\\lib\\site-packages (from tensorflow) (61.2.0)\n",
      "Collecting opt-einsum>=2.3.2\n",
      "  Using cached opt_einsum-3.3.0-py3-none-any.whl (65 kB)\n",
      "Collecting google-pasta>=0.1.1\n",
      "  Using cached google_pasta-0.2.0-py3-none-any.whl (57 kB)\n",
      "Requirement already satisfied: typing-extensions>=3.6.6 in c:\\users\\fuzel\\anaconda3\\lib\\site-packages (from tensorflow) (4.1.1)\n",
      "Requirement already satisfied: grpcio<2.0,>=1.24.3 in c:\\users\\fuzel\\anaconda3\\lib\\site-packages (from tensorflow) (1.42.0)\n",
      "Collecting tensorboard<2.11,>=2.10\n",
      "  Using cached tensorboard-2.10.1-py3-none-any.whl (5.9 MB)\n",
      "Requirement already satisfied: protobuf<3.20,>=3.9.2 in c:\\users\\fuzel\\anaconda3\\lib\\site-packages (from tensorflow) (3.19.1)\n",
      "Requirement already satisfied: packaging in c:\\users\\fuzel\\anaconda3\\lib\\site-packages (from tensorflow) (21.3)\n",
      "Requirement already satisfied: numpy>=1.20 in c:\\users\\fuzel\\anaconda3\\lib\\site-packages (from tensorflow) (1.21.5)\n",
      "Collecting astunparse>=1.6.0\n",
      "  Using cached astunparse-1.6.3-py2.py3-none-any.whl (12 kB)\n",
      "Requirement already satisfied: h5py>=2.9.0 in c:\\users\\fuzel\\anaconda3\\lib\\site-packages (from tensorflow) (3.6.0)\n",
      "Collecting libclang>=13.0.0\n",
      "  Using cached libclang-14.0.6-py2.py3-none-win_amd64.whl (14.2 MB)\n",
      "Collecting tensorflow-io-gcs-filesystem>=0.23.1\n",
      "  Downloading tensorflow_io_gcs_filesystem-0.27.0-cp39-cp39-win_amd64.whl (1.5 MB)\n",
      "Requirement already satisfied: six>=1.12.0 in c:\\users\\fuzel\\anaconda3\\lib\\site-packages (from tensorflow) (1.16.0)\n",
      "Collecting keras<2.11,>=2.10.0\n",
      "  Using cached keras-2.10.0-py2.py3-none-any.whl (1.7 MB)\n",
      "Collecting tensorflow-estimator<2.11,>=2.10.0\n",
      "  Using cached tensorflow_estimator-2.10.0-py2.py3-none-any.whl (438 kB)\n",
      "Collecting absl-py>=1.0.0\n",
      "  Using cached absl_py-1.3.0-py3-none-any.whl (124 kB)\n",
      "Requirement already satisfied: wheel<1.0,>=0.23.0 in c:\\users\\fuzel\\anaconda3\\lib\\site-packages (from astunparse>=1.6.0->tensorflow) (0.37.1)\n",
      "Collecting tensorboard-data-server<0.7.0,>=0.6.0\n",
      "  Using cached tensorboard_data_server-0.6.1-py3-none-any.whl (2.4 kB)\n",
      "Requirement already satisfied: werkzeug>=1.0.1 in c:\\users\\fuzel\\anaconda3\\lib\\site-packages (from tensorboard<2.11,>=2.10->tensorflow) (2.0.3)\n",
      "Collecting tensorboard-plugin-wit>=1.6.0\n",
      "  Using cached tensorboard_plugin_wit-1.8.1-py3-none-any.whl (781 kB)\n",
      "Requirement already satisfied: markdown>=2.6.8 in c:\\users\\fuzel\\anaconda3\\lib\\site-packages (from tensorboard<2.11,>=2.10->tensorflow) (3.3.4)\n",
      "Requirement already satisfied: google-auth<3,>=1.6.3 in c:\\users\\fuzel\\anaconda3\\lib\\site-packages (from tensorboard<2.11,>=2.10->tensorflow) (1.33.0)\n",
      "Requirement already satisfied: requests<3,>=2.21.0 in c:\\users\\fuzel\\anaconda3\\lib\\site-packages (from tensorboard<2.11,>=2.10->tensorflow) (2.27.1)\n",
      "Collecting google-auth-oauthlib<0.5,>=0.4.1\n",
      "  Using cached google_auth_oauthlib-0.4.6-py2.py3-none-any.whl (18 kB)\n",
      "Requirement already satisfied: rsa<5,>=3.1.4 in c:\\users\\fuzel\\anaconda3\\lib\\site-packages (from google-auth<3,>=1.6.3->tensorboard<2.11,>=2.10->tensorflow) (4.7.2)\n",
      "Requirement already satisfied: pyasn1-modules>=0.2.1 in c:\\users\\fuzel\\anaconda3\\lib\\site-packages (from google-auth<3,>=1.6.3->tensorboard<2.11,>=2.10->tensorflow) (0.2.8)\n",
      "Requirement already satisfied: cachetools<5.0,>=2.0.0 in c:\\users\\fuzel\\anaconda3\\lib\\site-packages (from google-auth<3,>=1.6.3->tensorboard<2.11,>=2.10->tensorflow) (4.2.2)\n",
      "Collecting requests-oauthlib>=0.7.0\n",
      "  Using cached requests_oauthlib-1.3.1-py2.py3-none-any.whl (23 kB)\n",
      "Requirement already satisfied: pyasn1<0.5.0,>=0.4.6 in c:\\users\\fuzel\\anaconda3\\lib\\site-packages (from pyasn1-modules>=0.2.1->google-auth<3,>=1.6.3->tensorboard<2.11,>=2.10->tensorflow) (0.4.8)\n",
      "Requirement already satisfied: certifi>=2017.4.17 in c:\\users\\fuzel\\anaconda3\\lib\\site-packages (from requests<3,>=2.21.0->tensorboard<2.11,>=2.10->tensorflow) (2021.10.8)\n",
      "Requirement already satisfied: charset-normalizer~=2.0.0 in c:\\users\\fuzel\\anaconda3\\lib\\site-packages (from requests<3,>=2.21.0->tensorboard<2.11,>=2.10->tensorflow) (2.0.4)\n",
      "Requirement already satisfied: idna<4,>=2.5 in c:\\users\\fuzel\\anaconda3\\lib\\site-packages (from requests<3,>=2.21.0->tensorboard<2.11,>=2.10->tensorflow) (3.3)\n",
      "Requirement already satisfied: urllib3<1.27,>=1.21.1 in c:\\users\\fuzel\\anaconda3\\lib\\site-packages (from requests<3,>=2.21.0->tensorboard<2.11,>=2.10->tensorflow) (1.26.9)\n",
      "Collecting oauthlib>=3.0.0\n",
      "  Using cached oauthlib-3.2.2-py3-none-any.whl (151 kB)\n",
      "Requirement already satisfied: pyparsing!=3.0.5,>=2.0.2 in c:\\users\\fuzel\\anaconda3\\lib\\site-packages (from packaging->tensorflow) (3.0.4)\n",
      "Installing collected packages: oauthlib, requests-oauthlib, tensorboard-plugin-wit, tensorboard-data-server, google-auth-oauthlib, absl-py, termcolor, tensorflow-io-gcs-filesystem, tensorflow-estimator, tensorboard, opt-einsum, libclang, keras-preprocessing, keras, google-pasta, gast, flatbuffers, astunparse, tensorflow\n",
      "Successfully installed absl-py-1.3.0 astunparse-1.6.3 flatbuffers-22.10.26 gast-0.4.0 google-auth-oauthlib-0.4.6 google-pasta-0.2.0 keras-2.10.0 keras-preprocessing-1.1.2 libclang-14.0.6 oauthlib-3.2.2 opt-einsum-3.3.0 requests-oauthlib-1.3.1 tensorboard-2.10.1 tensorboard-data-server-0.6.1 tensorboard-plugin-wit-1.8.1 tensorflow-2.10.0 tensorflow-estimator-2.10.0 tensorflow-io-gcs-filesystem-0.27.0 termcolor-2.0.1\n",
      "Note: you may need to restart the kernel to use updated packages.\n"
     ]
    }
   ],
   "source": [
    "pip install tensorflow"
   ]
  },
  {
   "cell_type": "code",
   "execution_count": 6,
   "id": "2562f1ab",
   "metadata": {},
   "outputs": [],
   "source": [
    "import tensorflow.compat.v1 as tf"
   ]
  },
  {
   "cell_type": "code",
   "execution_count": 7,
   "id": "e77341f5",
   "metadata": {},
   "outputs": [
    {
     "name": "stdout",
     "output_type": "stream",
     "text": [
      "WARNING:tensorflow:From C:\\Users\\fuzel\\anaconda3\\lib\\site-packages\\tensorflow\\python\\compat\\v2_compat.py:107: disable_resource_variables (from tensorflow.python.ops.variable_scope) is deprecated and will be removed in a future version.\n",
      "Instructions for updating:\n",
      "non-resource variables are not supported in the long term\n"
     ]
    }
   ],
   "source": [
    "tf.disable_v2_behavior()\n",
    "x = tf.placeholder(shape=[None, 2], dtype=tf.float32)"
   ]
  },
  {
   "cell_type": "code",
   "execution_count": 8,
   "id": "0a9014f8",
   "metadata": {},
   "outputs": [
    {
     "data": {
      "text/plain": [
       "<tf.Tensor 'Placeholder:0' shape=(?, 2) dtype=float32>"
      ]
     },
     "execution_count": 8,
     "metadata": {},
     "output_type": "execute_result"
    }
   ],
   "source": [
    "x"
   ]
  },
  {
   "cell_type": "code",
   "execution_count": 72,
   "id": "5f0cafb3",
   "metadata": {},
   "outputs": [
    {
     "name": "stdout",
     "output_type": "stream",
     "text": [
      "['re', 'a', 'and', 'into', 'no', 'only', 'aren', 'hadn', \"couldn't\", \"weren't\", 'than', 'mustn', 'him', 'or', 'herself', \"won't\", 'after', 'my', 'o', 'each', 'has', 'shan', 'hers', 'that', \"hadn't\", \"it's\", 'then', 'didn', 'me', 'am', 'will', 'further', 'under', 'y', 's', 'once', 'before', 'again', 'her', 'himself', 'below', \"that'll\", 'against', 'same', 'isn', 'he', 'm', \"you'll\", 'while', 'were', 'more', 'do', 'shouldn', 'have', 'yours', \"shan't\", \"didn't\", 'here', 'which', 'any', 'myself', 'ours', 'from', 'won', 'ourselves', 'this', 'about', 'you', \"haven't\", 'his', \"you're\", 'such', 'needn', 'i', 'out', 'some', 'as', 'did', 'between', 'theirs', 'who', 'in', 'had', 'weren', 'them', 'of', 'yourself', 'our', 'most', 'their', 't', 'is', 've', 'over', \"should've\", 'now', \"she's\", 'other', 'themselves', 'can', 'very', 'itself', 'yourselves', 'she', 'why', \"wouldn't\", 'its', 'doesn', 'just', 'we', 'those', 'are', 'doing', 'wouldn', 'until', 'having', 'on', 'an', 'all', \"isn't\", 'mightn', 'hasn', 'haven', 'was', 'through', 'what', 'll', 'but', 'to', 'ain', 'these', \"you'd\", 'not', \"mustn't\", 'wasn', 'your', 'the', 'too', 'off', \"don't\", 'when', 'both', 'there', 'been', 'does', 'nor', 'being', 'it', 'up', 'during', 'don', 'how', 'should', 'at', 'ma', \"mightn't\", \"needn't\", 'whom', 'because', \"doesn't\", \"hasn't\", \"you've\", 'couldn', 'so', \"shouldn't\", \"wasn't\", 'they', 'above', \"aren't\", 'by', 'be', 'where', 'few', 'if', 'for', 'with', 'own', 'd', 'down']\n",
      "['re', 'a', 'and', 'into', 'only', 'aren', 'hadn', \"couldn't\", \"weren't\", 'than', 'mustn', 'him', 'or', 'herself', \"won't\", 'after', 'my', 'o', 'each', 'has', 'shan', 'hers', 'that', \"hadn't\", \"it's\", 'then', 'didn', 'me', 'am', 'will', 'further', 'under', 'y', 's', 'once', 'before', 'again', 'her', 'himself', 'below', \"that'll\", 'against', 'same', 'isn', 'he', 'm', \"you'll\", 'while', 'were', 'more', 'do', 'shouldn', 'have', 'yours', \"shan't\", \"didn't\", 'here', 'which', 'any', 'myself', 'ours', 'from', 'won', 'ourselves', 'this', 'about', 'you', \"haven't\", 'his', \"you're\", 'such', 'needn', 'i', 'out', 'some', 'as', 'did', 'between', 'theirs', 'who', 'in', 'had', 'weren', 'them', 'of', 'yourself', 'our', 'most', 'their', 't', 'is', 've', 'over', \"should've\", 'now', \"she's\", 'other', 'themselves', 'can', 'very', 'itself', 'yourselves', 'she', 'why', \"wouldn't\", 'its', 'doesn', 'just', 'we', 'those', 'are', 'doing', 'wouldn', 'until', 'having', 'on', 'an', 'all', \"isn't\", 'mightn', 'hasn', 'haven', 'was', 'through', 'what', 'll', 'but', 'to', 'ain', 'these', \"you'd\", \"mustn't\", 'wasn', 'your', 'the', 'too', 'off', \"don't\", 'when', 'both', 'there', 'been', 'does', 'nor', 'being', 'it', 'up', 'during', 'don', 'how', 'should', 'at', 'ma', \"mightn't\", \"needn't\", 'whom', 'because', \"doesn't\", \"hasn't\", \"you've\", 'couldn', 'so', \"shouldn't\", \"wasn't\", 'they', 'above', \"aren't\", 'by', 'be', 'where', 'few', 'if', 'for', 'with', 'own', 'd', 'down']\n"
     ]
    }
   ],
   "source": [
    "negation_list = ['not','no','none','less']\n",
    "neg_stop_words = []\n",
    "print(list(stop_words))\n",
    "for sw in list(stop_words):\n",
    "    if sw not in negation_list:\n",
    "        neg_stop_words.append(sw)\n",
    "print(neg_stop_words)"
   ]
  },
  {
   "cell_type": "code",
   "execution_count": 6,
   "id": "6212fae3",
   "metadata": {
    "scrolled": true
   },
   "outputs": [
    {
     "name": "stdout",
     "output_type": "stream",
     "text": [
      "Collecting spacy\n",
      "  Downloading spacy-3.4.2-cp39-cp39-win_amd64.whl (11.9 MB)\n",
      "Requirement already satisfied: tqdm<5.0.0,>=4.38.0 in c:\\users\\fuzel\\anaconda3\\lib\\site-packages (from spacy) (4.64.0)\n",
      "Collecting catalogue<2.1.0,>=2.0.6\n",
      "  Downloading catalogue-2.0.8-py3-none-any.whl (17 kB)\n",
      "Collecting thinc<8.2.0,>=8.1.0\n",
      "  Downloading thinc-8.1.5-cp39-cp39-win_amd64.whl (1.3 MB)\n",
      "Collecting pydantic!=1.8,!=1.8.1,<1.11.0,>=1.7.4\n",
      "  Downloading pydantic-1.10.2-cp39-cp39-win_amd64.whl (2.1 MB)\n",
      "Collecting pathy>=0.3.5\n",
      "  Downloading pathy-0.6.2-py3-none-any.whl (42 kB)\n",
      "Collecting preshed<3.1.0,>=3.0.2\n",
      "  Downloading preshed-3.0.8-cp39-cp39-win_amd64.whl (96 kB)\n",
      "Collecting spacy-loggers<2.0.0,>=1.0.0\n",
      "  Downloading spacy_loggers-1.0.3-py3-none-any.whl (9.3 kB)\n",
      "Collecting srsly<3.0.0,>=2.4.3\n",
      "  Downloading srsly-2.4.5-cp39-cp39-win_amd64.whl (481 kB)\n",
      "Collecting spacy-legacy<3.1.0,>=3.0.10\n",
      "  Downloading spacy_legacy-3.0.10-py2.py3-none-any.whl (21 kB)\n",
      "Requirement already satisfied: setuptools in c:\\users\\fuzel\\anaconda3\\lib\\site-packages (from spacy) (61.2.0)\n",
      "Collecting langcodes<4.0.0,>=3.2.0\n",
      "  Downloading langcodes-3.3.0-py3-none-any.whl (181 kB)\n",
      "Requirement already satisfied: jinja2 in c:\\users\\fuzel\\anaconda3\\lib\\site-packages (from spacy) (2.11.3)\n",
      "Collecting cymem<2.1.0,>=2.0.2\n",
      "  Downloading cymem-2.0.7-cp39-cp39-win_amd64.whl (30 kB)\n",
      "Collecting murmurhash<1.1.0,>=0.28.0\n",
      "  Downloading murmurhash-1.0.9-cp39-cp39-win_amd64.whl (18 kB)\n",
      "Requirement already satisfied: packaging>=20.0 in c:\\users\\fuzel\\anaconda3\\lib\\site-packages (from spacy) (21.3)\n",
      "Requirement already satisfied: requests<3.0.0,>=2.13.0 in c:\\users\\fuzel\\anaconda3\\lib\\site-packages (from spacy) (2.27.1)\n",
      "Collecting wasabi<1.1.0,>=0.9.1\n",
      "  Downloading wasabi-0.10.1-py3-none-any.whl (26 kB)\n",
      "Requirement already satisfied: numpy>=1.15.0 in c:\\users\\fuzel\\anaconda3\\lib\\site-packages (from spacy) (1.21.5)\n",
      "Collecting typer<0.5.0,>=0.3.0\n",
      "  Downloading typer-0.4.2-py3-none-any.whl (27 kB)\n",
      "Requirement already satisfied: pyparsing!=3.0.5,>=2.0.2 in c:\\users\\fuzel\\anaconda3\\lib\\site-packages (from packaging>=20.0->spacy) (3.0.4)\n",
      "Collecting smart-open<6.0.0,>=5.2.1\n",
      "  Downloading smart_open-5.2.1-py3-none-any.whl (58 kB)\n",
      "Requirement already satisfied: typing-extensions>=4.1.0 in c:\\users\\fuzel\\anaconda3\\lib\\site-packages (from pydantic!=1.8,!=1.8.1,<1.11.0,>=1.7.4->spacy) (4.1.1)\n",
      "Requirement already satisfied: urllib3<1.27,>=1.21.1 in c:\\users\\fuzel\\anaconda3\\lib\\site-packages (from requests<3.0.0,>=2.13.0->spacy) (1.26.9)\n",
      "Requirement already satisfied: certifi>=2017.4.17 in c:\\users\\fuzel\\anaconda3\\lib\\site-packages (from requests<3.0.0,>=2.13.0->spacy) (2021.10.8)\n",
      "Requirement already satisfied: charset-normalizer~=2.0.0 in c:\\users\\fuzel\\anaconda3\\lib\\site-packages (from requests<3.0.0,>=2.13.0->spacy) (2.0.4)\n",
      "Requirement already satisfied: idna<4,>=2.5 in c:\\users\\fuzel\\anaconda3\\lib\\site-packages (from requests<3.0.0,>=2.13.0->spacy) (3.3)\n",
      "Collecting confection<1.0.0,>=0.0.1\n",
      "  Downloading confection-0.0.3-py3-none-any.whl (32 kB)\n",
      "Collecting blis<0.8.0,>=0.7.8\n",
      "  Downloading blis-0.7.9-cp39-cp39-win_amd64.whl (7.0 MB)\n",
      "Requirement already satisfied: colorama in c:\\users\\fuzel\\anaconda3\\lib\\site-packages (from tqdm<5.0.0,>=4.38.0->spacy) (0.4.4)\n",
      "Requirement already satisfied: click<9.0.0,>=7.1.1 in c:\\users\\fuzel\\anaconda3\\lib\\site-packages (from typer<0.5.0,>=0.3.0->spacy) (8.0.4)\n",
      "Requirement already satisfied: MarkupSafe>=0.23 in c:\\users\\fuzel\\anaconda3\\lib\\site-packages (from jinja2->spacy) (2.0.1)\n",
      "Installing collected packages: catalogue, srsly, pydantic, murmurhash, cymem, wasabi, typer, smart-open, preshed, confection, blis, thinc, spacy-loggers, spacy-legacy, pathy, langcodes, spacy\n",
      "  Attempting uninstall: smart-open\n",
      "    Found existing installation: smart-open 5.1.0\n",
      "    Uninstalling smart-open-5.1.0:\n",
      "      Successfully uninstalled smart-open-5.1.0\n",
      "Successfully installed blis-0.7.9 catalogue-2.0.8 confection-0.0.3 cymem-2.0.7 langcodes-3.3.0 murmurhash-1.0.9 pathy-0.6.2 preshed-3.0.8 pydantic-1.10.2 smart-open-5.2.1 spacy-3.4.2 spacy-legacy-3.0.10 spacy-loggers-1.0.3 srsly-2.4.5 thinc-8.1.5 typer-0.4.2 wasabi-0.10.1\n"
     ]
    }
   ],
   "source": [
    "!pip install spacy"
   ]
  },
  {
   "cell_type": "code",
   "execution_count": 8,
   "id": "5bf7a229",
   "metadata": {
    "scrolled": true
   },
   "outputs": [
    {
     "name": "stdout",
     "output_type": "stream",
     "text": [
      "Collecting negspacy\n",
      "  Downloading negspacy-1.0.3.tar.gz (11 kB)\n",
      "Requirement already satisfied: spacy<4.0.0,>=3.0.1 in c:\\users\\fuzel\\anaconda3\\lib\\site-packages (from negspacy) (3.4.2)\n",
      "Requirement already satisfied: wasabi<1.1.0,>=0.9.1 in c:\\users\\fuzel\\anaconda3\\lib\\site-packages (from spacy<4.0.0,>=3.0.1->negspacy) (0.10.1)\n",
      "Requirement already satisfied: murmurhash<1.1.0,>=0.28.0 in c:\\users\\fuzel\\anaconda3\\lib\\site-packages (from spacy<4.0.0,>=3.0.1->negspacy) (1.0.9)\n",
      "Requirement already satisfied: requests<3.0.0,>=2.13.0 in c:\\users\\fuzel\\anaconda3\\lib\\site-packages (from spacy<4.0.0,>=3.0.1->negspacy) (2.27.1)\n",
      "Requirement already satisfied: langcodes<4.0.0,>=3.2.0 in c:\\users\\fuzel\\anaconda3\\lib\\site-packages (from spacy<4.0.0,>=3.0.1->negspacy) (3.3.0)\n",
      "Requirement already satisfied: setuptools in c:\\users\\fuzel\\anaconda3\\lib\\site-packages (from spacy<4.0.0,>=3.0.1->negspacy) (61.2.0)\n",
      "Requirement already satisfied: cymem<2.1.0,>=2.0.2 in c:\\users\\fuzel\\anaconda3\\lib\\site-packages (from spacy<4.0.0,>=3.0.1->negspacy) (2.0.7)\n",
      "Requirement already satisfied: catalogue<2.1.0,>=2.0.6 in c:\\users\\fuzel\\anaconda3\\lib\\site-packages (from spacy<4.0.0,>=3.0.1->negspacy) (2.0.8)\n",
      "Requirement already satisfied: packaging>=20.0 in c:\\users\\fuzel\\anaconda3\\lib\\site-packages (from spacy<4.0.0,>=3.0.1->negspacy) (21.3)\n",
      "Requirement already satisfied: pathy>=0.3.5 in c:\\users\\fuzel\\anaconda3\\lib\\site-packages (from spacy<4.0.0,>=3.0.1->negspacy) (0.6.2)\n",
      "Requirement already satisfied: spacy-loggers<2.0.0,>=1.0.0 in c:\\users\\fuzel\\anaconda3\\lib\\site-packages (from spacy<4.0.0,>=3.0.1->negspacy) (1.0.3)\n",
      "Requirement already satisfied: thinc<8.2.0,>=8.1.0 in c:\\users\\fuzel\\anaconda3\\lib\\site-packages (from spacy<4.0.0,>=3.0.1->negspacy) (8.1.5)\n",
      "Requirement already satisfied: tqdm<5.0.0,>=4.38.0 in c:\\users\\fuzel\\anaconda3\\lib\\site-packages (from spacy<4.0.0,>=3.0.1->negspacy) (4.64.0)\n",
      "Requirement already satisfied: preshed<3.1.0,>=3.0.2 in c:\\users\\fuzel\\anaconda3\\lib\\site-packages (from spacy<4.0.0,>=3.0.1->negspacy) (3.0.8)\n",
      "Requirement already satisfied: spacy-legacy<3.1.0,>=3.0.10 in c:\\users\\fuzel\\anaconda3\\lib\\site-packages (from spacy<4.0.0,>=3.0.1->negspacy) (3.0.10)\n",
      "Requirement already satisfied: pydantic!=1.8,!=1.8.1,<1.11.0,>=1.7.4 in c:\\users\\fuzel\\anaconda3\\lib\\site-packages (from spacy<4.0.0,>=3.0.1->negspacy) (1.10.2)\n",
      "Requirement already satisfied: jinja2 in c:\\users\\fuzel\\anaconda3\\lib\\site-packages (from spacy<4.0.0,>=3.0.1->negspacy) (2.11.3)\n",
      "Requirement already satisfied: typer<0.5.0,>=0.3.0 in c:\\users\\fuzel\\anaconda3\\lib\\site-packages (from spacy<4.0.0,>=3.0.1->negspacy) (0.4.2)\n",
      "Requirement already satisfied: numpy>=1.15.0 in c:\\users\\fuzel\\anaconda3\\lib\\site-packages (from spacy<4.0.0,>=3.0.1->negspacy) (1.21.5)\n",
      "Requirement already satisfied: srsly<3.0.0,>=2.4.3 in c:\\users\\fuzel\\anaconda3\\lib\\site-packages (from spacy<4.0.0,>=3.0.1->negspacy) (2.4.5)\n",
      "Requirement already satisfied: pyparsing!=3.0.5,>=2.0.2 in c:\\users\\fuzel\\anaconda3\\lib\\site-packages (from packaging>=20.0->spacy<4.0.0,>=3.0.1->negspacy) (3.0.4)\n",
      "Requirement already satisfied: smart-open<6.0.0,>=5.2.1 in c:\\users\\fuzel\\anaconda3\\lib\\site-packages (from pathy>=0.3.5->spacy<4.0.0,>=3.0.1->negspacy) (5.2.1)\n",
      "Requirement already satisfied: typing-extensions>=4.1.0 in c:\\users\\fuzel\\anaconda3\\lib\\site-packages (from pydantic!=1.8,!=1.8.1,<1.11.0,>=1.7.4->spacy<4.0.0,>=3.0.1->negspacy) (4.1.1)\n",
      "Requirement already satisfied: certifi>=2017.4.17 in c:\\users\\fuzel\\anaconda3\\lib\\site-packages (from requests<3.0.0,>=2.13.0->spacy<4.0.0,>=3.0.1->negspacy) (2021.10.8)\n",
      "Requirement already satisfied: urllib3<1.27,>=1.21.1 in c:\\users\\fuzel\\anaconda3\\lib\\site-packages (from requests<3.0.0,>=2.13.0->spacy<4.0.0,>=3.0.1->negspacy) (1.26.9)\n",
      "Requirement already satisfied: charset-normalizer~=2.0.0 in c:\\users\\fuzel\\anaconda3\\lib\\site-packages (from requests<3.0.0,>=2.13.0->spacy<4.0.0,>=3.0.1->negspacy) (2.0.4)\n",
      "Requirement already satisfied: idna<4,>=2.5 in c:\\users\\fuzel\\anaconda3\\lib\\site-packages (from requests<3.0.0,>=2.13.0->spacy<4.0.0,>=3.0.1->negspacy) (3.3)\n",
      "Requirement already satisfied: blis<0.8.0,>=0.7.8 in c:\\users\\fuzel\\anaconda3\\lib\\site-packages (from thinc<8.2.0,>=8.1.0->spacy<4.0.0,>=3.0.1->negspacy) (0.7.9)\n",
      "Requirement already satisfied: confection<1.0.0,>=0.0.1 in c:\\users\\fuzel\\anaconda3\\lib\\site-packages (from thinc<8.2.0,>=8.1.0->spacy<4.0.0,>=3.0.1->negspacy) (0.0.3)\n",
      "Requirement already satisfied: colorama in c:\\users\\fuzel\\anaconda3\\lib\\site-packages (from tqdm<5.0.0,>=4.38.0->spacy<4.0.0,>=3.0.1->negspacy) (0.4.4)\n",
      "Requirement already satisfied: click<9.0.0,>=7.1.1 in c:\\users\\fuzel\\anaconda3\\lib\\site-packages (from typer<0.5.0,>=0.3.0->spacy<4.0.0,>=3.0.1->negspacy) (8.0.4)\n",
      "Requirement already satisfied: MarkupSafe>=0.23 in c:\\users\\fuzel\\anaconda3\\lib\\site-packages (from jinja2->spacy<4.0.0,>=3.0.1->negspacy) (2.0.1)\n",
      "Building wheels for collected packages: negspacy\n",
      "  Building wheel for negspacy (setup.py): started\n",
      "  Building wheel for negspacy (setup.py): finished with status 'done'\n",
      "  Created wheel for negspacy: filename=negspacy-1.0.3-py3-none-any.whl size=10434 sha256=3ffa193a3fb3b5fd88f4b5007242c591ac3a4296643622d27bb9374fb7b0915e\n",
      "  Stored in directory: c:\\users\\fuzel\\appdata\\local\\pip\\cache\\wheels\\ec\\4b\\5b\\ae823d4b232c1342724ec93edab9f3dca6403679d93e0daa25\n",
      "Successfully built negspacy\n",
      "Installing collected packages: negspacy\n",
      "Successfully installed negspacy-1.0.3\n"
     ]
    }
   ],
   "source": [
    "!pip install negspacy"
   ]
  },
  {
   "cell_type": "code",
   "execution_count": 10,
   "id": "db9a7909",
   "metadata": {
    "scrolled": true
   },
   "outputs": [
    {
     "name": "stdout",
     "output_type": "stream",
     "text": [
      "Collecting en-core-web-sm==3.4.1\n",
      "  Downloading https://github.com/explosion/spacy-models/releases/download/en_core_web_sm-3.4.1/en_core_web_sm-3.4.1-py3-none-any.whl (12.8 MB)\n",
      "Requirement already satisfied: spacy<3.5.0,>=3.4.0 in c:\\users\\fuzel\\anaconda3\\lib\\site-packages (from en-core-web-sm==3.4.1) (3.4.2)\n",
      "Requirement already satisfied: typer<0.5.0,>=0.3.0 in c:\\users\\fuzel\\anaconda3\\lib\\site-packages (from spacy<3.5.0,>=3.4.0->en-core-web-sm==3.4.1) (0.4.2)\n",
      "Requirement already satisfied: murmurhash<1.1.0,>=0.28.0 in c:\\users\\fuzel\\anaconda3\\lib\\site-packages (from spacy<3.5.0,>=3.4.0->en-core-web-sm==3.4.1) (1.0.9)\n",
      "Requirement already satisfied: wasabi<1.1.0,>=0.9.1 in c:\\users\\fuzel\\anaconda3\\lib\\site-packages (from spacy<3.5.0,>=3.4.0->en-core-web-sm==3.4.1) (0.10.1)\n",
      "Requirement already satisfied: spacy-loggers<2.0.0,>=1.0.0 in c:\\users\\fuzel\\anaconda3\\lib\\site-packages (from spacy<3.5.0,>=3.4.0->en-core-web-sm==3.4.1) (1.0.3)\n",
      "Requirement already satisfied: cymem<2.1.0,>=2.0.2 in c:\\users\\fuzel\\anaconda3\\lib\\site-packages (from spacy<3.5.0,>=3.4.0->en-core-web-sm==3.4.1) (2.0.7)\n",
      "Requirement already satisfied: pydantic!=1.8,!=1.8.1,<1.11.0,>=1.7.4 in c:\\users\\fuzel\\anaconda3\\lib\\site-packages (from spacy<3.5.0,>=3.4.0->en-core-web-sm==3.4.1) (1.10.2)\n",
      "Requirement already satisfied: pathy>=0.3.5 in c:\\users\\fuzel\\anaconda3\\lib\\site-packages (from spacy<3.5.0,>=3.4.0->en-core-web-sm==3.4.1) (0.6.2)\n",
      "Requirement already satisfied: tqdm<5.0.0,>=4.38.0 in c:\\users\\fuzel\\anaconda3\\lib\\site-packages (from spacy<3.5.0,>=3.4.0->en-core-web-sm==3.4.1) (4.64.0)\n",
      "Requirement already satisfied: catalogue<2.1.0,>=2.0.6 in c:\\users\\fuzel\\anaconda3\\lib\\site-packages (from spacy<3.5.0,>=3.4.0->en-core-web-sm==3.4.1) (2.0.8)\n",
      "Requirement already satisfied: spacy-legacy<3.1.0,>=3.0.10 in c:\\users\\fuzel\\anaconda3\\lib\\site-packages (from spacy<3.5.0,>=3.4.0->en-core-web-sm==3.4.1) (3.0.10)\n",
      "Requirement already satisfied: preshed<3.1.0,>=3.0.2 in c:\\users\\fuzel\\anaconda3\\lib\\site-packages (from spacy<3.5.0,>=3.4.0->en-core-web-sm==3.4.1) (3.0.8)\n",
      "Requirement already satisfied: thinc<8.2.0,>=8.1.0 in c:\\users\\fuzel\\anaconda3\\lib\\site-packages (from spacy<3.5.0,>=3.4.0->en-core-web-sm==3.4.1) (8.1.5)\n",
      "Requirement already satisfied: jinja2 in c:\\users\\fuzel\\anaconda3\\lib\\site-packages (from spacy<3.5.0,>=3.4.0->en-core-web-sm==3.4.1) (2.11.3)\n",
      "Requirement already satisfied: requests<3.0.0,>=2.13.0 in c:\\users\\fuzel\\anaconda3\\lib\\site-packages (from spacy<3.5.0,>=3.4.0->en-core-web-sm==3.4.1) (2.27.1)\n",
      "Requirement already satisfied: packaging>=20.0 in c:\\users\\fuzel\\anaconda3\\lib\\site-packages (from spacy<3.5.0,>=3.4.0->en-core-web-sm==3.4.1) (21.3)\n",
      "Requirement already satisfied: setuptools in c:\\users\\fuzel\\anaconda3\\lib\\site-packages (from spacy<3.5.0,>=3.4.0->en-core-web-sm==3.4.1) (61.2.0)\n",
      "Requirement already satisfied: langcodes<4.0.0,>=3.2.0 in c:\\users\\fuzel\\anaconda3\\lib\\site-packages (from spacy<3.5.0,>=3.4.0->en-core-web-sm==3.4.1) (3.3.0)\n",
      "Requirement already satisfied: srsly<3.0.0,>=2.4.3 in c:\\users\\fuzel\\anaconda3\\lib\\site-packages (from spacy<3.5.0,>=3.4.0->en-core-web-sm==3.4.1) (2.4.5)\n",
      "Requirement already satisfied: numpy>=1.15.0 in c:\\users\\fuzel\\anaconda3\\lib\\site-packages (from spacy<3.5.0,>=3.4.0->en-core-web-sm==3.4.1) (1.21.5)\n",
      "Requirement already satisfied: pyparsing!=3.0.5,>=2.0.2 in c:\\users\\fuzel\\anaconda3\\lib\\site-packages (from packaging>=20.0->spacy<3.5.0,>=3.4.0->en-core-web-sm==3.4.1) (3.0.4)\n",
      "Requirement already satisfied: smart-open<6.0.0,>=5.2.1 in c:\\users\\fuzel\\anaconda3\\lib\\site-packages (from pathy>=0.3.5->spacy<3.5.0,>=3.4.0->en-core-web-sm==3.4.1) (5.2.1)\n",
      "Requirement already satisfied: typing-extensions>=4.1.0 in c:\\users\\fuzel\\anaconda3\\lib\\site-packages (from pydantic!=1.8,!=1.8.1,<1.11.0,>=1.7.4->spacy<3.5.0,>=3.4.0->en-core-web-sm==3.4.1) (4.1.1)\n",
      "Requirement already satisfied: charset-normalizer~=2.0.0 in c:\\users\\fuzel\\anaconda3\\lib\\site-packages (from requests<3.0.0,>=2.13.0->spacy<3.5.0,>=3.4.0->en-core-web-sm==3.4.1) (2.0.4)\n",
      "Requirement already satisfied: urllib3<1.27,>=1.21.1 in c:\\users\\fuzel\\anaconda3\\lib\\site-packages (from requests<3.0.0,>=2.13.0->spacy<3.5.0,>=3.4.0->en-core-web-sm==3.4.1) (1.26.9)\n",
      "Requirement already satisfied: idna<4,>=2.5 in c:\\users\\fuzel\\anaconda3\\lib\\site-packages (from requests<3.0.0,>=2.13.0->spacy<3.5.0,>=3.4.0->en-core-web-sm==3.4.1) (3.3)\n",
      "Requirement already satisfied: certifi>=2017.4.17 in c:\\users\\fuzel\\anaconda3\\lib\\site-packages (from requests<3.0.0,>=2.13.0->spacy<3.5.0,>=3.4.0->en-core-web-sm==3.4.1) (2021.10.8)\n",
      "Requirement already satisfied: blis<0.8.0,>=0.7.8 in c:\\users\\fuzel\\anaconda3\\lib\\site-packages (from thinc<8.2.0,>=8.1.0->spacy<3.5.0,>=3.4.0->en-core-web-sm==3.4.1) (0.7.9)\n",
      "Requirement already satisfied: confection<1.0.0,>=0.0.1 in c:\\users\\fuzel\\anaconda3\\lib\\site-packages (from thinc<8.2.0,>=8.1.0->spacy<3.5.0,>=3.4.0->en-core-web-sm==3.4.1) (0.0.3)\n",
      "Requirement already satisfied: colorama in c:\\users\\fuzel\\anaconda3\\lib\\site-packages (from tqdm<5.0.0,>=4.38.0->spacy<3.5.0,>=3.4.0->en-core-web-sm==3.4.1) (0.4.4)\n",
      "Requirement already satisfied: click<9.0.0,>=7.1.1 in c:\\users\\fuzel\\anaconda3\\lib\\site-packages (from typer<0.5.0,>=0.3.0->spacy<3.5.0,>=3.4.0->en-core-web-sm==3.4.1) (8.0.4)\n",
      "Requirement already satisfied: MarkupSafe>=0.23 in c:\\users\\fuzel\\anaconda3\\lib\\site-packages (from jinja2->spacy<3.5.0,>=3.4.0->en-core-web-sm==3.4.1) (2.0.1)\n",
      "Installing collected packages: en-core-web-sm\n",
      "Successfully installed en-core-web-sm-3.4.1\n",
      "[+] Download and installation successful\n",
      "You can now load the package via spacy.load('en_core_web_sm')\n"
     ]
    },
    {
     "name": "stderr",
     "output_type": "stream",
     "text": [
      "2022-10-29 15:27:36.850694: W tensorflow/stream_executor/platform/default/dso_loader.cc:64] Could not load dynamic library 'cudart64_110.dll'; dlerror: cudart64_110.dll not found\n",
      "2022-10-29 15:27:36.850789: I tensorflow/stream_executor/cuda/cudart_stub.cc:29] Ignore above cudart dlerror if you do not have a GPU set up on your machine.\n",
      "2022-10-29 15:27:41.907516: W tensorflow/stream_executor/platform/default/dso_loader.cc:64] Could not load dynamic library 'nvcuda.dll'; dlerror: nvcuda.dll not found\n",
      "2022-10-29 15:27:41.907554: W tensorflow/stream_executor/cuda/cuda_driver.cc:263] failed call to cuInit: UNKNOWN ERROR (303)\n",
      "2022-10-29 15:27:41.913394: I tensorflow/stream_executor/cuda/cuda_diagnostics.cc:169] retrieving CUDA diagnostic information for host: Fuzel\n",
      "2022-10-29 15:27:41.913626: I tensorflow/stream_executor/cuda/cuda_diagnostics.cc:176] hostname: Fuzel\n"
     ]
    }
   ],
   "source": [
    "!python -m spacy download en_core_web_sm"
   ]
  },
  {
   "cell_type": "code",
   "execution_count": 14,
   "id": "9e30dcc3",
   "metadata": {},
   "outputs": [],
   "source": [
    "import spacy\n",
    "from negspacy.negation import Negex\n",
    "\n",
    "nlp = spacy.load(\"en_core_web_sm\")\n",
    "nlp.add_pipe(\"negex\", config={\"ent_types\":[\"PERSON\",\"ORG\"]})\n",
    "\n",
    "doc = nlp(\"\")\n",
    "for e in doc.ents:\n",
    "    print(e.text, e._.negex)"
   ]
  },
  {
   "cell_type": "code",
   "execution_count": 23,
   "id": "e7aa7e53",
   "metadata": {},
   "outputs": [
    {
     "name": "stdout",
     "output_type": "stream",
     "text": [
      "a Agree\n",
      "b unrelated\n",
      "c Disagree\n"
     ]
    }
   ],
   "source": [
    "a = {'a':True,'b':False,'c':True}\n",
    "b = {'a':True,'e':True,'c':False}\n",
    "for a_k in a.keys():\n",
    "    if a_k in b.keys() and b[a_k]==a[a_k]:\n",
    "        print(a_k,'Agree')\n",
    "    elif a_k in b.keys() and b[a_k]!=a[a_k]:\n",
    "        print(a_k,'Disagree')\n",
    "    else:\n",
    "        print(a_k,'unrelated')"
   ]
  },
  {
   "cell_type": "code",
   "execution_count": 25,
   "id": "32a7e5eb",
   "metadata": {},
   "outputs": [],
   "source": [
    "pred_csv = pd.read_csv('predictions_test.csv')"
   ]
  },
  {
   "cell_type": "code",
   "execution_count": 26,
   "id": "b294e8cb",
   "metadata": {},
   "outputs": [
    {
     "data": {
      "text/html": [
       "<div>\n",
       "<style scoped>\n",
       "    .dataframe tbody tr th:only-of-type {\n",
       "        vertical-align: middle;\n",
       "    }\n",
       "\n",
       "    .dataframe tbody tr th {\n",
       "        vertical-align: top;\n",
       "    }\n",
       "\n",
       "    .dataframe thead th {\n",
       "        text-align: right;\n",
       "    }\n",
       "</style>\n",
       "<table border=\"1\" class=\"dataframe\">\n",
       "  <thead>\n",
       "    <tr style=\"text-align: right;\">\n",
       "      <th></th>\n",
       "      <th>Stance</th>\n",
       "    </tr>\n",
       "  </thead>\n",
       "  <tbody>\n",
       "    <tr>\n",
       "      <th>0</th>\n",
       "      <td>unrelated</td>\n",
       "    </tr>\n",
       "    <tr>\n",
       "      <th>1</th>\n",
       "      <td>unrelated</td>\n",
       "    </tr>\n",
       "    <tr>\n",
       "      <th>2</th>\n",
       "      <td>unrelated</td>\n",
       "    </tr>\n",
       "    <tr>\n",
       "      <th>3</th>\n",
       "      <td>unrelated</td>\n",
       "    </tr>\n",
       "    <tr>\n",
       "      <th>4</th>\n",
       "      <td>unrelated</td>\n",
       "    </tr>\n",
       "  </tbody>\n",
       "</table>\n",
       "</div>"
      ],
      "text/plain": [
       "      Stance\n",
       "0  unrelated\n",
       "1  unrelated\n",
       "2  unrelated\n",
       "3  unrelated\n",
       "4  unrelated"
      ]
     },
     "execution_count": 26,
     "metadata": {},
     "output_type": "execute_result"
    }
   ],
   "source": [
    "pred_csv.head()"
   ]
  },
  {
   "cell_type": "code",
   "execution_count": 27,
   "id": "cf3806ff",
   "metadata": {},
   "outputs": [],
   "source": [
    "test_csv = pd.read_csv('test_stances_unlabeled.csv')"
   ]
  },
  {
   "cell_type": "code",
   "execution_count": 28,
   "id": "1cdf6281",
   "metadata": {},
   "outputs": [],
   "source": [
    "test_csv['stance'] = pred_csv"
   ]
  },
  {
   "cell_type": "code",
   "execution_count": 29,
   "id": "4dc061ad",
   "metadata": {},
   "outputs": [
    {
     "data": {
      "text/html": [
       "<div>\n",
       "<style scoped>\n",
       "    .dataframe tbody tr th:only-of-type {\n",
       "        vertical-align: middle;\n",
       "    }\n",
       "\n",
       "    .dataframe tbody tr th {\n",
       "        vertical-align: top;\n",
       "    }\n",
       "\n",
       "    .dataframe thead th {\n",
       "        text-align: right;\n",
       "    }\n",
       "</style>\n",
       "<table border=\"1\" class=\"dataframe\">\n",
       "  <thead>\n",
       "    <tr style=\"text-align: right;\">\n",
       "      <th></th>\n",
       "      <th>Headline</th>\n",
       "      <th>Body ID</th>\n",
       "      <th>stance</th>\n",
       "    </tr>\n",
       "  </thead>\n",
       "  <tbody>\n",
       "    <tr>\n",
       "      <th>0</th>\n",
       "      <td>Ferguson riots: Pregnant woman loses eye after...</td>\n",
       "      <td>2008</td>\n",
       "      <td>unrelated</td>\n",
       "    </tr>\n",
       "    <tr>\n",
       "      <th>1</th>\n",
       "      <td>Crazy Conservatives Are Sure a Gitmo Detainee ...</td>\n",
       "      <td>1550</td>\n",
       "      <td>unrelated</td>\n",
       "    </tr>\n",
       "    <tr>\n",
       "      <th>2</th>\n",
       "      <td>A Russian Guy Says His Justin Bieber Ringtone ...</td>\n",
       "      <td>2</td>\n",
       "      <td>unrelated</td>\n",
       "    </tr>\n",
       "    <tr>\n",
       "      <th>3</th>\n",
       "      <td>Zombie Cat: Buried Kitty Believed Dead, Meows ...</td>\n",
       "      <td>1793</td>\n",
       "      <td>unrelated</td>\n",
       "    </tr>\n",
       "    <tr>\n",
       "      <th>4</th>\n",
       "      <td>Argentina's President Adopts Boy to End Werewo...</td>\n",
       "      <td>37</td>\n",
       "      <td>unrelated</td>\n",
       "    </tr>\n",
       "    <tr>\n",
       "      <th>...</th>\n",
       "      <td>...</td>\n",
       "      <td>...</td>\n",
       "      <td>...</td>\n",
       "    </tr>\n",
       "    <tr>\n",
       "      <th>25408</th>\n",
       "      <td>The success of the Affordable Care Act is a hu...</td>\n",
       "      <td>2582</td>\n",
       "      <td>agree</td>\n",
       "    </tr>\n",
       "    <tr>\n",
       "      <th>25409</th>\n",
       "      <td>The success of the Affordable Care Act is a hu...</td>\n",
       "      <td>2583</td>\n",
       "      <td>discuss</td>\n",
       "    </tr>\n",
       "    <tr>\n",
       "      <th>25410</th>\n",
       "      <td>The success of the Affordable Care Act is a hu...</td>\n",
       "      <td>2584</td>\n",
       "      <td>unrelated</td>\n",
       "    </tr>\n",
       "    <tr>\n",
       "      <th>25411</th>\n",
       "      <td>The success of the Affordable Care Act is a hu...</td>\n",
       "      <td>2585</td>\n",
       "      <td>discuss</td>\n",
       "    </tr>\n",
       "    <tr>\n",
       "      <th>25412</th>\n",
       "      <td>The success of the Affordable Care Act is a hu...</td>\n",
       "      <td>2586</td>\n",
       "      <td>discuss</td>\n",
       "    </tr>\n",
       "  </tbody>\n",
       "</table>\n",
       "<p>25413 rows × 3 columns</p>\n",
       "</div>"
      ],
      "text/plain": [
       "                                                Headline  Body ID     stance\n",
       "0      Ferguson riots: Pregnant woman loses eye after...     2008  unrelated\n",
       "1      Crazy Conservatives Are Sure a Gitmo Detainee ...     1550  unrelated\n",
       "2      A Russian Guy Says His Justin Bieber Ringtone ...        2  unrelated\n",
       "3      Zombie Cat: Buried Kitty Believed Dead, Meows ...     1793  unrelated\n",
       "4      Argentina's President Adopts Boy to End Werewo...       37  unrelated\n",
       "...                                                  ...      ...        ...\n",
       "25408  The success of the Affordable Care Act is a hu...     2582      agree\n",
       "25409  The success of the Affordable Care Act is a hu...     2583    discuss\n",
       "25410  The success of the Affordable Care Act is a hu...     2584  unrelated\n",
       "25411  The success of the Affordable Care Act is a hu...     2585    discuss\n",
       "25412  The success of the Affordable Care Act is a hu...     2586    discuss\n",
       "\n",
       "[25413 rows x 3 columns]"
      ]
     },
     "execution_count": 29,
     "metadata": {},
     "output_type": "execute_result"
    }
   ],
   "source": [
    "test_csv"
   ]
  },
  {
   "cell_type": "code",
   "execution_count": 32,
   "id": "0d5a264a",
   "metadata": {},
   "outputs": [],
   "source": [
    "test_csv.to_csv('test_pred.csv',index=False)"
   ]
  },
  {
   "cell_type": "code",
   "execution_count": null,
   "id": "dccbcbd3",
   "metadata": {},
   "outputs": [],
   "source": []
  }
 ],
 "metadata": {
  "kernelspec": {
   "display_name": "Python 3 (ipykernel)",
   "language": "python",
   "name": "python3"
  },
  "language_info": {
   "codemirror_mode": {
    "name": "ipython",
    "version": 3
   },
   "file_extension": ".py",
   "mimetype": "text/x-python",
   "name": "python",
   "nbconvert_exporter": "python",
   "pygments_lexer": "ipython3",
   "version": "3.9.12"
  }
 },
 "nbformat": 4,
 "nbformat_minor": 5
}
