{
 "cells": [
  {
   "cell_type": "markdown",
   "id": "d5cf89cc",
   "metadata": {},
   "source": [
    "###   Importing libraries"
   ]
  },
  {
   "cell_type": "code",
   "execution_count": 49,
   "id": "80d04b4b",
   "metadata": {},
   "outputs": [],
   "source": [
    "from csv import DictReader\n",
    "from csv import DictWriter\n",
    "import numpy as np\n",
    "from sklearn.feature_extraction.text import CountVectorizer\n",
    "from sklearn.feature_extraction.text import TfidfTransformer\n",
    "from sklearn.feature_extraction.text import TfidfVectorizer\n",
    "from sklearn.metrics.pairwise import cosine_similarity\n",
    "import tensorflow as tf\n",
    "import spacy\n",
    "import pandas as pd"
   ]
  },
  {
   "cell_type": "markdown",
   "id": "cfce00c6",
   "metadata": {},
   "source": [
    "### Importing Dataset"
   ]
  },
  {
   "cell_type": "code",
   "execution_count": 13,
   "id": "a8b04257",
   "metadata": {},
   "outputs": [],
   "source": [
    "# Load data\n",
    "train_bodies = pd.read_csv('train_bodies.csv')\n",
    "train_stances = pd.read_csv('train_stances.csv')"
   ]
  },
  {
   "cell_type": "code",
   "execution_count": 14,
   "id": "22e90eef",
   "metadata": {},
   "outputs": [],
   "source": [
    "train_bodies_copy = train_bodies.copy()\n",
    "train_bodies_copy.head(5)\n",
    "train_stances_copy =train_stances.copy()"
   ]
  },
  {
   "cell_type": "markdown",
   "id": "20dfc394",
   "metadata": {},
   "source": [
    "###  Data Observation"
   ]
  },
  {
   "cell_type": "code",
   "execution_count": 89,
   "id": "dbe09b18",
   "metadata": {
    "scrolled": true
   },
   "outputs": [
    {
     "data": {
      "text/html": [
       "<div>\n",
       "<style scoped>\n",
       "    .dataframe tbody tr th:only-of-type {\n",
       "        vertical-align: middle;\n",
       "    }\n",
       "\n",
       "    .dataframe tbody tr th {\n",
       "        vertical-align: top;\n",
       "    }\n",
       "\n",
       "    .dataframe thead th {\n",
       "        text-align: right;\n",
       "    }\n",
       "</style>\n",
       "<table border=\"1\" class=\"dataframe\">\n",
       "  <thead>\n",
       "    <tr style=\"text-align: right;\">\n",
       "      <th></th>\n",
       "      <th>articleBody</th>\n",
       "      <th>Body ID</th>\n",
       "    </tr>\n",
       "  </thead>\n",
       "  <tbody>\n",
       "    <tr>\n",
       "      <th>0</th>\n",
       "      <td>Islamabad: Asian Development Bank released a r...</td>\n",
       "      <td>51</td>\n",
       "    </tr>\n",
       "    <tr>\n",
       "      <th>1</th>\n",
       "      <td>Islamabad: Amid rising Omicron cases in a numb...</td>\n",
       "      <td>52</td>\n",
       "    </tr>\n",
       "    <tr>\n",
       "      <th>2</th>\n",
       "      <td>Washington: The top US health body has issued ...</td>\n",
       "      <td>53</td>\n",
       "    </tr>\n",
       "    <tr>\n",
       "      <th>3</th>\n",
       "      <td>England pace bowler Stuart Broad insists he wi...</td>\n",
       "      <td>54</td>\n",
       "    </tr>\n",
       "    <tr>\n",
       "      <th>4</th>\n",
       "      <td>Islamabad: Tens of thousands of Pakistanis are...</td>\n",
       "      <td>55</td>\n",
       "    </tr>\n",
       "    <tr>\n",
       "      <th>5</th>\n",
       "      <td>Islamabad: There are \"clear early signs\" of a ...</td>\n",
       "      <td>56</td>\n",
       "    </tr>\n",
       "    <tr>\n",
       "      <th>6</th>\n",
       "      <td>Washington: The top US health body has issued ...</td>\n",
       "      <td>57</td>\n",
       "    </tr>\n",
       "    <tr>\n",
       "      <th>7</th>\n",
       "      <td>Said Individual Tested Covid -ve': India On Re...</td>\n",
       "      <td>58</td>\n",
       "    </tr>\n",
       "    <tr>\n",
       "      <th>8</th>\n",
       "      <td>Washington: The top US health body has issued ...</td>\n",
       "      <td>59</td>\n",
       "    </tr>\n",
       "    <tr>\n",
       "      <th>9</th>\n",
       "      <td>The 68-year-old premier along with his wife Bu...</td>\n",
       "      <td>60</td>\n",
       "    </tr>\n",
       "  </tbody>\n",
       "</table>\n",
       "</div>"
      ],
      "text/plain": [
       "                                         articleBody  Body ID\n",
       "0  Islamabad: Asian Development Bank released a r...       51\n",
       "1  Islamabad: Amid rising Omicron cases in a numb...       52\n",
       "2  Washington: The top US health body has issued ...       53\n",
       "3  England pace bowler Stuart Broad insists he wi...       54\n",
       "4  Islamabad: Tens of thousands of Pakistanis are...       55\n",
       "5  Islamabad: There are \"clear early signs\" of a ...       56\n",
       "6  Washington: The top US health body has issued ...       57\n",
       "7  Said Individual Tested Covid -ve': India On Re...       58\n",
       "8  Washington: The top US health body has issued ...       59\n",
       "9  The 68-year-old premier along with his wife Bu...       60"
      ]
     },
     "execution_count": 89,
     "metadata": {},
     "output_type": "execute_result"
    }
   ],
   "source": [
    "train_bodies_copy.head(10)"
   ]
  },
  {
   "cell_type": "code",
   "execution_count": 90,
   "id": "4c840897",
   "metadata": {},
   "outputs": [
    {
     "data": {
      "text/html": [
       "<div>\n",
       "<style scoped>\n",
       "    .dataframe tbody tr th:only-of-type {\n",
       "        vertical-align: middle;\n",
       "    }\n",
       "\n",
       "    .dataframe tbody tr th {\n",
       "        vertical-align: top;\n",
       "    }\n",
       "\n",
       "    .dataframe thead th {\n",
       "        text-align: right;\n",
       "    }\n",
       "</style>\n",
       "<table border=\"1\" class=\"dataframe\">\n",
       "  <thead>\n",
       "    <tr style=\"text-align: right;\">\n",
       "      <th></th>\n",
       "      <th>Headline</th>\n",
       "      <th>Body ID</th>\n",
       "    </tr>\n",
       "  </thead>\n",
       "  <tbody>\n",
       "    <tr>\n",
       "      <th>0</th>\n",
       "      <td>Pakistan Accumulates Over $10 Billion In New D...</td>\n",
       "      <td>51</td>\n",
       "    </tr>\n",
       "    <tr>\n",
       "      <th>1</th>\n",
       "      <td>Pakistan Allows Covid Booster Jabs For People ...</td>\n",
       "      <td>52</td>\n",
       "    </tr>\n",
       "    <tr>\n",
       "      <th>2</th>\n",
       "      <td>US Issues 'Level One' Travel Health Notice For...</td>\n",
       "      <td>53</td>\n",
       "    </tr>\n",
       "    <tr>\n",
       "      <th>3</th>\n",
       "      <td>Pakistan Man In Indian Jail Since 2006, Pandem...</td>\n",
       "      <td>54</td>\n",
       "    </tr>\n",
       "    <tr>\n",
       "      <th>4</th>\n",
       "      <td>Cellphone Blocks, Work Bans: Pakistan Announce...</td>\n",
       "      <td>55</td>\n",
       "    </tr>\n",
       "    <tr>\n",
       "      <th>5</th>\n",
       "      <td>\"Clear Early Signs\" Of Fourth COVID-19 Wave St...</td>\n",
       "      <td>56</td>\n",
       "    </tr>\n",
       "    <tr>\n",
       "      <th>6</th>\n",
       "      <td>England vs Pakistan: England Name New 18-Man O...</td>\n",
       "      <td>57</td>\n",
       "    </tr>\n",
       "    <tr>\n",
       "      <th>7</th>\n",
       "      <td>\"Said Individual Tested Covid -ve\": India On R...</td>\n",
       "      <td>58</td>\n",
       "    </tr>\n",
       "    <tr>\n",
       "      <th>8</th>\n",
       "      <td>200 Sikh Pilgrims Test Positive On Return From...</td>\n",
       "      <td>59</td>\n",
       "    </tr>\n",
       "    <tr>\n",
       "      <th>9</th>\n",
       "      <td>Pakistan PM Imran Khan \"Fully Recovered\" From ...</td>\n",
       "      <td>60</td>\n",
       "    </tr>\n",
       "  </tbody>\n",
       "</table>\n",
       "</div>"
      ],
      "text/plain": [
       "                                            Headline  Body ID\n",
       "0  Pakistan Accumulates Over $10 Billion In New D...       51\n",
       "1  Pakistan Allows Covid Booster Jabs For People ...       52\n",
       "2  US Issues 'Level One' Travel Health Notice For...       53\n",
       "3  Pakistan Man In Indian Jail Since 2006, Pandem...       54\n",
       "4  Cellphone Blocks, Work Bans: Pakistan Announce...       55\n",
       "5  \"Clear Early Signs\" Of Fourth COVID-19 Wave St...       56\n",
       "6  England vs Pakistan: England Name New 18-Man O...       57\n",
       "7  \"Said Individual Tested Covid -ve\": India On R...       58\n",
       "8  200 Sikh Pilgrims Test Positive On Return From...       59\n",
       "9  Pakistan PM Imran Khan \"Fully Recovered\" From ...       60"
      ]
     },
     "execution_count": 90,
     "metadata": {},
     "output_type": "execute_result"
    }
   ],
   "source": [
    "train_stances_copy.head(10)"
   ]
  },
  {
   "cell_type": "markdown",
   "id": "e3c726d5",
   "metadata": {},
   "source": [
    "### Text Preprocessing "
   ]
  },
  {
   "cell_type": "code",
   "execution_count": 23,
   "id": "7d6c7f57",
   "metadata": {
    "scrolled": true
   },
   "outputs": [
    {
     "name": "stderr",
     "output_type": "stream",
     "text": [
      "[nltk_data] Downloading package stopwords to\n",
      "[nltk_data]     C:\\Users\\Justin\\AppData\\Roaming\\nltk_data...\n",
      "[nltk_data]   Package stopwords is already up-to-date!\n"
     ]
    },
    {
     "data": {
      "text/plain": [
       "True"
      ]
     },
     "execution_count": 23,
     "metadata": {},
     "output_type": "execute_result"
    }
   ],
   "source": [
    "#data observation\n",
    "import nltk\n",
    "nltk.download(\"stopwords\") "
   ]
  },
  {
   "cell_type": "code",
   "execution_count": 25,
   "id": "5329d48a",
   "metadata": {},
   "outputs": [
    {
     "name": "stderr",
     "output_type": "stream",
     "text": [
      "C:\\Users\\Justin\\AppData\\Local\\Temp\\ipykernel_19208\\3329142917.py:12: SettingWithCopyWarning: \n",
      "A value is trying to be set on a copy of a slice from a DataFrame\n",
      "\n",
      "See the caveats in the documentation: https://pandas.pydata.org/pandas-docs/stable/user_guide/indexing.html#returning-a-view-versus-a-copy\n",
      "  train_bodies_copy['articleBody'][i] = [ps.stem(word) for word in review if not word in stopwords.words('english')]\n",
      "C:\\Users\\Justin\\AppData\\Local\\Temp\\ipykernel_19208\\3329142917.py:13: SettingWithCopyWarning: \n",
      "A value is trying to be set on a copy of a slice from a DataFrame\n",
      "\n",
      "See the caveats in the documentation: https://pandas.pydata.org/pandas-docs/stable/user_guide/indexing.html#returning-a-view-versus-a-copy\n",
      "  train_bodies_copy['articleBody'][i] = ' '.join(train_bodies_copy['articleBody'][i])\n"
     ]
    }
   ],
   "source": [
    "\n",
    "from nltk.corpus import stopwords\n",
    "from nltk.stem.porter import PorterStemmer\n",
    "import re\n",
    "ps = PorterStemmer()\n",
    "for i in range(0, len(train_bodies)):\n",
    "    review = re.sub('[^a-zA-Z]', ' ', train_bodies['articleBody'][i])\n",
    "    review = review.lower()\n",
    "    review = review.split()\n",
    "    \n",
    "    train_bodies_copy['articleBody'][i] = [ps.stem(word) for word in review if not word in stopwords.words('english')]\n",
    "    train_bodies_copy['articleBody'][i] = ' '.join(train_bodies_copy['articleBody'][i])\n",
    "for i in range(0, len(train_stances)):\n",
    "    review = re.sub('[^a-zA-Z]', ' ', train_stances['Headline'][i])\n",
    "    review = review.lower()\n",
    "    review = review.split()\n",
    "    \n",
    "    train_stances_copy['Headline'][i] = [ps.stem(word) for word in review if not word in stopwords.words('english')]\n",
    "    train_stances_copy['Headline'][i] = ' '.join(train_stances_copy['Headline'][i])"
   ]
  },
  {
   "cell_type": "code",
   "execution_count": 91,
   "id": "8a49081c",
   "metadata": {
    "scrolled": true
   },
   "outputs": [
    {
     "data": {
      "text/plain": [
       "articleBody    Two Hundred Sikh pilgrims from among 800 who w...\n",
       "Body ID                                                       61\n",
       "Name: 10, dtype: object"
      ]
     },
     "execution_count": 91,
     "metadata": {},
     "output_type": "execute_result"
    }
   ],
   "source": [
    "train_bodies_copy.loc[10,]"
   ]
  },
  {
   "cell_type": "code",
   "execution_count": 27,
   "id": "fc4f2f2b",
   "metadata": {},
   "outputs": [
    {
     "data": {
      "text/html": [
       "<div>\n",
       "<style scoped>\n",
       "    .dataframe tbody tr th:only-of-type {\n",
       "        vertical-align: middle;\n",
       "    }\n",
       "\n",
       "    .dataframe tbody tr th {\n",
       "        vertical-align: top;\n",
       "    }\n",
       "\n",
       "    .dataframe thead th {\n",
       "        text-align: right;\n",
       "    }\n",
       "</style>\n",
       "<table border=\"1\" class=\"dataframe\">\n",
       "  <thead>\n",
       "    <tr style=\"text-align: right;\">\n",
       "      <th></th>\n",
       "      <th>Headline</th>\n",
       "      <th>Body ID</th>\n",
       "      <th>Stance</th>\n",
       "    </tr>\n",
       "  </thead>\n",
       "  <tbody>\n",
       "    <tr>\n",
       "      <th>0</th>\n",
       "      <td>Police find mass graves with at least '15 bodi...</td>\n",
       "      <td>712</td>\n",
       "      <td>unrelated</td>\n",
       "    </tr>\n",
       "    <tr>\n",
       "      <th>1</th>\n",
       "      <td>Hundreds of Palestinians flee floods in Gaza a...</td>\n",
       "      <td>158</td>\n",
       "      <td>agree</td>\n",
       "    </tr>\n",
       "    <tr>\n",
       "      <th>2</th>\n",
       "      <td>Christian Bale passes on role of Steve Jobs, a...</td>\n",
       "      <td>137</td>\n",
       "      <td>unrelated</td>\n",
       "    </tr>\n",
       "    <tr>\n",
       "      <th>3</th>\n",
       "      <td>HBO and Apple in Talks for $15/Month Apple TV ...</td>\n",
       "      <td>1034</td>\n",
       "      <td>unrelated</td>\n",
       "    </tr>\n",
       "    <tr>\n",
       "      <th>4</th>\n",
       "      <td>Spider burrowed through tourist's stomach and ...</td>\n",
       "      <td>1923</td>\n",
       "      <td>disagree</td>\n",
       "    </tr>\n",
       "    <tr>\n",
       "      <th>5</th>\n",
       "      <td>'Nasa Confirms Earth Will Experience 6 Days of...</td>\n",
       "      <td>154</td>\n",
       "      <td>agree</td>\n",
       "    </tr>\n",
       "    <tr>\n",
       "      <th>6</th>\n",
       "      <td>Accused Boston Marathon Bomber Severely Injure...</td>\n",
       "      <td>962</td>\n",
       "      <td>unrelated</td>\n",
       "    </tr>\n",
       "    <tr>\n",
       "      <th>7</th>\n",
       "      <td>Identity of ISIS terrorist known as 'Jihadi Jo...</td>\n",
       "      <td>2033</td>\n",
       "      <td>unrelated</td>\n",
       "    </tr>\n",
       "    <tr>\n",
       "      <th>8</th>\n",
       "      <td>Banksy 'Arrested &amp; Real Identity Revealed' Is ...</td>\n",
       "      <td>1739</td>\n",
       "      <td>agree</td>\n",
       "    </tr>\n",
       "    <tr>\n",
       "      <th>9</th>\n",
       "      <td>British Aid Worker Confirmed Murdered By ISIS</td>\n",
       "      <td>882</td>\n",
       "      <td>unrelated</td>\n",
       "    </tr>\n",
       "  </tbody>\n",
       "</table>\n",
       "</div>"
      ],
      "text/plain": [
       "                                            Headline  Body ID     Stance\n",
       "0  Police find mass graves with at least '15 bodi...      712  unrelated\n",
       "1  Hundreds of Palestinians flee floods in Gaza a...      158      agree\n",
       "2  Christian Bale passes on role of Steve Jobs, a...      137  unrelated\n",
       "3  HBO and Apple in Talks for $15/Month Apple TV ...     1034  unrelated\n",
       "4  Spider burrowed through tourist's stomach and ...     1923   disagree\n",
       "5  'Nasa Confirms Earth Will Experience 6 Days of...      154      agree\n",
       "6  Accused Boston Marathon Bomber Severely Injure...      962  unrelated\n",
       "7  Identity of ISIS terrorist known as 'Jihadi Jo...     2033  unrelated\n",
       "8  Banksy 'Arrested & Real Identity Revealed' Is ...     1739      agree\n",
       "9      British Aid Worker Confirmed Murdered By ISIS      882  unrelated"
      ]
     },
     "execution_count": 27,
     "metadata": {},
     "output_type": "execute_result"
    }
   ],
   "source": [
    "train_stances_copy.head(10)"
   ]
  },
  {
   "cell_type": "code",
   "execution_count": 29,
   "id": "290eb334",
   "metadata": {},
   "outputs": [
    {
     "data": {
      "text/html": [
       "<div>\n",
       "<style scoped>\n",
       "    .dataframe tbody tr th:only-of-type {\n",
       "        vertical-align: middle;\n",
       "    }\n",
       "\n",
       "    .dataframe tbody tr th {\n",
       "        vertical-align: top;\n",
       "    }\n",
       "\n",
       "    .dataframe thead th {\n",
       "        text-align: right;\n",
       "    }\n",
       "</style>\n",
       "<table border=\"1\" class=\"dataframe\">\n",
       "  <thead>\n",
       "    <tr style=\"text-align: right;\">\n",
       "      <th></th>\n",
       "      <th>Body ID</th>\n",
       "      <th>articleBody</th>\n",
       "    </tr>\n",
       "  </thead>\n",
       "  <tbody>\n",
       "    <tr>\n",
       "      <th>0</th>\n",
       "      <td>0</td>\n",
       "      <td>small meteorit crash wood area nicaragua capit...</td>\n",
       "    </tr>\n",
       "    <tr>\n",
       "      <th>1</th>\n",
       "      <td>4</td>\n",
       "      <td>last week hint come ebola fear spread across a...</td>\n",
       "    </tr>\n",
       "    <tr>\n",
       "      <th>2</th>\n",
       "      <td>5</td>\n",
       "      <td>newser wonder long quarter pounder chees last ...</td>\n",
       "    </tr>\n",
       "    <tr>\n",
       "      <th>3</th>\n",
       "      <td>6</td>\n",
       "      <td>post photo gun tote child onlin isi support an...</td>\n",
       "    </tr>\n",
       "    <tr>\n",
       "      <th>4</th>\n",
       "      <td>7</td>\n",
       "      <td>least suspect boko haram insurg kill clash sol...</td>\n",
       "    </tr>\n",
       "    <tr>\n",
       "      <th>5</th>\n",
       "      <td>8</td>\n",
       "      <td>much fake stuff internet given week grown tire...</td>\n",
       "    </tr>\n",
       "    <tr>\n",
       "      <th>6</th>\n",
       "      <td>9</td>\n",
       "      <td>cnn meteorit crash managua nicaragua late satu...</td>\n",
       "    </tr>\n",
       "    <tr>\n",
       "      <th>7</th>\n",
       "      <td>10</td>\n",
       "      <td>move netflix hulu word amazon look launch ad s...</td>\n",
       "    </tr>\n",
       "    <tr>\n",
       "      <th>8</th>\n",
       "      <td>11</td>\n",
       "      <td>seen tradit depict god cloud dwell figur flow ...</td>\n",
       "    </tr>\n",
       "    <tr>\n",
       "      <th>9</th>\n",
       "      <td>13</td>\n",
       "      <td>soldier shot canada nation war memori wit say ...</td>\n",
       "    </tr>\n",
       "  </tbody>\n",
       "</table>\n",
       "</div>"
      ],
      "text/plain": [
       "   Body ID                                        articleBody\n",
       "0        0  small meteorit crash wood area nicaragua capit...\n",
       "1        4  last week hint come ebola fear spread across a...\n",
       "2        5  newser wonder long quarter pounder chees last ...\n",
       "3        6  post photo gun tote child onlin isi support an...\n",
       "4        7  least suspect boko haram insurg kill clash sol...\n",
       "5        8  much fake stuff internet given week grown tire...\n",
       "6        9  cnn meteorit crash managua nicaragua late satu...\n",
       "7       10  move netflix hulu word amazon look launch ad s...\n",
       "8       11  seen tradit depict god cloud dwell figur flow ...\n",
       "9       13  soldier shot canada nation war memori wit say ..."
      ]
     },
     "execution_count": 29,
     "metadata": {},
     "output_type": "execute_result"
    }
   ],
   "source": [
    "train_bodies_copy.head(10)"
   ]
  },
  {
   "cell_type": "markdown",
   "id": "c54eb147",
   "metadata": {},
   "source": [
    "### Step 4 "
   ]
  },
  {
   "cell_type": "code",
   "execution_count": 92,
   "id": "b926d355",
   "metadata": {},
   "outputs": [],
   "source": [
    "#“Agrees” if\n",
    "#      i) all named-entities in the headline are present in the body text\n",
    "#      ii) for each noun, verb, adjective/adverb category of the headline, either the same token occurs in the body \n",
    "#             or its synonym word occurs in the body text\n",
    "#      iii) there is preservation of negation (if negation is present in headline, it should be present in body text,  if headline has no negation, then body text should not contain any negation as well)"
   ]
  },
  {
   "cell_type": "code",
   "execution_count": 50,
   "id": "16810675",
   "metadata": {},
   "outputs": [],
   "source": [
    "from nltk.corpus import brown\n",
    "from gensim.models import Word2Vec\n",
    "b = Word2Vec(brown.sents())\n"
   ]
  },
  {
   "cell_type": "code",
   "execution_count": 51,
   "id": "86a4349e",
   "metadata": {},
   "outputs": [
    {
     "name": "stdout",
     "output_type": "stream",
     "text": [
      "['sheet', 'canvas', 'dirt', 'chill', 'blade']\n"
     ]
    }
   ],
   "source": [
    "sim_list = []\n",
    "for i in b.wv.most_similar(\"glass\", topn=5):\n",
    "    sim_list.append(i[0])\n",
    "print(sim_list)\n",
    "# print(train_bodies_copy['articleBody'].to_list())"
   ]
  },
  {
   "cell_type": "code",
   "execution_count": 52,
   "id": "8d0b903b",
   "metadata": {},
   "outputs": [
    {
     "name": "stdout",
     "output_type": "stream",
     "text": [
      "[['The', 'Fulton', 'County', 'Grand', 'Jury', 'said', 'Friday', 'an', 'investigation', 'of', \"Atlanta's\", 'recent', 'primary', 'election', 'produced', '``', 'no', 'evidence', \"''\", 'that', 'any', 'irregularities', 'took', 'place', '.'], ['The', 'jury', 'further', 'said', 'in', 'term-end', 'presentments', 'that', 'the', 'City', 'Executive', 'Committee', ',', 'which', 'had', 'over-all', 'charge', 'of', 'the', 'election', ',', '``', 'deserves', 'the', 'praise', 'and', 'thanks', 'of', 'the', 'City', 'of', 'Atlanta', \"''\", 'for', 'the', 'manner', 'in', 'which', 'the', 'election', 'was', 'conducted', '.'], ...]\n"
     ]
    }
   ],
   "source": [
    "print(brown.sents())"
   ]
  },
  {
   "cell_type": "code",
   "execution_count": 34,
   "id": "f26e8e39",
   "metadata": {
    "scrolled": false
   },
   "outputs": [],
   "source": [
    "import spacy\n",
    "from spacy import displacy\n",
    "import spacy\n",
    "from negspacy.negation import Negex\n",
    "nlp = spacy.load(\"en_core_web_sm\")\n",
    "nlp = spacy.load(\"en_core_web_sm\")\n",
    "nlp.add_pipe(\"negex\", config={\"ent_types\":[]})\n",
    "\n",
    "#doc = nlp(text)\n",
    "#displacy.render(doc, style = \"dep\")\n",
    "def check_pos_tag(var_1):\n",
    "    list_1 = []\n",
    "    doc = nlp(var_1)\n",
    "    for token in doc:\n",
    "        if token.head.pos_ in ['VERB','NOUN','ADJ','ADV']:\n",
    "            list_1.append(token.text)\n",
    "    return list_1\n",
    "    \n",
    "def named_entity(var_2):\n",
    "    list_2 = []\n",
    "    doc = nlp(var_2)\n",
    "    for ent in doc.ents:\n",
    "        list_2.append(ent.text)\n",
    "    return list_2\n",
    "        \n",
    "# First take each headings headings and convert that into pos tag in this format (Body ID, Pos of tag)\n",
    "corpus = []\n",
    "temp = 0\n",
    "\n",
    "final_df = []\n",
    "\n",
    "News_corpus =[ i.split() for i in train_bodies_copy['articleBody']]\n",
    "b = Word2Vec(News_corpus)\n",
    "# b.wv.most_similar(\"glass\", topn=5) \n",
    "for i in range(0, len(train_stances_copy)):\n",
    "    temp_bodyID = train_stances_copy['Body ID'][i]\n",
    "    for j in range (0, len(train_bodies_copy)):\n",
    "        if temp_bodyID == train_bodies_copy['Body ID'][j]:\n",
    "            temp = j\n",
    "            break\n",
    "    count_name_tag = 0\n",
    "    count_pos_tag = 0\n",
    "    name_tag_body_list = []\n",
    "    pos_tag_body_list = []\n",
    "    name_tag_body_list = named_entity(train_bodies_copy['articleBody'][temp])\n",
    "    pos_tag_body_list = check_pos_tag(train_bodies_copy['articleBody'][temp])\n",
    "    doc = nlp(train_stances_copy['Headline'][i])\n",
    "    doc_1 = nlp(train_bodies_copy['articleBody'][temp])\n",
    "    neg_headline_list=[]\n",
    "    neg_body_list=[]\n",
    "    similar_list=[]\n",
    "    \n",
    "    for k in check_pos_tag(train_stances_copy['Headline'][i]):\n",
    "        try:\n",
    "            for index, tup in b.wv.most_similar(k, topn=5):\n",
    "                similar_list.append(index)\n",
    "            break\n",
    "        except:\n",
    "            pass\n",
    "        \n",
    "    pos_tag_body_list = pos_tag_body_list + similar_list\n",
    "    for e in doc.ents:\n",
    "        neg_headline_list.append(e.text+\" \"+ str(e._.negex))\n",
    "    for e in doc_1.ents:\n",
    "        neg_body_list.append(e.text+\" \"+ str(e._.negex))\n",
    "#     print(neg_headline_list)\n",
    "#     print(neg_body_list)\n",
    "#     print(neg_headline_list)\n",
    "#     print(neg_body_list)\n",
    "    \n",
    "#     if (elem in name_tag_body_list for elem in named_entity(train_stances_copy['Headline'][i])):\n",
    "#         count_name_tag =count_name_tag + 1\n",
    "#     if (elem in pos_tag_body_list for elem in check_pos_tag(train_stances_copy['Headline'][i])):\n",
    "#         count_pos_tag = count_pos_tag + 1\n",
    "        \n",
    "    for elem in check_pos_tag(train_stances_copy['Headline'][i]):\n",
    "        if elem in pos_tag_body_list:\n",
    "            count_pos_tag = count_pos_tag + 1\n",
    "    for elem in named_entity(train_stances_copy['Headline'][i]):\n",
    "        if elem in name_tag_body_list:\n",
    "            count_name_tag =count_name_tag + 1\n",
    "    \n",
    "    \n",
    "    \n",
    "    if count_pos_tag==0 or count_name_tag==0:\n",
    "        final_df.append('unrelated')\n",
    "    else:\n",
    "        # named entity check\n",
    "        if len(named_entity(train_stances_copy['Headline'][i]))!=0 and all(elem in name_tag_body_list for elem in named_entity(train_stances_copy['Headline'][i])):\n",
    "            final_df.append('agree')\n",
    "        # pos tag and similiarity check\n",
    "        elif  all(elem in pos_tag_body_list for elem in check_pos_tag(train_stances_copy['Headline'][i])) :  \n",
    "            final_df.append('agree')\n",
    "        # negation check\n",
    "        elif len(neg_headline_list)!=0 and all(elem in neg_body_list for elem in neg_headline_list):\n",
    "            final_df.append('agree')\n",
    "        elif count_pos_tag >= 1 and count_name_tag>= 1:\n",
    "            final_df.append('discuss')\n",
    "        else:\n",
    "            for index, tup in enumerate(neg_headline_list):\n",
    "                for i,j in enumerate(neg_body_list):\n",
    "                    if index == i:\n",
    "                        if tup != j:\n",
    "                            final_df.append('disagree')\n",
    "final_dataframe = pd.DataFrame (final_df, columns = ['stances'])\n",
    "final_dataframe.to_csv('Final_result.csv', index=False)"
   ]
  },
  {
   "cell_type": "code",
   "execution_count": null,
   "id": "7b11432d",
   "metadata": {},
   "outputs": [],
   "source": []
  },
  {
   "cell_type": "code",
   "execution_count": 74,
   "id": "8a158ac9",
   "metadata": {},
   "outputs": [],
   "source": [
    "final_dataframe = pd.read_csv(\"FinalResult_CSV.csv\")\n",
    "NLP_Dataframe = pd.read_csv(\"NLP_dataset_COVID_Economics.csv\")\n",
    "# train_stances.Stance.str.count(\"unrelated\").sum()\n",
    "# dataframe1.stances.str.count(\"unrelated\").sum()"
   ]
  },
  {
   "cell_type": "code",
   "execution_count": 75,
   "id": "c723bac9",
   "metadata": {},
   "outputs": [
    {
     "data": {
      "image/png": "[encoded data removed]",
      "text/plain": [
       "<Figure size 432x288 with 2 Axes>"
      ]
     },
     "metadata": {
      "needs_background": "light"
     },
     "output_type": "display_data"
    }
   ],
   "source": [
    "data = {'y_actual':    NLP_Dataframe[\"Stance\"],\n",
    "        'y_predicted': final_dataframe[\"Stances\"]\n",
    "        }\n",
    "df = pd.DataFrame(data)\n",
    "confusion_matrix = pd.crosstab(df['y_actual'], df['y_predicted'], rownames=['Actual'], colnames=['Predicted'], margins=True)\n",
    "\n",
    "sn.heatmap(confusion_matrix, annot=True)\n",
    "plt.show()"
   ]
  },
  {
   "cell_type": "code",
   "execution_count": 76,
   "id": "d0da1a84",
   "metadata": {
    "scrolled": true
   },
   "outputs": [
    {
     "name": "stdout",
     "output_type": "stream",
     "text": [
      "0.65\n"
     ]
    }
   ],
   "source": [
    "import pandas as pd\n",
    "import seaborn as sn\n",
    "import matplotlib.pyplot as plt\n",
    "from sklearn.metrics import accuracy_score\n",
    "y_actual =    NLP_Dataframe[\"Stance\"]\n",
    "y_predicted = final_dataframe[\"Stances\"]\n",
    "\n",
    "accuracy = accuracy_score(y_actual, y_predicted)\n",
    "print(accuracy)\n"
   ]
  },
  {
   "cell_type": "code",
   "execution_count": 188,
   "id": "45300ce8",
   "metadata": {},
   "outputs": [
    {
     "data": {
      "text/plain": [
       "[('gold', 0.9160498976707458),\n",
       " ('Judicial', 0.9082083702087402),\n",
       " ('Edition', 0.881341278553009),\n",
       " ('price', 0.8807346820831299),\n",
       " ('new', 0.876643717288971)]"
      ]
     },
     "execution_count": 188,
     "metadata": {},
     "output_type": "execute_result"
    }
   ],
   "source": [
    "b.wv.most_similar(\"Apple\", topn=5) "
   ]
  },
  {
   "cell_type": "code",
   "execution_count": 12,
   "id": "bd47d0d6",
   "metadata": {
    "scrolled": true
   },
   "outputs": [
    {
     "name": "stderr",
     "output_type": "stream",
     "text": [
      "2022-10-29 15:59:58 INFO: Checking for updates to resources.json in case models have been updated.  Note: this behavior can be turned off with download_method=None or download_method=DownloadMethod.REUSE_RESOURCES\n"
     ]
    },
    {
     "data": {
      "application/vnd.jupyter.widget-view+json": {
       "model_id": "96cb7b94591946869fdf3a4b8dbba4b0",
       "version_major": 2,
       "version_minor": 0
      },
      "text/plain": [
       "Downloading https://raw.githubusercontent.com/stanfordnlp/stanza-resources/main/resources_1.4.1.json:   0%|   …"
      ]
     },
     "metadata": {},
     "output_type": "display_data"
    },
    {
     "data": {
      "application/vnd.jupyter.widget-view+json": {
       "model_id": "eed0f67cd37c41ebb312cd56ea2b2d83",
       "version_major": 2,
       "version_minor": 0
      },
      "text/plain": [
       "Downloading https://huggingface.co/stanfordnlp/stanza-en/resolve/v1.4.1/models/tokenize/combined.pt:   0%|    …"
      ]
     },
     "metadata": {},
     "output_type": "display_data"
    },
    {
     "data": {
      "application/vnd.jupyter.widget-view+json": {
       "model_id": "8d017c84609342c8912aeb750076eaa8",
       "version_major": 2,
       "version_minor": 0
      },
      "text/plain": [
       "Downloading https://huggingface.co/stanfordnlp/stanza-en/resolve/v1.4.1/models/pos/combined.pt:   0%|         …"
      ]
     },
     "metadata": {},
     "output_type": "display_data"
    },
    {
     "data": {
      "application/vnd.jupyter.widget-view+json": {
       "model_id": "e76b437815e8479193e9a18f2bb0525b",
       "version_major": 2,
       "version_minor": 0
      },
      "text/plain": [
       "Downloading https://huggingface.co/stanfordnlp/stanza-en/resolve/v1.4.1/models/lemma/combined.pt:   0%|       …"
      ]
     },
     "metadata": {},
     "output_type": "display_data"
    },
    {
     "data": {
      "application/vnd.jupyter.widget-view+json": {
       "model_id": "b8dc8ee85e124003a5a4d9ff702acc96",
       "version_major": 2,
       "version_minor": 0
      },
      "text/plain": [
       "Downloading https://huggingface.co/stanfordnlp/stanza-en/resolve/v1.4.1/models/depparse/combined.pt:   0%|    …"
      ]
     },
     "metadata": {},
     "output_type": "display_data"
    },
    {
     "data": {
      "application/vnd.jupyter.widget-view+json": {
       "model_id": "79ebd99ba8bd4dd7831184192675c4ed",
       "version_major": 2,
       "version_minor": 0
      },
      "text/plain": [
       "Downloading https://huggingface.co/stanfordnlp/stanza-en/resolve/v1.4.1/models/sentiment/sstplus.pt:   0%|    …"
      ]
     },
     "metadata": {},
     "output_type": "display_data"
    },
    {
     "data": {
      "application/vnd.jupyter.widget-view+json": {
       "model_id": "3d7358c8e8854e76a27de1557955f0b6",
       "version_major": 2,
       "version_minor": 0
      },
      "text/plain": [
       "Downloading https://huggingface.co/stanfordnlp/stanza-en/resolve/v1.4.1/models/constituency/wsj.pt:   0%|     …"
      ]
     },
     "metadata": {},
     "output_type": "display_data"
    },
    {
     "data": {
      "application/vnd.jupyter.widget-view+json": {
       "model_id": "02e27cab35ba4901abc1c290e13aa635",
       "version_major": 2,
       "version_minor": 0
      },
      "text/plain": [
       "Downloading https://huggingface.co/stanfordnlp/stanza-en/resolve/v1.4.1/models/ner/ontonotes.pt:   0%|        …"
      ]
     },
     "metadata": {},
     "output_type": "display_data"
    },
    {
     "data": {
      "application/vnd.jupyter.widget-view+json": {
       "model_id": "24daa853d9ef40ceb8875ee00e1d89b7",
       "version_major": 2,
       "version_minor": 0
      },
      "text/plain": [
       "Downloading https://huggingface.co/stanfordnlp/stanza-en/resolve/v1.4.1/models/pretrain/fasttextcrawl.pt:   0%…"
      ]
     },
     "metadata": {},
     "output_type": "display_data"
    },
    {
     "data": {
      "application/vnd.jupyter.widget-view+json": {
       "model_id": "c22508dcd87a44ac85f6a3acdde4cf64",
       "version_major": 2,
       "version_minor": 0
      },
      "text/plain": [
       "Downloading https://huggingface.co/stanfordnlp/stanza-en/resolve/v1.4.1/models/pretrain/combined.pt:   0%|    …"
      ]
     },
     "metadata": {},
     "output_type": "display_data"
    },
    {
     "data": {
      "application/vnd.jupyter.widget-view+json": {
       "model_id": "ba57b961dc2743eab34061b14a5dc7f1",
       "version_major": 2,
       "version_minor": 0
      },
      "text/plain": [
       "Downloading https://huggingface.co/stanfordnlp/stanza-en/resolve/v1.4.1/models/forward_charlm/1billion.pt:   0…"
      ]
     },
     "metadata": {},
     "output_type": "display_data"
    },
    {
     "data": {
      "application/vnd.jupyter.widget-view+json": {
       "model_id": "6a98d678c619461595d054e1f6f3403d",
       "version_major": 2,
       "version_minor": 0
      },
      "text/plain": [
       "Downloading https://huggingface.co/stanfordnlp/stanza-en/resolve/v1.4.1/models/backward_charlm/1billion.pt:   …"
      ]
     },
     "metadata": {},
     "output_type": "display_data"
    },
    {
     "name": "stderr",
     "output_type": "stream",
     "text": [
      "2022-10-29 16:00:53 INFO: Loading these models for language: en (English):\n",
      "============================\n",
      "| Processor    | Package   |\n",
      "----------------------------\n",
      "| tokenize     | combined  |\n",
      "| pos          | combined  |\n",
      "| lemma        | combined  |\n",
      "| depparse     | combined  |\n",
      "| sentiment    | sstplus   |\n",
      "| constituency | wsj       |\n",
      "| ner          | ontonotes |\n",
      "============================\n",
      "\n",
      "2022-10-29 16:00:53 INFO: Use device: cpu\n",
      "2022-10-29 16:00:53 INFO: Loading: tokenize\n",
      "2022-10-29 16:00:53 INFO: Loading: pos\n",
      "2022-10-29 16:00:54 INFO: Loading: lemma\n",
      "2022-10-29 16:00:54 INFO: Loading: depparse\n",
      "2022-10-29 16:00:54 INFO: Loading: sentiment\n",
      "2022-10-29 16:00:54 INFO: Loading: constituency\n",
      "2022-10-29 16:00:55 INFO: Loading: ner\n",
      "2022-10-29 16:00:55 INFO: Done loading processors!\n"
     ]
    },
    {
     "name": "stdout",
     "output_type": "stream",
     "text": [
      "English True\n"
     ]
    }
   ],
   "source": [
    "import spacy \n",
    "import stanza \n",
    "import spacy_stanza\n",
    "from negspacy.negation import Negex\n",
    "from negspacy.termsets import termset \n",
    "nlp_model = spacy_stanza.load_pipeline('en')\n",
    "nlp_model.add_pipe(\"negex\", config={\"ent_types\":[]})\n",
    "sample = nlp_model('There is no English language option.')\n",
    " \n",
    "for e in sample.ents:\n",
    "  print(e.text, e._.negex)"
   ]
  },
  {
   "cell_type": "code",
   "execution_count": 58,
   "id": "889c1cbb",
   "metadata": {},
   "outputs": [],
   "source": [
    "final_data = pd.read_csv(\"predictions_test.csv\")"
   ]
  },
  {
   "cell_type": "code",
   "execution_count": 61,
   "id": "a3ef392e",
   "metadata": {},
   "outputs": [
    {
     "data": {
      "text/html": [
       "<div>\n",
       "<style scoped>\n",
       "    .dataframe tbody tr th:only-of-type {\n",
       "        vertical-align: middle;\n",
       "    }\n",
       "\n",
       "    .dataframe tbody tr th {\n",
       "        vertical-align: top;\n",
       "    }\n",
       "\n",
       "    .dataframe thead th {\n",
       "        text-align: right;\n",
       "    }\n",
       "</style>\n",
       "<table border=\"1\" class=\"dataframe\">\n",
       "  <thead>\n",
       "    <tr style=\"text-align: right;\">\n",
       "      <th></th>\n",
       "      <th>Stance</th>\n",
       "    </tr>\n",
       "  </thead>\n",
       "  <tbody>\n",
       "    <tr>\n",
       "      <th>0</th>\n",
       "      <td>unrelated</td>\n",
       "    </tr>\n",
       "    <tr>\n",
       "      <th>1</th>\n",
       "      <td>unrelated</td>\n",
       "    </tr>\n",
       "    <tr>\n",
       "      <th>2</th>\n",
       "      <td>unrelated</td>\n",
       "    </tr>\n",
       "    <tr>\n",
       "      <th>3</th>\n",
       "      <td>unrelated</td>\n",
       "    </tr>\n",
       "    <tr>\n",
       "      <th>4</th>\n",
       "      <td>unrelated</td>\n",
       "    </tr>\n",
       "    <tr>\n",
       "      <th>5</th>\n",
       "      <td>unrelated</td>\n",
       "    </tr>\n",
       "    <tr>\n",
       "      <th>6</th>\n",
       "      <td>unrelated</td>\n",
       "    </tr>\n",
       "    <tr>\n",
       "      <th>7</th>\n",
       "      <td>unrelated</td>\n",
       "    </tr>\n",
       "    <tr>\n",
       "      <th>8</th>\n",
       "      <td>unrelated</td>\n",
       "    </tr>\n",
       "    <tr>\n",
       "      <th>9</th>\n",
       "      <td>unrelated</td>\n",
       "    </tr>\n",
       "  </tbody>\n",
       "</table>\n",
       "</div>"
      ],
      "text/plain": [
       "      Stance\n",
       "0  unrelated\n",
       "1  unrelated\n",
       "2  unrelated\n",
       "3  unrelated\n",
       "4  unrelated\n",
       "5  unrelated\n",
       "6  unrelated\n",
       "7  unrelated\n",
       "8  unrelated\n",
       "9  unrelated"
      ]
     },
     "execution_count": 61,
     "metadata": {},
     "output_type": "execute_result"
    }
   ],
   "source": [
    "final_data.head(10)"
   ]
  },
  {
   "cell_type": "code",
   "execution_count": 62,
   "id": "af9b5bdc",
   "metadata": {},
   "outputs": [],
   "source": [
    "test_df = pd.read_csv(\"test_stances_unlabeled.csv\")\n",
    "test_df['stances'] = final_data"
   ]
  },
  {
   "cell_type": "code",
   "execution_count": 63,
   "id": "76d9e5b4",
   "metadata": {},
   "outputs": [
    {
     "data": {
      "text/html": [
       "<div>\n",
       "<style scoped>\n",
       "    .dataframe tbody tr th:only-of-type {\n",
       "        vertical-align: middle;\n",
       "    }\n",
       "\n",
       "    .dataframe tbody tr th {\n",
       "        vertical-align: top;\n",
       "    }\n",
       "\n",
       "    .dataframe thead th {\n",
       "        text-align: right;\n",
       "    }\n",
       "</style>\n",
       "<table border=\"1\" class=\"dataframe\">\n",
       "  <thead>\n",
       "    <tr style=\"text-align: right;\">\n",
       "      <th></th>\n",
       "      <th>Headline</th>\n",
       "      <th>Body ID</th>\n",
       "      <th>stances</th>\n",
       "    </tr>\n",
       "  </thead>\n",
       "  <tbody>\n",
       "    <tr>\n",
       "      <th>0</th>\n",
       "      <td>Ferguson riots: Pregnant woman loses eye after...</td>\n",
       "      <td>2008</td>\n",
       "      <td>unrelated</td>\n",
       "    </tr>\n",
       "    <tr>\n",
       "      <th>1</th>\n",
       "      <td>Crazy Conservatives Are Sure a Gitmo Detainee ...</td>\n",
       "      <td>1550</td>\n",
       "      <td>unrelated</td>\n",
       "    </tr>\n",
       "    <tr>\n",
       "      <th>2</th>\n",
       "      <td>A Russian Guy Says His Justin Bieber Ringtone ...</td>\n",
       "      <td>2</td>\n",
       "      <td>unrelated</td>\n",
       "    </tr>\n",
       "    <tr>\n",
       "      <th>3</th>\n",
       "      <td>Zombie Cat: Buried Kitty Believed Dead, Meows ...</td>\n",
       "      <td>1793</td>\n",
       "      <td>unrelated</td>\n",
       "    </tr>\n",
       "    <tr>\n",
       "      <th>4</th>\n",
       "      <td>Argentina's President Adopts Boy to End Werewo...</td>\n",
       "      <td>37</td>\n",
       "      <td>unrelated</td>\n",
       "    </tr>\n",
       "    <tr>\n",
       "      <th>5</th>\n",
       "      <td>Next-generation Apple iPhones' features leaked</td>\n",
       "      <td>2353</td>\n",
       "      <td>unrelated</td>\n",
       "    </tr>\n",
       "    <tr>\n",
       "      <th>6</th>\n",
       "      <td>Saudi national airline may introduce gender se...</td>\n",
       "      <td>192</td>\n",
       "      <td>unrelated</td>\n",
       "    </tr>\n",
       "    <tr>\n",
       "      <th>7</th>\n",
       "      <td>'Zombie Cat' Claws Way Out Of Grave And Into O...</td>\n",
       "      <td>2482</td>\n",
       "      <td>unrelated</td>\n",
       "    </tr>\n",
       "    <tr>\n",
       "      <th>8</th>\n",
       "      <td>ISIS might be harvesting organs, Iraq tells UN</td>\n",
       "      <td>250</td>\n",
       "      <td>unrelated</td>\n",
       "    </tr>\n",
       "    <tr>\n",
       "      <th>9</th>\n",
       "      <td>Woman has surgery to get third breast: The thr...</td>\n",
       "      <td>85</td>\n",
       "      <td>unrelated</td>\n",
       "    </tr>\n",
       "  </tbody>\n",
       "</table>\n",
       "</div>"
      ],
      "text/plain": [
       "                                            Headline  Body ID    stances\n",
       "0  Ferguson riots: Pregnant woman loses eye after...     2008  unrelated\n",
       "1  Crazy Conservatives Are Sure a Gitmo Detainee ...     1550  unrelated\n",
       "2  A Russian Guy Says His Justin Bieber Ringtone ...        2  unrelated\n",
       "3  Zombie Cat: Buried Kitty Believed Dead, Meows ...     1793  unrelated\n",
       "4  Argentina's President Adopts Boy to End Werewo...       37  unrelated\n",
       "5     Next-generation Apple iPhones' features leaked     2353  unrelated\n",
       "6  Saudi national airline may introduce gender se...      192  unrelated\n",
       "7  'Zombie Cat' Claws Way Out Of Grave And Into O...     2482  unrelated\n",
       "8     ISIS might be harvesting organs, Iraq tells UN      250  unrelated\n",
       "9  Woman has surgery to get third breast: The thr...       85  unrelated"
      ]
     },
     "execution_count": 63,
     "metadata": {},
     "output_type": "execute_result"
    }
   ],
   "source": [
    "test_df.head(10)"
   ]
  },
  {
   "cell_type": "code",
   "execution_count": 64,
   "id": "878ebca4",
   "metadata": {},
   "outputs": [],
   "source": [
    "Covid_economic_data = pd.read_csv(\"NLP_dataset_COVID_Economic.csv\", encoding = \"latin-1\")"
   ]
  },
  {
   "cell_type": "code",
   "execution_count": 65,
   "id": "9c5f6759",
   "metadata": {},
   "outputs": [
    {
     "data": {
      "text/html": [
       "<div>\n",
       "<style scoped>\n",
       "    .dataframe tbody tr th:only-of-type {\n",
       "        vertical-align: middle;\n",
       "    }\n",
       "\n",
       "    .dataframe tbody tr th {\n",
       "        vertical-align: top;\n",
       "    }\n",
       "\n",
       "    .dataframe thead th {\n",
       "        text-align: right;\n",
       "    }\n",
       "</style>\n",
       "<table border=\"1\" class=\"dataframe\">\n",
       "  <thead>\n",
       "    <tr style=\"text-align: right;\">\n",
       "      <th></th>\n",
       "      <th>Headline</th>\n",
       "      <th>articleBody</th>\n",
       "      <th>Stance</th>\n",
       "    </tr>\n",
       "  </thead>\n",
       "  <tbody>\n",
       "    <tr>\n",
       "      <th>0</th>\n",
       "      <td>Coronavirus Live Updates: India Records 1,112 ...</td>\n",
       "      <td>India's COVID-19 caseload climbed to 4,46,46,8...</td>\n",
       "      <td>agree</td>\n",
       "    </tr>\n",
       "    <tr>\n",
       "      <th>1</th>\n",
       "      <td>India vaccine maker destroys 100 million doses...</td>\n",
       "      <td>Indian vaccine maker Serum Institute of India ...</td>\n",
       "      <td>agree</td>\n",
       "    </tr>\n",
       "    <tr>\n",
       "      <th>2</th>\n",
       "      <td>New COVID-19 vaccination round to be launched ...</td>\n",
       "      <td>A new round of COVID-19 vaccinations for peopl...</td>\n",
       "      <td>agree</td>\n",
       "    </tr>\n",
       "    <tr>\n",
       "      <th>3</th>\n",
       "      <td>Book a coronavirus vaccination appointment in ...</td>\n",
       "      <td>Starting on 24 October 2022, a vaccination app...</td>\n",
       "      <td>agree</td>\n",
       "    </tr>\n",
       "    <tr>\n",
       "      <th>4</th>\n",
       "      <td>Influenza vaccinations and new COVID-19 vaccin...</td>\n",
       "      <td>Influenza vaccinations and a new round of COVI...</td>\n",
       "      <td>agree</td>\n",
       "    </tr>\n",
       "    <tr>\n",
       "      <th>5</th>\n",
       "      <td>The city's crisis management model for dealing...</td>\n",
       "      <td>The results of the third external study on the...</td>\n",
       "      <td>agree</td>\n",
       "    </tr>\n",
       "    <tr>\n",
       "      <th>6</th>\n",
       "      <td>COVID-19 vaccinations for 1stâ5th-graders to...</td>\n",
       "      <td>Helsinki continues to offer COVID-19 vaccines ...</td>\n",
       "      <td>agree</td>\n",
       "    </tr>\n",
       "    <tr>\n",
       "      <th>7</th>\n",
       "      <td>Fourth corona vaccine dose now offered to 60â...</td>\n",
       "      <td>You must book an appointment to get vaccinated...</td>\n",
       "      <td>discuss</td>\n",
       "    </tr>\n",
       "    <tr>\n",
       "      <th>8</th>\n",
       "      <td>COVID-19 variant-adapted booster vaccines are ...</td>\n",
       "      <td>Those aged 12 years and older can register for...</td>\n",
       "      <td>discuss</td>\n",
       "    </tr>\n",
       "    <tr>\n",
       "      <th>9</th>\n",
       "      <td>Self-isolation is no longer required in the ca...</td>\n",
       "      <td>From Wednesday, 23 February, self-isolation wi...</td>\n",
       "      <td>agree</td>\n",
       "    </tr>\n",
       "  </tbody>\n",
       "</table>\n",
       "</div>"
      ],
      "text/plain": [
       "                                            Headline  \\\n",
       "0  Coronavirus Live Updates: India Records 1,112 ...   \n",
       "1  India vaccine maker destroys 100 million doses...   \n",
       "2  New COVID-19 vaccination round to be launched ...   \n",
       "3  Book a coronavirus vaccination appointment in ...   \n",
       "4  Influenza vaccinations and new COVID-19 vaccin...   \n",
       "5  The city's crisis management model for dealing...   \n",
       "6  COVID-19 vaccinations for 1stâ5th-graders to...   \n",
       "7  Fourth corona vaccine dose now offered to 60â...   \n",
       "8  COVID-19 variant-adapted booster vaccines are ...   \n",
       "9  Self-isolation is no longer required in the ca...   \n",
       "\n",
       "                                         articleBody   Stance  \n",
       "0  India's COVID-19 caseload climbed to 4,46,46,8...    agree  \n",
       "1  Indian vaccine maker Serum Institute of India ...    agree  \n",
       "2  A new round of COVID-19 vaccinations for peopl...    agree  \n",
       "3  Starting on 24 October 2022, a vaccination app...    agree  \n",
       "4  Influenza vaccinations and a new round of COVI...    agree  \n",
       "5  The results of the third external study on the...    agree  \n",
       "6  Helsinki continues to offer COVID-19 vaccines ...    agree  \n",
       "7  You must book an appointment to get vaccinated...  discuss  \n",
       "8  Those aged 12 years and older can register for...  discuss  \n",
       "9  From Wednesday, 23 February, self-isolation wi...    agree  "
      ]
     },
     "execution_count": 65,
     "metadata": {},
     "output_type": "execute_result"
    }
   ],
   "source": [
    "Covid_economic_data.head(10)"
   ]
  },
  {
   "cell_type": "markdown",
   "id": "7c3faf2e",
   "metadata": {},
   "source": [
    "### Task 8\n"
   ]
  },
  {
   "cell_type": "code",
   "execution_count": 131,
   "id": "b49a1b10",
   "metadata": {},
   "outputs": [],
   "source": [
    "# # for testing the corona data\n",
    "# train_bodies_copy = pd.read_csv('Corona_Bodies.csv', encoding='latin-1')\n",
    "# train_stances_copy = pd.read_csv('Corona_Stances.csv', encoding='latin-1')\n",
    "\n",
    "\n",
    "#for testing the economic data\n",
    "train_bodies_copy = pd.read_csv('Economic_Bodies.csv', encoding='latin-1')\n",
    "train_stances_copy = pd.read_csv('Economic_Stances.csv', encoding='latin-1')"
   ]
  },
  {
   "cell_type": "code",
   "execution_count": 118,
   "id": "30d31539",
   "metadata": {},
   "outputs": [],
   "source": [
    "import spacy\n",
    "from spacy import displacy\n",
    "import spacy\n",
    "from negspacy.negation import Negex\n",
    "nlp = spacy.load(\"en_core_web_sm\")\n",
    "nlp = spacy.load(\"en_core_web_sm\")\n",
    "nlp.add_pipe(\"negex\", config={\"ent_types\":[]})\n",
    "\n",
    "#doc = nlp(text)\n",
    "#displacy.render(doc, style = \"dep\")\n",
    "def check_pos_tag(var_1):\n",
    "    list_1 = []\n",
    "    doc = nlp(var_1)\n",
    "    for token in doc:\n",
    "        if token.head.pos_ in ['VERB','NOUN','ADJ','ADV']:\n",
    "            list_1.append(token.text)\n",
    "    return list_1\n",
    "    \n",
    "def named_entity(var_2):\n",
    "    list_2 = []\n",
    "    doc = nlp(var_2)\n",
    "    for ent in doc.ents:\n",
    "        list_2.append(ent.text)\n",
    "    return list_2\n",
    "        \n",
    "# First take each headings headings and convert that into pos tag in this format (Body ID, Pos of tag)\n",
    "corpus = []\n",
    "temp = 0\n",
    "\n",
    "final_df = []\n",
    "\n",
    "News_corpus =[ i.split() for i in train_bodies_copy['articleBody']]\n",
    "b = Word2Vec(News_corpus)\n",
    "# b.wv.most_similar(\"glass\", topn=5) \n",
    "for i in range(0, len(train_stances_copy)):\n",
    "    temp_bodyID = train_stances_copy['Body ID'][i]\n",
    "    for j in range (0, len(train_bodies_copy)):\n",
    "        if temp_bodyID == train_bodies_copy['Body ID'][j]:\n",
    "            temp = j\n",
    "            break\n",
    "    count_name_tag = 0\n",
    "    count_pos_tag = 0\n",
    "    name_tag_body_list = []\n",
    "    pos_tag_body_list = []\n",
    "    name_tag_body_list = named_entity(train_bodies_copy['articleBody'][temp])\n",
    "    pos_tag_body_list = check_pos_tag(train_bodies_copy['articleBody'][temp])\n",
    "    doc = nlp(train_stances_copy['Headline'][i])\n",
    "    doc_1 = nlp(train_bodies_copy['articleBody'][temp])\n",
    "    neg_headline_list=[]\n",
    "    neg_body_list=[]\n",
    "    similar_list=[]\n",
    "    \n",
    "    for k in check_pos_tag(train_stances_copy['Headline'][i]):\n",
    "        try:\n",
    "            for index, tup in b.wv.most_similar(k, topn=5):\n",
    "                similar_list.append(index)\n",
    "            break\n",
    "        except:\n",
    "            pass\n",
    "        \n",
    "    pos_tag_body_list = pos_tag_body_list + similar_list\n",
    "    for e in doc.ents:\n",
    "        neg_headline_list.append(e.text+\" \"+ str(e._.negex))\n",
    "    for e in doc_1.ents:\n",
    "        neg_body_list.append(e.text+\" \"+ str(e._.negex))\n",
    "        \n",
    "    for elem in check_pos_tag(train_stances_copy['Headline'][i]):\n",
    "        if elem in pos_tag_body_list:\n",
    "            count_pos_tag = count_pos_tag + 1\n",
    "    for elem in named_entity(train_stances_copy['Headline'][i]):\n",
    "        if elem in name_tag_body_list:\n",
    "            count_name_tag =count_name_tag + 1\n",
    "    \n",
    "    \n",
    "    \n",
    "    if count_pos_tag==0 or count_name_tag==0:\n",
    "        final_df.append('unrelated')\n",
    "    else:\n",
    "        if len(named_entity(train_stances_copy['Headline'][i]))!=0 and all(elem in name_tag_body_list for elem in named_entity(train_stances_copy['Headline'][i])):\n",
    "            final_df.append('agree')\n",
    "        elif  all(elem in pos_tag_body_list for elem in check_pos_tag(train_stances_copy['Headline'][i])) :  \n",
    "            final_df.append('agree')\n",
    "        elif len(neg_headline_list)!=0 and all(elem in neg_body_list for elem in neg_headline_list):\n",
    "            final_df.append('agree')\n",
    "        elif count_pos_tag >= 1 and count_name_tag>= 1:\n",
    "            final_df.append('discuss')\n",
    "        else:\n",
    "            for index, tup in enumerate(neg_headline_list):\n",
    "                for i,j in enumerate(neg_body_list):\n",
    "                    if index == i:\n",
    "                        if tup != j:\n",
    "                            final_df.append('disagree')\n",
    "final_dataframe = pd.DataFrame (final_df, columns = ['stances'])\n",
    "final_dataframe.to_csv('Corona_Test_results_v4.csv', index=False)"
   ]
  },
  {
   "cell_type": "code",
   "execution_count": 127,
   "id": "0c6b38dc",
   "metadata": {
    "scrolled": true
   },
   "outputs": [
    {
     "data": {
      "image/png": "[encoded data removed]",
      "text/plain": [
       "<Figure size 432x288 with 2 Axes>"
      ]
     },
     "metadata": {
      "needs_background": "light"
     },
     "output_type": "display_data"
    },
    {
     "name": "stdout",
     "output_type": "stream",
     "text": [
      "0.42\n",
      "              precision    recall  f1-score   support\n",
      "\n",
      "       agree       0.64      0.25      0.36        72\n",
      "    disagree       0.50      0.12      0.20        33\n",
      "     discuss       0.37      0.33      0.35        40\n",
      "   unrelated       0.38      0.89      0.53        55\n",
      "\n",
      "    accuracy                           0.42       200\n",
      "   macro avg       0.47      0.40      0.36       200\n",
      "weighted avg       0.49      0.42      0.38       200\n",
      "\n"
     ]
    }
   ],
   "source": [
    "#corona dataset testing results\n",
    "\n",
    "import pandas as pd\n",
    "import seaborn as sn\n",
    "import matplotlib.pyplot as plt\n",
    "from sklearn.metrics import accuracy_score\n",
    "\n",
    "final_dataframe = pd.read_csv(\"Corona_Test_results_v4.csv\")\n",
    "\n",
    "y_actual =    train_stances_copy[\"Stance\"]\n",
    "y_predicted = final_dataframe[\"stances\"]\n",
    "\n",
    "data = {'y_actual':    train_stances_copy[\"Stance\"],\n",
    "        'y_predicted': final_dataframe[\"stances\"]\n",
    "        }\n",
    "df = pd.DataFrame(data)\n",
    "confusion_matrix = pd.crosstab(df['y_actual'], df['y_predicted'], rownames=['Actual'], colnames=['Predicted'], margins=True)\n",
    "\n",
    "sn.heatmap(confusion_matrix, annot=True)\n",
    "plt.show()\n",
    "\n",
    "accuracy = accuracy_score(y_actual, y_predicted)\n",
    "print(accuracy)\n",
    "\n",
    "accuracy = accuracy_score(y_actual, y_predicted)\n",
    "print(classification_report(df['y_actual'],df['y_predicted'],target_names=target_names))"
   ]
  },
  {
   "cell_type": "code",
   "execution_count": 132,
   "id": "b57b1ac8",
   "metadata": {
    "scrolled": false
   },
   "outputs": [
    {
     "name": "stdout",
     "output_type": "stream",
     "text": [
      "0.5\n"
     ]
    }
   ],
   "source": [
    "# Economic dataset testing results\n",
    "import pandas as pd\n",
    "import seaborn as sn\n",
    "import matplotlib.pyplot as plt\n",
    "from sklearn.metrics import accuracy_score\n",
    "\n",
    "final_dataframe = pd.read_csv(\"Economic_Test_results_v2.csv\")\n",
    "\n",
    "y_actual =    train_stances_copy[\"Stance\"]\n",
    "y_predicted = final_dataframe[\"stances\"]\n",
    "\n",
    "\"Accuracy of the corona dataset on the model\"\n",
    "\n",
    "accuracy = accuracy_score(y_actual, y_predicted)\n",
    "print(accuracy)"
   ]
  },
  {
   "cell_type": "code",
   "execution_count": 133,
   "id": "ea6c49b9",
   "metadata": {
    "scrolled": true
   },
   "outputs": [
    {
     "name": "stdout",
     "output_type": "stream",
     "text": [
      "              precision    recall  f1-score   support\n",
      "\n",
      "       agree       0.50      0.44      0.47        45\n",
      "    disagree       1.00      0.07      0.12        46\n",
      "     discuss       0.48      0.40      0.43        50\n",
      "   unrelated       0.50      0.97      0.66        59\n",
      "\n",
      "    accuracy                           0.50       200\n",
      "   macro avg       0.62      0.47      0.42       200\n",
      "weighted avg       0.61      0.50      0.44       200\n",
      "\n"
     ]
    },
    {
     "data": {
      "image/png": "[encoded data removed]",
      "text/plain": [
       "<Figure size 432x288 with 2 Axes>"
      ]
     },
     "metadata": {
      "needs_background": "light"
     },
     "output_type": "display_data"
    }
   ],
   "source": [
    "from sklearn.metrics import classification_report\n",
    "data = {'y_actual':    train_stances_copy[\"Stance\"],\n",
    "        'y_predicted': final_dataframe[\"stances\"]\n",
    "        }\n",
    "df = pd.DataFrame(data)\n",
    "confusion_matrix = pd.crosstab(df['y_actual'], df['y_predicted'], rownames=['Actual'], colnames=['Predicted'], margins=True)\n",
    "\n",
    "sn.heatmap(confusion_matrix, annot=True)\n",
    "target_names = ['agree','disagree','discuss','unrelated']\n",
    "print(classification_report(df['y_actual'],df['y_predicted'],target_names=target_names))\n",
    "plt.show()"
   ]
  },
  {
   "cell_type": "code",
   "execution_count": null,
   "id": "65b04dc6",
   "metadata": {},
   "outputs": [],
   "source": []
  }
 ],
 "metadata": {
  "kernelspec": {
   "display_name": "Python 3 (ipykernel)",
   "language": "python",
   "name": "python3"
  },
  "language_info": {
   "codemirror_mode": {
    "name": "ipython",
    "version": 3
   },
   "file_extension": ".py",
   "mimetype": "text/x-python",
   "name": "python",
   "nbconvert_exporter": "python",
   "pygments_lexer": "ipython3",
   "version": "3.9.12"
  }
 },
 "nbformat": 4,
 "nbformat_minor": 5
}
